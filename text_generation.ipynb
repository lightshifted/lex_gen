{
 "cells": [
  {
   "cell_type": "markdown",
   "id": "b3670a49",
   "metadata": {},
   "source": [
    "## Import libraries"
   ]
  },
  {
   "cell_type": "code",
   "execution_count": null,
   "id": "03989292",
   "metadata": {},
   "outputs": [],
   "source": [
    "# import torch utils\n",
    "import torch\n",
    "import torch.nn as nn\n",
    "import torch.nn.functional as F\n",
    "import torch.optim as optim\n",
    "from torch.utils.data import Dataset, DataLoader\n",
    "\n",
    "import pandas as pd\n",
    "import numpy as np\n",
    "import os\n",
    "\n",
    "# import transformers utils\n",
    "from transformers import GPT2Tokenizer, GPT2Config, GPT2ForSequenceClassification, GPT2TokenizerFast\n",
    "\n",
    "# set device\n",
    "device = torch.device('cuda' if torch.cuda.is_available() else 'cpu')\n",
    "\n",
    "# nvidia-smi that clears gpu memory\n",
    "torch.cuda.empty_cache()"
   ]
  },
  {
   "cell_type": "markdown",
   "id": "1555f16b",
   "metadata": {},
   "source": [
    "## Prepare data"
   ]
  },
  {
   "cell_type": "code",
   "execution_count": null,
   "id": "136f2161",
   "metadata": {},
   "outputs": [],
   "source": [
    "from operations.utils import read_text\n",
    "\n",
    "def read_text(path:str=\"./transcripts/corpus\", file_name: str=\"corpus.txt\"):\n",
    "    with open(f'{path}/{file_name}', 'r', encoding='utf-8') as f:\n",
    "        texts = f.read()\n",
    "    return texts"
   ]
  },
  {
   "cell_type": "code",
   "execution_count": null,
   "id": "05b6154a",
   "metadata": {},
   "outputs": [],
   "source": [
    "# Tokenize\n",
    "from operations.data import tokenize_text\n",
    "from config.config import logger\n",
    "\n",
    "def tokenize_text(text, model_name: str=\"gpt2\", padding_side: str=\"right\", context_length: int=256, tokenizer_only=False):\n",
    "    \n",
    "    # Instantiate tokenizer and pass `gpt2` to the `from_pretrained` method \n",
    "    tokenizer = GPT2TokenizerFast.from_pretrained(model_name)\n",
    "    # Select token to uses as `pad_token`\n",
    "    tokenizer.pad_token = tokenizer.eos_token\n",
    "    # Default to right padding\n",
    "    tokenizer.padding_side = padding_side\n",
    "    # Set context length\n",
    "    context_length = context_length\n",
    "    \n",
    "    if tokenizer_only == True:\n",
    "        return tokenizer\n",
    "    \n",
    "    # Process text\n",
    "    inputs = tokenizer(text, \n",
    "                       padding='longest',\n",
    "                       truncation=True,\n",
    "                       return_tensors=\"pt\",\n",
    "                       max_length=context_length, # context size GPT-2: 1,024, GPT-3: 2,048\n",
    "                       return_overflowing_tokens=True, # tokenize input and split into chunks\n",
    "                       return_length=True, # return length of each created chunk\n",
    "                       return_special_tokens_mask=True\n",
    "                      )\n",
    "    \n",
    "    logger.info(f\"Input IDs length: {len(inputs['input_ids'])}\")\n",
    "    logger.info(f\"Input chunk lengths: {(inputs['length'])}\")\n",
    "    logger.info(f\"Chunk mapping: {inputs['overflow_to_sample_mapping']}\")\n",
    "\n",
    "    return inputs\n",
    "    \n",
    "inputs = tokenize_text(read_text())"
   ]
  },
  {
   "cell_type": "code",
   "execution_count": null,
   "id": "50c31bae",
   "metadata": {},
   "outputs": [],
   "source": [
    "# Train/Dev split\n",
    "from typing import List, Dict\n",
    "from operations.data import data_split\n",
    "\n",
    "def data_split(tokens: Dict , train_split: float=0.8, validation_split: float=0.9):\n",
    "    assert \"input_ids\" and \"attention_mask\" in tokens.keys()\n",
    "    \n",
    "    n1 = int(train_split * len(tokens['input_ids']))\n",
    "    n2 = int(validation_split * len(tokens['input_ids']))\n",
    "    \n",
    "    Xtr = tokens['input_ids'][:n1]\n",
    "    tr_mask = tokens['attention_mask'][:n1]\n",
    "    \n",
    "    Xval = tokens['input_ids'][n1:n2]\n",
    "    val_mask = tokens['attention_mask'][n1:n2]\n",
    "    \n",
    "    logger.info(f\"{Xtr.shape=}\")\n",
    "    logger.info(f\"{tr_mask.shape=}\")\n",
    "    logger.info(f\"{Xval.shape=}\")\n",
    "    logger.info(f\"{val_mask.shape=}\")\n",
    "    \n",
    "    return Xtr, tr_mask, Xval, val_mask\n",
    "\n",
    "\n",
    "Xtr, tr_mask, Xval, val_mask = data_split(inputs)"
   ]
  },
  {
   "cell_type": "code",
   "execution_count": null,
   "id": "185d161a",
   "metadata": {},
   "outputs": [],
   "source": [
    "# Date Staging\n",
    "# from operations.data import DataLoads\n",
    "\n",
    "class DataLoads(Dataset):\n",
    "    \"A barebones dataloader class for PyTorch\"\n",
    "    def __init__(self, X, Mask):\n",
    "        self.x = X\n",
    "        self.mask = Mask\n",
    "        \n",
    "    def __len__(self):\n",
    "        return len(self.x)\n",
    "    \n",
    "    def __getitem__(self, idx):\n",
    "        return {\n",
    "            'input_ids':self.x[idx],\n",
    "            'attention_mask':self.mask[idx],\n",
    "        }\n",
    "\n",
    "    \n",
    "def stage_data(xtrain: torch.tensor, \n",
    "               xtrain_mask: torch.tensor, \n",
    "               xval: torch.tensor, \n",
    "               xval_mask: torch.tensor):\n",
    "    \n",
    "    train_loader = DataLoads(xtrain, xtrain_mask)\n",
    "    val_loader = DataLoads(xval, xval_mask)\n",
    "    \n",
    "    return train_loader, val_loader"
   ]
  },
  {
   "cell_type": "code",
   "execution_count": null,
   "id": "9a959c1d",
   "metadata": {},
   "outputs": [],
   "source": [
    "# Prepare data for input to transformer\n",
    "tr_loader, dev_loader = stage_data(Xtr, tr_mask, Xval, val_mask)\n",
    "\n",
    "trainset = DataLoader(tr_loader, shuffle=True, batch_size=3)\n",
    "devset = DataLoader(dev_loader, shuffle=False, batch_size=3)"
   ]
  },
  {
   "cell_type": "markdown",
   "id": "ac46eb63",
   "metadata": {},
   "source": [
    "## Optimization loop\n",
    "### To-do's:\n",
    "1. Setup pipeline for tracking model metrics and hyperparameters in our designated log (TrainingArguments)\n",
    "2. ✔ Write function train() which encapsulates the training loop\n",
    "3. Set-up W&B integrations\n",
    "4. Set-up Optuna integrations\n",
    "5. Obtain optimal training parameters \n",
    "6. Set-up training of \"[gpt2-large](https://huggingface.co/transformers/v2.2.0/pretrained_models.html)\" on [Lambda cloud GPUs](https://lambdalabs.com/)\n",
    "7. Write customized training loop (migrate from Training class)"
   ]
  },
  {
   "cell_type": "code",
   "execution_count": null,
   "id": "0b67017b",
   "metadata": {},
   "outputs": [],
   "source": [
    "from operations.utils import read_text\n",
    "from operations.data import tokenize_text\n",
    "from operations.data import get_tokenizer\n",
    "from operations.data import data_split\n",
    "from operations.data import stage_data\n",
    "from operations.train import train\n",
    "from config.config import logger\n",
    "from transformers import AutoTokenizer, GPT2LMHeadModel, AutoConfig, DataCollatorForLanguageModeling\n",
    "from transformers import Trainer, TrainingArguments\n",
    "import transformers\n",
    "import torch\n",
    "\n",
    "args = TrainingArguments(\n",
    "    output_dir=\"artifacts\",\n",
    "    per_device_train_batch_size=16,\n",
    "    per_device_eval_batch_size=16,\n",
    "    evaluation_strategy=\"steps\",\n",
    "    eval_steps=5000,\n",
    "    logging_steps=200,\n",
    "    logging_dir='logs/',\n",
    "    gradient_accumulation_steps=4,\n",
    "    num_train_epochs=1,\n",
    "    weight_decay=0.1,\n",
    "    warmup_steps=10,\n",
    "    lr_scheduler_type=\"cosine\",\n",
    "    learning_rate=5e-4,\n",
    "    save_strategy=\"steps\",\n",
    "    save_steps=1000,\n",
    "    fp16=True,\n",
    "    push_to_hub=False,\n",
    ")\n",
    "\n",
    "args.context_length=256\n",
    "\n",
    "# Setup\n",
    "device = torch.device('cuda' if torch.cuda.is_available() else 'cpu')\n",
    "inputs = tokenize_text(read_text())\n",
    "xtrain, train_mask, xdev, dev_mask = data_split(inputs)\n",
    "\n",
    "train_loader, dev_loader = stage_data(xtrain[:10], train_mask[:10], xdev[:10], dev_mask[:10])\n",
    "\n",
    "# Tokenization\n",
    "tokenizer = get_tokenizer()\n",
    "config = AutoConfig.from_pretrained(\n",
    "    tokenizer.name_or_path, \n",
    "    vocab_size=len(tokenizer),\n",
    "    n_ctx=args.context_length, \n",
    "    bos_token_id=tokenizer.bos_token_id, \n",
    "    eos_token_id=tokenizer.eos_token_id\n",
    ")"
   ]
  },
  {
   "cell_type": "code",
   "execution_count": null,
   "id": "ee716c8b",
   "metadata": {},
   "outputs": [],
   "source": [
    "from transformers import ProgressCallback\n",
    "\n",
    "data_collator = DataCollatorForLanguageModeling(tokenizer, mlm=False)\n",
    "\n",
    "class PrinterCallback(ProgressCallback):\n",
    "    \"A callback that logs a message at the end of each training epoch\"\n",
    "    def on_log(self, args, state, control, logs=None, **kwargs):\n",
    "        _ = logs.pop(\"total_flos\", None)\n",
    "        if state.is_local_process_zero:\n",
    "            logger.info(logs)\n",
    "            logger.info(args)\n",
    "            logger.info(state)\n",
    "            print(logs['train_loss'])\n",
    "\n",
    "callback = PrinterCallback()\n",
    "\n",
    "# Model\n",
    "model = GPT2LMHeadModel.from_pretrained(tokenizer.name_or_path, config=config)\n",
    "model_size = sum(t.numel() for t in model.parameters())\n",
    "logger.info(f\"number of model parameters: {model_size/1000**2:.1f}M\")\n",
    "\n",
    "# Training Loop\n",
    "trainer = Trainer(\n",
    "    model=model,\n",
    "    tokenizer=tokenizer,\n",
    "    args=args,\n",
    "    data_collator=data_collator,\n",
    "    train_dataset=train_loader,\n",
    "    eval_dataset=dev_loader,\n",
    "    callbacks=[callback]\n",
    ")\n",
    "\n",
    "# Train\n",
    "trainer.train()"
   ]
  },
  {
   "cell_type": "markdown",
   "id": "5147e108",
   "metadata": {},
   "source": [
    "## Model\n",
    "### To-Do's:\n",
    "1. Implement a learning rate schedular \n",
    "2. Implement customized weight clipping\n",
    "3. Implement customized optimizer\n",
    "4. Implement key-token weighted loss function\n",
    "5. Optimize hyperparameters\n",
    "6. Train model for 10 epochs to reduce loss below 3.0"
   ]
  },
  {
   "cell_type": "code",
   "execution_count": 1,
   "id": "a15aec65",
   "metadata": {},
   "outputs": [
    {
     "data": {
      "text/html": [
       "<pre style=\"white-space:pre;overflow-x:auto;line-height:normal;font-family:Menlo,'DejaVu Sans Mono',consolas,'Courier New',monospace\"><span style=\"color: #7fbfbf; text-decoration-color: #7fbfbf\">[09/30/22 19:10:02] </span><span style=\"color: #000080; text-decoration-color: #000080\">INFO    </span> <span style=\"color: #800080; text-decoration-color: #800080; font-weight: bold\">PreTrainedTokenizerFast</span><span style=\"font-weight: bold\">(</span><span style=\"color: #808000; text-decoration-color: #808000\">name_or_path</span>=<span style=\"color: #008000; text-decoration-color: #008000\">'gpt2'</span>,          <a href=\"file://C:\\Users\\Hedronstone\\Desktop\\miniGPT2\\operations\\data.py\" target=\"_blank\"><span style=\"color: #7f7f7f; text-decoration-color: #7f7f7f\">data.py</span></a><span style=\"color: #7f7f7f; text-decoration-color: #7f7f7f\">:</span><a href=\"file://C:\\Users\\Hedronstone\\Desktop\\miniGPT2\\operations\\data.py#21\" target=\"_blank\"><span style=\"color: #7f7f7f; text-decoration-color: #7f7f7f\">21</span></a>\n",
       "<span style=\"color: #7fbfbf; text-decoration-color: #7fbfbf\">                    </span>         <span style=\"color: #808000; text-decoration-color: #808000\">vocab_size</span>=<span style=\"color: #008080; text-decoration-color: #008080; font-weight: bold\">50257</span>, <span style=\"color: #808000; text-decoration-color: #808000\">model_max_len</span>=<span style=\"color: #008080; text-decoration-color: #008080; font-weight: bold\">1024</span>, <span style=\"color: #808000; text-decoration-color: #808000\">is_fast</span>=<span style=\"color: #00ff00; text-decoration-color: #00ff00; font-style: italic\">True</span>,   <span style=\"color: #7f7f7f; text-decoration-color: #7f7f7f\">          </span>\n",
       "<span style=\"color: #7fbfbf; text-decoration-color: #7fbfbf\">                    </span>         <span style=\"color: #808000; text-decoration-color: #808000\">padding_side</span>=<span style=\"color: #008000; text-decoration-color: #008000\">'right'</span>, <span style=\"color: #808000; text-decoration-color: #808000\">truncation_side</span>=<span style=\"color: #008000; text-decoration-color: #008000\">'right'</span>,        <span style=\"color: #7f7f7f; text-decoration-color: #7f7f7f\">          </span>\n",
       "<span style=\"color: #7fbfbf; text-decoration-color: #7fbfbf\">                    </span>         <span style=\"color: #808000; text-decoration-color: #808000\">special_tokens</span>=<span style=\"font-weight: bold\">{</span><span style=\"color: #008000; text-decoration-color: #008000\">'bos_token'</span>: <span style=\"color: #008000; text-decoration-color: #008000\">'&lt;|endoftext|&gt;'</span>,         <span style=\"color: #7f7f7f; text-decoration-color: #7f7f7f\">          </span>\n",
       "<span style=\"color: #7fbfbf; text-decoration-color: #7fbfbf\">                    </span>         <span style=\"color: #008000; text-decoration-color: #008000\">'eos_token'</span>: <span style=\"color: #008000; text-decoration-color: #008000\">'&lt;|endoftext|&gt;'</span>, <span style=\"color: #008000; text-decoration-color: #008000\">'unk_token'</span>:            <span style=\"color: #7f7f7f; text-decoration-color: #7f7f7f\">          </span>\n",
       "<span style=\"color: #7fbfbf; text-decoration-color: #7fbfbf\">                    </span>         <span style=\"color: #008000; text-decoration-color: #008000\">'&lt;|endoftext|&gt;'</span>, <span style=\"color: #008000; text-decoration-color: #008000\">'pad_token'</span>: <span style=\"color: #008000; text-decoration-color: #008000\">'&lt;|endoftext|&gt;'</span><span style=\"font-weight: bold\">})</span>       <span style=\"color: #7f7f7f; text-decoration-color: #7f7f7f\">          </span>\n",
       "</pre>\n"
      ],
      "text/plain": [
       "\u001b[2;36m[09/30/22 19:10:02]\u001b[0m\u001b[2;36m \u001b[0m\u001b[34mINFO    \u001b[0m \u001b[1;35mPreTrainedTokenizerFast\u001b[0m\u001b[1m(\u001b[0m\u001b[33mname_or_path\u001b[0m=\u001b[32m'gpt2'\u001b[0m,          \u001b]8;id=713471;file://C:\\Users\\Hedronstone\\Desktop\\miniGPT2\\operations\\data.py\u001b\\\u001b[2mdata.py\u001b[0m\u001b]8;;\u001b\\\u001b[2m:\u001b[0m\u001b]8;id=742214;file://C:\\Users\\Hedronstone\\Desktop\\miniGPT2\\operations\\data.py#21\u001b\\\u001b[2m21\u001b[0m\u001b]8;;\u001b\\\n",
       "\u001b[2;36m                    \u001b[0m         \u001b[33mvocab_size\u001b[0m=\u001b[1;36m50257\u001b[0m, \u001b[33mmodel_max_len\u001b[0m=\u001b[1;36m1024\u001b[0m, \u001b[33mis_fast\u001b[0m=\u001b[3;92mTrue\u001b[0m,   \u001b[2m          \u001b[0m\n",
       "\u001b[2;36m                    \u001b[0m         \u001b[33mpadding_side\u001b[0m=\u001b[32m'right'\u001b[0m, \u001b[33mtruncation_side\u001b[0m=\u001b[32m'right'\u001b[0m,        \u001b[2m          \u001b[0m\n",
       "\u001b[2;36m                    \u001b[0m         \u001b[33mspecial_tokens\u001b[0m=\u001b[1m{\u001b[0m\u001b[32m'bos_token'\u001b[0m: \u001b[32m'\u001b[0m\u001b[32m<\u001b[0m\u001b[32m|endoftext|\u001b[0m\u001b[32m>\u001b[0m\u001b[32m'\u001b[0m,         \u001b[2m          \u001b[0m\n",
       "\u001b[2;36m                    \u001b[0m         \u001b[32m'eos_token'\u001b[0m: \u001b[32m'\u001b[0m\u001b[32m<\u001b[0m\u001b[32m|endoftext|\u001b[0m\u001b[32m>\u001b[0m\u001b[32m'\u001b[0m, \u001b[32m'unk_token'\u001b[0m:            \u001b[2m          \u001b[0m\n",
       "\u001b[2;36m                    \u001b[0m         \u001b[32m'\u001b[0m\u001b[32m<\u001b[0m\u001b[32m|endoftext|\u001b[0m\u001b[32m>\u001b[0m\u001b[32m'\u001b[0m, \u001b[32m'pad_token'\u001b[0m: \u001b[32m'\u001b[0m\u001b[32m<\u001b[0m\u001b[32m|endoftext|\u001b[0m\u001b[32m>\u001b[0m\u001b[32m'\u001b[0m\u001b[1m}\u001b[0m\u001b[1m)\u001b[0m       \u001b[2m          \u001b[0m\n"
      ]
     },
     "metadata": {},
     "output_type": "display_data"
    },
    {
     "data": {
      "text/html": [
       "<pre style=\"white-space:pre;overflow-x:auto;line-height:normal;font-family:Menlo,'DejaVu Sans Mono',consolas,'Courier New',monospace\"><span style=\"color: #7fbfbf; text-decoration-color: #7fbfbf\">[09/30/22 19:10:32] </span><span style=\"color: #000080; text-decoration-color: #000080\">INFO    </span> Input IDs length: <span style=\"color: #008080; text-decoration-color: #008080; font-weight: bold\">32583</span>                               <a href=\"file://C:\\Users\\Hedronstone\\Desktop\\miniGPT2\\operations\\data.py\" target=\"_blank\"><span style=\"color: #7f7f7f; text-decoration-color: #7f7f7f\">data.py</span></a><span style=\"color: #7f7f7f; text-decoration-color: #7f7f7f\">:</span><a href=\"file://C:\\Users\\Hedronstone\\Desktop\\miniGPT2\\operations\\data.py#34\" target=\"_blank\"><span style=\"color: #7f7f7f; text-decoration-color: #7f7f7f\">34</span></a>\n",
       "</pre>\n"
      ],
      "text/plain": [
       "\u001b[2;36m[09/30/22 19:10:32]\u001b[0m\u001b[2;36m \u001b[0m\u001b[34mINFO    \u001b[0m Input IDs length: \u001b[1;36m32583\u001b[0m                               \u001b]8;id=411349;file://C:\\Users\\Hedronstone\\Desktop\\miniGPT2\\operations\\data.py\u001b\\\u001b[2mdata.py\u001b[0m\u001b]8;;\u001b\\\u001b[2m:\u001b[0m\u001b]8;id=684436;file://C:\\Users\\Hedronstone\\Desktop\\miniGPT2\\operations\\data.py#34\u001b\\\u001b[2m34\u001b[0m\u001b]8;;\u001b\\\n"
      ]
     },
     "metadata": {},
     "output_type": "display_data"
    },
    {
     "data": {
      "text/html": [
       "<pre style=\"white-space:pre;overflow-x:auto;line-height:normal;font-family:Menlo,'DejaVu Sans Mono',consolas,'Courier New',monospace\"><span style=\"color: #7fbfbf; text-decoration-color: #7fbfbf\">                    </span><span style=\"color: #000080; text-decoration-color: #000080\">INFO    </span> Input chunk lengths: <span style=\"color: #800080; text-decoration-color: #800080; font-weight: bold\">tensor</span><span style=\"font-weight: bold\">([</span><span style=\"color: #008080; text-decoration-color: #008080; font-weight: bold\">256</span>, <span style=\"color: #008080; text-decoration-color: #008080; font-weight: bold\">256</span>, <span style=\"color: #008080; text-decoration-color: #008080; font-weight: bold\">256</span>,  <span style=\"color: #808000; text-decoration-color: #808000\">...</span>,     <a href=\"file://C:\\Users\\Hedronstone\\Desktop\\miniGPT2\\operations\\data.py\" target=\"_blank\"><span style=\"color: #7f7f7f; text-decoration-color: #7f7f7f\">data.py</span></a><span style=\"color: #7f7f7f; text-decoration-color: #7f7f7f\">:</span><a href=\"file://C:\\Users\\Hedronstone\\Desktop\\miniGPT2\\operations\\data.py#35\" target=\"_blank\"><span style=\"color: #7f7f7f; text-decoration-color: #7f7f7f\">35</span></a>\n",
       "<span style=\"color: #7fbfbf; text-decoration-color: #7fbfbf\">                    </span>         <span style=\"color: #008080; text-decoration-color: #008080; font-weight: bold\">256</span>, <span style=\"color: #008080; text-decoration-color: #008080; font-weight: bold\">256</span>, <span style=\"color: #008080; text-decoration-color: #008080; font-weight: bold\">256</span><span style=\"font-weight: bold\">])</span>                                       <span style=\"color: #7f7f7f; text-decoration-color: #7f7f7f\">          </span>\n",
       "</pre>\n"
      ],
      "text/plain": [
       "\u001b[2;36m                   \u001b[0m\u001b[2;36m \u001b[0m\u001b[34mINFO    \u001b[0m Input chunk lengths: \u001b[1;35mtensor\u001b[0m\u001b[1m(\u001b[0m\u001b[1m[\u001b[0m\u001b[1;36m256\u001b[0m, \u001b[1;36m256\u001b[0m, \u001b[1;36m256\u001b[0m,  \u001b[33m...\u001b[0m,     \u001b]8;id=996653;file://C:\\Users\\Hedronstone\\Desktop\\miniGPT2\\operations\\data.py\u001b\\\u001b[2mdata.py\u001b[0m\u001b]8;;\u001b\\\u001b[2m:\u001b[0m\u001b]8;id=323825;file://C:\\Users\\Hedronstone\\Desktop\\miniGPT2\\operations\\data.py#35\u001b\\\u001b[2m35\u001b[0m\u001b]8;;\u001b\\\n",
       "\u001b[2;36m                    \u001b[0m         \u001b[1;36m256\u001b[0m, \u001b[1;36m256\u001b[0m, \u001b[1;36m256\u001b[0m\u001b[1m]\u001b[0m\u001b[1m)\u001b[0m                                       \u001b[2m          \u001b[0m\n"
      ]
     },
     "metadata": {},
     "output_type": "display_data"
    },
    {
     "data": {
      "text/html": [
       "<pre style=\"white-space:pre;overflow-x:auto;line-height:normal;font-family:Menlo,'DejaVu Sans Mono',consolas,'Courier New',monospace\"><span style=\"color: #7fbfbf; text-decoration-color: #7fbfbf\">                    </span><span style=\"color: #000080; text-decoration-color: #000080\">INFO    </span> Chunk mapping: <span style=\"color: #800080; text-decoration-color: #800080; font-weight: bold\">tensor</span><span style=\"font-weight: bold\">([</span><span style=\"color: #008080; text-decoration-color: #008080; font-weight: bold\">0</span>, <span style=\"color: #008080; text-decoration-color: #008080; font-weight: bold\">0</span>, <span style=\"color: #008080; text-decoration-color: #008080; font-weight: bold\">0</span>,  <span style=\"color: #808000; text-decoration-color: #808000\">...</span>, <span style=\"color: #008080; text-decoration-color: #008080; font-weight: bold\">0</span>, <span style=\"color: #008080; text-decoration-color: #008080; font-weight: bold\">0</span>, <span style=\"color: #008080; text-decoration-color: #008080; font-weight: bold\">0</span><span style=\"font-weight: bold\">])</span>       <a href=\"file://C:\\Users\\Hedronstone\\Desktop\\miniGPT2\\operations\\data.py\" target=\"_blank\"><span style=\"color: #7f7f7f; text-decoration-color: #7f7f7f\">data.py</span></a><span style=\"color: #7f7f7f; text-decoration-color: #7f7f7f\">:</span><a href=\"file://C:\\Users\\Hedronstone\\Desktop\\miniGPT2\\operations\\data.py#36\" target=\"_blank\"><span style=\"color: #7f7f7f; text-decoration-color: #7f7f7f\">36</span></a>\n",
       "</pre>\n"
      ],
      "text/plain": [
       "\u001b[2;36m                   \u001b[0m\u001b[2;36m \u001b[0m\u001b[34mINFO    \u001b[0m Chunk mapping: \u001b[1;35mtensor\u001b[0m\u001b[1m(\u001b[0m\u001b[1m[\u001b[0m\u001b[1;36m0\u001b[0m, \u001b[1;36m0\u001b[0m, \u001b[1;36m0\u001b[0m,  \u001b[33m...\u001b[0m, \u001b[1;36m0\u001b[0m, \u001b[1;36m0\u001b[0m, \u001b[1;36m0\u001b[0m\u001b[1m]\u001b[0m\u001b[1m)\u001b[0m       \u001b]8;id=18675;file://C:\\Users\\Hedronstone\\Desktop\\miniGPT2\\operations\\data.py\u001b\\\u001b[2mdata.py\u001b[0m\u001b]8;;\u001b\\\u001b[2m:\u001b[0m\u001b]8;id=255374;file://C:\\Users\\Hedronstone\\Desktop\\miniGPT2\\operations\\data.py#36\u001b\\\u001b[2m36\u001b[0m\u001b]8;;\u001b\\\n"
      ]
     },
     "metadata": {},
     "output_type": "display_data"
    },
    {
     "data": {
      "text/html": [
       "<pre style=\"white-space:pre;overflow-x:auto;line-height:normal;font-family:Menlo,'DejaVu Sans Mono',consolas,'Courier New',monospace\"><span style=\"color: #7fbfbf; text-decoration-color: #7fbfbf\">                    </span><span style=\"color: #000080; text-decoration-color: #000080\">INFO    </span> Xtr.<span style=\"color: #808000; text-decoration-color: #808000\">shape</span>=<span style=\"color: #800080; text-decoration-color: #800080; font-weight: bold\">torch</span><span style=\"color: #800080; text-decoration-color: #800080; font-weight: bold\">.Size</span><span style=\"font-weight: bold\">([</span><span style=\"color: #008080; text-decoration-color: #008080; font-weight: bold\">26066</span>, <span style=\"color: #008080; text-decoration-color: #008080; font-weight: bold\">256</span><span style=\"font-weight: bold\">])</span>                    <a href=\"file://C:\\Users\\Hedronstone\\Desktop\\miniGPT2\\operations\\data.py\" target=\"_blank\"><span style=\"color: #7f7f7f; text-decoration-color: #7f7f7f\">data.py</span></a><span style=\"color: #7f7f7f; text-decoration-color: #7f7f7f\">:</span><a href=\"file://C:\\Users\\Hedronstone\\Desktop\\miniGPT2\\operations\\data.py#69\" target=\"_blank\"><span style=\"color: #7f7f7f; text-decoration-color: #7f7f7f\">69</span></a>\n",
       "</pre>\n"
      ],
      "text/plain": [
       "\u001b[2;36m                   \u001b[0m\u001b[2;36m \u001b[0m\u001b[34mINFO    \u001b[0m Xtr.\u001b[33mshape\u001b[0m=\u001b[1;35mtorch\u001b[0m\u001b[1;35m.Size\u001b[0m\u001b[1m(\u001b[0m\u001b[1m[\u001b[0m\u001b[1;36m26066\u001b[0m, \u001b[1;36m256\u001b[0m\u001b[1m]\u001b[0m\u001b[1m)\u001b[0m                    \u001b]8;id=868861;file://C:\\Users\\Hedronstone\\Desktop\\miniGPT2\\operations\\data.py\u001b\\\u001b[2mdata.py\u001b[0m\u001b]8;;\u001b\\\u001b[2m:\u001b[0m\u001b]8;id=299153;file://C:\\Users\\Hedronstone\\Desktop\\miniGPT2\\operations\\data.py#69\u001b\\\u001b[2m69\u001b[0m\u001b]8;;\u001b\\\n"
      ]
     },
     "metadata": {},
     "output_type": "display_data"
    },
    {
     "data": {
      "text/html": [
       "<pre style=\"white-space:pre;overflow-x:auto;line-height:normal;font-family:Menlo,'DejaVu Sans Mono',consolas,'Courier New',monospace\"><span style=\"color: #7fbfbf; text-decoration-color: #7fbfbf\">                    </span><span style=\"color: #000080; text-decoration-color: #000080\">INFO    </span> Xval.<span style=\"color: #808000; text-decoration-color: #808000\">shape</span>=<span style=\"color: #800080; text-decoration-color: #800080; font-weight: bold\">torch</span><span style=\"color: #800080; text-decoration-color: #800080; font-weight: bold\">.Size</span><span style=\"font-weight: bold\">([</span><span style=\"color: #008080; text-decoration-color: #008080; font-weight: bold\">3258</span>, <span style=\"color: #008080; text-decoration-color: #008080; font-weight: bold\">256</span><span style=\"font-weight: bold\">])</span>                    <a href=\"file://C:\\Users\\Hedronstone\\Desktop\\miniGPT2\\operations\\data.py\" target=\"_blank\"><span style=\"color: #7f7f7f; text-decoration-color: #7f7f7f\">data.py</span></a><span style=\"color: #7f7f7f; text-decoration-color: #7f7f7f\">:</span><a href=\"file://C:\\Users\\Hedronstone\\Desktop\\miniGPT2\\operations\\data.py#70\" target=\"_blank\"><span style=\"color: #7f7f7f; text-decoration-color: #7f7f7f\">70</span></a>\n",
       "</pre>\n"
      ],
      "text/plain": [
       "\u001b[2;36m                   \u001b[0m\u001b[2;36m \u001b[0m\u001b[34mINFO    \u001b[0m Xval.\u001b[33mshape\u001b[0m=\u001b[1;35mtorch\u001b[0m\u001b[1;35m.Size\u001b[0m\u001b[1m(\u001b[0m\u001b[1m[\u001b[0m\u001b[1;36m3258\u001b[0m, \u001b[1;36m256\u001b[0m\u001b[1m]\u001b[0m\u001b[1m)\u001b[0m                    \u001b]8;id=901492;file://C:\\Users\\Hedronstone\\Desktop\\miniGPT2\\operations\\data.py\u001b\\\u001b[2mdata.py\u001b[0m\u001b]8;;\u001b\\\u001b[2m:\u001b[0m\u001b]8;id=476584;file://C:\\Users\\Hedronstone\\Desktop\\miniGPT2\\operations\\data.py#70\u001b\\\u001b[2m70\u001b[0m\u001b]8;;\u001b\\\n"
      ]
     },
     "metadata": {},
     "output_type": "display_data"
    },
    {
     "data": {
      "text/html": [
       "<pre style=\"white-space:pre;overflow-x:auto;line-height:normal;font-family:Menlo,'DejaVu Sans Mono',consolas,'Courier New',monospace\"><span style=\"color: #7fbfbf; text-decoration-color: #7fbfbf\">[09/30/22 19:10:35] </span><span style=\"color: #000080; text-decoration-color: #000080\">INFO    </span> number of model parameters: <span style=\"color: #008080; text-decoration-color: #008080; font-weight: bold\">124.</span>4M                   <a href=\"file://C:\\Users\\Hedronstone\\Desktop\\miniGPT2\\operations\\train.py\" target=\"_blank\"><span style=\"color: #7f7f7f; text-decoration-color: #7f7f7f\">train.py</span></a><span style=\"color: #7f7f7f; text-decoration-color: #7f7f7f\">:</span><a href=\"file://C:\\Users\\Hedronstone\\Desktop\\miniGPT2\\operations\\train.py#72\" target=\"_blank\"><span style=\"color: #7f7f7f; text-decoration-color: #7f7f7f\">72</span></a>\n",
       "</pre>\n"
      ],
      "text/plain": [
       "\u001b[2;36m[09/30/22 19:10:35]\u001b[0m\u001b[2;36m \u001b[0m\u001b[34mINFO    \u001b[0m number of model parameters: \u001b[1;36m124.\u001b[0m4M                   \u001b]8;id=830688;file://C:\\Users\\Hedronstone\\Desktop\\miniGPT2\\operations\\train.py\u001b\\\u001b[2mtrain.py\u001b[0m\u001b]8;;\u001b\\\u001b[2m:\u001b[0m\u001b]8;id=47134;file://C:\\Users\\Hedronstone\\Desktop\\miniGPT2\\operations\\train.py#72\u001b\\\u001b[2m72\u001b[0m\u001b]8;;\u001b\\\n"
      ]
     },
     "metadata": {},
     "output_type": "display_data"
    },
    {
     "name": "stderr",
     "output_type": "stream",
     "text": [
      "Using cuda_amp half precision backend\n",
      "c:\\users\\hedronstone\\desktop\\minigpt2\\venv\\lib\\site-packages\\transformers\\optimization.py:306: FutureWarning: This implementation of AdamW is deprecated and will be removed in a future version. Use the PyTorch implementation torch.optim.AdamW instead, or set `no_deprecation_warning=True` to disable this warning\n",
      "  warnings.warn(\n",
      "***** Running training *****\n",
      "  Num examples = 26066\n",
      "  Num Epochs = 5\n",
      "  Instantaneous batch size per device = 16\n",
      "  Total train batch size (w. parallel, distributed & accumulation) = 64\n",
      "  Gradient Accumulation steps = 4\n",
      "  Total optimization steps = 2035\n"
     ]
    },
    {
     "data": {
      "application/vnd.jupyter.widget-view+json": {
       "model_id": "f1393e5d3efc4cc394741b50940fbe0b",
       "version_major": 2,
       "version_minor": 0
      },
      "text/plain": [
       "  0%|          | 0/2035 [00:00<?, ?it/s]"
      ]
     },
     "metadata": {},
     "output_type": "display_data"
    },
    {
     "name": "stderr",
     "output_type": "stream",
     "text": [
      "You're using a GPT2TokenizerFast tokenizer. Please note that with a fast tokenizer, using the `__call__` method is faster than using a method to encode the text followed by a call to the `pad` method to get a padded encoding.\n"
     ]
    },
    {
     "data": {
      "text/html": [
       "\n",
       "    <div>\n",
       "      \n",
       "      <progress value='2035' max='2035' style='width:300px; height:20px; vertical-align: middle;'></progress>\n",
       "      [2035/2035 48:04, Epoch 4/5]\n",
       "    </div>\n",
       "    <table border=\"1\" class=\"dataframe\">\n",
       "  <thead>\n",
       " <tr style=\"text-align: left;\">\n",
       "      <th>Step</th>\n",
       "      <th>Training Loss</th>\n",
       "      <th>Validation Loss</th>\n",
       "    </tr>\n",
       "  </thead>\n",
       "  <tbody>\n",
       "    <tr>\n",
       "      <td>200</td>\n",
       "      <td>No log</td>\n",
       "      <td>3.240121</td>\n",
       "    </tr>\n",
       "    <tr>\n",
       "      <td>400</td>\n",
       "      <td>No log</td>\n",
       "      <td>3.217250</td>\n",
       "    </tr>\n",
       "    <tr>\n",
       "      <td>600</td>\n",
       "      <td>3.284500</td>\n",
       "      <td>3.223501</td>\n",
       "    </tr>\n",
       "    <tr>\n",
       "      <td>800</td>\n",
       "      <td>3.284500</td>\n",
       "      <td>3.208983</td>\n",
       "    </tr>\n",
       "    <tr>\n",
       "      <td>1000</td>\n",
       "      <td>3.061900</td>\n",
       "      <td>3.230841</td>\n",
       "    </tr>\n",
       "    <tr>\n",
       "      <td>1200</td>\n",
       "      <td>3.061900</td>\n",
       "      <td>3.220767</td>\n",
       "    </tr>\n",
       "    <tr>\n",
       "      <td>1400</td>\n",
       "      <td>2.899000</td>\n",
       "      <td>3.251730</td>\n",
       "    </tr>\n",
       "    <tr>\n",
       "      <td>1600</td>\n",
       "      <td>2.899000</td>\n",
       "      <td>3.247832</td>\n",
       "    </tr>\n",
       "    <tr>\n",
       "      <td>1800</td>\n",
       "      <td>2.762900</td>\n",
       "      <td>3.269883</td>\n",
       "    </tr>\n",
       "    <tr>\n",
       "      <td>2000</td>\n",
       "      <td>2.762900</td>\n",
       "      <td>3.268486</td>\n",
       "    </tr>\n",
       "  </tbody>\n",
       "</table><p>"
      ],
      "text/plain": [
       "<IPython.core.display.HTML object>"
      ]
     },
     "metadata": {},
     "output_type": "display_data"
    },
    {
     "name": "stderr",
     "output_type": "stream",
     "text": [
      "***** Running Evaluation *****\n",
      "  Num examples = 3258\n",
      "  Batch size = 16\n"
     ]
    },
    {
     "data": {
      "application/vnd.jupyter.widget-view+json": {
       "model_id": "",
       "version_major": 2,
       "version_minor": 0
      },
      "text/plain": [
       "  0%|          | 0/204 [00:00<?, ?it/s]"
      ]
     },
     "metadata": {},
     "output_type": "display_data"
    },
    {
     "data": {
      "text/html": [
       "<pre style=\"white-space:pre;overflow-x:auto;line-height:normal;font-family:Menlo,'DejaVu Sans Mono',consolas,'Courier New',monospace\"><span style=\"color: #7fbfbf; text-decoration-color: #7fbfbf\">[09/30/22 19:15:16] </span><span style=\"color: #000080; text-decoration-color: #000080\">INFO    </span> <span style=\"font-weight: bold\">{</span><span style=\"color: #008000; text-decoration-color: #008000\">'eval_loss'</span>: <span style=\"color: #008080; text-decoration-color: #008080; font-weight: bold\">3.2401208877563477</span>, <span style=\"color: #008000; text-decoration-color: #008000\">'eval_runtime'</span>:    <a href=\"file://C:\\Users\\Hedronstone\\Desktop\\miniGPT2\\operations\\train.py\" target=\"_blank\"><span style=\"color: #7f7f7f; text-decoration-color: #7f7f7f\">train.py</span></a><span style=\"color: #7f7f7f; text-decoration-color: #7f7f7f\">:</span><a href=\"file://C:\\Users\\Hedronstone\\Desktop\\miniGPT2\\operations\\train.py#39\" target=\"_blank\"><span style=\"color: #7f7f7f; text-decoration-color: #7f7f7f\">39</span></a>\n",
       "<span style=\"color: #7fbfbf; text-decoration-color: #7fbfbf\">                    </span>         <span style=\"color: #008080; text-decoration-color: #008080; font-weight: bold\">23.6545</span>, <span style=\"color: #008000; text-decoration-color: #008000\">'eval_samples_per_second'</span>: <span style=\"color: #008080; text-decoration-color: #008080; font-weight: bold\">137.733</span>,         <span style=\"color: #7f7f7f; text-decoration-color: #7f7f7f\">           </span>\n",
       "<span style=\"color: #7fbfbf; text-decoration-color: #7fbfbf\">                    </span>         <span style=\"color: #008000; text-decoration-color: #008000\">'eval_steps_per_second'</span>: <span style=\"color: #008080; text-decoration-color: #008080; font-weight: bold\">8.624</span>, <span style=\"color: #008000; text-decoration-color: #008000\">'epoch'</span>: <span style=\"color: #008080; text-decoration-color: #008080; font-weight: bold\">0.49</span><span style=\"font-weight: bold\">}</span>       <span style=\"color: #7f7f7f; text-decoration-color: #7f7f7f\">           </span>\n",
       "</pre>\n"
      ],
      "text/plain": [
       "\u001b[2;36m[09/30/22 19:15:16]\u001b[0m\u001b[2;36m \u001b[0m\u001b[34mINFO    \u001b[0m \u001b[1m{\u001b[0m\u001b[32m'eval_loss'\u001b[0m: \u001b[1;36m3.2401208877563477\u001b[0m, \u001b[32m'eval_runtime'\u001b[0m:    \u001b]8;id=670487;file://C:\\Users\\Hedronstone\\Desktop\\miniGPT2\\operations\\train.py\u001b\\\u001b[2mtrain.py\u001b[0m\u001b]8;;\u001b\\\u001b[2m:\u001b[0m\u001b]8;id=26225;file://C:\\Users\\Hedronstone\\Desktop\\miniGPT2\\operations\\train.py#39\u001b\\\u001b[2m39\u001b[0m\u001b]8;;\u001b\\\n",
       "\u001b[2;36m                    \u001b[0m         \u001b[1;36m23.6545\u001b[0m, \u001b[32m'eval_samples_per_second'\u001b[0m: \u001b[1;36m137.733\u001b[0m,         \u001b[2m           \u001b[0m\n",
       "\u001b[2;36m                    \u001b[0m         \u001b[32m'eval_steps_per_second'\u001b[0m: \u001b[1;36m8.624\u001b[0m, \u001b[32m'epoch'\u001b[0m: \u001b[1;36m0.49\u001b[0m\u001b[1m}\u001b[0m       \u001b[2m           \u001b[0m\n"
      ]
     },
     "metadata": {},
     "output_type": "display_data"
    },
    {
     "data": {
      "text/html": [
       "<pre style=\"white-space:pre;overflow-x:auto;line-height:normal;font-family:Menlo,'DejaVu Sans Mono',consolas,'Courier New',monospace\"><span style=\"color: #7fbfbf; text-decoration-color: #7fbfbf\">                    </span><span style=\"color: #000080; text-decoration-color: #000080\">INFO    </span> <span style=\"color: #800080; text-decoration-color: #800080; font-weight: bold\">TrainerState</span><span style=\"font-weight: bold\">(</span><span style=\"color: #808000; text-decoration-color: #808000\">epoch</span>=<span style=\"color: #008080; text-decoration-color: #008080; font-weight: bold\">0.49079754601226994</span>,              <a href=\"file://C:\\Users\\Hedronstone\\Desktop\\miniGPT2\\operations\\train.py\" target=\"_blank\"><span style=\"color: #7f7f7f; text-decoration-color: #7f7f7f\">train.py</span></a><span style=\"color: #7f7f7f; text-decoration-color: #7f7f7f\">:</span><a href=\"file://C:\\Users\\Hedronstone\\Desktop\\miniGPT2\\operations\\train.py#41\" target=\"_blank\"><span style=\"color: #7f7f7f; text-decoration-color: #7f7f7f\">41</span></a>\n",
       "<span style=\"color: #7fbfbf; text-decoration-color: #7fbfbf\">                    </span>         <span style=\"color: #808000; text-decoration-color: #808000\">global_step</span>=<span style=\"color: #008080; text-decoration-color: #008080; font-weight: bold\">200</span>, <span style=\"color: #808000; text-decoration-color: #808000\">max_steps</span>=<span style=\"color: #008080; text-decoration-color: #008080; font-weight: bold\">2035</span>, <span style=\"color: #808000; text-decoration-color: #808000\">num_train_epochs</span>=<span style=\"color: #008080; text-decoration-color: #008080; font-weight: bold\">5</span>, <span style=\"color: #7f7f7f; text-decoration-color: #7f7f7f\">           </span>\n",
       "<span style=\"color: #7fbfbf; text-decoration-color: #7fbfbf\">                    </span>         <span style=\"color: #808000; text-decoration-color: #808000\">total_flos</span>=<span style=\"color: #008080; text-decoration-color: #008080; font-weight: bold\">0</span>, <span style=\"color: #808000; text-decoration-color: #808000\">log_history</span>=<span style=\"font-weight: bold\">[{</span><span style=\"color: #008000; text-decoration-color: #008000\">'eval_loss'</span>:             <span style=\"color: #7f7f7f; text-decoration-color: #7f7f7f\">           </span>\n",
       "<span style=\"color: #7fbfbf; text-decoration-color: #7fbfbf\">                    </span>         <span style=\"color: #008080; text-decoration-color: #008080; font-weight: bold\">3.2401208877563477</span>, <span style=\"color: #008000; text-decoration-color: #008000\">'eval_runtime'</span>: <span style=\"color: #008080; text-decoration-color: #008080; font-weight: bold\">23.6545</span>,         <span style=\"color: #7f7f7f; text-decoration-color: #7f7f7f\">           </span>\n",
       "<span style=\"color: #7fbfbf; text-decoration-color: #7fbfbf\">                    </span>         <span style=\"color: #008000; text-decoration-color: #008000\">'eval_samples_per_second'</span>: <span style=\"color: #008080; text-decoration-color: #008080; font-weight: bold\">137.733</span>,                  <span style=\"color: #7f7f7f; text-decoration-color: #7f7f7f\">           </span>\n",
       "<span style=\"color: #7fbfbf; text-decoration-color: #7fbfbf\">                    </span>         <span style=\"color: #008000; text-decoration-color: #008000\">'eval_steps_per_second'</span>: <span style=\"color: #008080; text-decoration-color: #008080; font-weight: bold\">8.624</span>, <span style=\"color: #008000; text-decoration-color: #008000\">'epoch'</span>: <span style=\"color: #008080; text-decoration-color: #008080; font-weight: bold\">0.49</span>,       <span style=\"color: #7f7f7f; text-decoration-color: #7f7f7f\">           </span>\n",
       "<span style=\"color: #7fbfbf; text-decoration-color: #7fbfbf\">                    </span>         <span style=\"color: #008000; text-decoration-color: #008000\">'step'</span>: <span style=\"color: #008080; text-decoration-color: #008080; font-weight: bold\">200</span><span style=\"font-weight: bold\">}]</span>, <span style=\"color: #808000; text-decoration-color: #808000\">best_metric</span>=<span style=\"color: #800080; text-decoration-color: #800080; font-style: italic\">None</span>,                     <span style=\"color: #7f7f7f; text-decoration-color: #7f7f7f\">           </span>\n",
       "<span style=\"color: #7fbfbf; text-decoration-color: #7fbfbf\">                    </span>         <span style=\"color: #808000; text-decoration-color: #808000\">best_model_checkpoint</span>=<span style=\"color: #800080; text-decoration-color: #800080; font-style: italic\">None</span>,                          <span style=\"color: #7f7f7f; text-decoration-color: #7f7f7f\">           </span>\n",
       "<span style=\"color: #7fbfbf; text-decoration-color: #7fbfbf\">                    </span>         <span style=\"color: #808000; text-decoration-color: #808000\">is_local_process_zero</span>=<span style=\"color: #00ff00; text-decoration-color: #00ff00; font-style: italic\">True</span>,                          <span style=\"color: #7f7f7f; text-decoration-color: #7f7f7f\">           </span>\n",
       "<span style=\"color: #7fbfbf; text-decoration-color: #7fbfbf\">                    </span>         <span style=\"color: #808000; text-decoration-color: #808000\">is_world_process_zero</span>=<span style=\"color: #00ff00; text-decoration-color: #00ff00; font-style: italic\">True</span>,                          <span style=\"color: #7f7f7f; text-decoration-color: #7f7f7f\">           </span>\n",
       "<span style=\"color: #7fbfbf; text-decoration-color: #7fbfbf\">                    </span>         <span style=\"color: #808000; text-decoration-color: #808000\">is_hyper_param_search</span>=<span style=\"color: #ff0000; text-decoration-color: #ff0000; font-style: italic\">False</span>, <span style=\"color: #808000; text-decoration-color: #808000\">trial_name</span>=<span style=\"color: #800080; text-decoration-color: #800080; font-style: italic\">None</span>,        <span style=\"color: #7f7f7f; text-decoration-color: #7f7f7f\">           </span>\n",
       "<span style=\"color: #7fbfbf; text-decoration-color: #7fbfbf\">                    </span>         <span style=\"color: #808000; text-decoration-color: #808000\">trial_params</span>=<span style=\"color: #800080; text-decoration-color: #800080; font-style: italic\">None</span><span style=\"font-weight: bold\">)</span>                                   <span style=\"color: #7f7f7f; text-decoration-color: #7f7f7f\">           </span>\n",
       "</pre>\n"
      ],
      "text/plain": [
       "\u001b[2;36m                   \u001b[0m\u001b[2;36m \u001b[0m\u001b[34mINFO    \u001b[0m \u001b[1;35mTrainerState\u001b[0m\u001b[1m(\u001b[0m\u001b[33mepoch\u001b[0m=\u001b[1;36m0\u001b[0m\u001b[1;36m.49079754601226994\u001b[0m,              \u001b]8;id=777572;file://C:\\Users\\Hedronstone\\Desktop\\miniGPT2\\operations\\train.py\u001b\\\u001b[2mtrain.py\u001b[0m\u001b]8;;\u001b\\\u001b[2m:\u001b[0m\u001b]8;id=256787;file://C:\\Users\\Hedronstone\\Desktop\\miniGPT2\\operations\\train.py#41\u001b\\\u001b[2m41\u001b[0m\u001b]8;;\u001b\\\n",
       "\u001b[2;36m                    \u001b[0m         \u001b[33mglobal_step\u001b[0m=\u001b[1;36m200\u001b[0m, \u001b[33mmax_steps\u001b[0m=\u001b[1;36m2035\u001b[0m, \u001b[33mnum_train_epochs\u001b[0m=\u001b[1;36m5\u001b[0m, \u001b[2m           \u001b[0m\n",
       "\u001b[2;36m                    \u001b[0m         \u001b[33mtotal_flos\u001b[0m=\u001b[1;36m0\u001b[0m, \u001b[33mlog_history\u001b[0m=\u001b[1m[\u001b[0m\u001b[1m{\u001b[0m\u001b[32m'eval_loss'\u001b[0m:             \u001b[2m           \u001b[0m\n",
       "\u001b[2;36m                    \u001b[0m         \u001b[1;36m3.2401208877563477\u001b[0m, \u001b[32m'eval_runtime'\u001b[0m: \u001b[1;36m23.6545\u001b[0m,         \u001b[2m           \u001b[0m\n",
       "\u001b[2;36m                    \u001b[0m         \u001b[32m'eval_samples_per_second'\u001b[0m: \u001b[1;36m137.733\u001b[0m,                  \u001b[2m           \u001b[0m\n",
       "\u001b[2;36m                    \u001b[0m         \u001b[32m'eval_steps_per_second'\u001b[0m: \u001b[1;36m8.624\u001b[0m, \u001b[32m'epoch'\u001b[0m: \u001b[1;36m0.49\u001b[0m,       \u001b[2m           \u001b[0m\n",
       "\u001b[2;36m                    \u001b[0m         \u001b[32m'step'\u001b[0m: \u001b[1;36m200\u001b[0m\u001b[1m}\u001b[0m\u001b[1m]\u001b[0m, \u001b[33mbest_metric\u001b[0m=\u001b[3;35mNone\u001b[0m,                     \u001b[2m           \u001b[0m\n",
       "\u001b[2;36m                    \u001b[0m         \u001b[33mbest_model_checkpoint\u001b[0m=\u001b[3;35mNone\u001b[0m,                          \u001b[2m           \u001b[0m\n",
       "\u001b[2;36m                    \u001b[0m         \u001b[33mis_local_process_zero\u001b[0m=\u001b[3;92mTrue\u001b[0m,                          \u001b[2m           \u001b[0m\n",
       "\u001b[2;36m                    \u001b[0m         \u001b[33mis_world_process_zero\u001b[0m=\u001b[3;92mTrue\u001b[0m,                          \u001b[2m           \u001b[0m\n",
       "\u001b[2;36m                    \u001b[0m         \u001b[33mis_hyper_param_search\u001b[0m=\u001b[3;91mFalse\u001b[0m, \u001b[33mtrial_name\u001b[0m=\u001b[3;35mNone\u001b[0m,        \u001b[2m           \u001b[0m\n",
       "\u001b[2;36m                    \u001b[0m         \u001b[33mtrial_params\u001b[0m=\u001b[3;35mNone\u001b[0m\u001b[1m)\u001b[0m                                   \u001b[2m           \u001b[0m\n"
      ]
     },
     "metadata": {},
     "output_type": "display_data"
    },
    {
     "name": "stdout",
     "output_type": "stream",
     "text": [
      "{'eval_loss': 3.2401208877563477, 'eval_runtime': 23.6545, 'eval_samples_per_second': 137.733, 'eval_steps_per_second': 8.624, 'epoch': 0.49}\n"
     ]
    },
    {
     "name": "stderr",
     "output_type": "stream",
     "text": [
      "Saving model checkpoint to artifacts\\checkpoint-200\n",
      "Configuration saved in artifacts\\checkpoint-200\\config.json\n",
      "Model weights saved in artifacts\\checkpoint-200\\pytorch_model.bin\n",
      "tokenizer config file saved in artifacts\\checkpoint-200\\tokenizer_config.json\n",
      "Special tokens file saved in artifacts\\checkpoint-200\\special_tokens_map.json\n",
      "***** Running Evaluation *****\n",
      "  Num examples = 3258\n",
      "  Batch size = 16\n"
     ]
    },
    {
     "data": {
      "application/vnd.jupyter.widget-view+json": {
       "model_id": "",
       "version_major": 2,
       "version_minor": 0
      },
      "text/plain": [
       "  0%|          | 0/204 [00:00<?, ?it/s]"
      ]
     },
     "metadata": {},
     "output_type": "display_data"
    },
    {
     "data": {
      "text/html": [
       "<pre style=\"white-space:pre;overflow-x:auto;line-height:normal;font-family:Menlo,'DejaVu Sans Mono',consolas,'Courier New',monospace\"><span style=\"color: #7fbfbf; text-decoration-color: #7fbfbf\">[09/30/22 19:20:02] </span><span style=\"color: #000080; text-decoration-color: #000080\">INFO    </span> <span style=\"font-weight: bold\">{</span><span style=\"color: #008000; text-decoration-color: #008000\">'eval_loss'</span>: <span style=\"color: #008080; text-decoration-color: #008080; font-weight: bold\">3.217250108718872</span>, <span style=\"color: #008000; text-decoration-color: #008000\">'eval_runtime'</span>:     <a href=\"file://C:\\Users\\Hedronstone\\Desktop\\miniGPT2\\operations\\train.py\" target=\"_blank\"><span style=\"color: #7f7f7f; text-decoration-color: #7f7f7f\">train.py</span></a><span style=\"color: #7f7f7f; text-decoration-color: #7f7f7f\">:</span><a href=\"file://C:\\Users\\Hedronstone\\Desktop\\miniGPT2\\operations\\train.py#39\" target=\"_blank\"><span style=\"color: #7f7f7f; text-decoration-color: #7f7f7f\">39</span></a>\n",
       "<span style=\"color: #7fbfbf; text-decoration-color: #7fbfbf\">                    </span>         <span style=\"color: #008080; text-decoration-color: #008080; font-weight: bold\">23.6908</span>, <span style=\"color: #008000; text-decoration-color: #008000\">'eval_samples_per_second'</span>: <span style=\"color: #008080; text-decoration-color: #008080; font-weight: bold\">137.522</span>,         <span style=\"color: #7f7f7f; text-decoration-color: #7f7f7f\">           </span>\n",
       "<span style=\"color: #7fbfbf; text-decoration-color: #7fbfbf\">                    </span>         <span style=\"color: #008000; text-decoration-color: #008000\">'eval_steps_per_second'</span>: <span style=\"color: #008080; text-decoration-color: #008080; font-weight: bold\">8.611</span>, <span style=\"color: #008000; text-decoration-color: #008000\">'epoch'</span>: <span style=\"color: #008080; text-decoration-color: #008080; font-weight: bold\">0.98</span><span style=\"font-weight: bold\">}</span>       <span style=\"color: #7f7f7f; text-decoration-color: #7f7f7f\">           </span>\n",
       "</pre>\n"
      ],
      "text/plain": [
       "\u001b[2;36m[09/30/22 19:20:02]\u001b[0m\u001b[2;36m \u001b[0m\u001b[34mINFO    \u001b[0m \u001b[1m{\u001b[0m\u001b[32m'eval_loss'\u001b[0m: \u001b[1;36m3.217250108718872\u001b[0m, \u001b[32m'eval_runtime'\u001b[0m:     \u001b]8;id=234053;file://C:\\Users\\Hedronstone\\Desktop\\miniGPT2\\operations\\train.py\u001b\\\u001b[2mtrain.py\u001b[0m\u001b]8;;\u001b\\\u001b[2m:\u001b[0m\u001b]8;id=146316;file://C:\\Users\\Hedronstone\\Desktop\\miniGPT2\\operations\\train.py#39\u001b\\\u001b[2m39\u001b[0m\u001b]8;;\u001b\\\n",
       "\u001b[2;36m                    \u001b[0m         \u001b[1;36m23.6908\u001b[0m, \u001b[32m'eval_samples_per_second'\u001b[0m: \u001b[1;36m137.522\u001b[0m,         \u001b[2m           \u001b[0m\n",
       "\u001b[2;36m                    \u001b[0m         \u001b[32m'eval_steps_per_second'\u001b[0m: \u001b[1;36m8.611\u001b[0m, \u001b[32m'epoch'\u001b[0m: \u001b[1;36m0.98\u001b[0m\u001b[1m}\u001b[0m       \u001b[2m           \u001b[0m\n"
      ]
     },
     "metadata": {},
     "output_type": "display_data"
    },
    {
     "data": {
      "text/html": [
       "<pre style=\"white-space:pre;overflow-x:auto;line-height:normal;font-family:Menlo,'DejaVu Sans Mono',consolas,'Courier New',monospace\"><span style=\"color: #7fbfbf; text-decoration-color: #7fbfbf\">                    </span><span style=\"color: #000080; text-decoration-color: #000080\">INFO    </span> <span style=\"color: #800080; text-decoration-color: #800080; font-weight: bold\">TrainerState</span><span style=\"font-weight: bold\">(</span><span style=\"color: #808000; text-decoration-color: #808000\">epoch</span>=<span style=\"color: #008080; text-decoration-color: #008080; font-weight: bold\">0.9815950920245399</span>,               <a href=\"file://C:\\Users\\Hedronstone\\Desktop\\miniGPT2\\operations\\train.py\" target=\"_blank\"><span style=\"color: #7f7f7f; text-decoration-color: #7f7f7f\">train.py</span></a><span style=\"color: #7f7f7f; text-decoration-color: #7f7f7f\">:</span><a href=\"file://C:\\Users\\Hedronstone\\Desktop\\miniGPT2\\operations\\train.py#41\" target=\"_blank\"><span style=\"color: #7f7f7f; text-decoration-color: #7f7f7f\">41</span></a>\n",
       "<span style=\"color: #7fbfbf; text-decoration-color: #7fbfbf\">                    </span>         <span style=\"color: #808000; text-decoration-color: #808000\">global_step</span>=<span style=\"color: #008080; text-decoration-color: #008080; font-weight: bold\">400</span>, <span style=\"color: #808000; text-decoration-color: #808000\">max_steps</span>=<span style=\"color: #008080; text-decoration-color: #008080; font-weight: bold\">2035</span>, <span style=\"color: #808000; text-decoration-color: #808000\">num_train_epochs</span>=<span style=\"color: #008080; text-decoration-color: #008080; font-weight: bold\">5</span>, <span style=\"color: #7f7f7f; text-decoration-color: #7f7f7f\">           </span>\n",
       "<span style=\"color: #7fbfbf; text-decoration-color: #7fbfbf\">                    </span>         <span style=\"color: #808000; text-decoration-color: #808000\">total_flos</span>=<span style=\"color: #008080; text-decoration-color: #008080; font-weight: bold\">1672269004800000.0</span>,                       <span style=\"color: #7f7f7f; text-decoration-color: #7f7f7f\">           </span>\n",
       "<span style=\"color: #7fbfbf; text-decoration-color: #7fbfbf\">                    </span>         <span style=\"color: #808000; text-decoration-color: #808000\">log_history</span>=<span style=\"font-weight: bold\">[{</span><span style=\"color: #008000; text-decoration-color: #008000\">'eval_loss'</span>: <span style=\"color: #008080; text-decoration-color: #008080; font-weight: bold\">3.2401208877563477</span>,       <span style=\"color: #7f7f7f; text-decoration-color: #7f7f7f\">           </span>\n",
       "<span style=\"color: #7fbfbf; text-decoration-color: #7fbfbf\">                    </span>         <span style=\"color: #008000; text-decoration-color: #008000\">'eval_runtime'</span>: <span style=\"color: #008080; text-decoration-color: #008080; font-weight: bold\">23.6545</span>, <span style=\"color: #008000; text-decoration-color: #008000\">'eval_samples_per_second'</span>:  <span style=\"color: #7f7f7f; text-decoration-color: #7f7f7f\">           </span>\n",
       "<span style=\"color: #7fbfbf; text-decoration-color: #7fbfbf\">                    </span>         <span style=\"color: #008080; text-decoration-color: #008080; font-weight: bold\">137.733</span>, <span style=\"color: #008000; text-decoration-color: #008000\">'eval_steps_per_second'</span>: <span style=\"color: #008080; text-decoration-color: #008080; font-weight: bold\">8.624</span>, <span style=\"color: #008000; text-decoration-color: #008000\">'epoch'</span>:    <span style=\"color: #7f7f7f; text-decoration-color: #7f7f7f\">           </span>\n",
       "<span style=\"color: #7fbfbf; text-decoration-color: #7fbfbf\">                    </span>         <span style=\"color: #008080; text-decoration-color: #008080; font-weight: bold\">0.49</span>, <span style=\"color: #008000; text-decoration-color: #008000\">'step'</span>: <span style=\"color: #008080; text-decoration-color: #008080; font-weight: bold\">200</span><span style=\"font-weight: bold\">}</span>, <span style=\"font-weight: bold\">{</span><span style=\"color: #008000; text-decoration-color: #008000\">'eval_loss'</span>: <span style=\"color: #008080; text-decoration-color: #008080; font-weight: bold\">3.217250108718872</span>, <span style=\"color: #7f7f7f; text-decoration-color: #7f7f7f\">           </span>\n",
       "<span style=\"color: #7fbfbf; text-decoration-color: #7fbfbf\">                    </span>         <span style=\"color: #008000; text-decoration-color: #008000\">'eval_runtime'</span>: <span style=\"color: #008080; text-decoration-color: #008080; font-weight: bold\">23.6908</span>, <span style=\"color: #008000; text-decoration-color: #008000\">'eval_samples_per_second'</span>:  <span style=\"color: #7f7f7f; text-decoration-color: #7f7f7f\">           </span>\n",
       "<span style=\"color: #7fbfbf; text-decoration-color: #7fbfbf\">                    </span>         <span style=\"color: #008080; text-decoration-color: #008080; font-weight: bold\">137.522</span>, <span style=\"color: #008000; text-decoration-color: #008000\">'eval_steps_per_second'</span>: <span style=\"color: #008080; text-decoration-color: #008080; font-weight: bold\">8.611</span>, <span style=\"color: #008000; text-decoration-color: #008000\">'epoch'</span>:    <span style=\"color: #7f7f7f; text-decoration-color: #7f7f7f\">           </span>\n",
       "<span style=\"color: #7fbfbf; text-decoration-color: #7fbfbf\">                    </span>         <span style=\"color: #008080; text-decoration-color: #008080; font-weight: bold\">0.98</span>, <span style=\"color: #008000; text-decoration-color: #008000\">'step'</span>: <span style=\"color: #008080; text-decoration-color: #008080; font-weight: bold\">400</span><span style=\"font-weight: bold\">}]</span>, <span style=\"color: #808000; text-decoration-color: #808000\">best_metric</span>=<span style=\"color: #800080; text-decoration-color: #800080; font-style: italic\">None</span>,               <span style=\"color: #7f7f7f; text-decoration-color: #7f7f7f\">           </span>\n",
       "<span style=\"color: #7fbfbf; text-decoration-color: #7fbfbf\">                    </span>         <span style=\"color: #808000; text-decoration-color: #808000\">best_model_checkpoint</span>=<span style=\"color: #800080; text-decoration-color: #800080; font-style: italic\">None</span>,                          <span style=\"color: #7f7f7f; text-decoration-color: #7f7f7f\">           </span>\n",
       "<span style=\"color: #7fbfbf; text-decoration-color: #7fbfbf\">                    </span>         <span style=\"color: #808000; text-decoration-color: #808000\">is_local_process_zero</span>=<span style=\"color: #00ff00; text-decoration-color: #00ff00; font-style: italic\">True</span>,                          <span style=\"color: #7f7f7f; text-decoration-color: #7f7f7f\">           </span>\n",
       "<span style=\"color: #7fbfbf; text-decoration-color: #7fbfbf\">                    </span>         <span style=\"color: #808000; text-decoration-color: #808000\">is_world_process_zero</span>=<span style=\"color: #00ff00; text-decoration-color: #00ff00; font-style: italic\">True</span>,                          <span style=\"color: #7f7f7f; text-decoration-color: #7f7f7f\">           </span>\n",
       "<span style=\"color: #7fbfbf; text-decoration-color: #7fbfbf\">                    </span>         <span style=\"color: #808000; text-decoration-color: #808000\">is_hyper_param_search</span>=<span style=\"color: #ff0000; text-decoration-color: #ff0000; font-style: italic\">False</span>, <span style=\"color: #808000; text-decoration-color: #808000\">trial_name</span>=<span style=\"color: #800080; text-decoration-color: #800080; font-style: italic\">None</span>,        <span style=\"color: #7f7f7f; text-decoration-color: #7f7f7f\">           </span>\n",
       "<span style=\"color: #7fbfbf; text-decoration-color: #7fbfbf\">                    </span>         <span style=\"color: #808000; text-decoration-color: #808000\">trial_params</span>=<span style=\"color: #800080; text-decoration-color: #800080; font-style: italic\">None</span><span style=\"font-weight: bold\">)</span>                                   <span style=\"color: #7f7f7f; text-decoration-color: #7f7f7f\">           </span>\n",
       "</pre>\n"
      ],
      "text/plain": [
       "\u001b[2;36m                   \u001b[0m\u001b[2;36m \u001b[0m\u001b[34mINFO    \u001b[0m \u001b[1;35mTrainerState\u001b[0m\u001b[1m(\u001b[0m\u001b[33mepoch\u001b[0m=\u001b[1;36m0\u001b[0m\u001b[1;36m.9815950920245399\u001b[0m,               \u001b]8;id=772246;file://C:\\Users\\Hedronstone\\Desktop\\miniGPT2\\operations\\train.py\u001b\\\u001b[2mtrain.py\u001b[0m\u001b]8;;\u001b\\\u001b[2m:\u001b[0m\u001b]8;id=107473;file://C:\\Users\\Hedronstone\\Desktop\\miniGPT2\\operations\\train.py#41\u001b\\\u001b[2m41\u001b[0m\u001b]8;;\u001b\\\n",
       "\u001b[2;36m                    \u001b[0m         \u001b[33mglobal_step\u001b[0m=\u001b[1;36m400\u001b[0m, \u001b[33mmax_steps\u001b[0m=\u001b[1;36m2035\u001b[0m, \u001b[33mnum_train_epochs\u001b[0m=\u001b[1;36m5\u001b[0m, \u001b[2m           \u001b[0m\n",
       "\u001b[2;36m                    \u001b[0m         \u001b[33mtotal_flos\u001b[0m=\u001b[1;36m1672269004800000\u001b[0m\u001b[1;36m.0\u001b[0m,                       \u001b[2m           \u001b[0m\n",
       "\u001b[2;36m                    \u001b[0m         \u001b[33mlog_history\u001b[0m=\u001b[1m[\u001b[0m\u001b[1m{\u001b[0m\u001b[32m'eval_loss'\u001b[0m: \u001b[1;36m3.2401208877563477\u001b[0m,       \u001b[2m           \u001b[0m\n",
       "\u001b[2;36m                    \u001b[0m         \u001b[32m'eval_runtime'\u001b[0m: \u001b[1;36m23.6545\u001b[0m, \u001b[32m'eval_samples_per_second'\u001b[0m:  \u001b[2m           \u001b[0m\n",
       "\u001b[2;36m                    \u001b[0m         \u001b[1;36m137.733\u001b[0m, \u001b[32m'eval_steps_per_second'\u001b[0m: \u001b[1;36m8.624\u001b[0m, \u001b[32m'epoch'\u001b[0m:    \u001b[2m           \u001b[0m\n",
       "\u001b[2;36m                    \u001b[0m         \u001b[1;36m0.49\u001b[0m, \u001b[32m'step'\u001b[0m: \u001b[1;36m200\u001b[0m\u001b[1m}\u001b[0m, \u001b[1m{\u001b[0m\u001b[32m'eval_loss'\u001b[0m: \u001b[1;36m3.217250108718872\u001b[0m, \u001b[2m           \u001b[0m\n",
       "\u001b[2;36m                    \u001b[0m         \u001b[32m'eval_runtime'\u001b[0m: \u001b[1;36m23.6908\u001b[0m, \u001b[32m'eval_samples_per_second'\u001b[0m:  \u001b[2m           \u001b[0m\n",
       "\u001b[2;36m                    \u001b[0m         \u001b[1;36m137.522\u001b[0m, \u001b[32m'eval_steps_per_second'\u001b[0m: \u001b[1;36m8.611\u001b[0m, \u001b[32m'epoch'\u001b[0m:    \u001b[2m           \u001b[0m\n",
       "\u001b[2;36m                    \u001b[0m         \u001b[1;36m0.98\u001b[0m, \u001b[32m'step'\u001b[0m: \u001b[1;36m400\u001b[0m\u001b[1m}\u001b[0m\u001b[1m]\u001b[0m, \u001b[33mbest_metric\u001b[0m=\u001b[3;35mNone\u001b[0m,               \u001b[2m           \u001b[0m\n",
       "\u001b[2;36m                    \u001b[0m         \u001b[33mbest_model_checkpoint\u001b[0m=\u001b[3;35mNone\u001b[0m,                          \u001b[2m           \u001b[0m\n",
       "\u001b[2;36m                    \u001b[0m         \u001b[33mis_local_process_zero\u001b[0m=\u001b[3;92mTrue\u001b[0m,                          \u001b[2m           \u001b[0m\n",
       "\u001b[2;36m                    \u001b[0m         \u001b[33mis_world_process_zero\u001b[0m=\u001b[3;92mTrue\u001b[0m,                          \u001b[2m           \u001b[0m\n",
       "\u001b[2;36m                    \u001b[0m         \u001b[33mis_hyper_param_search\u001b[0m=\u001b[3;91mFalse\u001b[0m, \u001b[33mtrial_name\u001b[0m=\u001b[3;35mNone\u001b[0m,        \u001b[2m           \u001b[0m\n",
       "\u001b[2;36m                    \u001b[0m         \u001b[33mtrial_params\u001b[0m=\u001b[3;35mNone\u001b[0m\u001b[1m)\u001b[0m                                   \u001b[2m           \u001b[0m\n"
      ]
     },
     "metadata": {},
     "output_type": "display_data"
    },
    {
     "name": "stdout",
     "output_type": "stream",
     "text": [
      "{'eval_loss': 3.217250108718872, 'eval_runtime': 23.6908, 'eval_samples_per_second': 137.522, 'eval_steps_per_second': 8.611, 'epoch': 0.98}\n"
     ]
    },
    {
     "name": "stderr",
     "output_type": "stream",
     "text": [
      "Saving model checkpoint to artifacts\\checkpoint-400\n",
      "Configuration saved in artifacts\\checkpoint-400\\config.json\n",
      "Model weights saved in artifacts\\checkpoint-400\\pytorch_model.bin\n",
      "tokenizer config file saved in artifacts\\checkpoint-400\\tokenizer_config.json\n",
      "Special tokens file saved in artifacts\\checkpoint-400\\special_tokens_map.json\n"
     ]
    },
    {
     "data": {
      "text/html": [
       "<pre style=\"white-space:pre;overflow-x:auto;line-height:normal;font-family:Menlo,'DejaVu Sans Mono',consolas,'Courier New',monospace\"><span style=\"color: #7fbfbf; text-decoration-color: #7fbfbf\">[09/30/22 19:20:14] </span><span style=\"color: #000080; text-decoration-color: #000080\">INFO    </span> <span style=\"font-weight: bold\">{</span><span style=\"color: #008000; text-decoration-color: #008000\">'loss'</span>: <span style=\"color: #008080; text-decoration-color: #008080; font-weight: bold\">3.2845</span>, <span style=\"color: #008000; text-decoration-color: #008000\">'learning_rate'</span>:                    <a href=\"file://C:\\Users\\Hedronstone\\Desktop\\miniGPT2\\operations\\train.py\" target=\"_blank\"><span style=\"color: #7f7f7f; text-decoration-color: #7f7f7f\">train.py</span></a><span style=\"color: #7f7f7f; text-decoration-color: #7f7f7f\">:</span><a href=\"file://C:\\Users\\Hedronstone\\Desktop\\miniGPT2\\operations\\train.py#39\" target=\"_blank\"><span style=\"color: #7f7f7f; text-decoration-color: #7f7f7f\">39</span></a>\n",
       "<span style=\"color: #7fbfbf; text-decoration-color: #7fbfbf\">                    </span>         <span style=\"color: #008080; text-decoration-color: #008080; font-weight: bold\">0.0004540624090114981</span>, <span style=\"color: #008000; text-decoration-color: #008000\">'epoch'</span>: <span style=\"color: #008080; text-decoration-color: #008080; font-weight: bold\">1.0</span><span style=\"font-weight: bold\">}</span>                 <span style=\"color: #7f7f7f; text-decoration-color: #7f7f7f\">           </span>\n",
       "</pre>\n"
      ],
      "text/plain": [
       "\u001b[2;36m[09/30/22 19:20:14]\u001b[0m\u001b[2;36m \u001b[0m\u001b[34mINFO    \u001b[0m \u001b[1m{\u001b[0m\u001b[32m'loss'\u001b[0m: \u001b[1;36m3.2845\u001b[0m, \u001b[32m'learning_rate'\u001b[0m:                    \u001b]8;id=709570;file://C:\\Users\\Hedronstone\\Desktop\\miniGPT2\\operations\\train.py\u001b\\\u001b[2mtrain.py\u001b[0m\u001b]8;;\u001b\\\u001b[2m:\u001b[0m\u001b]8;id=776646;file://C:\\Users\\Hedronstone\\Desktop\\miniGPT2\\operations\\train.py#39\u001b\\\u001b[2m39\u001b[0m\u001b]8;;\u001b\\\n",
       "\u001b[2;36m                    \u001b[0m         \u001b[1;36m0.0004540624090114981\u001b[0m, \u001b[32m'epoch'\u001b[0m: \u001b[1;36m1.0\u001b[0m\u001b[1m}\u001b[0m                 \u001b[2m           \u001b[0m\n"
      ]
     },
     "metadata": {},
     "output_type": "display_data"
    },
    {
     "data": {
      "text/html": [
       "<pre style=\"white-space:pre;overflow-x:auto;line-height:normal;font-family:Menlo,'DejaVu Sans Mono',consolas,'Courier New',monospace\"><span style=\"color: #7fbfbf; text-decoration-color: #7fbfbf\">                    </span><span style=\"color: #000080; text-decoration-color: #000080\">INFO    </span> <span style=\"color: #800080; text-decoration-color: #800080; font-weight: bold\">TrainerState</span><span style=\"font-weight: bold\">(</span><span style=\"color: #808000; text-decoration-color: #808000\">epoch</span>=<span style=\"color: #008080; text-decoration-color: #008080; font-weight: bold\">0.9987730061349693</span>,               <a href=\"file://C:\\Users\\Hedronstone\\Desktop\\miniGPT2\\operations\\train.py\" target=\"_blank\"><span style=\"color: #7f7f7f; text-decoration-color: #7f7f7f\">train.py</span></a><span style=\"color: #7f7f7f; text-decoration-color: #7f7f7f\">:</span><a href=\"file://C:\\Users\\Hedronstone\\Desktop\\miniGPT2\\operations\\train.py#41\" target=\"_blank\"><span style=\"color: #7f7f7f; text-decoration-color: #7f7f7f\">41</span></a>\n",
       "<span style=\"color: #7fbfbf; text-decoration-color: #7fbfbf\">                    </span>         <span style=\"color: #808000; text-decoration-color: #808000\">global_step</span>=<span style=\"color: #008080; text-decoration-color: #008080; font-weight: bold\">407</span>, <span style=\"color: #808000; text-decoration-color: #808000\">max_steps</span>=<span style=\"color: #008080; text-decoration-color: #008080; font-weight: bold\">2035</span>, <span style=\"color: #808000; text-decoration-color: #808000\">num_train_epochs</span>=<span style=\"color: #008080; text-decoration-color: #008080; font-weight: bold\">5</span>, <span style=\"color: #7f7f7f; text-decoration-color: #7f7f7f\">           </span>\n",
       "<span style=\"color: #7fbfbf; text-decoration-color: #7fbfbf\">                    </span>         <span style=\"color: #808000; text-decoration-color: #808000\">total_flos</span>=<span style=\"color: #008080; text-decoration-color: #008080; font-weight: bold\">3405419053056000.0</span>,                       <span style=\"color: #7f7f7f; text-decoration-color: #7f7f7f\">           </span>\n",
       "<span style=\"color: #7fbfbf; text-decoration-color: #7fbfbf\">                    </span>         <span style=\"color: #808000; text-decoration-color: #808000\">log_history</span>=<span style=\"font-weight: bold\">[{</span><span style=\"color: #008000; text-decoration-color: #008000\">'eval_loss'</span>: <span style=\"color: #008080; text-decoration-color: #008080; font-weight: bold\">3.2401208877563477</span>,       <span style=\"color: #7f7f7f; text-decoration-color: #7f7f7f\">           </span>\n",
       "<span style=\"color: #7fbfbf; text-decoration-color: #7fbfbf\">                    </span>         <span style=\"color: #008000; text-decoration-color: #008000\">'eval_runtime'</span>: <span style=\"color: #008080; text-decoration-color: #008080; font-weight: bold\">23.6545</span>, <span style=\"color: #008000; text-decoration-color: #008000\">'eval_samples_per_second'</span>:  <span style=\"color: #7f7f7f; text-decoration-color: #7f7f7f\">           </span>\n",
       "<span style=\"color: #7fbfbf; text-decoration-color: #7fbfbf\">                    </span>         <span style=\"color: #008080; text-decoration-color: #008080; font-weight: bold\">137.733</span>, <span style=\"color: #008000; text-decoration-color: #008000\">'eval_steps_per_second'</span>: <span style=\"color: #008080; text-decoration-color: #008080; font-weight: bold\">8.624</span>, <span style=\"color: #008000; text-decoration-color: #008000\">'epoch'</span>:    <span style=\"color: #7f7f7f; text-decoration-color: #7f7f7f\">           </span>\n",
       "<span style=\"color: #7fbfbf; text-decoration-color: #7fbfbf\">                    </span>         <span style=\"color: #008080; text-decoration-color: #008080; font-weight: bold\">0.49</span>, <span style=\"color: #008000; text-decoration-color: #008000\">'step'</span>: <span style=\"color: #008080; text-decoration-color: #008080; font-weight: bold\">200</span><span style=\"font-weight: bold\">}</span>, <span style=\"font-weight: bold\">{</span><span style=\"color: #008000; text-decoration-color: #008000\">'eval_loss'</span>: <span style=\"color: #008080; text-decoration-color: #008080; font-weight: bold\">3.217250108718872</span>, <span style=\"color: #7f7f7f; text-decoration-color: #7f7f7f\">           </span>\n",
       "<span style=\"color: #7fbfbf; text-decoration-color: #7fbfbf\">                    </span>         <span style=\"color: #008000; text-decoration-color: #008000\">'eval_runtime'</span>: <span style=\"color: #008080; text-decoration-color: #008080; font-weight: bold\">23.6908</span>, <span style=\"color: #008000; text-decoration-color: #008000\">'eval_samples_per_second'</span>:  <span style=\"color: #7f7f7f; text-decoration-color: #7f7f7f\">           </span>\n",
       "<span style=\"color: #7fbfbf; text-decoration-color: #7fbfbf\">                    </span>         <span style=\"color: #008080; text-decoration-color: #008080; font-weight: bold\">137.522</span>, <span style=\"color: #008000; text-decoration-color: #008000\">'eval_steps_per_second'</span>: <span style=\"color: #008080; text-decoration-color: #008080; font-weight: bold\">8.611</span>, <span style=\"color: #008000; text-decoration-color: #008000\">'epoch'</span>:    <span style=\"color: #7f7f7f; text-decoration-color: #7f7f7f\">           </span>\n",
       "<span style=\"color: #7fbfbf; text-decoration-color: #7fbfbf\">                    </span>         <span style=\"color: #008080; text-decoration-color: #008080; font-weight: bold\">0.98</span>, <span style=\"color: #008000; text-decoration-color: #008000\">'step'</span>: <span style=\"color: #008080; text-decoration-color: #008080; font-weight: bold\">400</span><span style=\"font-weight: bold\">}</span>, <span style=\"font-weight: bold\">{</span><span style=\"color: #008000; text-decoration-color: #008000\">'loss'</span>: <span style=\"color: #008080; text-decoration-color: #008080; font-weight: bold\">3.2845</span>,                 <span style=\"color: #7f7f7f; text-decoration-color: #7f7f7f\">           </span>\n",
       "<span style=\"color: #7fbfbf; text-decoration-color: #7fbfbf\">                    </span>         <span style=\"color: #008000; text-decoration-color: #008000\">'learning_rate'</span>: <span style=\"color: #008080; text-decoration-color: #008080; font-weight: bold\">0.0004540624090114981</span>, <span style=\"color: #008000; text-decoration-color: #008000\">'epoch'</span>:     <span style=\"color: #7f7f7f; text-decoration-color: #7f7f7f\">           </span>\n",
       "<span style=\"color: #7fbfbf; text-decoration-color: #7fbfbf\">                    </span>         <span style=\"color: #008080; text-decoration-color: #008080; font-weight: bold\">1.0</span>, <span style=\"color: #008000; text-decoration-color: #008000\">'step'</span>: <span style=\"color: #008080; text-decoration-color: #008080; font-weight: bold\">407</span><span style=\"font-weight: bold\">}]</span>, <span style=\"color: #808000; text-decoration-color: #808000\">best_metric</span>=<span style=\"color: #800080; text-decoration-color: #800080; font-style: italic\">None</span>,                <span style=\"color: #7f7f7f; text-decoration-color: #7f7f7f\">           </span>\n",
       "<span style=\"color: #7fbfbf; text-decoration-color: #7fbfbf\">                    </span>         <span style=\"color: #808000; text-decoration-color: #808000\">best_model_checkpoint</span>=<span style=\"color: #800080; text-decoration-color: #800080; font-style: italic\">None</span>,                          <span style=\"color: #7f7f7f; text-decoration-color: #7f7f7f\">           </span>\n",
       "<span style=\"color: #7fbfbf; text-decoration-color: #7fbfbf\">                    </span>         <span style=\"color: #808000; text-decoration-color: #808000\">is_local_process_zero</span>=<span style=\"color: #00ff00; text-decoration-color: #00ff00; font-style: italic\">True</span>,                          <span style=\"color: #7f7f7f; text-decoration-color: #7f7f7f\">           </span>\n",
       "<span style=\"color: #7fbfbf; text-decoration-color: #7fbfbf\">                    </span>         <span style=\"color: #808000; text-decoration-color: #808000\">is_world_process_zero</span>=<span style=\"color: #00ff00; text-decoration-color: #00ff00; font-style: italic\">True</span>,                          <span style=\"color: #7f7f7f; text-decoration-color: #7f7f7f\">           </span>\n",
       "<span style=\"color: #7fbfbf; text-decoration-color: #7fbfbf\">                    </span>         <span style=\"color: #808000; text-decoration-color: #808000\">is_hyper_param_search</span>=<span style=\"color: #ff0000; text-decoration-color: #ff0000; font-style: italic\">False</span>, <span style=\"color: #808000; text-decoration-color: #808000\">trial_name</span>=<span style=\"color: #800080; text-decoration-color: #800080; font-style: italic\">None</span>,        <span style=\"color: #7f7f7f; text-decoration-color: #7f7f7f\">           </span>\n",
       "<span style=\"color: #7fbfbf; text-decoration-color: #7fbfbf\">                    </span>         <span style=\"color: #808000; text-decoration-color: #808000\">trial_params</span>=<span style=\"color: #800080; text-decoration-color: #800080; font-style: italic\">None</span><span style=\"font-weight: bold\">)</span>                                   <span style=\"color: #7f7f7f; text-decoration-color: #7f7f7f\">           </span>\n",
       "</pre>\n"
      ],
      "text/plain": [
       "\u001b[2;36m                   \u001b[0m\u001b[2;36m \u001b[0m\u001b[34mINFO    \u001b[0m \u001b[1;35mTrainerState\u001b[0m\u001b[1m(\u001b[0m\u001b[33mepoch\u001b[0m=\u001b[1;36m0\u001b[0m\u001b[1;36m.9987730061349693\u001b[0m,               \u001b]8;id=935518;file://C:\\Users\\Hedronstone\\Desktop\\miniGPT2\\operations\\train.py\u001b\\\u001b[2mtrain.py\u001b[0m\u001b]8;;\u001b\\\u001b[2m:\u001b[0m\u001b]8;id=571858;file://C:\\Users\\Hedronstone\\Desktop\\miniGPT2\\operations\\train.py#41\u001b\\\u001b[2m41\u001b[0m\u001b]8;;\u001b\\\n",
       "\u001b[2;36m                    \u001b[0m         \u001b[33mglobal_step\u001b[0m=\u001b[1;36m407\u001b[0m, \u001b[33mmax_steps\u001b[0m=\u001b[1;36m2035\u001b[0m, \u001b[33mnum_train_epochs\u001b[0m=\u001b[1;36m5\u001b[0m, \u001b[2m           \u001b[0m\n",
       "\u001b[2;36m                    \u001b[0m         \u001b[33mtotal_flos\u001b[0m=\u001b[1;36m3405419053056000\u001b[0m\u001b[1;36m.0\u001b[0m,                       \u001b[2m           \u001b[0m\n",
       "\u001b[2;36m                    \u001b[0m         \u001b[33mlog_history\u001b[0m=\u001b[1m[\u001b[0m\u001b[1m{\u001b[0m\u001b[32m'eval_loss'\u001b[0m: \u001b[1;36m3.2401208877563477\u001b[0m,       \u001b[2m           \u001b[0m\n",
       "\u001b[2;36m                    \u001b[0m         \u001b[32m'eval_runtime'\u001b[0m: \u001b[1;36m23.6545\u001b[0m, \u001b[32m'eval_samples_per_second'\u001b[0m:  \u001b[2m           \u001b[0m\n",
       "\u001b[2;36m                    \u001b[0m         \u001b[1;36m137.733\u001b[0m, \u001b[32m'eval_steps_per_second'\u001b[0m: \u001b[1;36m8.624\u001b[0m, \u001b[32m'epoch'\u001b[0m:    \u001b[2m           \u001b[0m\n",
       "\u001b[2;36m                    \u001b[0m         \u001b[1;36m0.49\u001b[0m, \u001b[32m'step'\u001b[0m: \u001b[1;36m200\u001b[0m\u001b[1m}\u001b[0m, \u001b[1m{\u001b[0m\u001b[32m'eval_loss'\u001b[0m: \u001b[1;36m3.217250108718872\u001b[0m, \u001b[2m           \u001b[0m\n",
       "\u001b[2;36m                    \u001b[0m         \u001b[32m'eval_runtime'\u001b[0m: \u001b[1;36m23.6908\u001b[0m, \u001b[32m'eval_samples_per_second'\u001b[0m:  \u001b[2m           \u001b[0m\n",
       "\u001b[2;36m                    \u001b[0m         \u001b[1;36m137.522\u001b[0m, \u001b[32m'eval_steps_per_second'\u001b[0m: \u001b[1;36m8.611\u001b[0m, \u001b[32m'epoch'\u001b[0m:    \u001b[2m           \u001b[0m\n",
       "\u001b[2;36m                    \u001b[0m         \u001b[1;36m0.98\u001b[0m, \u001b[32m'step'\u001b[0m: \u001b[1;36m400\u001b[0m\u001b[1m}\u001b[0m, \u001b[1m{\u001b[0m\u001b[32m'loss'\u001b[0m: \u001b[1;36m3.2845\u001b[0m,                 \u001b[2m           \u001b[0m\n",
       "\u001b[2;36m                    \u001b[0m         \u001b[32m'learning_rate'\u001b[0m: \u001b[1;36m0.0004540624090114981\u001b[0m, \u001b[32m'epoch'\u001b[0m:     \u001b[2m           \u001b[0m\n",
       "\u001b[2;36m                    \u001b[0m         \u001b[1;36m1.0\u001b[0m, \u001b[32m'step'\u001b[0m: \u001b[1;36m407\u001b[0m\u001b[1m}\u001b[0m\u001b[1m]\u001b[0m, \u001b[33mbest_metric\u001b[0m=\u001b[3;35mNone\u001b[0m,                \u001b[2m           \u001b[0m\n",
       "\u001b[2;36m                    \u001b[0m         \u001b[33mbest_model_checkpoint\u001b[0m=\u001b[3;35mNone\u001b[0m,                          \u001b[2m           \u001b[0m\n",
       "\u001b[2;36m                    \u001b[0m         \u001b[33mis_local_process_zero\u001b[0m=\u001b[3;92mTrue\u001b[0m,                          \u001b[2m           \u001b[0m\n",
       "\u001b[2;36m                    \u001b[0m         \u001b[33mis_world_process_zero\u001b[0m=\u001b[3;92mTrue\u001b[0m,                          \u001b[2m           \u001b[0m\n",
       "\u001b[2;36m                    \u001b[0m         \u001b[33mis_hyper_param_search\u001b[0m=\u001b[3;91mFalse\u001b[0m, \u001b[33mtrial_name\u001b[0m=\u001b[3;35mNone\u001b[0m,        \u001b[2m           \u001b[0m\n",
       "\u001b[2;36m                    \u001b[0m         \u001b[33mtrial_params\u001b[0m=\u001b[3;35mNone\u001b[0m\u001b[1m)\u001b[0m                                   \u001b[2m           \u001b[0m\n"
      ]
     },
     "metadata": {},
     "output_type": "display_data"
    },
    {
     "name": "stdout",
     "output_type": "stream",
     "text": [
      "{'loss': 3.2845, 'learning_rate': 0.0004540624090114981, 'epoch': 1.0}\n"
     ]
    },
    {
     "name": "stderr",
     "output_type": "stream",
     "text": [
      "***** Running Evaluation *****\n",
      "  Num examples = 3258\n",
      "  Batch size = 16\n"
     ]
    },
    {
     "data": {
      "application/vnd.jupyter.widget-view+json": {
       "model_id": "",
       "version_major": 2,
       "version_minor": 0
      },
      "text/plain": [
       "  0%|          | 0/204 [00:00<?, ?it/s]"
      ]
     },
     "metadata": {},
     "output_type": "display_data"
    },
    {
     "data": {
      "text/html": [
       "<pre style=\"white-space:pre;overflow-x:auto;line-height:normal;font-family:Menlo,'DejaVu Sans Mono',consolas,'Courier New',monospace\"><span style=\"color: #7fbfbf; text-decoration-color: #7fbfbf\">[09/30/22 19:24:47] </span><span style=\"color: #000080; text-decoration-color: #000080\">INFO    </span> <span style=\"font-weight: bold\">{</span><span style=\"color: #008000; text-decoration-color: #008000\">'eval_loss'</span>: <span style=\"color: #008080; text-decoration-color: #008080; font-weight: bold\">3.223500967025757</span>, <span style=\"color: #008000; text-decoration-color: #008000\">'eval_runtime'</span>:     <a href=\"file://C:\\Users\\Hedronstone\\Desktop\\miniGPT2\\operations\\train.py\" target=\"_blank\"><span style=\"color: #7f7f7f; text-decoration-color: #7f7f7f\">train.py</span></a><span style=\"color: #7f7f7f; text-decoration-color: #7f7f7f\">:</span><a href=\"file://C:\\Users\\Hedronstone\\Desktop\\miniGPT2\\operations\\train.py#39\" target=\"_blank\"><span style=\"color: #7f7f7f; text-decoration-color: #7f7f7f\">39</span></a>\n",
       "<span style=\"color: #7fbfbf; text-decoration-color: #7fbfbf\">                    </span>         <span style=\"color: #008080; text-decoration-color: #008080; font-weight: bold\">23.6332</span>, <span style=\"color: #008000; text-decoration-color: #008000\">'eval_samples_per_second'</span>: <span style=\"color: #008080; text-decoration-color: #008080; font-weight: bold\">137.857</span>,         <span style=\"color: #7f7f7f; text-decoration-color: #7f7f7f\">           </span>\n",
       "<span style=\"color: #7fbfbf; text-decoration-color: #7fbfbf\">                    </span>         <span style=\"color: #008000; text-decoration-color: #008000\">'eval_steps_per_second'</span>: <span style=\"color: #008080; text-decoration-color: #008080; font-weight: bold\">8.632</span>, <span style=\"color: #008000; text-decoration-color: #008000\">'epoch'</span>: <span style=\"color: #008080; text-decoration-color: #008080; font-weight: bold\">1.47</span><span style=\"font-weight: bold\">}</span>       <span style=\"color: #7f7f7f; text-decoration-color: #7f7f7f\">           </span>\n",
       "</pre>\n"
      ],
      "text/plain": [
       "\u001b[2;36m[09/30/22 19:24:47]\u001b[0m\u001b[2;36m \u001b[0m\u001b[34mINFO    \u001b[0m \u001b[1m{\u001b[0m\u001b[32m'eval_loss'\u001b[0m: \u001b[1;36m3.223500967025757\u001b[0m, \u001b[32m'eval_runtime'\u001b[0m:     \u001b]8;id=91161;file://C:\\Users\\Hedronstone\\Desktop\\miniGPT2\\operations\\train.py\u001b\\\u001b[2mtrain.py\u001b[0m\u001b]8;;\u001b\\\u001b[2m:\u001b[0m\u001b]8;id=619176;file://C:\\Users\\Hedronstone\\Desktop\\miniGPT2\\operations\\train.py#39\u001b\\\u001b[2m39\u001b[0m\u001b]8;;\u001b\\\n",
       "\u001b[2;36m                    \u001b[0m         \u001b[1;36m23.6332\u001b[0m, \u001b[32m'eval_samples_per_second'\u001b[0m: \u001b[1;36m137.857\u001b[0m,         \u001b[2m           \u001b[0m\n",
       "\u001b[2;36m                    \u001b[0m         \u001b[32m'eval_steps_per_second'\u001b[0m: \u001b[1;36m8.632\u001b[0m, \u001b[32m'epoch'\u001b[0m: \u001b[1;36m1.47\u001b[0m\u001b[1m}\u001b[0m       \u001b[2m           \u001b[0m\n"
      ]
     },
     "metadata": {},
     "output_type": "display_data"
    },
    {
     "data": {
      "text/html": [
       "<pre style=\"white-space:pre;overflow-x:auto;line-height:normal;font-family:Menlo,'DejaVu Sans Mono',consolas,'Courier New',monospace\"><span style=\"color: #7fbfbf; text-decoration-color: #7fbfbf\">                    </span><span style=\"color: #000080; text-decoration-color: #000080\">INFO    </span> <span style=\"color: #800080; text-decoration-color: #800080; font-weight: bold\">TrainerState</span><span style=\"font-weight: bold\">(</span><span style=\"color: #808000; text-decoration-color: #808000\">epoch</span>=<span style=\"color: #008080; text-decoration-color: #008080; font-weight: bold\">1.4736196319018404</span>,               <a href=\"file://C:\\Users\\Hedronstone\\Desktop\\miniGPT2\\operations\\train.py\" target=\"_blank\"><span style=\"color: #7f7f7f; text-decoration-color: #7f7f7f\">train.py</span></a><span style=\"color: #7f7f7f; text-decoration-color: #7f7f7f\">:</span><a href=\"file://C:\\Users\\Hedronstone\\Desktop\\miniGPT2\\operations\\train.py#41\" target=\"_blank\"><span style=\"color: #7f7f7f; text-decoration-color: #7f7f7f\">41</span></a>\n",
       "<span style=\"color: #7fbfbf; text-decoration-color: #7fbfbf\">                    </span>         <span style=\"color: #808000; text-decoration-color: #808000\">global_step</span>=<span style=\"color: #008080; text-decoration-color: #008080; font-weight: bold\">600</span>, <span style=\"color: #808000; text-decoration-color: #808000\">max_steps</span>=<span style=\"color: #008080; text-decoration-color: #008080; font-weight: bold\">2035</span>, <span style=\"color: #808000; text-decoration-color: #808000\">num_train_epochs</span>=<span style=\"color: #008080; text-decoration-color: #008080; font-weight: bold\">5</span>, <span style=\"color: #7f7f7f; text-decoration-color: #7f7f7f\">           </span>\n",
       "<span style=\"color: #7fbfbf; text-decoration-color: #7fbfbf\">                    </span>         <span style=\"color: #808000; text-decoration-color: #808000\">total_flos</span>=<span style=\"color: #008080; text-decoration-color: #008080; font-weight: bold\">3405419053056000.0</span>,                       <span style=\"color: #7f7f7f; text-decoration-color: #7f7f7f\">           </span>\n",
       "<span style=\"color: #7fbfbf; text-decoration-color: #7fbfbf\">                    </span>         <span style=\"color: #808000; text-decoration-color: #808000\">log_history</span>=<span style=\"font-weight: bold\">[{</span><span style=\"color: #008000; text-decoration-color: #008000\">'eval_loss'</span>: <span style=\"color: #008080; text-decoration-color: #008080; font-weight: bold\">3.2401208877563477</span>,       <span style=\"color: #7f7f7f; text-decoration-color: #7f7f7f\">           </span>\n",
       "<span style=\"color: #7fbfbf; text-decoration-color: #7fbfbf\">                    </span>         <span style=\"color: #008000; text-decoration-color: #008000\">'eval_runtime'</span>: <span style=\"color: #008080; text-decoration-color: #008080; font-weight: bold\">23.6545</span>, <span style=\"color: #008000; text-decoration-color: #008000\">'eval_samples_per_second'</span>:  <span style=\"color: #7f7f7f; text-decoration-color: #7f7f7f\">           </span>\n",
       "<span style=\"color: #7fbfbf; text-decoration-color: #7fbfbf\">                    </span>         <span style=\"color: #008080; text-decoration-color: #008080; font-weight: bold\">137.733</span>, <span style=\"color: #008000; text-decoration-color: #008000\">'eval_steps_per_second'</span>: <span style=\"color: #008080; text-decoration-color: #008080; font-weight: bold\">8.624</span>, <span style=\"color: #008000; text-decoration-color: #008000\">'epoch'</span>:    <span style=\"color: #7f7f7f; text-decoration-color: #7f7f7f\">           </span>\n",
       "<span style=\"color: #7fbfbf; text-decoration-color: #7fbfbf\">                    </span>         <span style=\"color: #008080; text-decoration-color: #008080; font-weight: bold\">0.49</span>, <span style=\"color: #008000; text-decoration-color: #008000\">'step'</span>: <span style=\"color: #008080; text-decoration-color: #008080; font-weight: bold\">200</span><span style=\"font-weight: bold\">}</span>, <span style=\"font-weight: bold\">{</span><span style=\"color: #008000; text-decoration-color: #008000\">'eval_loss'</span>: <span style=\"color: #008080; text-decoration-color: #008080; font-weight: bold\">3.217250108718872</span>, <span style=\"color: #7f7f7f; text-decoration-color: #7f7f7f\">           </span>\n",
       "<span style=\"color: #7fbfbf; text-decoration-color: #7fbfbf\">                    </span>         <span style=\"color: #008000; text-decoration-color: #008000\">'eval_runtime'</span>: <span style=\"color: #008080; text-decoration-color: #008080; font-weight: bold\">23.6908</span>, <span style=\"color: #008000; text-decoration-color: #008000\">'eval_samples_per_second'</span>:  <span style=\"color: #7f7f7f; text-decoration-color: #7f7f7f\">           </span>\n",
       "<span style=\"color: #7fbfbf; text-decoration-color: #7fbfbf\">                    </span>         <span style=\"color: #008080; text-decoration-color: #008080; font-weight: bold\">137.522</span>, <span style=\"color: #008000; text-decoration-color: #008000\">'eval_steps_per_second'</span>: <span style=\"color: #008080; text-decoration-color: #008080; font-weight: bold\">8.611</span>, <span style=\"color: #008000; text-decoration-color: #008000\">'epoch'</span>:    <span style=\"color: #7f7f7f; text-decoration-color: #7f7f7f\">           </span>\n",
       "<span style=\"color: #7fbfbf; text-decoration-color: #7fbfbf\">                    </span>         <span style=\"color: #008080; text-decoration-color: #008080; font-weight: bold\">0.98</span>, <span style=\"color: #008000; text-decoration-color: #008000\">'step'</span>: <span style=\"color: #008080; text-decoration-color: #008080; font-weight: bold\">400</span><span style=\"font-weight: bold\">}</span>, <span style=\"font-weight: bold\">{</span><span style=\"color: #008000; text-decoration-color: #008000\">'loss'</span>: <span style=\"color: #008080; text-decoration-color: #008080; font-weight: bold\">3.2845</span>,                 <span style=\"color: #7f7f7f; text-decoration-color: #7f7f7f\">           </span>\n",
       "<span style=\"color: #7fbfbf; text-decoration-color: #7fbfbf\">                    </span>         <span style=\"color: #008000; text-decoration-color: #008000\">'learning_rate'</span>: <span style=\"color: #008080; text-decoration-color: #008080; font-weight: bold\">0.0004540624090114981</span>, <span style=\"color: #008000; text-decoration-color: #008000\">'epoch'</span>:     <span style=\"color: #7f7f7f; text-decoration-color: #7f7f7f\">           </span>\n",
       "<span style=\"color: #7fbfbf; text-decoration-color: #7fbfbf\">                    </span>         <span style=\"color: #008080; text-decoration-color: #008080; font-weight: bold\">1.0</span>, <span style=\"color: #008000; text-decoration-color: #008000\">'step'</span>: <span style=\"color: #008080; text-decoration-color: #008080; font-weight: bold\">407</span><span style=\"font-weight: bold\">}</span>, <span style=\"font-weight: bold\">{</span><span style=\"color: #008000; text-decoration-color: #008000\">'eval_loss'</span>: <span style=\"color: #008080; text-decoration-color: #008080; font-weight: bold\">3.223500967025757</span>,  <span style=\"color: #7f7f7f; text-decoration-color: #7f7f7f\">           </span>\n",
       "<span style=\"color: #7fbfbf; text-decoration-color: #7fbfbf\">                    </span>         <span style=\"color: #008000; text-decoration-color: #008000\">'eval_runtime'</span>: <span style=\"color: #008080; text-decoration-color: #008080; font-weight: bold\">23.6332</span>, <span style=\"color: #008000; text-decoration-color: #008000\">'eval_samples_per_second'</span>:  <span style=\"color: #7f7f7f; text-decoration-color: #7f7f7f\">           </span>\n",
       "<span style=\"color: #7fbfbf; text-decoration-color: #7fbfbf\">                    </span>         <span style=\"color: #008080; text-decoration-color: #008080; font-weight: bold\">137.857</span>, <span style=\"color: #008000; text-decoration-color: #008000\">'eval_steps_per_second'</span>: <span style=\"color: #008080; text-decoration-color: #008080; font-weight: bold\">8.632</span>, <span style=\"color: #008000; text-decoration-color: #008000\">'epoch'</span>:    <span style=\"color: #7f7f7f; text-decoration-color: #7f7f7f\">           </span>\n",
       "<span style=\"color: #7fbfbf; text-decoration-color: #7fbfbf\">                    </span>         <span style=\"color: #008080; text-decoration-color: #008080; font-weight: bold\">1.47</span>, <span style=\"color: #008000; text-decoration-color: #008000\">'step'</span>: <span style=\"color: #008080; text-decoration-color: #008080; font-weight: bold\">600</span><span style=\"font-weight: bold\">}]</span>, <span style=\"color: #808000; text-decoration-color: #808000\">best_metric</span>=<span style=\"color: #800080; text-decoration-color: #800080; font-style: italic\">None</span>,               <span style=\"color: #7f7f7f; text-decoration-color: #7f7f7f\">           </span>\n",
       "<span style=\"color: #7fbfbf; text-decoration-color: #7fbfbf\">                    </span>         <span style=\"color: #808000; text-decoration-color: #808000\">best_model_checkpoint</span>=<span style=\"color: #800080; text-decoration-color: #800080; font-style: italic\">None</span>,                          <span style=\"color: #7f7f7f; text-decoration-color: #7f7f7f\">           </span>\n",
       "<span style=\"color: #7fbfbf; text-decoration-color: #7fbfbf\">                    </span>         <span style=\"color: #808000; text-decoration-color: #808000\">is_local_process_zero</span>=<span style=\"color: #00ff00; text-decoration-color: #00ff00; font-style: italic\">True</span>,                          <span style=\"color: #7f7f7f; text-decoration-color: #7f7f7f\">           </span>\n",
       "<span style=\"color: #7fbfbf; text-decoration-color: #7fbfbf\">                    </span>         <span style=\"color: #808000; text-decoration-color: #808000\">is_world_process_zero</span>=<span style=\"color: #00ff00; text-decoration-color: #00ff00; font-style: italic\">True</span>,                          <span style=\"color: #7f7f7f; text-decoration-color: #7f7f7f\">           </span>\n",
       "<span style=\"color: #7fbfbf; text-decoration-color: #7fbfbf\">                    </span>         <span style=\"color: #808000; text-decoration-color: #808000\">is_hyper_param_search</span>=<span style=\"color: #ff0000; text-decoration-color: #ff0000; font-style: italic\">False</span>, <span style=\"color: #808000; text-decoration-color: #808000\">trial_name</span>=<span style=\"color: #800080; text-decoration-color: #800080; font-style: italic\">None</span>,        <span style=\"color: #7f7f7f; text-decoration-color: #7f7f7f\">           </span>\n",
       "<span style=\"color: #7fbfbf; text-decoration-color: #7fbfbf\">                    </span>         <span style=\"color: #808000; text-decoration-color: #808000\">trial_params</span>=<span style=\"color: #800080; text-decoration-color: #800080; font-style: italic\">None</span><span style=\"font-weight: bold\">)</span>                                   <span style=\"color: #7f7f7f; text-decoration-color: #7f7f7f\">           </span>\n",
       "</pre>\n"
      ],
      "text/plain": [
       "\u001b[2;36m                   \u001b[0m\u001b[2;36m \u001b[0m\u001b[34mINFO    \u001b[0m \u001b[1;35mTrainerState\u001b[0m\u001b[1m(\u001b[0m\u001b[33mepoch\u001b[0m=\u001b[1;36m1\u001b[0m\u001b[1;36m.4736196319018404\u001b[0m,               \u001b]8;id=442417;file://C:\\Users\\Hedronstone\\Desktop\\miniGPT2\\operations\\train.py\u001b\\\u001b[2mtrain.py\u001b[0m\u001b]8;;\u001b\\\u001b[2m:\u001b[0m\u001b]8;id=33326;file://C:\\Users\\Hedronstone\\Desktop\\miniGPT2\\operations\\train.py#41\u001b\\\u001b[2m41\u001b[0m\u001b]8;;\u001b\\\n",
       "\u001b[2;36m                    \u001b[0m         \u001b[33mglobal_step\u001b[0m=\u001b[1;36m600\u001b[0m, \u001b[33mmax_steps\u001b[0m=\u001b[1;36m2035\u001b[0m, \u001b[33mnum_train_epochs\u001b[0m=\u001b[1;36m5\u001b[0m, \u001b[2m           \u001b[0m\n",
       "\u001b[2;36m                    \u001b[0m         \u001b[33mtotal_flos\u001b[0m=\u001b[1;36m3405419053056000\u001b[0m\u001b[1;36m.0\u001b[0m,                       \u001b[2m           \u001b[0m\n",
       "\u001b[2;36m                    \u001b[0m         \u001b[33mlog_history\u001b[0m=\u001b[1m[\u001b[0m\u001b[1m{\u001b[0m\u001b[32m'eval_loss'\u001b[0m: \u001b[1;36m3.2401208877563477\u001b[0m,       \u001b[2m           \u001b[0m\n",
       "\u001b[2;36m                    \u001b[0m         \u001b[32m'eval_runtime'\u001b[0m: \u001b[1;36m23.6545\u001b[0m, \u001b[32m'eval_samples_per_second'\u001b[0m:  \u001b[2m           \u001b[0m\n",
       "\u001b[2;36m                    \u001b[0m         \u001b[1;36m137.733\u001b[0m, \u001b[32m'eval_steps_per_second'\u001b[0m: \u001b[1;36m8.624\u001b[0m, \u001b[32m'epoch'\u001b[0m:    \u001b[2m           \u001b[0m\n",
       "\u001b[2;36m                    \u001b[0m         \u001b[1;36m0.49\u001b[0m, \u001b[32m'step'\u001b[0m: \u001b[1;36m200\u001b[0m\u001b[1m}\u001b[0m, \u001b[1m{\u001b[0m\u001b[32m'eval_loss'\u001b[0m: \u001b[1;36m3.217250108718872\u001b[0m, \u001b[2m           \u001b[0m\n",
       "\u001b[2;36m                    \u001b[0m         \u001b[32m'eval_runtime'\u001b[0m: \u001b[1;36m23.6908\u001b[0m, \u001b[32m'eval_samples_per_second'\u001b[0m:  \u001b[2m           \u001b[0m\n",
       "\u001b[2;36m                    \u001b[0m         \u001b[1;36m137.522\u001b[0m, \u001b[32m'eval_steps_per_second'\u001b[0m: \u001b[1;36m8.611\u001b[0m, \u001b[32m'epoch'\u001b[0m:    \u001b[2m           \u001b[0m\n",
       "\u001b[2;36m                    \u001b[0m         \u001b[1;36m0.98\u001b[0m, \u001b[32m'step'\u001b[0m: \u001b[1;36m400\u001b[0m\u001b[1m}\u001b[0m, \u001b[1m{\u001b[0m\u001b[32m'loss'\u001b[0m: \u001b[1;36m3.2845\u001b[0m,                 \u001b[2m           \u001b[0m\n",
       "\u001b[2;36m                    \u001b[0m         \u001b[32m'learning_rate'\u001b[0m: \u001b[1;36m0.0004540624090114981\u001b[0m, \u001b[32m'epoch'\u001b[0m:     \u001b[2m           \u001b[0m\n",
       "\u001b[2;36m                    \u001b[0m         \u001b[1;36m1.0\u001b[0m, \u001b[32m'step'\u001b[0m: \u001b[1;36m407\u001b[0m\u001b[1m}\u001b[0m, \u001b[1m{\u001b[0m\u001b[32m'eval_loss'\u001b[0m: \u001b[1;36m3.223500967025757\u001b[0m,  \u001b[2m           \u001b[0m\n",
       "\u001b[2;36m                    \u001b[0m         \u001b[32m'eval_runtime'\u001b[0m: \u001b[1;36m23.6332\u001b[0m, \u001b[32m'eval_samples_per_second'\u001b[0m:  \u001b[2m           \u001b[0m\n",
       "\u001b[2;36m                    \u001b[0m         \u001b[1;36m137.857\u001b[0m, \u001b[32m'eval_steps_per_second'\u001b[0m: \u001b[1;36m8.632\u001b[0m, \u001b[32m'epoch'\u001b[0m:    \u001b[2m           \u001b[0m\n",
       "\u001b[2;36m                    \u001b[0m         \u001b[1;36m1.47\u001b[0m, \u001b[32m'step'\u001b[0m: \u001b[1;36m600\u001b[0m\u001b[1m}\u001b[0m\u001b[1m]\u001b[0m, \u001b[33mbest_metric\u001b[0m=\u001b[3;35mNone\u001b[0m,               \u001b[2m           \u001b[0m\n",
       "\u001b[2;36m                    \u001b[0m         \u001b[33mbest_model_checkpoint\u001b[0m=\u001b[3;35mNone\u001b[0m,                          \u001b[2m           \u001b[0m\n",
       "\u001b[2;36m                    \u001b[0m         \u001b[33mis_local_process_zero\u001b[0m=\u001b[3;92mTrue\u001b[0m,                          \u001b[2m           \u001b[0m\n",
       "\u001b[2;36m                    \u001b[0m         \u001b[33mis_world_process_zero\u001b[0m=\u001b[3;92mTrue\u001b[0m,                          \u001b[2m           \u001b[0m\n",
       "\u001b[2;36m                    \u001b[0m         \u001b[33mis_hyper_param_search\u001b[0m=\u001b[3;91mFalse\u001b[0m, \u001b[33mtrial_name\u001b[0m=\u001b[3;35mNone\u001b[0m,        \u001b[2m           \u001b[0m\n",
       "\u001b[2;36m                    \u001b[0m         \u001b[33mtrial_params\u001b[0m=\u001b[3;35mNone\u001b[0m\u001b[1m)\u001b[0m                                   \u001b[2m           \u001b[0m\n"
      ]
     },
     "metadata": {},
     "output_type": "display_data"
    },
    {
     "name": "stdout",
     "output_type": "stream",
     "text": [
      "{'eval_loss': 3.223500967025757, 'eval_runtime': 23.6332, 'eval_samples_per_second': 137.857, 'eval_steps_per_second': 8.632, 'epoch': 1.47}\n"
     ]
    },
    {
     "name": "stderr",
     "output_type": "stream",
     "text": [
      "Saving model checkpoint to artifacts\\checkpoint-600\n",
      "Configuration saved in artifacts\\checkpoint-600\\config.json\n",
      "Model weights saved in artifacts\\checkpoint-600\\pytorch_model.bin\n",
      "tokenizer config file saved in artifacts\\checkpoint-600\\tokenizer_config.json\n",
      "Special tokens file saved in artifacts\\checkpoint-600\\special_tokens_map.json\n",
      "***** Running Evaluation *****\n",
      "  Num examples = 3258\n",
      "  Batch size = 16\n"
     ]
    },
    {
     "data": {
      "application/vnd.jupyter.widget-view+json": {
       "model_id": "",
       "version_major": 2,
       "version_minor": 0
      },
      "text/plain": [
       "  0%|          | 0/204 [00:00<?, ?it/s]"
      ]
     },
     "metadata": {},
     "output_type": "display_data"
    },
    {
     "data": {
      "text/html": [
       "<pre style=\"white-space:pre;overflow-x:auto;line-height:normal;font-family:Menlo,'DejaVu Sans Mono',consolas,'Courier New',monospace\"><span style=\"color: #7fbfbf; text-decoration-color: #7fbfbf\">[09/30/22 19:29:29] </span><span style=\"color: #000080; text-decoration-color: #000080\">INFO    </span> <span style=\"font-weight: bold\">{</span><span style=\"color: #008000; text-decoration-color: #008000\">'eval_loss'</span>: <span style=\"color: #008080; text-decoration-color: #008080; font-weight: bold\">3.2089829444885254</span>, <span style=\"color: #008000; text-decoration-color: #008000\">'eval_runtime'</span>:    <a href=\"file://C:\\Users\\Hedronstone\\Desktop\\miniGPT2\\operations\\train.py\" target=\"_blank\"><span style=\"color: #7f7f7f; text-decoration-color: #7f7f7f\">train.py</span></a><span style=\"color: #7f7f7f; text-decoration-color: #7f7f7f\">:</span><a href=\"file://C:\\Users\\Hedronstone\\Desktop\\miniGPT2\\operations\\train.py#39\" target=\"_blank\"><span style=\"color: #7f7f7f; text-decoration-color: #7f7f7f\">39</span></a>\n",
       "<span style=\"color: #7fbfbf; text-decoration-color: #7fbfbf\">                    </span>         <span style=\"color: #008080; text-decoration-color: #008080; font-weight: bold\">23.0157</span>, <span style=\"color: #008000; text-decoration-color: #008000\">'eval_samples_per_second'</span>: <span style=\"color: #008080; text-decoration-color: #008080; font-weight: bold\">141.556</span>,         <span style=\"color: #7f7f7f; text-decoration-color: #7f7f7f\">           </span>\n",
       "<span style=\"color: #7fbfbf; text-decoration-color: #7fbfbf\">                    </span>         <span style=\"color: #008000; text-decoration-color: #008000\">'eval_steps_per_second'</span>: <span style=\"color: #008080; text-decoration-color: #008080; font-weight: bold\">8.864</span>, <span style=\"color: #008000; text-decoration-color: #008000\">'epoch'</span>: <span style=\"color: #008080; text-decoration-color: #008080; font-weight: bold\">1.96</span><span style=\"font-weight: bold\">}</span>       <span style=\"color: #7f7f7f; text-decoration-color: #7f7f7f\">           </span>\n",
       "</pre>\n"
      ],
      "text/plain": [
       "\u001b[2;36m[09/30/22 19:29:29]\u001b[0m\u001b[2;36m \u001b[0m\u001b[34mINFO    \u001b[0m \u001b[1m{\u001b[0m\u001b[32m'eval_loss'\u001b[0m: \u001b[1;36m3.2089829444885254\u001b[0m, \u001b[32m'eval_runtime'\u001b[0m:    \u001b]8;id=31244;file://C:\\Users\\Hedronstone\\Desktop\\miniGPT2\\operations\\train.py\u001b\\\u001b[2mtrain.py\u001b[0m\u001b]8;;\u001b\\\u001b[2m:\u001b[0m\u001b]8;id=98246;file://C:\\Users\\Hedronstone\\Desktop\\miniGPT2\\operations\\train.py#39\u001b\\\u001b[2m39\u001b[0m\u001b]8;;\u001b\\\n",
       "\u001b[2;36m                    \u001b[0m         \u001b[1;36m23.0157\u001b[0m, \u001b[32m'eval_samples_per_second'\u001b[0m: \u001b[1;36m141.556\u001b[0m,         \u001b[2m           \u001b[0m\n",
       "\u001b[2;36m                    \u001b[0m         \u001b[32m'eval_steps_per_second'\u001b[0m: \u001b[1;36m8.864\u001b[0m, \u001b[32m'epoch'\u001b[0m: \u001b[1;36m1.96\u001b[0m\u001b[1m}\u001b[0m       \u001b[2m           \u001b[0m\n"
      ]
     },
     "metadata": {},
     "output_type": "display_data"
    },
    {
     "data": {
      "text/html": [
       "<pre style=\"white-space:pre;overflow-x:auto;line-height:normal;font-family:Menlo,'DejaVu Sans Mono',consolas,'Courier New',monospace\"><span style=\"color: #7fbfbf; text-decoration-color: #7fbfbf\">                    </span><span style=\"color: #000080; text-decoration-color: #000080\">INFO    </span> <span style=\"color: #800080; text-decoration-color: #800080; font-weight: bold\">TrainerState</span><span style=\"font-weight: bold\">(</span><span style=\"color: #808000; text-decoration-color: #808000\">epoch</span>=<span style=\"color: #008080; text-decoration-color: #008080; font-weight: bold\">1.9644171779141104</span>,               <a href=\"file://C:\\Users\\Hedronstone\\Desktop\\miniGPT2\\operations\\train.py\" target=\"_blank\"><span style=\"color: #7f7f7f; text-decoration-color: #7f7f7f\">train.py</span></a><span style=\"color: #7f7f7f; text-decoration-color: #7f7f7f\">:</span><a href=\"file://C:\\Users\\Hedronstone\\Desktop\\miniGPT2\\operations\\train.py#41\" target=\"_blank\"><span style=\"color: #7f7f7f; text-decoration-color: #7f7f7f\">41</span></a>\n",
       "<span style=\"color: #7fbfbf; text-decoration-color: #7fbfbf\">                    </span>         <span style=\"color: #808000; text-decoration-color: #808000\">global_step</span>=<span style=\"color: #008080; text-decoration-color: #008080; font-weight: bold\">800</span>, <span style=\"color: #808000; text-decoration-color: #808000\">max_steps</span>=<span style=\"color: #008080; text-decoration-color: #008080; font-weight: bold\">2035</span>, <span style=\"color: #808000; text-decoration-color: #808000\">num_train_epochs</span>=<span style=\"color: #008080; text-decoration-color: #008080; font-weight: bold\">5</span>, <span style=\"color: #7f7f7f; text-decoration-color: #7f7f7f\">           </span>\n",
       "<span style=\"color: #7fbfbf; text-decoration-color: #7fbfbf\">                    </span>         <span style=\"color: #808000; text-decoration-color: #808000\">total_flos</span>=<span style=\"color: #008080; text-decoration-color: #008080; font-weight: bold\">5019158642688000.0</span>,                       <span style=\"color: #7f7f7f; text-decoration-color: #7f7f7f\">           </span>\n",
       "<span style=\"color: #7fbfbf; text-decoration-color: #7fbfbf\">                    </span>         <span style=\"color: #808000; text-decoration-color: #808000\">log_history</span>=<span style=\"font-weight: bold\">[{</span><span style=\"color: #008000; text-decoration-color: #008000\">'eval_loss'</span>: <span style=\"color: #008080; text-decoration-color: #008080; font-weight: bold\">3.2401208877563477</span>,       <span style=\"color: #7f7f7f; text-decoration-color: #7f7f7f\">           </span>\n",
       "<span style=\"color: #7fbfbf; text-decoration-color: #7fbfbf\">                    </span>         <span style=\"color: #008000; text-decoration-color: #008000\">'eval_runtime'</span>: <span style=\"color: #008080; text-decoration-color: #008080; font-weight: bold\">23.6545</span>, <span style=\"color: #008000; text-decoration-color: #008000\">'eval_samples_per_second'</span>:  <span style=\"color: #7f7f7f; text-decoration-color: #7f7f7f\">           </span>\n",
       "<span style=\"color: #7fbfbf; text-decoration-color: #7fbfbf\">                    </span>         <span style=\"color: #008080; text-decoration-color: #008080; font-weight: bold\">137.733</span>, <span style=\"color: #008000; text-decoration-color: #008000\">'eval_steps_per_second'</span>: <span style=\"color: #008080; text-decoration-color: #008080; font-weight: bold\">8.624</span>, <span style=\"color: #008000; text-decoration-color: #008000\">'epoch'</span>:    <span style=\"color: #7f7f7f; text-decoration-color: #7f7f7f\">           </span>\n",
       "<span style=\"color: #7fbfbf; text-decoration-color: #7fbfbf\">                    </span>         <span style=\"color: #008080; text-decoration-color: #008080; font-weight: bold\">0.49</span>, <span style=\"color: #008000; text-decoration-color: #008000\">'step'</span>: <span style=\"color: #008080; text-decoration-color: #008080; font-weight: bold\">200</span><span style=\"font-weight: bold\">}</span>, <span style=\"font-weight: bold\">{</span><span style=\"color: #008000; text-decoration-color: #008000\">'eval_loss'</span>: <span style=\"color: #008080; text-decoration-color: #008080; font-weight: bold\">3.217250108718872</span>, <span style=\"color: #7f7f7f; text-decoration-color: #7f7f7f\">           </span>\n",
       "<span style=\"color: #7fbfbf; text-decoration-color: #7fbfbf\">                    </span>         <span style=\"color: #008000; text-decoration-color: #008000\">'eval_runtime'</span>: <span style=\"color: #008080; text-decoration-color: #008080; font-weight: bold\">23.6908</span>, <span style=\"color: #008000; text-decoration-color: #008000\">'eval_samples_per_second'</span>:  <span style=\"color: #7f7f7f; text-decoration-color: #7f7f7f\">           </span>\n",
       "<span style=\"color: #7fbfbf; text-decoration-color: #7fbfbf\">                    </span>         <span style=\"color: #008080; text-decoration-color: #008080; font-weight: bold\">137.522</span>, <span style=\"color: #008000; text-decoration-color: #008000\">'eval_steps_per_second'</span>: <span style=\"color: #008080; text-decoration-color: #008080; font-weight: bold\">8.611</span>, <span style=\"color: #008000; text-decoration-color: #008000\">'epoch'</span>:    <span style=\"color: #7f7f7f; text-decoration-color: #7f7f7f\">           </span>\n",
       "<span style=\"color: #7fbfbf; text-decoration-color: #7fbfbf\">                    </span>         <span style=\"color: #008080; text-decoration-color: #008080; font-weight: bold\">0.98</span>, <span style=\"color: #008000; text-decoration-color: #008000\">'step'</span>: <span style=\"color: #008080; text-decoration-color: #008080; font-weight: bold\">400</span><span style=\"font-weight: bold\">}</span>, <span style=\"font-weight: bold\">{</span><span style=\"color: #008000; text-decoration-color: #008000\">'loss'</span>: <span style=\"color: #008080; text-decoration-color: #008080; font-weight: bold\">3.2845</span>,                 <span style=\"color: #7f7f7f; text-decoration-color: #7f7f7f\">           </span>\n",
       "<span style=\"color: #7fbfbf; text-decoration-color: #7fbfbf\">                    </span>         <span style=\"color: #008000; text-decoration-color: #008000\">'learning_rate'</span>: <span style=\"color: #008080; text-decoration-color: #008080; font-weight: bold\">0.0004540624090114981</span>, <span style=\"color: #008000; text-decoration-color: #008000\">'epoch'</span>:     <span style=\"color: #7f7f7f; text-decoration-color: #7f7f7f\">           </span>\n",
       "<span style=\"color: #7fbfbf; text-decoration-color: #7fbfbf\">                    </span>         <span style=\"color: #008080; text-decoration-color: #008080; font-weight: bold\">1.0</span>, <span style=\"color: #008000; text-decoration-color: #008000\">'step'</span>: <span style=\"color: #008080; text-decoration-color: #008080; font-weight: bold\">407</span><span style=\"font-weight: bold\">}</span>, <span style=\"font-weight: bold\">{</span><span style=\"color: #008000; text-decoration-color: #008000\">'eval_loss'</span>: <span style=\"color: #008080; text-decoration-color: #008080; font-weight: bold\">3.223500967025757</span>,  <span style=\"color: #7f7f7f; text-decoration-color: #7f7f7f\">           </span>\n",
       "<span style=\"color: #7fbfbf; text-decoration-color: #7fbfbf\">                    </span>         <span style=\"color: #008000; text-decoration-color: #008000\">'eval_runtime'</span>: <span style=\"color: #008080; text-decoration-color: #008080; font-weight: bold\">23.6332</span>, <span style=\"color: #008000; text-decoration-color: #008000\">'eval_samples_per_second'</span>:  <span style=\"color: #7f7f7f; text-decoration-color: #7f7f7f\">           </span>\n",
       "<span style=\"color: #7fbfbf; text-decoration-color: #7fbfbf\">                    </span>         <span style=\"color: #008080; text-decoration-color: #008080; font-weight: bold\">137.857</span>, <span style=\"color: #008000; text-decoration-color: #008000\">'eval_steps_per_second'</span>: <span style=\"color: #008080; text-decoration-color: #008080; font-weight: bold\">8.632</span>, <span style=\"color: #008000; text-decoration-color: #008000\">'epoch'</span>:    <span style=\"color: #7f7f7f; text-decoration-color: #7f7f7f\">           </span>\n",
       "<span style=\"color: #7fbfbf; text-decoration-color: #7fbfbf\">                    </span>         <span style=\"color: #008080; text-decoration-color: #008080; font-weight: bold\">1.47</span>, <span style=\"color: #008000; text-decoration-color: #008000\">'step'</span>: <span style=\"color: #008080; text-decoration-color: #008080; font-weight: bold\">600</span><span style=\"font-weight: bold\">}</span>, <span style=\"font-weight: bold\">{</span><span style=\"color: #008000; text-decoration-color: #008000\">'eval_loss'</span>:                    <span style=\"color: #7f7f7f; text-decoration-color: #7f7f7f\">           </span>\n",
       "<span style=\"color: #7fbfbf; text-decoration-color: #7fbfbf\">                    </span>         <span style=\"color: #008080; text-decoration-color: #008080; font-weight: bold\">3.2089829444885254</span>, <span style=\"color: #008000; text-decoration-color: #008000\">'eval_runtime'</span>: <span style=\"color: #008080; text-decoration-color: #008080; font-weight: bold\">23.0157</span>,         <span style=\"color: #7f7f7f; text-decoration-color: #7f7f7f\">           </span>\n",
       "<span style=\"color: #7fbfbf; text-decoration-color: #7fbfbf\">                    </span>         <span style=\"color: #008000; text-decoration-color: #008000\">'eval_samples_per_second'</span>: <span style=\"color: #008080; text-decoration-color: #008080; font-weight: bold\">141.556</span>,                  <span style=\"color: #7f7f7f; text-decoration-color: #7f7f7f\">           </span>\n",
       "<span style=\"color: #7fbfbf; text-decoration-color: #7fbfbf\">                    </span>         <span style=\"color: #008000; text-decoration-color: #008000\">'eval_steps_per_second'</span>: <span style=\"color: #008080; text-decoration-color: #008080; font-weight: bold\">8.864</span>, <span style=\"color: #008000; text-decoration-color: #008000\">'epoch'</span>: <span style=\"color: #008080; text-decoration-color: #008080; font-weight: bold\">1.96</span>,       <span style=\"color: #7f7f7f; text-decoration-color: #7f7f7f\">           </span>\n",
       "<span style=\"color: #7fbfbf; text-decoration-color: #7fbfbf\">                    </span>         <span style=\"color: #008000; text-decoration-color: #008000\">'step'</span>: <span style=\"color: #008080; text-decoration-color: #008080; font-weight: bold\">800</span><span style=\"font-weight: bold\">}]</span>, <span style=\"color: #808000; text-decoration-color: #808000\">best_metric</span>=<span style=\"color: #800080; text-decoration-color: #800080; font-style: italic\">None</span>,                     <span style=\"color: #7f7f7f; text-decoration-color: #7f7f7f\">           </span>\n",
       "<span style=\"color: #7fbfbf; text-decoration-color: #7fbfbf\">                    </span>         <span style=\"color: #808000; text-decoration-color: #808000\">best_model_checkpoint</span>=<span style=\"color: #800080; text-decoration-color: #800080; font-style: italic\">None</span>,                          <span style=\"color: #7f7f7f; text-decoration-color: #7f7f7f\">           </span>\n",
       "<span style=\"color: #7fbfbf; text-decoration-color: #7fbfbf\">                    </span>         <span style=\"color: #808000; text-decoration-color: #808000\">is_local_process_zero</span>=<span style=\"color: #00ff00; text-decoration-color: #00ff00; font-style: italic\">True</span>,                          <span style=\"color: #7f7f7f; text-decoration-color: #7f7f7f\">           </span>\n",
       "<span style=\"color: #7fbfbf; text-decoration-color: #7fbfbf\">                    </span>         <span style=\"color: #808000; text-decoration-color: #808000\">is_world_process_zero</span>=<span style=\"color: #00ff00; text-decoration-color: #00ff00; font-style: italic\">True</span>,                          <span style=\"color: #7f7f7f; text-decoration-color: #7f7f7f\">           </span>\n",
       "<span style=\"color: #7fbfbf; text-decoration-color: #7fbfbf\">                    </span>         <span style=\"color: #808000; text-decoration-color: #808000\">is_hyper_param_search</span>=<span style=\"color: #ff0000; text-decoration-color: #ff0000; font-style: italic\">False</span>, <span style=\"color: #808000; text-decoration-color: #808000\">trial_name</span>=<span style=\"color: #800080; text-decoration-color: #800080; font-style: italic\">None</span>,        <span style=\"color: #7f7f7f; text-decoration-color: #7f7f7f\">           </span>\n",
       "<span style=\"color: #7fbfbf; text-decoration-color: #7fbfbf\">                    </span>         <span style=\"color: #808000; text-decoration-color: #808000\">trial_params</span>=<span style=\"color: #800080; text-decoration-color: #800080; font-style: italic\">None</span><span style=\"font-weight: bold\">)</span>                                   <span style=\"color: #7f7f7f; text-decoration-color: #7f7f7f\">           </span>\n",
       "</pre>\n"
      ],
      "text/plain": [
       "\u001b[2;36m                   \u001b[0m\u001b[2;36m \u001b[0m\u001b[34mINFO    \u001b[0m \u001b[1;35mTrainerState\u001b[0m\u001b[1m(\u001b[0m\u001b[33mepoch\u001b[0m=\u001b[1;36m1\u001b[0m\u001b[1;36m.9644171779141104\u001b[0m,               \u001b]8;id=229258;file://C:\\Users\\Hedronstone\\Desktop\\miniGPT2\\operations\\train.py\u001b\\\u001b[2mtrain.py\u001b[0m\u001b]8;;\u001b\\\u001b[2m:\u001b[0m\u001b]8;id=243962;file://C:\\Users\\Hedronstone\\Desktop\\miniGPT2\\operations\\train.py#41\u001b\\\u001b[2m41\u001b[0m\u001b]8;;\u001b\\\n",
       "\u001b[2;36m                    \u001b[0m         \u001b[33mglobal_step\u001b[0m=\u001b[1;36m800\u001b[0m, \u001b[33mmax_steps\u001b[0m=\u001b[1;36m2035\u001b[0m, \u001b[33mnum_train_epochs\u001b[0m=\u001b[1;36m5\u001b[0m, \u001b[2m           \u001b[0m\n",
       "\u001b[2;36m                    \u001b[0m         \u001b[33mtotal_flos\u001b[0m=\u001b[1;36m5019158642688000\u001b[0m\u001b[1;36m.0\u001b[0m,                       \u001b[2m           \u001b[0m\n",
       "\u001b[2;36m                    \u001b[0m         \u001b[33mlog_history\u001b[0m=\u001b[1m[\u001b[0m\u001b[1m{\u001b[0m\u001b[32m'eval_loss'\u001b[0m: \u001b[1;36m3.2401208877563477\u001b[0m,       \u001b[2m           \u001b[0m\n",
       "\u001b[2;36m                    \u001b[0m         \u001b[32m'eval_runtime'\u001b[0m: \u001b[1;36m23.6545\u001b[0m, \u001b[32m'eval_samples_per_second'\u001b[0m:  \u001b[2m           \u001b[0m\n",
       "\u001b[2;36m                    \u001b[0m         \u001b[1;36m137.733\u001b[0m, \u001b[32m'eval_steps_per_second'\u001b[0m: \u001b[1;36m8.624\u001b[0m, \u001b[32m'epoch'\u001b[0m:    \u001b[2m           \u001b[0m\n",
       "\u001b[2;36m                    \u001b[0m         \u001b[1;36m0.49\u001b[0m, \u001b[32m'step'\u001b[0m: \u001b[1;36m200\u001b[0m\u001b[1m}\u001b[0m, \u001b[1m{\u001b[0m\u001b[32m'eval_loss'\u001b[0m: \u001b[1;36m3.217250108718872\u001b[0m, \u001b[2m           \u001b[0m\n",
       "\u001b[2;36m                    \u001b[0m         \u001b[32m'eval_runtime'\u001b[0m: \u001b[1;36m23.6908\u001b[0m, \u001b[32m'eval_samples_per_second'\u001b[0m:  \u001b[2m           \u001b[0m\n",
       "\u001b[2;36m                    \u001b[0m         \u001b[1;36m137.522\u001b[0m, \u001b[32m'eval_steps_per_second'\u001b[0m: \u001b[1;36m8.611\u001b[0m, \u001b[32m'epoch'\u001b[0m:    \u001b[2m           \u001b[0m\n",
       "\u001b[2;36m                    \u001b[0m         \u001b[1;36m0.98\u001b[0m, \u001b[32m'step'\u001b[0m: \u001b[1;36m400\u001b[0m\u001b[1m}\u001b[0m, \u001b[1m{\u001b[0m\u001b[32m'loss'\u001b[0m: \u001b[1;36m3.2845\u001b[0m,                 \u001b[2m           \u001b[0m\n",
       "\u001b[2;36m                    \u001b[0m         \u001b[32m'learning_rate'\u001b[0m: \u001b[1;36m0.0004540624090114981\u001b[0m, \u001b[32m'epoch'\u001b[0m:     \u001b[2m           \u001b[0m\n",
       "\u001b[2;36m                    \u001b[0m         \u001b[1;36m1.0\u001b[0m, \u001b[32m'step'\u001b[0m: \u001b[1;36m407\u001b[0m\u001b[1m}\u001b[0m, \u001b[1m{\u001b[0m\u001b[32m'eval_loss'\u001b[0m: \u001b[1;36m3.223500967025757\u001b[0m,  \u001b[2m           \u001b[0m\n",
       "\u001b[2;36m                    \u001b[0m         \u001b[32m'eval_runtime'\u001b[0m: \u001b[1;36m23.6332\u001b[0m, \u001b[32m'eval_samples_per_second'\u001b[0m:  \u001b[2m           \u001b[0m\n",
       "\u001b[2;36m                    \u001b[0m         \u001b[1;36m137.857\u001b[0m, \u001b[32m'eval_steps_per_second'\u001b[0m: \u001b[1;36m8.632\u001b[0m, \u001b[32m'epoch'\u001b[0m:    \u001b[2m           \u001b[0m\n",
       "\u001b[2;36m                    \u001b[0m         \u001b[1;36m1.47\u001b[0m, \u001b[32m'step'\u001b[0m: \u001b[1;36m600\u001b[0m\u001b[1m}\u001b[0m, \u001b[1m{\u001b[0m\u001b[32m'eval_loss'\u001b[0m:                    \u001b[2m           \u001b[0m\n",
       "\u001b[2;36m                    \u001b[0m         \u001b[1;36m3.2089829444885254\u001b[0m, \u001b[32m'eval_runtime'\u001b[0m: \u001b[1;36m23.0157\u001b[0m,         \u001b[2m           \u001b[0m\n",
       "\u001b[2;36m                    \u001b[0m         \u001b[32m'eval_samples_per_second'\u001b[0m: \u001b[1;36m141.556\u001b[0m,                  \u001b[2m           \u001b[0m\n",
       "\u001b[2;36m                    \u001b[0m         \u001b[32m'eval_steps_per_second'\u001b[0m: \u001b[1;36m8.864\u001b[0m, \u001b[32m'epoch'\u001b[0m: \u001b[1;36m1.96\u001b[0m,       \u001b[2m           \u001b[0m\n",
       "\u001b[2;36m                    \u001b[0m         \u001b[32m'step'\u001b[0m: \u001b[1;36m800\u001b[0m\u001b[1m}\u001b[0m\u001b[1m]\u001b[0m, \u001b[33mbest_metric\u001b[0m=\u001b[3;35mNone\u001b[0m,                     \u001b[2m           \u001b[0m\n",
       "\u001b[2;36m                    \u001b[0m         \u001b[33mbest_model_checkpoint\u001b[0m=\u001b[3;35mNone\u001b[0m,                          \u001b[2m           \u001b[0m\n",
       "\u001b[2;36m                    \u001b[0m         \u001b[33mis_local_process_zero\u001b[0m=\u001b[3;92mTrue\u001b[0m,                          \u001b[2m           \u001b[0m\n",
       "\u001b[2;36m                    \u001b[0m         \u001b[33mis_world_process_zero\u001b[0m=\u001b[3;92mTrue\u001b[0m,                          \u001b[2m           \u001b[0m\n",
       "\u001b[2;36m                    \u001b[0m         \u001b[33mis_hyper_param_search\u001b[0m=\u001b[3;91mFalse\u001b[0m, \u001b[33mtrial_name\u001b[0m=\u001b[3;35mNone\u001b[0m,        \u001b[2m           \u001b[0m\n",
       "\u001b[2;36m                    \u001b[0m         \u001b[33mtrial_params\u001b[0m=\u001b[3;35mNone\u001b[0m\u001b[1m)\u001b[0m                                   \u001b[2m           \u001b[0m\n"
      ]
     },
     "metadata": {},
     "output_type": "display_data"
    },
    {
     "name": "stdout",
     "output_type": "stream",
     "text": [
      "{'eval_loss': 3.2089829444885254, 'eval_runtime': 23.0157, 'eval_samples_per_second': 141.556, 'eval_steps_per_second': 8.864, 'epoch': 1.96}\n"
     ]
    },
    {
     "name": "stderr",
     "output_type": "stream",
     "text": [
      "Saving model checkpoint to artifacts\\checkpoint-800\n",
      "Configuration saved in artifacts\\checkpoint-800\\config.json\n",
      "Model weights saved in artifacts\\checkpoint-800\\pytorch_model.bin\n",
      "tokenizer config file saved in artifacts\\checkpoint-800\\tokenizer_config.json\n",
      "Special tokens file saved in artifacts\\checkpoint-800\\special_tokens_map.json\n"
     ]
    },
    {
     "data": {
      "text/html": [
       "<pre style=\"white-space:pre;overflow-x:auto;line-height:normal;font-family:Menlo,'DejaVu Sans Mono',consolas,'Courier New',monospace\"><span style=\"color: #7fbfbf; text-decoration-color: #7fbfbf\">[09/30/22 19:29:50] </span><span style=\"color: #000080; text-decoration-color: #000080\">INFO    </span> <span style=\"font-weight: bold\">{</span><span style=\"color: #008000; text-decoration-color: #008000\">'loss'</span>: <span style=\"color: #008080; text-decoration-color: #008080; font-weight: bold\">3.0619</span>, <span style=\"color: #008000; text-decoration-color: #008000\">'learning_rate'</span>:                    <a href=\"file://C:\\Users\\Hedronstone\\Desktop\\miniGPT2\\operations\\train.py\" target=\"_blank\"><span style=\"color: #7f7f7f; text-decoration-color: #7f7f7f\">train.py</span></a><span style=\"color: #7f7f7f; text-decoration-color: #7f7f7f\">:</span><a href=\"file://C:\\Users\\Hedronstone\\Desktop\\miniGPT2\\operations\\train.py#39\" target=\"_blank\"><span style=\"color: #7f7f7f; text-decoration-color: #7f7f7f\">39</span></a>\n",
       "<span style=\"color: #7fbfbf; text-decoration-color: #7fbfbf\">                    </span>         <span style=\"color: #008080; text-decoration-color: #008080; font-weight: bold\">0.0003294640787536245</span>, <span style=\"color: #008000; text-decoration-color: #008000\">'epoch'</span>: <span style=\"color: #008080; text-decoration-color: #008080; font-weight: bold\">2.0</span><span style=\"font-weight: bold\">}</span>                 <span style=\"color: #7f7f7f; text-decoration-color: #7f7f7f\">           </span>\n",
       "</pre>\n"
      ],
      "text/plain": [
       "\u001b[2;36m[09/30/22 19:29:50]\u001b[0m\u001b[2;36m \u001b[0m\u001b[34mINFO    \u001b[0m \u001b[1m{\u001b[0m\u001b[32m'loss'\u001b[0m: \u001b[1;36m3.0619\u001b[0m, \u001b[32m'learning_rate'\u001b[0m:                    \u001b]8;id=529903;file://C:\\Users\\Hedronstone\\Desktop\\miniGPT2\\operations\\train.py\u001b\\\u001b[2mtrain.py\u001b[0m\u001b]8;;\u001b\\\u001b[2m:\u001b[0m\u001b]8;id=631262;file://C:\\Users\\Hedronstone\\Desktop\\miniGPT2\\operations\\train.py#39\u001b\\\u001b[2m39\u001b[0m\u001b]8;;\u001b\\\n",
       "\u001b[2;36m                    \u001b[0m         \u001b[1;36m0.0003294640787536245\u001b[0m, \u001b[32m'epoch'\u001b[0m: \u001b[1;36m2.0\u001b[0m\u001b[1m}\u001b[0m                 \u001b[2m           \u001b[0m\n"
      ]
     },
     "metadata": {},
     "output_type": "display_data"
    },
    {
     "data": {
      "text/html": [
       "<pre style=\"white-space:pre;overflow-x:auto;line-height:normal;font-family:Menlo,'DejaVu Sans Mono',consolas,'Courier New',monospace\"><span style=\"color: #7fbfbf; text-decoration-color: #7fbfbf\">                    </span><span style=\"color: #000080; text-decoration-color: #000080\">INFO    </span> <span style=\"color: #800080; text-decoration-color: #800080; font-weight: bold\">TrainerState</span><span style=\"font-weight: bold\">(</span><span style=\"color: #808000; text-decoration-color: #808000\">epoch</span>=<span style=\"color: #008080; text-decoration-color: #008080; font-weight: bold\">1.9987730061349693</span>,               <a href=\"file://C:\\Users\\Hedronstone\\Desktop\\miniGPT2\\operations\\train.py\" target=\"_blank\"><span style=\"color: #7f7f7f; text-decoration-color: #7f7f7f\">train.py</span></a><span style=\"color: #7f7f7f; text-decoration-color: #7f7f7f\">:</span><a href=\"file://C:\\Users\\Hedronstone\\Desktop\\miniGPT2\\operations\\train.py#41\" target=\"_blank\"><span style=\"color: #7f7f7f; text-decoration-color: #7f7f7f\">41</span></a>\n",
       "<span style=\"color: #7fbfbf; text-decoration-color: #7fbfbf\">                    </span>         <span style=\"color: #808000; text-decoration-color: #808000\">global_step</span>=<span style=\"color: #008080; text-decoration-color: #008080; font-weight: bold\">814</span>, <span style=\"color: #808000; text-decoration-color: #808000\">max_steps</span>=<span style=\"color: #008080; text-decoration-color: #008080; font-weight: bold\">2035</span>, <span style=\"color: #808000; text-decoration-color: #808000\">num_train_epochs</span>=<span style=\"color: #008080; text-decoration-color: #008080; font-weight: bold\">5</span>, <span style=\"color: #7f7f7f; text-decoration-color: #7f7f7f\">           </span>\n",
       "<span style=\"color: #7fbfbf; text-decoration-color: #7fbfbf\">                    </span>         <span style=\"color: #808000; text-decoration-color: #808000\">total_flos</span>=<span style=\"color: #008080; text-decoration-color: #008080; font-weight: bold\">6810838106112000.0</span>,                       <span style=\"color: #7f7f7f; text-decoration-color: #7f7f7f\">           </span>\n",
       "<span style=\"color: #7fbfbf; text-decoration-color: #7fbfbf\">                    </span>         <span style=\"color: #808000; text-decoration-color: #808000\">log_history</span>=<span style=\"font-weight: bold\">[{</span><span style=\"color: #008000; text-decoration-color: #008000\">'eval_loss'</span>: <span style=\"color: #008080; text-decoration-color: #008080; font-weight: bold\">3.2401208877563477</span>,       <span style=\"color: #7f7f7f; text-decoration-color: #7f7f7f\">           </span>\n",
       "<span style=\"color: #7fbfbf; text-decoration-color: #7fbfbf\">                    </span>         <span style=\"color: #008000; text-decoration-color: #008000\">'eval_runtime'</span>: <span style=\"color: #008080; text-decoration-color: #008080; font-weight: bold\">23.6545</span>, <span style=\"color: #008000; text-decoration-color: #008000\">'eval_samples_per_second'</span>:  <span style=\"color: #7f7f7f; text-decoration-color: #7f7f7f\">           </span>\n",
       "<span style=\"color: #7fbfbf; text-decoration-color: #7fbfbf\">                    </span>         <span style=\"color: #008080; text-decoration-color: #008080; font-weight: bold\">137.733</span>, <span style=\"color: #008000; text-decoration-color: #008000\">'eval_steps_per_second'</span>: <span style=\"color: #008080; text-decoration-color: #008080; font-weight: bold\">8.624</span>, <span style=\"color: #008000; text-decoration-color: #008000\">'epoch'</span>:    <span style=\"color: #7f7f7f; text-decoration-color: #7f7f7f\">           </span>\n",
       "<span style=\"color: #7fbfbf; text-decoration-color: #7fbfbf\">                    </span>         <span style=\"color: #008080; text-decoration-color: #008080; font-weight: bold\">0.49</span>, <span style=\"color: #008000; text-decoration-color: #008000\">'step'</span>: <span style=\"color: #008080; text-decoration-color: #008080; font-weight: bold\">200</span><span style=\"font-weight: bold\">}</span>, <span style=\"font-weight: bold\">{</span><span style=\"color: #008000; text-decoration-color: #008000\">'eval_loss'</span>: <span style=\"color: #008080; text-decoration-color: #008080; font-weight: bold\">3.217250108718872</span>, <span style=\"color: #7f7f7f; text-decoration-color: #7f7f7f\">           </span>\n",
       "<span style=\"color: #7fbfbf; text-decoration-color: #7fbfbf\">                    </span>         <span style=\"color: #008000; text-decoration-color: #008000\">'eval_runtime'</span>: <span style=\"color: #008080; text-decoration-color: #008080; font-weight: bold\">23.6908</span>, <span style=\"color: #008000; text-decoration-color: #008000\">'eval_samples_per_second'</span>:  <span style=\"color: #7f7f7f; text-decoration-color: #7f7f7f\">           </span>\n",
       "<span style=\"color: #7fbfbf; text-decoration-color: #7fbfbf\">                    </span>         <span style=\"color: #008080; text-decoration-color: #008080; font-weight: bold\">137.522</span>, <span style=\"color: #008000; text-decoration-color: #008000\">'eval_steps_per_second'</span>: <span style=\"color: #008080; text-decoration-color: #008080; font-weight: bold\">8.611</span>, <span style=\"color: #008000; text-decoration-color: #008000\">'epoch'</span>:    <span style=\"color: #7f7f7f; text-decoration-color: #7f7f7f\">           </span>\n",
       "<span style=\"color: #7fbfbf; text-decoration-color: #7fbfbf\">                    </span>         <span style=\"color: #008080; text-decoration-color: #008080; font-weight: bold\">0.98</span>, <span style=\"color: #008000; text-decoration-color: #008000\">'step'</span>: <span style=\"color: #008080; text-decoration-color: #008080; font-weight: bold\">400</span><span style=\"font-weight: bold\">}</span>, <span style=\"font-weight: bold\">{</span><span style=\"color: #008000; text-decoration-color: #008000\">'loss'</span>: <span style=\"color: #008080; text-decoration-color: #008080; font-weight: bold\">3.2845</span>,                 <span style=\"color: #7f7f7f; text-decoration-color: #7f7f7f\">           </span>\n",
       "<span style=\"color: #7fbfbf; text-decoration-color: #7fbfbf\">                    </span>         <span style=\"color: #008000; text-decoration-color: #008000\">'learning_rate'</span>: <span style=\"color: #008080; text-decoration-color: #008080; font-weight: bold\">0.0004540624090114981</span>, <span style=\"color: #008000; text-decoration-color: #008000\">'epoch'</span>:     <span style=\"color: #7f7f7f; text-decoration-color: #7f7f7f\">           </span>\n",
       "<span style=\"color: #7fbfbf; text-decoration-color: #7fbfbf\">                    </span>         <span style=\"color: #008080; text-decoration-color: #008080; font-weight: bold\">1.0</span>, <span style=\"color: #008000; text-decoration-color: #008000\">'step'</span>: <span style=\"color: #008080; text-decoration-color: #008080; font-weight: bold\">407</span><span style=\"font-weight: bold\">}</span>, <span style=\"font-weight: bold\">{</span><span style=\"color: #008000; text-decoration-color: #008000\">'eval_loss'</span>: <span style=\"color: #008080; text-decoration-color: #008080; font-weight: bold\">3.223500967025757</span>,  <span style=\"color: #7f7f7f; text-decoration-color: #7f7f7f\">           </span>\n",
       "<span style=\"color: #7fbfbf; text-decoration-color: #7fbfbf\">                    </span>         <span style=\"color: #008000; text-decoration-color: #008000\">'eval_runtime'</span>: <span style=\"color: #008080; text-decoration-color: #008080; font-weight: bold\">23.6332</span>, <span style=\"color: #008000; text-decoration-color: #008000\">'eval_samples_per_second'</span>:  <span style=\"color: #7f7f7f; text-decoration-color: #7f7f7f\">           </span>\n",
       "<span style=\"color: #7fbfbf; text-decoration-color: #7fbfbf\">                    </span>         <span style=\"color: #008080; text-decoration-color: #008080; font-weight: bold\">137.857</span>, <span style=\"color: #008000; text-decoration-color: #008000\">'eval_steps_per_second'</span>: <span style=\"color: #008080; text-decoration-color: #008080; font-weight: bold\">8.632</span>, <span style=\"color: #008000; text-decoration-color: #008000\">'epoch'</span>:    <span style=\"color: #7f7f7f; text-decoration-color: #7f7f7f\">           </span>\n",
       "<span style=\"color: #7fbfbf; text-decoration-color: #7fbfbf\">                    </span>         <span style=\"color: #008080; text-decoration-color: #008080; font-weight: bold\">1.47</span>, <span style=\"color: #008000; text-decoration-color: #008000\">'step'</span>: <span style=\"color: #008080; text-decoration-color: #008080; font-weight: bold\">600</span><span style=\"font-weight: bold\">}</span>, <span style=\"font-weight: bold\">{</span><span style=\"color: #008000; text-decoration-color: #008000\">'eval_loss'</span>:                    <span style=\"color: #7f7f7f; text-decoration-color: #7f7f7f\">           </span>\n",
       "<span style=\"color: #7fbfbf; text-decoration-color: #7fbfbf\">                    </span>         <span style=\"color: #008080; text-decoration-color: #008080; font-weight: bold\">3.2089829444885254</span>, <span style=\"color: #008000; text-decoration-color: #008000\">'eval_runtime'</span>: <span style=\"color: #008080; text-decoration-color: #008080; font-weight: bold\">23.0157</span>,         <span style=\"color: #7f7f7f; text-decoration-color: #7f7f7f\">           </span>\n",
       "<span style=\"color: #7fbfbf; text-decoration-color: #7fbfbf\">                    </span>         <span style=\"color: #008000; text-decoration-color: #008000\">'eval_samples_per_second'</span>: <span style=\"color: #008080; text-decoration-color: #008080; font-weight: bold\">141.556</span>,                  <span style=\"color: #7f7f7f; text-decoration-color: #7f7f7f\">           </span>\n",
       "<span style=\"color: #7fbfbf; text-decoration-color: #7fbfbf\">                    </span>         <span style=\"color: #008000; text-decoration-color: #008000\">'eval_steps_per_second'</span>: <span style=\"color: #008080; text-decoration-color: #008080; font-weight: bold\">8.864</span>, <span style=\"color: #008000; text-decoration-color: #008000\">'epoch'</span>: <span style=\"color: #008080; text-decoration-color: #008080; font-weight: bold\">1.96</span>,       <span style=\"color: #7f7f7f; text-decoration-color: #7f7f7f\">           </span>\n",
       "<span style=\"color: #7fbfbf; text-decoration-color: #7fbfbf\">                    </span>         <span style=\"color: #008000; text-decoration-color: #008000\">'step'</span>: <span style=\"color: #008080; text-decoration-color: #008080; font-weight: bold\">800</span><span style=\"font-weight: bold\">}</span>, <span style=\"font-weight: bold\">{</span><span style=\"color: #008000; text-decoration-color: #008000\">'loss'</span>: <span style=\"color: #008080; text-decoration-color: #008080; font-weight: bold\">3.0619</span>, <span style=\"color: #008000; text-decoration-color: #008000\">'learning_rate'</span>:      <span style=\"color: #7f7f7f; text-decoration-color: #7f7f7f\">           </span>\n",
       "<span style=\"color: #7fbfbf; text-decoration-color: #7fbfbf\">                    </span>         <span style=\"color: #008080; text-decoration-color: #008080; font-weight: bold\">0.0003294640787536245</span>, <span style=\"color: #008000; text-decoration-color: #008000\">'epoch'</span>: <span style=\"color: #008080; text-decoration-color: #008080; font-weight: bold\">2.0</span>, <span style=\"color: #008000; text-decoration-color: #008000\">'step'</span>: <span style=\"color: #008080; text-decoration-color: #008080; font-weight: bold\">814</span><span style=\"font-weight: bold\">}]</span>,  <span style=\"color: #7f7f7f; text-decoration-color: #7f7f7f\">           </span>\n",
       "<span style=\"color: #7fbfbf; text-decoration-color: #7fbfbf\">                    </span>         <span style=\"color: #808000; text-decoration-color: #808000\">best_metric</span>=<span style=\"color: #800080; text-decoration-color: #800080; font-style: italic\">None</span>, <span style=\"color: #808000; text-decoration-color: #808000\">best_model_checkpoint</span>=<span style=\"color: #800080; text-decoration-color: #800080; font-style: italic\">None</span>,        <span style=\"color: #7f7f7f; text-decoration-color: #7f7f7f\">           </span>\n",
       "<span style=\"color: #7fbfbf; text-decoration-color: #7fbfbf\">                    </span>         <span style=\"color: #808000; text-decoration-color: #808000\">is_local_process_zero</span>=<span style=\"color: #00ff00; text-decoration-color: #00ff00; font-style: italic\">True</span>,                          <span style=\"color: #7f7f7f; text-decoration-color: #7f7f7f\">           </span>\n",
       "<span style=\"color: #7fbfbf; text-decoration-color: #7fbfbf\">                    </span>         <span style=\"color: #808000; text-decoration-color: #808000\">is_world_process_zero</span>=<span style=\"color: #00ff00; text-decoration-color: #00ff00; font-style: italic\">True</span>,                          <span style=\"color: #7f7f7f; text-decoration-color: #7f7f7f\">           </span>\n",
       "<span style=\"color: #7fbfbf; text-decoration-color: #7fbfbf\">                    </span>         <span style=\"color: #808000; text-decoration-color: #808000\">is_hyper_param_search</span>=<span style=\"color: #ff0000; text-decoration-color: #ff0000; font-style: italic\">False</span>, <span style=\"color: #808000; text-decoration-color: #808000\">trial_name</span>=<span style=\"color: #800080; text-decoration-color: #800080; font-style: italic\">None</span>,        <span style=\"color: #7f7f7f; text-decoration-color: #7f7f7f\">           </span>\n",
       "<span style=\"color: #7fbfbf; text-decoration-color: #7fbfbf\">                    </span>         <span style=\"color: #808000; text-decoration-color: #808000\">trial_params</span>=<span style=\"color: #800080; text-decoration-color: #800080; font-style: italic\">None</span><span style=\"font-weight: bold\">)</span>                                   <span style=\"color: #7f7f7f; text-decoration-color: #7f7f7f\">           </span>\n",
       "</pre>\n"
      ],
      "text/plain": [
       "\u001b[2;36m                   \u001b[0m\u001b[2;36m \u001b[0m\u001b[34mINFO    \u001b[0m \u001b[1;35mTrainerState\u001b[0m\u001b[1m(\u001b[0m\u001b[33mepoch\u001b[0m=\u001b[1;36m1\u001b[0m\u001b[1;36m.9987730061349693\u001b[0m,               \u001b]8;id=27824;file://C:\\Users\\Hedronstone\\Desktop\\miniGPT2\\operations\\train.py\u001b\\\u001b[2mtrain.py\u001b[0m\u001b]8;;\u001b\\\u001b[2m:\u001b[0m\u001b]8;id=588508;file://C:\\Users\\Hedronstone\\Desktop\\miniGPT2\\operations\\train.py#41\u001b\\\u001b[2m41\u001b[0m\u001b]8;;\u001b\\\n",
       "\u001b[2;36m                    \u001b[0m         \u001b[33mglobal_step\u001b[0m=\u001b[1;36m814\u001b[0m, \u001b[33mmax_steps\u001b[0m=\u001b[1;36m2035\u001b[0m, \u001b[33mnum_train_epochs\u001b[0m=\u001b[1;36m5\u001b[0m, \u001b[2m           \u001b[0m\n",
       "\u001b[2;36m                    \u001b[0m         \u001b[33mtotal_flos\u001b[0m=\u001b[1;36m6810838106112000\u001b[0m\u001b[1;36m.0\u001b[0m,                       \u001b[2m           \u001b[0m\n",
       "\u001b[2;36m                    \u001b[0m         \u001b[33mlog_history\u001b[0m=\u001b[1m[\u001b[0m\u001b[1m{\u001b[0m\u001b[32m'eval_loss'\u001b[0m: \u001b[1;36m3.2401208877563477\u001b[0m,       \u001b[2m           \u001b[0m\n",
       "\u001b[2;36m                    \u001b[0m         \u001b[32m'eval_runtime'\u001b[0m: \u001b[1;36m23.6545\u001b[0m, \u001b[32m'eval_samples_per_second'\u001b[0m:  \u001b[2m           \u001b[0m\n",
       "\u001b[2;36m                    \u001b[0m         \u001b[1;36m137.733\u001b[0m, \u001b[32m'eval_steps_per_second'\u001b[0m: \u001b[1;36m8.624\u001b[0m, \u001b[32m'epoch'\u001b[0m:    \u001b[2m           \u001b[0m\n",
       "\u001b[2;36m                    \u001b[0m         \u001b[1;36m0.49\u001b[0m, \u001b[32m'step'\u001b[0m: \u001b[1;36m200\u001b[0m\u001b[1m}\u001b[0m, \u001b[1m{\u001b[0m\u001b[32m'eval_loss'\u001b[0m: \u001b[1;36m3.217250108718872\u001b[0m, \u001b[2m           \u001b[0m\n",
       "\u001b[2;36m                    \u001b[0m         \u001b[32m'eval_runtime'\u001b[0m: \u001b[1;36m23.6908\u001b[0m, \u001b[32m'eval_samples_per_second'\u001b[0m:  \u001b[2m           \u001b[0m\n",
       "\u001b[2;36m                    \u001b[0m         \u001b[1;36m137.522\u001b[0m, \u001b[32m'eval_steps_per_second'\u001b[0m: \u001b[1;36m8.611\u001b[0m, \u001b[32m'epoch'\u001b[0m:    \u001b[2m           \u001b[0m\n",
       "\u001b[2;36m                    \u001b[0m         \u001b[1;36m0.98\u001b[0m, \u001b[32m'step'\u001b[0m: \u001b[1;36m400\u001b[0m\u001b[1m}\u001b[0m, \u001b[1m{\u001b[0m\u001b[32m'loss'\u001b[0m: \u001b[1;36m3.2845\u001b[0m,                 \u001b[2m           \u001b[0m\n",
       "\u001b[2;36m                    \u001b[0m         \u001b[32m'learning_rate'\u001b[0m: \u001b[1;36m0.0004540624090114981\u001b[0m, \u001b[32m'epoch'\u001b[0m:     \u001b[2m           \u001b[0m\n",
       "\u001b[2;36m                    \u001b[0m         \u001b[1;36m1.0\u001b[0m, \u001b[32m'step'\u001b[0m: \u001b[1;36m407\u001b[0m\u001b[1m}\u001b[0m, \u001b[1m{\u001b[0m\u001b[32m'eval_loss'\u001b[0m: \u001b[1;36m3.223500967025757\u001b[0m,  \u001b[2m           \u001b[0m\n",
       "\u001b[2;36m                    \u001b[0m         \u001b[32m'eval_runtime'\u001b[0m: \u001b[1;36m23.6332\u001b[0m, \u001b[32m'eval_samples_per_second'\u001b[0m:  \u001b[2m           \u001b[0m\n",
       "\u001b[2;36m                    \u001b[0m         \u001b[1;36m137.857\u001b[0m, \u001b[32m'eval_steps_per_second'\u001b[0m: \u001b[1;36m8.632\u001b[0m, \u001b[32m'epoch'\u001b[0m:    \u001b[2m           \u001b[0m\n",
       "\u001b[2;36m                    \u001b[0m         \u001b[1;36m1.47\u001b[0m, \u001b[32m'step'\u001b[0m: \u001b[1;36m600\u001b[0m\u001b[1m}\u001b[0m, \u001b[1m{\u001b[0m\u001b[32m'eval_loss'\u001b[0m:                    \u001b[2m           \u001b[0m\n",
       "\u001b[2;36m                    \u001b[0m         \u001b[1;36m3.2089829444885254\u001b[0m, \u001b[32m'eval_runtime'\u001b[0m: \u001b[1;36m23.0157\u001b[0m,         \u001b[2m           \u001b[0m\n",
       "\u001b[2;36m                    \u001b[0m         \u001b[32m'eval_samples_per_second'\u001b[0m: \u001b[1;36m141.556\u001b[0m,                  \u001b[2m           \u001b[0m\n",
       "\u001b[2;36m                    \u001b[0m         \u001b[32m'eval_steps_per_second'\u001b[0m: \u001b[1;36m8.864\u001b[0m, \u001b[32m'epoch'\u001b[0m: \u001b[1;36m1.96\u001b[0m,       \u001b[2m           \u001b[0m\n",
       "\u001b[2;36m                    \u001b[0m         \u001b[32m'step'\u001b[0m: \u001b[1;36m800\u001b[0m\u001b[1m}\u001b[0m, \u001b[1m{\u001b[0m\u001b[32m'loss'\u001b[0m: \u001b[1;36m3.0619\u001b[0m, \u001b[32m'learning_rate'\u001b[0m:      \u001b[2m           \u001b[0m\n",
       "\u001b[2;36m                    \u001b[0m         \u001b[1;36m0.0003294640787536245\u001b[0m, \u001b[32m'epoch'\u001b[0m: \u001b[1;36m2.0\u001b[0m, \u001b[32m'step'\u001b[0m: \u001b[1;36m814\u001b[0m\u001b[1m}\u001b[0m\u001b[1m]\u001b[0m,  \u001b[2m           \u001b[0m\n",
       "\u001b[2;36m                    \u001b[0m         \u001b[33mbest_metric\u001b[0m=\u001b[3;35mNone\u001b[0m, \u001b[33mbest_model_checkpoint\u001b[0m=\u001b[3;35mNone\u001b[0m,        \u001b[2m           \u001b[0m\n",
       "\u001b[2;36m                    \u001b[0m         \u001b[33mis_local_process_zero\u001b[0m=\u001b[3;92mTrue\u001b[0m,                          \u001b[2m           \u001b[0m\n",
       "\u001b[2;36m                    \u001b[0m         \u001b[33mis_world_process_zero\u001b[0m=\u001b[3;92mTrue\u001b[0m,                          \u001b[2m           \u001b[0m\n",
       "\u001b[2;36m                    \u001b[0m         \u001b[33mis_hyper_param_search\u001b[0m=\u001b[3;91mFalse\u001b[0m, \u001b[33mtrial_name\u001b[0m=\u001b[3;35mNone\u001b[0m,        \u001b[2m           \u001b[0m\n",
       "\u001b[2;36m                    \u001b[0m         \u001b[33mtrial_params\u001b[0m=\u001b[3;35mNone\u001b[0m\u001b[1m)\u001b[0m                                   \u001b[2m           \u001b[0m\n"
      ]
     },
     "metadata": {},
     "output_type": "display_data"
    },
    {
     "name": "stdout",
     "output_type": "stream",
     "text": [
      "{'loss': 3.0619, 'learning_rate': 0.0003294640787536245, 'epoch': 2.0}\n"
     ]
    },
    {
     "name": "stderr",
     "output_type": "stream",
     "text": [
      "***** Running Evaluation *****\n",
      "  Num examples = 3258\n",
      "  Batch size = 16\n"
     ]
    },
    {
     "data": {
      "application/vnd.jupyter.widget-view+json": {
       "model_id": "",
       "version_major": 2,
       "version_minor": 0
      },
      "text/plain": [
       "  0%|          | 0/204 [00:00<?, ?it/s]"
      ]
     },
     "metadata": {},
     "output_type": "display_data"
    },
    {
     "data": {
      "text/html": [
       "<pre style=\"white-space:pre;overflow-x:auto;line-height:normal;font-family:Menlo,'DejaVu Sans Mono',consolas,'Courier New',monospace\"><span style=\"color: #7fbfbf; text-decoration-color: #7fbfbf\">[09/30/22 19:34:12] </span><span style=\"color: #000080; text-decoration-color: #000080\">INFO    </span> <span style=\"font-weight: bold\">{</span><span style=\"color: #008000; text-decoration-color: #008000\">'eval_loss'</span>: <span style=\"color: #008080; text-decoration-color: #008080; font-weight: bold\">3.2308406829833984</span>, <span style=\"color: #008000; text-decoration-color: #008000\">'eval_runtime'</span>:    <a href=\"file://C:\\Users\\Hedronstone\\Desktop\\miniGPT2\\operations\\train.py\" target=\"_blank\"><span style=\"color: #7f7f7f; text-decoration-color: #7f7f7f\">train.py</span></a><span style=\"color: #7f7f7f; text-decoration-color: #7f7f7f\">:</span><a href=\"file://C:\\Users\\Hedronstone\\Desktop\\miniGPT2\\operations\\train.py#39\" target=\"_blank\"><span style=\"color: #7f7f7f; text-decoration-color: #7f7f7f\">39</span></a>\n",
       "<span style=\"color: #7fbfbf; text-decoration-color: #7fbfbf\">                    </span>         <span style=\"color: #008080; text-decoration-color: #008080; font-weight: bold\">23.0147</span>, <span style=\"color: #008000; text-decoration-color: #008000\">'eval_samples_per_second'</span>: <span style=\"color: #008080; text-decoration-color: #008080; font-weight: bold\">141.562</span>,         <span style=\"color: #7f7f7f; text-decoration-color: #7f7f7f\">           </span>\n",
       "<span style=\"color: #7fbfbf; text-decoration-color: #7fbfbf\">                    </span>         <span style=\"color: #008000; text-decoration-color: #008000\">'eval_steps_per_second'</span>: <span style=\"color: #008080; text-decoration-color: #008080; font-weight: bold\">8.864</span>, <span style=\"color: #008000; text-decoration-color: #008000\">'epoch'</span>: <span style=\"color: #008080; text-decoration-color: #008080; font-weight: bold\">2.46</span><span style=\"font-weight: bold\">}</span>       <span style=\"color: #7f7f7f; text-decoration-color: #7f7f7f\">           </span>\n",
       "</pre>\n"
      ],
      "text/plain": [
       "\u001b[2;36m[09/30/22 19:34:12]\u001b[0m\u001b[2;36m \u001b[0m\u001b[34mINFO    \u001b[0m \u001b[1m{\u001b[0m\u001b[32m'eval_loss'\u001b[0m: \u001b[1;36m3.2308406829833984\u001b[0m, \u001b[32m'eval_runtime'\u001b[0m:    \u001b]8;id=208496;file://C:\\Users\\Hedronstone\\Desktop\\miniGPT2\\operations\\train.py\u001b\\\u001b[2mtrain.py\u001b[0m\u001b]8;;\u001b\\\u001b[2m:\u001b[0m\u001b]8;id=750800;file://C:\\Users\\Hedronstone\\Desktop\\miniGPT2\\operations\\train.py#39\u001b\\\u001b[2m39\u001b[0m\u001b]8;;\u001b\\\n",
       "\u001b[2;36m                    \u001b[0m         \u001b[1;36m23.0147\u001b[0m, \u001b[32m'eval_samples_per_second'\u001b[0m: \u001b[1;36m141.562\u001b[0m,         \u001b[2m           \u001b[0m\n",
       "\u001b[2;36m                    \u001b[0m         \u001b[32m'eval_steps_per_second'\u001b[0m: \u001b[1;36m8.864\u001b[0m, \u001b[32m'epoch'\u001b[0m: \u001b[1;36m2.46\u001b[0m\u001b[1m}\u001b[0m       \u001b[2m           \u001b[0m\n"
      ]
     },
     "metadata": {},
     "output_type": "display_data"
    },
    {
     "data": {
      "text/html": [
       "<pre style=\"white-space:pre;overflow-x:auto;line-height:normal;font-family:Menlo,'DejaVu Sans Mono',consolas,'Courier New',monospace\"><span style=\"color: #7fbfbf; text-decoration-color: #7fbfbf\">                    </span><span style=\"color: #000080; text-decoration-color: #000080\">INFO    </span> <span style=\"color: #800080; text-decoration-color: #800080; font-weight: bold\">TrainerState</span><span style=\"font-weight: bold\">(</span><span style=\"color: #808000; text-decoration-color: #808000\">epoch</span>=<span style=\"color: #008080; text-decoration-color: #008080; font-weight: bold\">2.456441717791411</span>,                <a href=\"file://C:\\Users\\Hedronstone\\Desktop\\miniGPT2\\operations\\train.py\" target=\"_blank\"><span style=\"color: #7f7f7f; text-decoration-color: #7f7f7f\">train.py</span></a><span style=\"color: #7f7f7f; text-decoration-color: #7f7f7f\">:</span><a href=\"file://C:\\Users\\Hedronstone\\Desktop\\miniGPT2\\operations\\train.py#41\" target=\"_blank\"><span style=\"color: #7f7f7f; text-decoration-color: #7f7f7f\">41</span></a>\n",
       "<span style=\"color: #7fbfbf; text-decoration-color: #7fbfbf\">                    </span>         <span style=\"color: #808000; text-decoration-color: #808000\">global_step</span>=<span style=\"color: #008080; text-decoration-color: #008080; font-weight: bold\">1000</span>, <span style=\"color: #808000; text-decoration-color: #808000\">max_steps</span>=<span style=\"color: #008080; text-decoration-color: #008080; font-weight: bold\">2035</span>,                    <span style=\"color: #7f7f7f; text-decoration-color: #7f7f7f\">           </span>\n",
       "<span style=\"color: #7fbfbf; text-decoration-color: #7fbfbf\">                    </span>         <span style=\"color: #808000; text-decoration-color: #808000\">num_train_epochs</span>=<span style=\"color: #008080; text-decoration-color: #008080; font-weight: bold\">5</span>, <span style=\"color: #808000; text-decoration-color: #808000\">total_flos</span>=<span style=\"color: #008080; text-decoration-color: #008080; font-weight: bold\">6810838106112000.0</span>,   <span style=\"color: #7f7f7f; text-decoration-color: #7f7f7f\">           </span>\n",
       "<span style=\"color: #7fbfbf; text-decoration-color: #7fbfbf\">                    </span>         <span style=\"color: #808000; text-decoration-color: #808000\">log_history</span>=<span style=\"font-weight: bold\">[{</span><span style=\"color: #008000; text-decoration-color: #008000\">'eval_loss'</span>: <span style=\"color: #008080; text-decoration-color: #008080; font-weight: bold\">3.2401208877563477</span>,       <span style=\"color: #7f7f7f; text-decoration-color: #7f7f7f\">           </span>\n",
       "<span style=\"color: #7fbfbf; text-decoration-color: #7fbfbf\">                    </span>         <span style=\"color: #008000; text-decoration-color: #008000\">'eval_runtime'</span>: <span style=\"color: #008080; text-decoration-color: #008080; font-weight: bold\">23.6545</span>, <span style=\"color: #008000; text-decoration-color: #008000\">'eval_samples_per_second'</span>:  <span style=\"color: #7f7f7f; text-decoration-color: #7f7f7f\">           </span>\n",
       "<span style=\"color: #7fbfbf; text-decoration-color: #7fbfbf\">                    </span>         <span style=\"color: #008080; text-decoration-color: #008080; font-weight: bold\">137.733</span>, <span style=\"color: #008000; text-decoration-color: #008000\">'eval_steps_per_second'</span>: <span style=\"color: #008080; text-decoration-color: #008080; font-weight: bold\">8.624</span>, <span style=\"color: #008000; text-decoration-color: #008000\">'epoch'</span>:    <span style=\"color: #7f7f7f; text-decoration-color: #7f7f7f\">           </span>\n",
       "<span style=\"color: #7fbfbf; text-decoration-color: #7fbfbf\">                    </span>         <span style=\"color: #008080; text-decoration-color: #008080; font-weight: bold\">0.49</span>, <span style=\"color: #008000; text-decoration-color: #008000\">'step'</span>: <span style=\"color: #008080; text-decoration-color: #008080; font-weight: bold\">200</span><span style=\"font-weight: bold\">}</span>, <span style=\"font-weight: bold\">{</span><span style=\"color: #008000; text-decoration-color: #008000\">'eval_loss'</span>: <span style=\"color: #008080; text-decoration-color: #008080; font-weight: bold\">3.217250108718872</span>, <span style=\"color: #7f7f7f; text-decoration-color: #7f7f7f\">           </span>\n",
       "<span style=\"color: #7fbfbf; text-decoration-color: #7fbfbf\">                    </span>         <span style=\"color: #008000; text-decoration-color: #008000\">'eval_runtime'</span>: <span style=\"color: #008080; text-decoration-color: #008080; font-weight: bold\">23.6908</span>, <span style=\"color: #008000; text-decoration-color: #008000\">'eval_samples_per_second'</span>:  <span style=\"color: #7f7f7f; text-decoration-color: #7f7f7f\">           </span>\n",
       "<span style=\"color: #7fbfbf; text-decoration-color: #7fbfbf\">                    </span>         <span style=\"color: #008080; text-decoration-color: #008080; font-weight: bold\">137.522</span>, <span style=\"color: #008000; text-decoration-color: #008000\">'eval_steps_per_second'</span>: <span style=\"color: #008080; text-decoration-color: #008080; font-weight: bold\">8.611</span>, <span style=\"color: #008000; text-decoration-color: #008000\">'epoch'</span>:    <span style=\"color: #7f7f7f; text-decoration-color: #7f7f7f\">           </span>\n",
       "<span style=\"color: #7fbfbf; text-decoration-color: #7fbfbf\">                    </span>         <span style=\"color: #008080; text-decoration-color: #008080; font-weight: bold\">0.98</span>, <span style=\"color: #008000; text-decoration-color: #008000\">'step'</span>: <span style=\"color: #008080; text-decoration-color: #008080; font-weight: bold\">400</span><span style=\"font-weight: bold\">}</span>, <span style=\"font-weight: bold\">{</span><span style=\"color: #008000; text-decoration-color: #008000\">'loss'</span>: <span style=\"color: #008080; text-decoration-color: #008080; font-weight: bold\">3.2845</span>,                 <span style=\"color: #7f7f7f; text-decoration-color: #7f7f7f\">           </span>\n",
       "<span style=\"color: #7fbfbf; text-decoration-color: #7fbfbf\">                    </span>         <span style=\"color: #008000; text-decoration-color: #008000\">'learning_rate'</span>: <span style=\"color: #008080; text-decoration-color: #008080; font-weight: bold\">0.0004540624090114981</span>, <span style=\"color: #008000; text-decoration-color: #008000\">'epoch'</span>:     <span style=\"color: #7f7f7f; text-decoration-color: #7f7f7f\">           </span>\n",
       "<span style=\"color: #7fbfbf; text-decoration-color: #7fbfbf\">                    </span>         <span style=\"color: #008080; text-decoration-color: #008080; font-weight: bold\">1.0</span>, <span style=\"color: #008000; text-decoration-color: #008000\">'step'</span>: <span style=\"color: #008080; text-decoration-color: #008080; font-weight: bold\">407</span><span style=\"font-weight: bold\">}</span>, <span style=\"font-weight: bold\">{</span><span style=\"color: #008000; text-decoration-color: #008000\">'eval_loss'</span>: <span style=\"color: #008080; text-decoration-color: #008080; font-weight: bold\">3.223500967025757</span>,  <span style=\"color: #7f7f7f; text-decoration-color: #7f7f7f\">           </span>\n",
       "<span style=\"color: #7fbfbf; text-decoration-color: #7fbfbf\">                    </span>         <span style=\"color: #008000; text-decoration-color: #008000\">'eval_runtime'</span>: <span style=\"color: #008080; text-decoration-color: #008080; font-weight: bold\">23.6332</span>, <span style=\"color: #008000; text-decoration-color: #008000\">'eval_samples_per_second'</span>:  <span style=\"color: #7f7f7f; text-decoration-color: #7f7f7f\">           </span>\n",
       "<span style=\"color: #7fbfbf; text-decoration-color: #7fbfbf\">                    </span>         <span style=\"color: #008080; text-decoration-color: #008080; font-weight: bold\">137.857</span>, <span style=\"color: #008000; text-decoration-color: #008000\">'eval_steps_per_second'</span>: <span style=\"color: #008080; text-decoration-color: #008080; font-weight: bold\">8.632</span>, <span style=\"color: #008000; text-decoration-color: #008000\">'epoch'</span>:    <span style=\"color: #7f7f7f; text-decoration-color: #7f7f7f\">           </span>\n",
       "<span style=\"color: #7fbfbf; text-decoration-color: #7fbfbf\">                    </span>         <span style=\"color: #008080; text-decoration-color: #008080; font-weight: bold\">1.47</span>, <span style=\"color: #008000; text-decoration-color: #008000\">'step'</span>: <span style=\"color: #008080; text-decoration-color: #008080; font-weight: bold\">600</span><span style=\"font-weight: bold\">}</span>, <span style=\"font-weight: bold\">{</span><span style=\"color: #008000; text-decoration-color: #008000\">'eval_loss'</span>:                    <span style=\"color: #7f7f7f; text-decoration-color: #7f7f7f\">           </span>\n",
       "<span style=\"color: #7fbfbf; text-decoration-color: #7fbfbf\">                    </span>         <span style=\"color: #008080; text-decoration-color: #008080; font-weight: bold\">3.2089829444885254</span>, <span style=\"color: #008000; text-decoration-color: #008000\">'eval_runtime'</span>: <span style=\"color: #008080; text-decoration-color: #008080; font-weight: bold\">23.0157</span>,         <span style=\"color: #7f7f7f; text-decoration-color: #7f7f7f\">           </span>\n",
       "<span style=\"color: #7fbfbf; text-decoration-color: #7fbfbf\">                    </span>         <span style=\"color: #008000; text-decoration-color: #008000\">'eval_samples_per_second'</span>: <span style=\"color: #008080; text-decoration-color: #008080; font-weight: bold\">141.556</span>,                  <span style=\"color: #7f7f7f; text-decoration-color: #7f7f7f\">           </span>\n",
       "<span style=\"color: #7fbfbf; text-decoration-color: #7fbfbf\">                    </span>         <span style=\"color: #008000; text-decoration-color: #008000\">'eval_steps_per_second'</span>: <span style=\"color: #008080; text-decoration-color: #008080; font-weight: bold\">8.864</span>, <span style=\"color: #008000; text-decoration-color: #008000\">'epoch'</span>: <span style=\"color: #008080; text-decoration-color: #008080; font-weight: bold\">1.96</span>,       <span style=\"color: #7f7f7f; text-decoration-color: #7f7f7f\">           </span>\n",
       "<span style=\"color: #7fbfbf; text-decoration-color: #7fbfbf\">                    </span>         <span style=\"color: #008000; text-decoration-color: #008000\">'step'</span>: <span style=\"color: #008080; text-decoration-color: #008080; font-weight: bold\">800</span><span style=\"font-weight: bold\">}</span>, <span style=\"font-weight: bold\">{</span><span style=\"color: #008000; text-decoration-color: #008000\">'loss'</span>: <span style=\"color: #008080; text-decoration-color: #008080; font-weight: bold\">3.0619</span>, <span style=\"color: #008000; text-decoration-color: #008000\">'learning_rate'</span>:      <span style=\"color: #7f7f7f; text-decoration-color: #7f7f7f\">           </span>\n",
       "<span style=\"color: #7fbfbf; text-decoration-color: #7fbfbf\">                    </span>         <span style=\"color: #008080; text-decoration-color: #008080; font-weight: bold\">0.0003294640787536245</span>, <span style=\"color: #008000; text-decoration-color: #008000\">'epoch'</span>: <span style=\"color: #008080; text-decoration-color: #008080; font-weight: bold\">2.0</span>, <span style=\"color: #008000; text-decoration-color: #008000\">'step'</span>: <span style=\"color: #008080; text-decoration-color: #008080; font-weight: bold\">814</span><span style=\"font-weight: bold\">}</span>,   <span style=\"color: #7f7f7f; text-decoration-color: #7f7f7f\">           </span>\n",
       "<span style=\"color: #7fbfbf; text-decoration-color: #7fbfbf\">                    </span>         <span style=\"font-weight: bold\">{</span><span style=\"color: #008000; text-decoration-color: #008000\">'eval_loss'</span>: <span style=\"color: #008080; text-decoration-color: #008080; font-weight: bold\">3.2308406829833984</span>, <span style=\"color: #008000; text-decoration-color: #008000\">'eval_runtime'</span>:    <span style=\"color: #7f7f7f; text-decoration-color: #7f7f7f\">           </span>\n",
       "<span style=\"color: #7fbfbf; text-decoration-color: #7fbfbf\">                    </span>         <span style=\"color: #008080; text-decoration-color: #008080; font-weight: bold\">23.0147</span>, <span style=\"color: #008000; text-decoration-color: #008000\">'eval_samples_per_second'</span>: <span style=\"color: #008080; text-decoration-color: #008080; font-weight: bold\">141.562</span>,         <span style=\"color: #7f7f7f; text-decoration-color: #7f7f7f\">           </span>\n",
       "<span style=\"color: #7fbfbf; text-decoration-color: #7fbfbf\">                    </span>         <span style=\"color: #008000; text-decoration-color: #008000\">'eval_steps_per_second'</span>: <span style=\"color: #008080; text-decoration-color: #008080; font-weight: bold\">8.864</span>, <span style=\"color: #008000; text-decoration-color: #008000\">'epoch'</span>: <span style=\"color: #008080; text-decoration-color: #008080; font-weight: bold\">2.46</span>,       <span style=\"color: #7f7f7f; text-decoration-color: #7f7f7f\">           </span>\n",
       "<span style=\"color: #7fbfbf; text-decoration-color: #7fbfbf\">                    </span>         <span style=\"color: #008000; text-decoration-color: #008000\">'step'</span>: <span style=\"color: #008080; text-decoration-color: #008080; font-weight: bold\">1000</span><span style=\"font-weight: bold\">}]</span>, <span style=\"color: #808000; text-decoration-color: #808000\">best_metric</span>=<span style=\"color: #800080; text-decoration-color: #800080; font-style: italic\">None</span>,                    <span style=\"color: #7f7f7f; text-decoration-color: #7f7f7f\">           </span>\n",
       "<span style=\"color: #7fbfbf; text-decoration-color: #7fbfbf\">                    </span>         <span style=\"color: #808000; text-decoration-color: #808000\">best_model_checkpoint</span>=<span style=\"color: #800080; text-decoration-color: #800080; font-style: italic\">None</span>,                          <span style=\"color: #7f7f7f; text-decoration-color: #7f7f7f\">           </span>\n",
       "<span style=\"color: #7fbfbf; text-decoration-color: #7fbfbf\">                    </span>         <span style=\"color: #808000; text-decoration-color: #808000\">is_local_process_zero</span>=<span style=\"color: #00ff00; text-decoration-color: #00ff00; font-style: italic\">True</span>,                          <span style=\"color: #7f7f7f; text-decoration-color: #7f7f7f\">           </span>\n",
       "<span style=\"color: #7fbfbf; text-decoration-color: #7fbfbf\">                    </span>         <span style=\"color: #808000; text-decoration-color: #808000\">is_world_process_zero</span>=<span style=\"color: #00ff00; text-decoration-color: #00ff00; font-style: italic\">True</span>,                          <span style=\"color: #7f7f7f; text-decoration-color: #7f7f7f\">           </span>\n",
       "<span style=\"color: #7fbfbf; text-decoration-color: #7fbfbf\">                    </span>         <span style=\"color: #808000; text-decoration-color: #808000\">is_hyper_param_search</span>=<span style=\"color: #ff0000; text-decoration-color: #ff0000; font-style: italic\">False</span>, <span style=\"color: #808000; text-decoration-color: #808000\">trial_name</span>=<span style=\"color: #800080; text-decoration-color: #800080; font-style: italic\">None</span>,        <span style=\"color: #7f7f7f; text-decoration-color: #7f7f7f\">           </span>\n",
       "<span style=\"color: #7fbfbf; text-decoration-color: #7fbfbf\">                    </span>         <span style=\"color: #808000; text-decoration-color: #808000\">trial_params</span>=<span style=\"color: #800080; text-decoration-color: #800080; font-style: italic\">None</span><span style=\"font-weight: bold\">)</span>                                   <span style=\"color: #7f7f7f; text-decoration-color: #7f7f7f\">           </span>\n",
       "</pre>\n"
      ],
      "text/plain": [
       "\u001b[2;36m                   \u001b[0m\u001b[2;36m \u001b[0m\u001b[34mINFO    \u001b[0m \u001b[1;35mTrainerState\u001b[0m\u001b[1m(\u001b[0m\u001b[33mepoch\u001b[0m=\u001b[1;36m2\u001b[0m\u001b[1;36m.456441717791411\u001b[0m,                \u001b]8;id=681453;file://C:\\Users\\Hedronstone\\Desktop\\miniGPT2\\operations\\train.py\u001b\\\u001b[2mtrain.py\u001b[0m\u001b]8;;\u001b\\\u001b[2m:\u001b[0m\u001b]8;id=735392;file://C:\\Users\\Hedronstone\\Desktop\\miniGPT2\\operations\\train.py#41\u001b\\\u001b[2m41\u001b[0m\u001b]8;;\u001b\\\n",
       "\u001b[2;36m                    \u001b[0m         \u001b[33mglobal_step\u001b[0m=\u001b[1;36m1000\u001b[0m, \u001b[33mmax_steps\u001b[0m=\u001b[1;36m2035\u001b[0m,                    \u001b[2m           \u001b[0m\n",
       "\u001b[2;36m                    \u001b[0m         \u001b[33mnum_train_epochs\u001b[0m=\u001b[1;36m5\u001b[0m, \u001b[33mtotal_flos\u001b[0m=\u001b[1;36m6810838106112000\u001b[0m\u001b[1;36m.0\u001b[0m,   \u001b[2m           \u001b[0m\n",
       "\u001b[2;36m                    \u001b[0m         \u001b[33mlog_history\u001b[0m=\u001b[1m[\u001b[0m\u001b[1m{\u001b[0m\u001b[32m'eval_loss'\u001b[0m: \u001b[1;36m3.2401208877563477\u001b[0m,       \u001b[2m           \u001b[0m\n",
       "\u001b[2;36m                    \u001b[0m         \u001b[32m'eval_runtime'\u001b[0m: \u001b[1;36m23.6545\u001b[0m, \u001b[32m'eval_samples_per_second'\u001b[0m:  \u001b[2m           \u001b[0m\n",
       "\u001b[2;36m                    \u001b[0m         \u001b[1;36m137.733\u001b[0m, \u001b[32m'eval_steps_per_second'\u001b[0m: \u001b[1;36m8.624\u001b[0m, \u001b[32m'epoch'\u001b[0m:    \u001b[2m           \u001b[0m\n",
       "\u001b[2;36m                    \u001b[0m         \u001b[1;36m0.49\u001b[0m, \u001b[32m'step'\u001b[0m: \u001b[1;36m200\u001b[0m\u001b[1m}\u001b[0m, \u001b[1m{\u001b[0m\u001b[32m'eval_loss'\u001b[0m: \u001b[1;36m3.217250108718872\u001b[0m, \u001b[2m           \u001b[0m\n",
       "\u001b[2;36m                    \u001b[0m         \u001b[32m'eval_runtime'\u001b[0m: \u001b[1;36m23.6908\u001b[0m, \u001b[32m'eval_samples_per_second'\u001b[0m:  \u001b[2m           \u001b[0m\n",
       "\u001b[2;36m                    \u001b[0m         \u001b[1;36m137.522\u001b[0m, \u001b[32m'eval_steps_per_second'\u001b[0m: \u001b[1;36m8.611\u001b[0m, \u001b[32m'epoch'\u001b[0m:    \u001b[2m           \u001b[0m\n",
       "\u001b[2;36m                    \u001b[0m         \u001b[1;36m0.98\u001b[0m, \u001b[32m'step'\u001b[0m: \u001b[1;36m400\u001b[0m\u001b[1m}\u001b[0m, \u001b[1m{\u001b[0m\u001b[32m'loss'\u001b[0m: \u001b[1;36m3.2845\u001b[0m,                 \u001b[2m           \u001b[0m\n",
       "\u001b[2;36m                    \u001b[0m         \u001b[32m'learning_rate'\u001b[0m: \u001b[1;36m0.0004540624090114981\u001b[0m, \u001b[32m'epoch'\u001b[0m:     \u001b[2m           \u001b[0m\n",
       "\u001b[2;36m                    \u001b[0m         \u001b[1;36m1.0\u001b[0m, \u001b[32m'step'\u001b[0m: \u001b[1;36m407\u001b[0m\u001b[1m}\u001b[0m, \u001b[1m{\u001b[0m\u001b[32m'eval_loss'\u001b[0m: \u001b[1;36m3.223500967025757\u001b[0m,  \u001b[2m           \u001b[0m\n",
       "\u001b[2;36m                    \u001b[0m         \u001b[32m'eval_runtime'\u001b[0m: \u001b[1;36m23.6332\u001b[0m, \u001b[32m'eval_samples_per_second'\u001b[0m:  \u001b[2m           \u001b[0m\n",
       "\u001b[2;36m                    \u001b[0m         \u001b[1;36m137.857\u001b[0m, \u001b[32m'eval_steps_per_second'\u001b[0m: \u001b[1;36m8.632\u001b[0m, \u001b[32m'epoch'\u001b[0m:    \u001b[2m           \u001b[0m\n",
       "\u001b[2;36m                    \u001b[0m         \u001b[1;36m1.47\u001b[0m, \u001b[32m'step'\u001b[0m: \u001b[1;36m600\u001b[0m\u001b[1m}\u001b[0m, \u001b[1m{\u001b[0m\u001b[32m'eval_loss'\u001b[0m:                    \u001b[2m           \u001b[0m\n",
       "\u001b[2;36m                    \u001b[0m         \u001b[1;36m3.2089829444885254\u001b[0m, \u001b[32m'eval_runtime'\u001b[0m: \u001b[1;36m23.0157\u001b[0m,         \u001b[2m           \u001b[0m\n",
       "\u001b[2;36m                    \u001b[0m         \u001b[32m'eval_samples_per_second'\u001b[0m: \u001b[1;36m141.556\u001b[0m,                  \u001b[2m           \u001b[0m\n",
       "\u001b[2;36m                    \u001b[0m         \u001b[32m'eval_steps_per_second'\u001b[0m: \u001b[1;36m8.864\u001b[0m, \u001b[32m'epoch'\u001b[0m: \u001b[1;36m1.96\u001b[0m,       \u001b[2m           \u001b[0m\n",
       "\u001b[2;36m                    \u001b[0m         \u001b[32m'step'\u001b[0m: \u001b[1;36m800\u001b[0m\u001b[1m}\u001b[0m, \u001b[1m{\u001b[0m\u001b[32m'loss'\u001b[0m: \u001b[1;36m3.0619\u001b[0m, \u001b[32m'learning_rate'\u001b[0m:      \u001b[2m           \u001b[0m\n",
       "\u001b[2;36m                    \u001b[0m         \u001b[1;36m0.0003294640787536245\u001b[0m, \u001b[32m'epoch'\u001b[0m: \u001b[1;36m2.0\u001b[0m, \u001b[32m'step'\u001b[0m: \u001b[1;36m814\u001b[0m\u001b[1m}\u001b[0m,   \u001b[2m           \u001b[0m\n",
       "\u001b[2;36m                    \u001b[0m         \u001b[1m{\u001b[0m\u001b[32m'eval_loss'\u001b[0m: \u001b[1;36m3.2308406829833984\u001b[0m, \u001b[32m'eval_runtime'\u001b[0m:    \u001b[2m           \u001b[0m\n",
       "\u001b[2;36m                    \u001b[0m         \u001b[1;36m23.0147\u001b[0m, \u001b[32m'eval_samples_per_second'\u001b[0m: \u001b[1;36m141.562\u001b[0m,         \u001b[2m           \u001b[0m\n",
       "\u001b[2;36m                    \u001b[0m         \u001b[32m'eval_steps_per_second'\u001b[0m: \u001b[1;36m8.864\u001b[0m, \u001b[32m'epoch'\u001b[0m: \u001b[1;36m2.46\u001b[0m,       \u001b[2m           \u001b[0m\n",
       "\u001b[2;36m                    \u001b[0m         \u001b[32m'step'\u001b[0m: \u001b[1;36m1000\u001b[0m\u001b[1m}\u001b[0m\u001b[1m]\u001b[0m, \u001b[33mbest_metric\u001b[0m=\u001b[3;35mNone\u001b[0m,                    \u001b[2m           \u001b[0m\n",
       "\u001b[2;36m                    \u001b[0m         \u001b[33mbest_model_checkpoint\u001b[0m=\u001b[3;35mNone\u001b[0m,                          \u001b[2m           \u001b[0m\n",
       "\u001b[2;36m                    \u001b[0m         \u001b[33mis_local_process_zero\u001b[0m=\u001b[3;92mTrue\u001b[0m,                          \u001b[2m           \u001b[0m\n",
       "\u001b[2;36m                    \u001b[0m         \u001b[33mis_world_process_zero\u001b[0m=\u001b[3;92mTrue\u001b[0m,                          \u001b[2m           \u001b[0m\n",
       "\u001b[2;36m                    \u001b[0m         \u001b[33mis_hyper_param_search\u001b[0m=\u001b[3;91mFalse\u001b[0m, \u001b[33mtrial_name\u001b[0m=\u001b[3;35mNone\u001b[0m,        \u001b[2m           \u001b[0m\n",
       "\u001b[2;36m                    \u001b[0m         \u001b[33mtrial_params\u001b[0m=\u001b[3;35mNone\u001b[0m\u001b[1m)\u001b[0m                                   \u001b[2m           \u001b[0m\n"
      ]
     },
     "metadata": {},
     "output_type": "display_data"
    },
    {
     "name": "stdout",
     "output_type": "stream",
     "text": [
      "{'eval_loss': 3.2308406829833984, 'eval_runtime': 23.0147, 'eval_samples_per_second': 141.562, 'eval_steps_per_second': 8.864, 'epoch': 2.46}\n"
     ]
    },
    {
     "name": "stderr",
     "output_type": "stream",
     "text": [
      "Saving model checkpoint to artifacts\\checkpoint-1000\n",
      "Configuration saved in artifacts\\checkpoint-1000\\config.json\n",
      "Model weights saved in artifacts\\checkpoint-1000\\pytorch_model.bin\n",
      "tokenizer config file saved in artifacts\\checkpoint-1000\\tokenizer_config.json\n",
      "Special tokens file saved in artifacts\\checkpoint-1000\\special_tokens_map.json\n",
      "***** Running Evaluation *****\n",
      "  Num examples = 3258\n",
      "  Batch size = 16\n"
     ]
    },
    {
     "data": {
      "application/vnd.jupyter.widget-view+json": {
       "model_id": "",
       "version_major": 2,
       "version_minor": 0
      },
      "text/plain": [
       "  0%|          | 0/204 [00:00<?, ?it/s]"
      ]
     },
     "metadata": {},
     "output_type": "display_data"
    },
    {
     "data": {
      "text/html": [
       "<pre style=\"white-space:pre;overflow-x:auto;line-height:normal;font-family:Menlo,'DejaVu Sans Mono',consolas,'Courier New',monospace\"><span style=\"color: #7fbfbf; text-decoration-color: #7fbfbf\">[09/30/22 19:38:54] </span><span style=\"color: #000080; text-decoration-color: #000080\">INFO    </span> <span style=\"font-weight: bold\">{</span><span style=\"color: #008000; text-decoration-color: #008000\">'eval_loss'</span>: <span style=\"color: #008080; text-decoration-color: #008080; font-weight: bold\">3.22076678276062</span>, <span style=\"color: #008000; text-decoration-color: #008000\">'eval_runtime'</span>:      <a href=\"file://C:\\Users\\Hedronstone\\Desktop\\miniGPT2\\operations\\train.py\" target=\"_blank\"><span style=\"color: #7f7f7f; text-decoration-color: #7f7f7f\">train.py</span></a><span style=\"color: #7f7f7f; text-decoration-color: #7f7f7f\">:</span><a href=\"file://C:\\Users\\Hedronstone\\Desktop\\miniGPT2\\operations\\train.py#39\" target=\"_blank\"><span style=\"color: #7f7f7f; text-decoration-color: #7f7f7f\">39</span></a>\n",
       "<span style=\"color: #7fbfbf; text-decoration-color: #7fbfbf\">                    </span>         <span style=\"color: #008080; text-decoration-color: #008080; font-weight: bold\">23.0281</span>, <span style=\"color: #008000; text-decoration-color: #008000\">'eval_samples_per_second'</span>: <span style=\"color: #008080; text-decoration-color: #008080; font-weight: bold\">141.479</span>,         <span style=\"color: #7f7f7f; text-decoration-color: #7f7f7f\">           </span>\n",
       "<span style=\"color: #7fbfbf; text-decoration-color: #7fbfbf\">                    </span>         <span style=\"color: #008000; text-decoration-color: #008000\">'eval_steps_per_second'</span>: <span style=\"color: #008080; text-decoration-color: #008080; font-weight: bold\">8.859</span>, <span style=\"color: #008000; text-decoration-color: #008000\">'epoch'</span>: <span style=\"color: #008080; text-decoration-color: #008080; font-weight: bold\">2.95</span><span style=\"font-weight: bold\">}</span>       <span style=\"color: #7f7f7f; text-decoration-color: #7f7f7f\">           </span>\n",
       "</pre>\n"
      ],
      "text/plain": [
       "\u001b[2;36m[09/30/22 19:38:54]\u001b[0m\u001b[2;36m \u001b[0m\u001b[34mINFO    \u001b[0m \u001b[1m{\u001b[0m\u001b[32m'eval_loss'\u001b[0m: \u001b[1;36m3.22076678276062\u001b[0m, \u001b[32m'eval_runtime'\u001b[0m:      \u001b]8;id=571412;file://C:\\Users\\Hedronstone\\Desktop\\miniGPT2\\operations\\train.py\u001b\\\u001b[2mtrain.py\u001b[0m\u001b]8;;\u001b\\\u001b[2m:\u001b[0m\u001b]8;id=439898;file://C:\\Users\\Hedronstone\\Desktop\\miniGPT2\\operations\\train.py#39\u001b\\\u001b[2m39\u001b[0m\u001b]8;;\u001b\\\n",
       "\u001b[2;36m                    \u001b[0m         \u001b[1;36m23.0281\u001b[0m, \u001b[32m'eval_samples_per_second'\u001b[0m: \u001b[1;36m141.479\u001b[0m,         \u001b[2m           \u001b[0m\n",
       "\u001b[2;36m                    \u001b[0m         \u001b[32m'eval_steps_per_second'\u001b[0m: \u001b[1;36m8.859\u001b[0m, \u001b[32m'epoch'\u001b[0m: \u001b[1;36m2.95\u001b[0m\u001b[1m}\u001b[0m       \u001b[2m           \u001b[0m\n"
      ]
     },
     "metadata": {},
     "output_type": "display_data"
    },
    {
     "data": {
      "text/html": [
       "<pre style=\"white-space:pre;overflow-x:auto;line-height:normal;font-family:Menlo,'DejaVu Sans Mono',consolas,'Courier New',monospace\"><span style=\"color: #7fbfbf; text-decoration-color: #7fbfbf\">                    </span><span style=\"color: #000080; text-decoration-color: #000080\">INFO    </span> <span style=\"color: #800080; text-decoration-color: #800080; font-weight: bold\">TrainerState</span><span style=\"font-weight: bold\">(</span><span style=\"color: #808000; text-decoration-color: #808000\">epoch</span>=<span style=\"color: #008080; text-decoration-color: #008080; font-weight: bold\">2.947239263803681</span>,                <a href=\"file://C:\\Users\\Hedronstone\\Desktop\\miniGPT2\\operations\\train.py\" target=\"_blank\"><span style=\"color: #7f7f7f; text-decoration-color: #7f7f7f\">train.py</span></a><span style=\"color: #7f7f7f; text-decoration-color: #7f7f7f\">:</span><a href=\"file://C:\\Users\\Hedronstone\\Desktop\\miniGPT2\\operations\\train.py#41\" target=\"_blank\"><span style=\"color: #7f7f7f; text-decoration-color: #7f7f7f\">41</span></a>\n",
       "<span style=\"color: #7fbfbf; text-decoration-color: #7fbfbf\">                    </span>         <span style=\"color: #808000; text-decoration-color: #808000\">global_step</span>=<span style=\"color: #008080; text-decoration-color: #008080; font-weight: bold\">1200</span>, <span style=\"color: #808000; text-decoration-color: #808000\">max_steps</span>=<span style=\"color: #008080; text-decoration-color: #008080; font-weight: bold\">2035</span>,                    <span style=\"color: #7f7f7f; text-decoration-color: #7f7f7f\">           </span>\n",
       "<span style=\"color: #7fbfbf; text-decoration-color: #7fbfbf\">                    </span>         <span style=\"color: #808000; text-decoration-color: #808000\">num_train_epochs</span>=<span style=\"color: #008080; text-decoration-color: #008080; font-weight: bold\">5</span>, <span style=\"color: #808000; text-decoration-color: #808000\">total_flos</span>=<span style=\"color: #008080; text-decoration-color: #008080; font-weight: bold\">8366048280576000.0</span>,   <span style=\"color: #7f7f7f; text-decoration-color: #7f7f7f\">           </span>\n",
       "<span style=\"color: #7fbfbf; text-decoration-color: #7fbfbf\">                    </span>         <span style=\"color: #808000; text-decoration-color: #808000\">log_history</span>=<span style=\"font-weight: bold\">[{</span><span style=\"color: #008000; text-decoration-color: #008000\">'eval_loss'</span>: <span style=\"color: #008080; text-decoration-color: #008080; font-weight: bold\">3.2401208877563477</span>,       <span style=\"color: #7f7f7f; text-decoration-color: #7f7f7f\">           </span>\n",
       "<span style=\"color: #7fbfbf; text-decoration-color: #7fbfbf\">                    </span>         <span style=\"color: #008000; text-decoration-color: #008000\">'eval_runtime'</span>: <span style=\"color: #008080; text-decoration-color: #008080; font-weight: bold\">23.6545</span>, <span style=\"color: #008000; text-decoration-color: #008000\">'eval_samples_per_second'</span>:  <span style=\"color: #7f7f7f; text-decoration-color: #7f7f7f\">           </span>\n",
       "<span style=\"color: #7fbfbf; text-decoration-color: #7fbfbf\">                    </span>         <span style=\"color: #008080; text-decoration-color: #008080; font-weight: bold\">137.733</span>, <span style=\"color: #008000; text-decoration-color: #008000\">'eval_steps_per_second'</span>: <span style=\"color: #008080; text-decoration-color: #008080; font-weight: bold\">8.624</span>, <span style=\"color: #008000; text-decoration-color: #008000\">'epoch'</span>:    <span style=\"color: #7f7f7f; text-decoration-color: #7f7f7f\">           </span>\n",
       "<span style=\"color: #7fbfbf; text-decoration-color: #7fbfbf\">                    </span>         <span style=\"color: #008080; text-decoration-color: #008080; font-weight: bold\">0.49</span>, <span style=\"color: #008000; text-decoration-color: #008000\">'step'</span>: <span style=\"color: #008080; text-decoration-color: #008080; font-weight: bold\">200</span><span style=\"font-weight: bold\">}</span>, <span style=\"font-weight: bold\">{</span><span style=\"color: #008000; text-decoration-color: #008000\">'eval_loss'</span>: <span style=\"color: #008080; text-decoration-color: #008080; font-weight: bold\">3.217250108718872</span>, <span style=\"color: #7f7f7f; text-decoration-color: #7f7f7f\">           </span>\n",
       "<span style=\"color: #7fbfbf; text-decoration-color: #7fbfbf\">                    </span>         <span style=\"color: #008000; text-decoration-color: #008000\">'eval_runtime'</span>: <span style=\"color: #008080; text-decoration-color: #008080; font-weight: bold\">23.6908</span>, <span style=\"color: #008000; text-decoration-color: #008000\">'eval_samples_per_second'</span>:  <span style=\"color: #7f7f7f; text-decoration-color: #7f7f7f\">           </span>\n",
       "<span style=\"color: #7fbfbf; text-decoration-color: #7fbfbf\">                    </span>         <span style=\"color: #008080; text-decoration-color: #008080; font-weight: bold\">137.522</span>, <span style=\"color: #008000; text-decoration-color: #008000\">'eval_steps_per_second'</span>: <span style=\"color: #008080; text-decoration-color: #008080; font-weight: bold\">8.611</span>, <span style=\"color: #008000; text-decoration-color: #008000\">'epoch'</span>:    <span style=\"color: #7f7f7f; text-decoration-color: #7f7f7f\">           </span>\n",
       "<span style=\"color: #7fbfbf; text-decoration-color: #7fbfbf\">                    </span>         <span style=\"color: #008080; text-decoration-color: #008080; font-weight: bold\">0.98</span>, <span style=\"color: #008000; text-decoration-color: #008000\">'step'</span>: <span style=\"color: #008080; text-decoration-color: #008080; font-weight: bold\">400</span><span style=\"font-weight: bold\">}</span>, <span style=\"font-weight: bold\">{</span><span style=\"color: #008000; text-decoration-color: #008000\">'loss'</span>: <span style=\"color: #008080; text-decoration-color: #008080; font-weight: bold\">3.2845</span>,                 <span style=\"color: #7f7f7f; text-decoration-color: #7f7f7f\">           </span>\n",
       "<span style=\"color: #7fbfbf; text-decoration-color: #7fbfbf\">                    </span>         <span style=\"color: #008000; text-decoration-color: #008000\">'learning_rate'</span>: <span style=\"color: #008080; text-decoration-color: #008080; font-weight: bold\">0.0004540624090114981</span>, <span style=\"color: #008000; text-decoration-color: #008000\">'epoch'</span>:     <span style=\"color: #7f7f7f; text-decoration-color: #7f7f7f\">           </span>\n",
       "<span style=\"color: #7fbfbf; text-decoration-color: #7fbfbf\">                    </span>         <span style=\"color: #008080; text-decoration-color: #008080; font-weight: bold\">1.0</span>, <span style=\"color: #008000; text-decoration-color: #008000\">'step'</span>: <span style=\"color: #008080; text-decoration-color: #008080; font-weight: bold\">407</span><span style=\"font-weight: bold\">}</span>, <span style=\"font-weight: bold\">{</span><span style=\"color: #008000; text-decoration-color: #008000\">'eval_loss'</span>: <span style=\"color: #008080; text-decoration-color: #008080; font-weight: bold\">3.223500967025757</span>,  <span style=\"color: #7f7f7f; text-decoration-color: #7f7f7f\">           </span>\n",
       "<span style=\"color: #7fbfbf; text-decoration-color: #7fbfbf\">                    </span>         <span style=\"color: #008000; text-decoration-color: #008000\">'eval_runtime'</span>: <span style=\"color: #008080; text-decoration-color: #008080; font-weight: bold\">23.6332</span>, <span style=\"color: #008000; text-decoration-color: #008000\">'eval_samples_per_second'</span>:  <span style=\"color: #7f7f7f; text-decoration-color: #7f7f7f\">           </span>\n",
       "<span style=\"color: #7fbfbf; text-decoration-color: #7fbfbf\">                    </span>         <span style=\"color: #008080; text-decoration-color: #008080; font-weight: bold\">137.857</span>, <span style=\"color: #008000; text-decoration-color: #008000\">'eval_steps_per_second'</span>: <span style=\"color: #008080; text-decoration-color: #008080; font-weight: bold\">8.632</span>, <span style=\"color: #008000; text-decoration-color: #008000\">'epoch'</span>:    <span style=\"color: #7f7f7f; text-decoration-color: #7f7f7f\">           </span>\n",
       "<span style=\"color: #7fbfbf; text-decoration-color: #7fbfbf\">                    </span>         <span style=\"color: #008080; text-decoration-color: #008080; font-weight: bold\">1.47</span>, <span style=\"color: #008000; text-decoration-color: #008000\">'step'</span>: <span style=\"color: #008080; text-decoration-color: #008080; font-weight: bold\">600</span><span style=\"font-weight: bold\">}</span>, <span style=\"font-weight: bold\">{</span><span style=\"color: #008000; text-decoration-color: #008000\">'eval_loss'</span>:                    <span style=\"color: #7f7f7f; text-decoration-color: #7f7f7f\">           </span>\n",
       "<span style=\"color: #7fbfbf; text-decoration-color: #7fbfbf\">                    </span>         <span style=\"color: #008080; text-decoration-color: #008080; font-weight: bold\">3.2089829444885254</span>, <span style=\"color: #008000; text-decoration-color: #008000\">'eval_runtime'</span>: <span style=\"color: #008080; text-decoration-color: #008080; font-weight: bold\">23.0157</span>,         <span style=\"color: #7f7f7f; text-decoration-color: #7f7f7f\">           </span>\n",
       "<span style=\"color: #7fbfbf; text-decoration-color: #7fbfbf\">                    </span>         <span style=\"color: #008000; text-decoration-color: #008000\">'eval_samples_per_second'</span>: <span style=\"color: #008080; text-decoration-color: #008080; font-weight: bold\">141.556</span>,                  <span style=\"color: #7f7f7f; text-decoration-color: #7f7f7f\">           </span>\n",
       "<span style=\"color: #7fbfbf; text-decoration-color: #7fbfbf\">                    </span>         <span style=\"color: #008000; text-decoration-color: #008000\">'eval_steps_per_second'</span>: <span style=\"color: #008080; text-decoration-color: #008080; font-weight: bold\">8.864</span>, <span style=\"color: #008000; text-decoration-color: #008000\">'epoch'</span>: <span style=\"color: #008080; text-decoration-color: #008080; font-weight: bold\">1.96</span>,       <span style=\"color: #7f7f7f; text-decoration-color: #7f7f7f\">           </span>\n",
       "<span style=\"color: #7fbfbf; text-decoration-color: #7fbfbf\">                    </span>         <span style=\"color: #008000; text-decoration-color: #008000\">'step'</span>: <span style=\"color: #008080; text-decoration-color: #008080; font-weight: bold\">800</span><span style=\"font-weight: bold\">}</span>, <span style=\"font-weight: bold\">{</span><span style=\"color: #008000; text-decoration-color: #008000\">'loss'</span>: <span style=\"color: #008080; text-decoration-color: #008080; font-weight: bold\">3.0619</span>, <span style=\"color: #008000; text-decoration-color: #008000\">'learning_rate'</span>:      <span style=\"color: #7f7f7f; text-decoration-color: #7f7f7f\">           </span>\n",
       "<span style=\"color: #7fbfbf; text-decoration-color: #7fbfbf\">                    </span>         <span style=\"color: #008080; text-decoration-color: #008080; font-weight: bold\">0.0003294640787536245</span>, <span style=\"color: #008000; text-decoration-color: #008000\">'epoch'</span>: <span style=\"color: #008080; text-decoration-color: #008080; font-weight: bold\">2.0</span>, <span style=\"color: #008000; text-decoration-color: #008000\">'step'</span>: <span style=\"color: #008080; text-decoration-color: #008080; font-weight: bold\">814</span><span style=\"font-weight: bold\">}</span>,   <span style=\"color: #7f7f7f; text-decoration-color: #7f7f7f\">           </span>\n",
       "<span style=\"color: #7fbfbf; text-decoration-color: #7fbfbf\">                    </span>         <span style=\"font-weight: bold\">{</span><span style=\"color: #008000; text-decoration-color: #008000\">'eval_loss'</span>: <span style=\"color: #008080; text-decoration-color: #008080; font-weight: bold\">3.2308406829833984</span>, <span style=\"color: #008000; text-decoration-color: #008000\">'eval_runtime'</span>:    <span style=\"color: #7f7f7f; text-decoration-color: #7f7f7f\">           </span>\n",
       "<span style=\"color: #7fbfbf; text-decoration-color: #7fbfbf\">                    </span>         <span style=\"color: #008080; text-decoration-color: #008080; font-weight: bold\">23.0147</span>, <span style=\"color: #008000; text-decoration-color: #008000\">'eval_samples_per_second'</span>: <span style=\"color: #008080; text-decoration-color: #008080; font-weight: bold\">141.562</span>,         <span style=\"color: #7f7f7f; text-decoration-color: #7f7f7f\">           </span>\n",
       "<span style=\"color: #7fbfbf; text-decoration-color: #7fbfbf\">                    </span>         <span style=\"color: #008000; text-decoration-color: #008000\">'eval_steps_per_second'</span>: <span style=\"color: #008080; text-decoration-color: #008080; font-weight: bold\">8.864</span>, <span style=\"color: #008000; text-decoration-color: #008000\">'epoch'</span>: <span style=\"color: #008080; text-decoration-color: #008080; font-weight: bold\">2.46</span>,       <span style=\"color: #7f7f7f; text-decoration-color: #7f7f7f\">           </span>\n",
       "<span style=\"color: #7fbfbf; text-decoration-color: #7fbfbf\">                    </span>         <span style=\"color: #008000; text-decoration-color: #008000\">'step'</span>: <span style=\"color: #008080; text-decoration-color: #008080; font-weight: bold\">1000</span><span style=\"font-weight: bold\">}</span>, <span style=\"font-weight: bold\">{</span><span style=\"color: #008000; text-decoration-color: #008000\">'eval_loss'</span>: <span style=\"color: #008080; text-decoration-color: #008080; font-weight: bold\">3.22076678276062</span>,       <span style=\"color: #7f7f7f; text-decoration-color: #7f7f7f\">           </span>\n",
       "<span style=\"color: #7fbfbf; text-decoration-color: #7fbfbf\">                    </span>         <span style=\"color: #008000; text-decoration-color: #008000\">'eval_runtime'</span>: <span style=\"color: #008080; text-decoration-color: #008080; font-weight: bold\">23.0281</span>, <span style=\"color: #008000; text-decoration-color: #008000\">'eval_samples_per_second'</span>:  <span style=\"color: #7f7f7f; text-decoration-color: #7f7f7f\">           </span>\n",
       "<span style=\"color: #7fbfbf; text-decoration-color: #7fbfbf\">                    </span>         <span style=\"color: #008080; text-decoration-color: #008080; font-weight: bold\">141.479</span>, <span style=\"color: #008000; text-decoration-color: #008000\">'eval_steps_per_second'</span>: <span style=\"color: #008080; text-decoration-color: #008080; font-weight: bold\">8.859</span>, <span style=\"color: #008000; text-decoration-color: #008000\">'epoch'</span>:    <span style=\"color: #7f7f7f; text-decoration-color: #7f7f7f\">           </span>\n",
       "<span style=\"color: #7fbfbf; text-decoration-color: #7fbfbf\">                    </span>         <span style=\"color: #008080; text-decoration-color: #008080; font-weight: bold\">2.95</span>, <span style=\"color: #008000; text-decoration-color: #008000\">'step'</span>: <span style=\"color: #008080; text-decoration-color: #008080; font-weight: bold\">1200</span><span style=\"font-weight: bold\">}]</span>, <span style=\"color: #808000; text-decoration-color: #808000\">best_metric</span>=<span style=\"color: #800080; text-decoration-color: #800080; font-style: italic\">None</span>,              <span style=\"color: #7f7f7f; text-decoration-color: #7f7f7f\">           </span>\n",
       "<span style=\"color: #7fbfbf; text-decoration-color: #7fbfbf\">                    </span>         <span style=\"color: #808000; text-decoration-color: #808000\">best_model_checkpoint</span>=<span style=\"color: #800080; text-decoration-color: #800080; font-style: italic\">None</span>,                          <span style=\"color: #7f7f7f; text-decoration-color: #7f7f7f\">           </span>\n",
       "<span style=\"color: #7fbfbf; text-decoration-color: #7fbfbf\">                    </span>         <span style=\"color: #808000; text-decoration-color: #808000\">is_local_process_zero</span>=<span style=\"color: #00ff00; text-decoration-color: #00ff00; font-style: italic\">True</span>,                          <span style=\"color: #7f7f7f; text-decoration-color: #7f7f7f\">           </span>\n",
       "<span style=\"color: #7fbfbf; text-decoration-color: #7fbfbf\">                    </span>         <span style=\"color: #808000; text-decoration-color: #808000\">is_world_process_zero</span>=<span style=\"color: #00ff00; text-decoration-color: #00ff00; font-style: italic\">True</span>,                          <span style=\"color: #7f7f7f; text-decoration-color: #7f7f7f\">           </span>\n",
       "<span style=\"color: #7fbfbf; text-decoration-color: #7fbfbf\">                    </span>         <span style=\"color: #808000; text-decoration-color: #808000\">is_hyper_param_search</span>=<span style=\"color: #ff0000; text-decoration-color: #ff0000; font-style: italic\">False</span>, <span style=\"color: #808000; text-decoration-color: #808000\">trial_name</span>=<span style=\"color: #800080; text-decoration-color: #800080; font-style: italic\">None</span>,        <span style=\"color: #7f7f7f; text-decoration-color: #7f7f7f\">           </span>\n",
       "<span style=\"color: #7fbfbf; text-decoration-color: #7fbfbf\">                    </span>         <span style=\"color: #808000; text-decoration-color: #808000\">trial_params</span>=<span style=\"color: #800080; text-decoration-color: #800080; font-style: italic\">None</span><span style=\"font-weight: bold\">)</span>                                   <span style=\"color: #7f7f7f; text-decoration-color: #7f7f7f\">           </span>\n",
       "</pre>\n"
      ],
      "text/plain": [
       "\u001b[2;36m                   \u001b[0m\u001b[2;36m \u001b[0m\u001b[34mINFO    \u001b[0m \u001b[1;35mTrainerState\u001b[0m\u001b[1m(\u001b[0m\u001b[33mepoch\u001b[0m=\u001b[1;36m2\u001b[0m\u001b[1;36m.947239263803681\u001b[0m,                \u001b]8;id=231148;file://C:\\Users\\Hedronstone\\Desktop\\miniGPT2\\operations\\train.py\u001b\\\u001b[2mtrain.py\u001b[0m\u001b]8;;\u001b\\\u001b[2m:\u001b[0m\u001b]8;id=471029;file://C:\\Users\\Hedronstone\\Desktop\\miniGPT2\\operations\\train.py#41\u001b\\\u001b[2m41\u001b[0m\u001b]8;;\u001b\\\n",
       "\u001b[2;36m                    \u001b[0m         \u001b[33mglobal_step\u001b[0m=\u001b[1;36m1200\u001b[0m, \u001b[33mmax_steps\u001b[0m=\u001b[1;36m2035\u001b[0m,                    \u001b[2m           \u001b[0m\n",
       "\u001b[2;36m                    \u001b[0m         \u001b[33mnum_train_epochs\u001b[0m=\u001b[1;36m5\u001b[0m, \u001b[33mtotal_flos\u001b[0m=\u001b[1;36m8366048280576000\u001b[0m\u001b[1;36m.0\u001b[0m,   \u001b[2m           \u001b[0m\n",
       "\u001b[2;36m                    \u001b[0m         \u001b[33mlog_history\u001b[0m=\u001b[1m[\u001b[0m\u001b[1m{\u001b[0m\u001b[32m'eval_loss'\u001b[0m: \u001b[1;36m3.2401208877563477\u001b[0m,       \u001b[2m           \u001b[0m\n",
       "\u001b[2;36m                    \u001b[0m         \u001b[32m'eval_runtime'\u001b[0m: \u001b[1;36m23.6545\u001b[0m, \u001b[32m'eval_samples_per_second'\u001b[0m:  \u001b[2m           \u001b[0m\n",
       "\u001b[2;36m                    \u001b[0m         \u001b[1;36m137.733\u001b[0m, \u001b[32m'eval_steps_per_second'\u001b[0m: \u001b[1;36m8.624\u001b[0m, \u001b[32m'epoch'\u001b[0m:    \u001b[2m           \u001b[0m\n",
       "\u001b[2;36m                    \u001b[0m         \u001b[1;36m0.49\u001b[0m, \u001b[32m'step'\u001b[0m: \u001b[1;36m200\u001b[0m\u001b[1m}\u001b[0m, \u001b[1m{\u001b[0m\u001b[32m'eval_loss'\u001b[0m: \u001b[1;36m3.217250108718872\u001b[0m, \u001b[2m           \u001b[0m\n",
       "\u001b[2;36m                    \u001b[0m         \u001b[32m'eval_runtime'\u001b[0m: \u001b[1;36m23.6908\u001b[0m, \u001b[32m'eval_samples_per_second'\u001b[0m:  \u001b[2m           \u001b[0m\n",
       "\u001b[2;36m                    \u001b[0m         \u001b[1;36m137.522\u001b[0m, \u001b[32m'eval_steps_per_second'\u001b[0m: \u001b[1;36m8.611\u001b[0m, \u001b[32m'epoch'\u001b[0m:    \u001b[2m           \u001b[0m\n",
       "\u001b[2;36m                    \u001b[0m         \u001b[1;36m0.98\u001b[0m, \u001b[32m'step'\u001b[0m: \u001b[1;36m400\u001b[0m\u001b[1m}\u001b[0m, \u001b[1m{\u001b[0m\u001b[32m'loss'\u001b[0m: \u001b[1;36m3.2845\u001b[0m,                 \u001b[2m           \u001b[0m\n",
       "\u001b[2;36m                    \u001b[0m         \u001b[32m'learning_rate'\u001b[0m: \u001b[1;36m0.0004540624090114981\u001b[0m, \u001b[32m'epoch'\u001b[0m:     \u001b[2m           \u001b[0m\n",
       "\u001b[2;36m                    \u001b[0m         \u001b[1;36m1.0\u001b[0m, \u001b[32m'step'\u001b[0m: \u001b[1;36m407\u001b[0m\u001b[1m}\u001b[0m, \u001b[1m{\u001b[0m\u001b[32m'eval_loss'\u001b[0m: \u001b[1;36m3.223500967025757\u001b[0m,  \u001b[2m           \u001b[0m\n",
       "\u001b[2;36m                    \u001b[0m         \u001b[32m'eval_runtime'\u001b[0m: \u001b[1;36m23.6332\u001b[0m, \u001b[32m'eval_samples_per_second'\u001b[0m:  \u001b[2m           \u001b[0m\n",
       "\u001b[2;36m                    \u001b[0m         \u001b[1;36m137.857\u001b[0m, \u001b[32m'eval_steps_per_second'\u001b[0m: \u001b[1;36m8.632\u001b[0m, \u001b[32m'epoch'\u001b[0m:    \u001b[2m           \u001b[0m\n",
       "\u001b[2;36m                    \u001b[0m         \u001b[1;36m1.47\u001b[0m, \u001b[32m'step'\u001b[0m: \u001b[1;36m600\u001b[0m\u001b[1m}\u001b[0m, \u001b[1m{\u001b[0m\u001b[32m'eval_loss'\u001b[0m:                    \u001b[2m           \u001b[0m\n",
       "\u001b[2;36m                    \u001b[0m         \u001b[1;36m3.2089829444885254\u001b[0m, \u001b[32m'eval_runtime'\u001b[0m: \u001b[1;36m23.0157\u001b[0m,         \u001b[2m           \u001b[0m\n",
       "\u001b[2;36m                    \u001b[0m         \u001b[32m'eval_samples_per_second'\u001b[0m: \u001b[1;36m141.556\u001b[0m,                  \u001b[2m           \u001b[0m\n",
       "\u001b[2;36m                    \u001b[0m         \u001b[32m'eval_steps_per_second'\u001b[0m: \u001b[1;36m8.864\u001b[0m, \u001b[32m'epoch'\u001b[0m: \u001b[1;36m1.96\u001b[0m,       \u001b[2m           \u001b[0m\n",
       "\u001b[2;36m                    \u001b[0m         \u001b[32m'step'\u001b[0m: \u001b[1;36m800\u001b[0m\u001b[1m}\u001b[0m, \u001b[1m{\u001b[0m\u001b[32m'loss'\u001b[0m: \u001b[1;36m3.0619\u001b[0m, \u001b[32m'learning_rate'\u001b[0m:      \u001b[2m           \u001b[0m\n",
       "\u001b[2;36m                    \u001b[0m         \u001b[1;36m0.0003294640787536245\u001b[0m, \u001b[32m'epoch'\u001b[0m: \u001b[1;36m2.0\u001b[0m, \u001b[32m'step'\u001b[0m: \u001b[1;36m814\u001b[0m\u001b[1m}\u001b[0m,   \u001b[2m           \u001b[0m\n",
       "\u001b[2;36m                    \u001b[0m         \u001b[1m{\u001b[0m\u001b[32m'eval_loss'\u001b[0m: \u001b[1;36m3.2308406829833984\u001b[0m, \u001b[32m'eval_runtime'\u001b[0m:    \u001b[2m           \u001b[0m\n",
       "\u001b[2;36m                    \u001b[0m         \u001b[1;36m23.0147\u001b[0m, \u001b[32m'eval_samples_per_second'\u001b[0m: \u001b[1;36m141.562\u001b[0m,         \u001b[2m           \u001b[0m\n",
       "\u001b[2;36m                    \u001b[0m         \u001b[32m'eval_steps_per_second'\u001b[0m: \u001b[1;36m8.864\u001b[0m, \u001b[32m'epoch'\u001b[0m: \u001b[1;36m2.46\u001b[0m,       \u001b[2m           \u001b[0m\n",
       "\u001b[2;36m                    \u001b[0m         \u001b[32m'step'\u001b[0m: \u001b[1;36m1000\u001b[0m\u001b[1m}\u001b[0m, \u001b[1m{\u001b[0m\u001b[32m'eval_loss'\u001b[0m: \u001b[1;36m3.22076678276062\u001b[0m,       \u001b[2m           \u001b[0m\n",
       "\u001b[2;36m                    \u001b[0m         \u001b[32m'eval_runtime'\u001b[0m: \u001b[1;36m23.0281\u001b[0m, \u001b[32m'eval_samples_per_second'\u001b[0m:  \u001b[2m           \u001b[0m\n",
       "\u001b[2;36m                    \u001b[0m         \u001b[1;36m141.479\u001b[0m, \u001b[32m'eval_steps_per_second'\u001b[0m: \u001b[1;36m8.859\u001b[0m, \u001b[32m'epoch'\u001b[0m:    \u001b[2m           \u001b[0m\n",
       "\u001b[2;36m                    \u001b[0m         \u001b[1;36m2.95\u001b[0m, \u001b[32m'step'\u001b[0m: \u001b[1;36m1200\u001b[0m\u001b[1m}\u001b[0m\u001b[1m]\u001b[0m, \u001b[33mbest_metric\u001b[0m=\u001b[3;35mNone\u001b[0m,              \u001b[2m           \u001b[0m\n",
       "\u001b[2;36m                    \u001b[0m         \u001b[33mbest_model_checkpoint\u001b[0m=\u001b[3;35mNone\u001b[0m,                          \u001b[2m           \u001b[0m\n",
       "\u001b[2;36m                    \u001b[0m         \u001b[33mis_local_process_zero\u001b[0m=\u001b[3;92mTrue\u001b[0m,                          \u001b[2m           \u001b[0m\n",
       "\u001b[2;36m                    \u001b[0m         \u001b[33mis_world_process_zero\u001b[0m=\u001b[3;92mTrue\u001b[0m,                          \u001b[2m           \u001b[0m\n",
       "\u001b[2;36m                    \u001b[0m         \u001b[33mis_hyper_param_search\u001b[0m=\u001b[3;91mFalse\u001b[0m, \u001b[33mtrial_name\u001b[0m=\u001b[3;35mNone\u001b[0m,        \u001b[2m           \u001b[0m\n",
       "\u001b[2;36m                    \u001b[0m         \u001b[33mtrial_params\u001b[0m=\u001b[3;35mNone\u001b[0m\u001b[1m)\u001b[0m                                   \u001b[2m           \u001b[0m\n"
      ]
     },
     "metadata": {},
     "output_type": "display_data"
    },
    {
     "name": "stdout",
     "output_type": "stream",
     "text": [
      "{'eval_loss': 3.22076678276062, 'eval_runtime': 23.0281, 'eval_samples_per_second': 141.479, 'eval_steps_per_second': 8.859, 'epoch': 2.95}\n"
     ]
    },
    {
     "name": "stderr",
     "output_type": "stream",
     "text": [
      "Saving model checkpoint to artifacts\\checkpoint-1200\n",
      "Configuration saved in artifacts\\checkpoint-1200\\config.json\n",
      "Model weights saved in artifacts\\checkpoint-1200\\pytorch_model.bin\n",
      "tokenizer config file saved in artifacts\\checkpoint-1200\\tokenizer_config.json\n",
      "Special tokens file saved in artifacts\\checkpoint-1200\\special_tokens_map.json\n"
     ]
    },
    {
     "data": {
      "text/html": [
       "<pre style=\"white-space:pre;overflow-x:auto;line-height:normal;font-family:Menlo,'DejaVu Sans Mono',consolas,'Courier New',monospace\"><span style=\"color: #7fbfbf; text-decoration-color: #7fbfbf\">[09/30/22 19:39:24] </span><span style=\"color: #000080; text-decoration-color: #000080\">INFO    </span> <span style=\"font-weight: bold\">{</span><span style=\"color: #008000; text-decoration-color: #008000\">'loss'</span>: <span style=\"color: #008080; text-decoration-color: #008080; font-weight: bold\">2.899</span>, <span style=\"color: #008000; text-decoration-color: #008000\">'learning_rate'</span>:                     <a href=\"file://C:\\Users\\Hedronstone\\Desktop\\miniGPT2\\operations\\train.py\" target=\"_blank\"><span style=\"color: #7f7f7f; text-decoration-color: #7f7f7f\">train.py</span></a><span style=\"color: #7f7f7f; text-decoration-color: #7f7f7f\">:</span><a href=\"file://C:\\Users\\Hedronstone\\Desktop\\miniGPT2\\operations\\train.py#39\" target=\"_blank\"><span style=\"color: #7f7f7f; text-decoration-color: #7f7f7f\">39</span></a>\n",
       "<span style=\"color: #7fbfbf; text-decoration-color: #7fbfbf\">                    </span>         <span style=\"color: #008080; text-decoration-color: #008080; font-weight: bold\">0.00017422270212284725</span>, <span style=\"color: #008000; text-decoration-color: #008000\">'epoch'</span>: <span style=\"color: #008080; text-decoration-color: #008080; font-weight: bold\">3.0</span><span style=\"font-weight: bold\">}</span>                <span style=\"color: #7f7f7f; text-decoration-color: #7f7f7f\">           </span>\n",
       "</pre>\n"
      ],
      "text/plain": [
       "\u001b[2;36m[09/30/22 19:39:24]\u001b[0m\u001b[2;36m \u001b[0m\u001b[34mINFO    \u001b[0m \u001b[1m{\u001b[0m\u001b[32m'loss'\u001b[0m: \u001b[1;36m2.899\u001b[0m, \u001b[32m'learning_rate'\u001b[0m:                     \u001b]8;id=617889;file://C:\\Users\\Hedronstone\\Desktop\\miniGPT2\\operations\\train.py\u001b\\\u001b[2mtrain.py\u001b[0m\u001b]8;;\u001b\\\u001b[2m:\u001b[0m\u001b]8;id=291704;file://C:\\Users\\Hedronstone\\Desktop\\miniGPT2\\operations\\train.py#39\u001b\\\u001b[2m39\u001b[0m\u001b]8;;\u001b\\\n",
       "\u001b[2;36m                    \u001b[0m         \u001b[1;36m0.00017422270212284725\u001b[0m, \u001b[32m'epoch'\u001b[0m: \u001b[1;36m3.0\u001b[0m\u001b[1m}\u001b[0m                \u001b[2m           \u001b[0m\n"
      ]
     },
     "metadata": {},
     "output_type": "display_data"
    },
    {
     "data": {
      "text/html": [
       "<pre style=\"white-space:pre;overflow-x:auto;line-height:normal;font-family:Menlo,'DejaVu Sans Mono',consolas,'Courier New',monospace\"><span style=\"color: #7fbfbf; text-decoration-color: #7fbfbf\">                    </span><span style=\"color: #000080; text-decoration-color: #000080\">INFO    </span> <span style=\"color: #800080; text-decoration-color: #800080; font-weight: bold\">TrainerState</span><span style=\"font-weight: bold\">(</span><span style=\"color: #808000; text-decoration-color: #808000\">epoch</span>=<span style=\"color: #008080; text-decoration-color: #008080; font-weight: bold\">2.9987730061349693</span>,               <a href=\"file://C:\\Users\\Hedronstone\\Desktop\\miniGPT2\\operations\\train.py\" target=\"_blank\"><span style=\"color: #7f7f7f; text-decoration-color: #7f7f7f\">train.py</span></a><span style=\"color: #7f7f7f; text-decoration-color: #7f7f7f\">:</span><a href=\"file://C:\\Users\\Hedronstone\\Desktop\\miniGPT2\\operations\\train.py#41\" target=\"_blank\"><span style=\"color: #7f7f7f; text-decoration-color: #7f7f7f\">41</span></a>\n",
       "<span style=\"color: #7fbfbf; text-decoration-color: #7fbfbf\">                    </span>         <span style=\"color: #808000; text-decoration-color: #808000\">global_step</span>=<span style=\"color: #008080; text-decoration-color: #008080; font-weight: bold\">1221</span>, <span style=\"color: #808000; text-decoration-color: #808000\">max_steps</span>=<span style=\"color: #008080; text-decoration-color: #008080; font-weight: bold\">2035</span>,                    <span style=\"color: #7f7f7f; text-decoration-color: #7f7f7f\">           </span>\n",
       "<span style=\"color: #7fbfbf; text-decoration-color: #7fbfbf\">                    </span>         <span style=\"color: #808000; text-decoration-color: #808000\">num_train_epochs</span>=<span style=\"color: #008080; text-decoration-color: #008080; font-weight: bold\">5</span>, <span style=\"color: #808000; text-decoration-color: #808000\">total_flos</span>=<span style=\"color: #008080; text-decoration-color: #008080; font-weight: bold\">1.0216257159168e+16</span>,  <span style=\"color: #7f7f7f; text-decoration-color: #7f7f7f\">           </span>\n",
       "<span style=\"color: #7fbfbf; text-decoration-color: #7fbfbf\">                    </span>         <span style=\"color: #808000; text-decoration-color: #808000\">log_history</span>=<span style=\"font-weight: bold\">[{</span><span style=\"color: #008000; text-decoration-color: #008000\">'eval_loss'</span>: <span style=\"color: #008080; text-decoration-color: #008080; font-weight: bold\">3.2401208877563477</span>,       <span style=\"color: #7f7f7f; text-decoration-color: #7f7f7f\">           </span>\n",
       "<span style=\"color: #7fbfbf; text-decoration-color: #7fbfbf\">                    </span>         <span style=\"color: #008000; text-decoration-color: #008000\">'eval_runtime'</span>: <span style=\"color: #008080; text-decoration-color: #008080; font-weight: bold\">23.6545</span>, <span style=\"color: #008000; text-decoration-color: #008000\">'eval_samples_per_second'</span>:  <span style=\"color: #7f7f7f; text-decoration-color: #7f7f7f\">           </span>\n",
       "<span style=\"color: #7fbfbf; text-decoration-color: #7fbfbf\">                    </span>         <span style=\"color: #008080; text-decoration-color: #008080; font-weight: bold\">137.733</span>, <span style=\"color: #008000; text-decoration-color: #008000\">'eval_steps_per_second'</span>: <span style=\"color: #008080; text-decoration-color: #008080; font-weight: bold\">8.624</span>, <span style=\"color: #008000; text-decoration-color: #008000\">'epoch'</span>:    <span style=\"color: #7f7f7f; text-decoration-color: #7f7f7f\">           </span>\n",
       "<span style=\"color: #7fbfbf; text-decoration-color: #7fbfbf\">                    </span>         <span style=\"color: #008080; text-decoration-color: #008080; font-weight: bold\">0.49</span>, <span style=\"color: #008000; text-decoration-color: #008000\">'step'</span>: <span style=\"color: #008080; text-decoration-color: #008080; font-weight: bold\">200</span><span style=\"font-weight: bold\">}</span>, <span style=\"font-weight: bold\">{</span><span style=\"color: #008000; text-decoration-color: #008000\">'eval_loss'</span>: <span style=\"color: #008080; text-decoration-color: #008080; font-weight: bold\">3.217250108718872</span>, <span style=\"color: #7f7f7f; text-decoration-color: #7f7f7f\">           </span>\n",
       "<span style=\"color: #7fbfbf; text-decoration-color: #7fbfbf\">                    </span>         <span style=\"color: #008000; text-decoration-color: #008000\">'eval_runtime'</span>: <span style=\"color: #008080; text-decoration-color: #008080; font-weight: bold\">23.6908</span>, <span style=\"color: #008000; text-decoration-color: #008000\">'eval_samples_per_second'</span>:  <span style=\"color: #7f7f7f; text-decoration-color: #7f7f7f\">           </span>\n",
       "<span style=\"color: #7fbfbf; text-decoration-color: #7fbfbf\">                    </span>         <span style=\"color: #008080; text-decoration-color: #008080; font-weight: bold\">137.522</span>, <span style=\"color: #008000; text-decoration-color: #008000\">'eval_steps_per_second'</span>: <span style=\"color: #008080; text-decoration-color: #008080; font-weight: bold\">8.611</span>, <span style=\"color: #008000; text-decoration-color: #008000\">'epoch'</span>:    <span style=\"color: #7f7f7f; text-decoration-color: #7f7f7f\">           </span>\n",
       "<span style=\"color: #7fbfbf; text-decoration-color: #7fbfbf\">                    </span>         <span style=\"color: #008080; text-decoration-color: #008080; font-weight: bold\">0.98</span>, <span style=\"color: #008000; text-decoration-color: #008000\">'step'</span>: <span style=\"color: #008080; text-decoration-color: #008080; font-weight: bold\">400</span><span style=\"font-weight: bold\">}</span>, <span style=\"font-weight: bold\">{</span><span style=\"color: #008000; text-decoration-color: #008000\">'loss'</span>: <span style=\"color: #008080; text-decoration-color: #008080; font-weight: bold\">3.2845</span>,                 <span style=\"color: #7f7f7f; text-decoration-color: #7f7f7f\">           </span>\n",
       "<span style=\"color: #7fbfbf; text-decoration-color: #7fbfbf\">                    </span>         <span style=\"color: #008000; text-decoration-color: #008000\">'learning_rate'</span>: <span style=\"color: #008080; text-decoration-color: #008080; font-weight: bold\">0.0004540624090114981</span>, <span style=\"color: #008000; text-decoration-color: #008000\">'epoch'</span>:     <span style=\"color: #7f7f7f; text-decoration-color: #7f7f7f\">           </span>\n",
       "<span style=\"color: #7fbfbf; text-decoration-color: #7fbfbf\">                    </span>         <span style=\"color: #008080; text-decoration-color: #008080; font-weight: bold\">1.0</span>, <span style=\"color: #008000; text-decoration-color: #008000\">'step'</span>: <span style=\"color: #008080; text-decoration-color: #008080; font-weight: bold\">407</span><span style=\"font-weight: bold\">}</span>, <span style=\"font-weight: bold\">{</span><span style=\"color: #008000; text-decoration-color: #008000\">'eval_loss'</span>: <span style=\"color: #008080; text-decoration-color: #008080; font-weight: bold\">3.223500967025757</span>,  <span style=\"color: #7f7f7f; text-decoration-color: #7f7f7f\">           </span>\n",
       "<span style=\"color: #7fbfbf; text-decoration-color: #7fbfbf\">                    </span>         <span style=\"color: #008000; text-decoration-color: #008000\">'eval_runtime'</span>: <span style=\"color: #008080; text-decoration-color: #008080; font-weight: bold\">23.6332</span>, <span style=\"color: #008000; text-decoration-color: #008000\">'eval_samples_per_second'</span>:  <span style=\"color: #7f7f7f; text-decoration-color: #7f7f7f\">           </span>\n",
       "<span style=\"color: #7fbfbf; text-decoration-color: #7fbfbf\">                    </span>         <span style=\"color: #008080; text-decoration-color: #008080; font-weight: bold\">137.857</span>, <span style=\"color: #008000; text-decoration-color: #008000\">'eval_steps_per_second'</span>: <span style=\"color: #008080; text-decoration-color: #008080; font-weight: bold\">8.632</span>, <span style=\"color: #008000; text-decoration-color: #008000\">'epoch'</span>:    <span style=\"color: #7f7f7f; text-decoration-color: #7f7f7f\">           </span>\n",
       "<span style=\"color: #7fbfbf; text-decoration-color: #7fbfbf\">                    </span>         <span style=\"color: #008080; text-decoration-color: #008080; font-weight: bold\">1.47</span>, <span style=\"color: #008000; text-decoration-color: #008000\">'step'</span>: <span style=\"color: #008080; text-decoration-color: #008080; font-weight: bold\">600</span><span style=\"font-weight: bold\">}</span>, <span style=\"font-weight: bold\">{</span><span style=\"color: #008000; text-decoration-color: #008000\">'eval_loss'</span>:                    <span style=\"color: #7f7f7f; text-decoration-color: #7f7f7f\">           </span>\n",
       "<span style=\"color: #7fbfbf; text-decoration-color: #7fbfbf\">                    </span>         <span style=\"color: #008080; text-decoration-color: #008080; font-weight: bold\">3.2089829444885254</span>, <span style=\"color: #008000; text-decoration-color: #008000\">'eval_runtime'</span>: <span style=\"color: #008080; text-decoration-color: #008080; font-weight: bold\">23.0157</span>,         <span style=\"color: #7f7f7f; text-decoration-color: #7f7f7f\">           </span>\n",
       "<span style=\"color: #7fbfbf; text-decoration-color: #7fbfbf\">                    </span>         <span style=\"color: #008000; text-decoration-color: #008000\">'eval_samples_per_second'</span>: <span style=\"color: #008080; text-decoration-color: #008080; font-weight: bold\">141.556</span>,                  <span style=\"color: #7f7f7f; text-decoration-color: #7f7f7f\">           </span>\n",
       "<span style=\"color: #7fbfbf; text-decoration-color: #7fbfbf\">                    </span>         <span style=\"color: #008000; text-decoration-color: #008000\">'eval_steps_per_second'</span>: <span style=\"color: #008080; text-decoration-color: #008080; font-weight: bold\">8.864</span>, <span style=\"color: #008000; text-decoration-color: #008000\">'epoch'</span>: <span style=\"color: #008080; text-decoration-color: #008080; font-weight: bold\">1.96</span>,       <span style=\"color: #7f7f7f; text-decoration-color: #7f7f7f\">           </span>\n",
       "<span style=\"color: #7fbfbf; text-decoration-color: #7fbfbf\">                    </span>         <span style=\"color: #008000; text-decoration-color: #008000\">'step'</span>: <span style=\"color: #008080; text-decoration-color: #008080; font-weight: bold\">800</span><span style=\"font-weight: bold\">}</span>, <span style=\"font-weight: bold\">{</span><span style=\"color: #008000; text-decoration-color: #008000\">'loss'</span>: <span style=\"color: #008080; text-decoration-color: #008080; font-weight: bold\">3.0619</span>, <span style=\"color: #008000; text-decoration-color: #008000\">'learning_rate'</span>:      <span style=\"color: #7f7f7f; text-decoration-color: #7f7f7f\">           </span>\n",
       "<span style=\"color: #7fbfbf; text-decoration-color: #7fbfbf\">                    </span>         <span style=\"color: #008080; text-decoration-color: #008080; font-weight: bold\">0.0003294640787536245</span>, <span style=\"color: #008000; text-decoration-color: #008000\">'epoch'</span>: <span style=\"color: #008080; text-decoration-color: #008080; font-weight: bold\">2.0</span>, <span style=\"color: #008000; text-decoration-color: #008000\">'step'</span>: <span style=\"color: #008080; text-decoration-color: #008080; font-weight: bold\">814</span><span style=\"font-weight: bold\">}</span>,   <span style=\"color: #7f7f7f; text-decoration-color: #7f7f7f\">           </span>\n",
       "<span style=\"color: #7fbfbf; text-decoration-color: #7fbfbf\">                    </span>         <span style=\"font-weight: bold\">{</span><span style=\"color: #008000; text-decoration-color: #008000\">'eval_loss'</span>: <span style=\"color: #008080; text-decoration-color: #008080; font-weight: bold\">3.2308406829833984</span>, <span style=\"color: #008000; text-decoration-color: #008000\">'eval_runtime'</span>:    <span style=\"color: #7f7f7f; text-decoration-color: #7f7f7f\">           </span>\n",
       "<span style=\"color: #7fbfbf; text-decoration-color: #7fbfbf\">                    </span>         <span style=\"color: #008080; text-decoration-color: #008080; font-weight: bold\">23.0147</span>, <span style=\"color: #008000; text-decoration-color: #008000\">'eval_samples_per_second'</span>: <span style=\"color: #008080; text-decoration-color: #008080; font-weight: bold\">141.562</span>,         <span style=\"color: #7f7f7f; text-decoration-color: #7f7f7f\">           </span>\n",
       "<span style=\"color: #7fbfbf; text-decoration-color: #7fbfbf\">                    </span>         <span style=\"color: #008000; text-decoration-color: #008000\">'eval_steps_per_second'</span>: <span style=\"color: #008080; text-decoration-color: #008080; font-weight: bold\">8.864</span>, <span style=\"color: #008000; text-decoration-color: #008000\">'epoch'</span>: <span style=\"color: #008080; text-decoration-color: #008080; font-weight: bold\">2.46</span>,       <span style=\"color: #7f7f7f; text-decoration-color: #7f7f7f\">           </span>\n",
       "<span style=\"color: #7fbfbf; text-decoration-color: #7fbfbf\">                    </span>         <span style=\"color: #008000; text-decoration-color: #008000\">'step'</span>: <span style=\"color: #008080; text-decoration-color: #008080; font-weight: bold\">1000</span><span style=\"font-weight: bold\">}</span>, <span style=\"font-weight: bold\">{</span><span style=\"color: #008000; text-decoration-color: #008000\">'eval_loss'</span>: <span style=\"color: #008080; text-decoration-color: #008080; font-weight: bold\">3.22076678276062</span>,       <span style=\"color: #7f7f7f; text-decoration-color: #7f7f7f\">           </span>\n",
       "<span style=\"color: #7fbfbf; text-decoration-color: #7fbfbf\">                    </span>         <span style=\"color: #008000; text-decoration-color: #008000\">'eval_runtime'</span>: <span style=\"color: #008080; text-decoration-color: #008080; font-weight: bold\">23.0281</span>, <span style=\"color: #008000; text-decoration-color: #008000\">'eval_samples_per_second'</span>:  <span style=\"color: #7f7f7f; text-decoration-color: #7f7f7f\">           </span>\n",
       "<span style=\"color: #7fbfbf; text-decoration-color: #7fbfbf\">                    </span>         <span style=\"color: #008080; text-decoration-color: #008080; font-weight: bold\">141.479</span>, <span style=\"color: #008000; text-decoration-color: #008000\">'eval_steps_per_second'</span>: <span style=\"color: #008080; text-decoration-color: #008080; font-weight: bold\">8.859</span>, <span style=\"color: #008000; text-decoration-color: #008000\">'epoch'</span>:    <span style=\"color: #7f7f7f; text-decoration-color: #7f7f7f\">           </span>\n",
       "<span style=\"color: #7fbfbf; text-decoration-color: #7fbfbf\">                    </span>         <span style=\"color: #008080; text-decoration-color: #008080; font-weight: bold\">2.95</span>, <span style=\"color: #008000; text-decoration-color: #008000\">'step'</span>: <span style=\"color: #008080; text-decoration-color: #008080; font-weight: bold\">1200</span><span style=\"font-weight: bold\">}</span>, <span style=\"font-weight: bold\">{</span><span style=\"color: #008000; text-decoration-color: #008000\">'loss'</span>: <span style=\"color: #008080; text-decoration-color: #008080; font-weight: bold\">2.899</span>,                 <span style=\"color: #7f7f7f; text-decoration-color: #7f7f7f\">           </span>\n",
       "<span style=\"color: #7fbfbf; text-decoration-color: #7fbfbf\">                    </span>         <span style=\"color: #008000; text-decoration-color: #008000\">'learning_rate'</span>: <span style=\"color: #008080; text-decoration-color: #008080; font-weight: bold\">0.00017422270212284725</span>, <span style=\"color: #008000; text-decoration-color: #008000\">'epoch'</span>:    <span style=\"color: #7f7f7f; text-decoration-color: #7f7f7f\">           </span>\n",
       "<span style=\"color: #7fbfbf; text-decoration-color: #7fbfbf\">                    </span>         <span style=\"color: #008080; text-decoration-color: #008080; font-weight: bold\">3.0</span>, <span style=\"color: #008000; text-decoration-color: #008000\">'step'</span>: <span style=\"color: #008080; text-decoration-color: #008080; font-weight: bold\">1221</span><span style=\"font-weight: bold\">}]</span>, <span style=\"color: #808000; text-decoration-color: #808000\">best_metric</span>=<span style=\"color: #800080; text-decoration-color: #800080; font-style: italic\">None</span>,               <span style=\"color: #7f7f7f; text-decoration-color: #7f7f7f\">           </span>\n",
       "<span style=\"color: #7fbfbf; text-decoration-color: #7fbfbf\">                    </span>         <span style=\"color: #808000; text-decoration-color: #808000\">best_model_checkpoint</span>=<span style=\"color: #800080; text-decoration-color: #800080; font-style: italic\">None</span>,                          <span style=\"color: #7f7f7f; text-decoration-color: #7f7f7f\">           </span>\n",
       "<span style=\"color: #7fbfbf; text-decoration-color: #7fbfbf\">                    </span>         <span style=\"color: #808000; text-decoration-color: #808000\">is_local_process_zero</span>=<span style=\"color: #00ff00; text-decoration-color: #00ff00; font-style: italic\">True</span>,                          <span style=\"color: #7f7f7f; text-decoration-color: #7f7f7f\">           </span>\n",
       "<span style=\"color: #7fbfbf; text-decoration-color: #7fbfbf\">                    </span>         <span style=\"color: #808000; text-decoration-color: #808000\">is_world_process_zero</span>=<span style=\"color: #00ff00; text-decoration-color: #00ff00; font-style: italic\">True</span>,                          <span style=\"color: #7f7f7f; text-decoration-color: #7f7f7f\">           </span>\n",
       "<span style=\"color: #7fbfbf; text-decoration-color: #7fbfbf\">                    </span>         <span style=\"color: #808000; text-decoration-color: #808000\">is_hyper_param_search</span>=<span style=\"color: #ff0000; text-decoration-color: #ff0000; font-style: italic\">False</span>, <span style=\"color: #808000; text-decoration-color: #808000\">trial_name</span>=<span style=\"color: #800080; text-decoration-color: #800080; font-style: italic\">None</span>,        <span style=\"color: #7f7f7f; text-decoration-color: #7f7f7f\">           </span>\n",
       "<span style=\"color: #7fbfbf; text-decoration-color: #7fbfbf\">                    </span>         <span style=\"color: #808000; text-decoration-color: #808000\">trial_params</span>=<span style=\"color: #800080; text-decoration-color: #800080; font-style: italic\">None</span><span style=\"font-weight: bold\">)</span>                                   <span style=\"color: #7f7f7f; text-decoration-color: #7f7f7f\">           </span>\n",
       "</pre>\n"
      ],
      "text/plain": [
       "\u001b[2;36m                   \u001b[0m\u001b[2;36m \u001b[0m\u001b[34mINFO    \u001b[0m \u001b[1;35mTrainerState\u001b[0m\u001b[1m(\u001b[0m\u001b[33mepoch\u001b[0m=\u001b[1;36m2\u001b[0m\u001b[1;36m.9987730061349693\u001b[0m,               \u001b]8;id=848749;file://C:\\Users\\Hedronstone\\Desktop\\miniGPT2\\operations\\train.py\u001b\\\u001b[2mtrain.py\u001b[0m\u001b]8;;\u001b\\\u001b[2m:\u001b[0m\u001b]8;id=911527;file://C:\\Users\\Hedronstone\\Desktop\\miniGPT2\\operations\\train.py#41\u001b\\\u001b[2m41\u001b[0m\u001b]8;;\u001b\\\n",
       "\u001b[2;36m                    \u001b[0m         \u001b[33mglobal_step\u001b[0m=\u001b[1;36m1221\u001b[0m, \u001b[33mmax_steps\u001b[0m=\u001b[1;36m2035\u001b[0m,                    \u001b[2m           \u001b[0m\n",
       "\u001b[2;36m                    \u001b[0m         \u001b[33mnum_train_epochs\u001b[0m=\u001b[1;36m5\u001b[0m, \u001b[33mtotal_flos\u001b[0m=\u001b[1;36m1\u001b[0m\u001b[1;36m.0216257159168e+16\u001b[0m,  \u001b[2m           \u001b[0m\n",
       "\u001b[2;36m                    \u001b[0m         \u001b[33mlog_history\u001b[0m=\u001b[1m[\u001b[0m\u001b[1m{\u001b[0m\u001b[32m'eval_loss'\u001b[0m: \u001b[1;36m3.2401208877563477\u001b[0m,       \u001b[2m           \u001b[0m\n",
       "\u001b[2;36m                    \u001b[0m         \u001b[32m'eval_runtime'\u001b[0m: \u001b[1;36m23.6545\u001b[0m, \u001b[32m'eval_samples_per_second'\u001b[0m:  \u001b[2m           \u001b[0m\n",
       "\u001b[2;36m                    \u001b[0m         \u001b[1;36m137.733\u001b[0m, \u001b[32m'eval_steps_per_second'\u001b[0m: \u001b[1;36m8.624\u001b[0m, \u001b[32m'epoch'\u001b[0m:    \u001b[2m           \u001b[0m\n",
       "\u001b[2;36m                    \u001b[0m         \u001b[1;36m0.49\u001b[0m, \u001b[32m'step'\u001b[0m: \u001b[1;36m200\u001b[0m\u001b[1m}\u001b[0m, \u001b[1m{\u001b[0m\u001b[32m'eval_loss'\u001b[0m: \u001b[1;36m3.217250108718872\u001b[0m, \u001b[2m           \u001b[0m\n",
       "\u001b[2;36m                    \u001b[0m         \u001b[32m'eval_runtime'\u001b[0m: \u001b[1;36m23.6908\u001b[0m, \u001b[32m'eval_samples_per_second'\u001b[0m:  \u001b[2m           \u001b[0m\n",
       "\u001b[2;36m                    \u001b[0m         \u001b[1;36m137.522\u001b[0m, \u001b[32m'eval_steps_per_second'\u001b[0m: \u001b[1;36m8.611\u001b[0m, \u001b[32m'epoch'\u001b[0m:    \u001b[2m           \u001b[0m\n",
       "\u001b[2;36m                    \u001b[0m         \u001b[1;36m0.98\u001b[0m, \u001b[32m'step'\u001b[0m: \u001b[1;36m400\u001b[0m\u001b[1m}\u001b[0m, \u001b[1m{\u001b[0m\u001b[32m'loss'\u001b[0m: \u001b[1;36m3.2845\u001b[0m,                 \u001b[2m           \u001b[0m\n",
       "\u001b[2;36m                    \u001b[0m         \u001b[32m'learning_rate'\u001b[0m: \u001b[1;36m0.0004540624090114981\u001b[0m, \u001b[32m'epoch'\u001b[0m:     \u001b[2m           \u001b[0m\n",
       "\u001b[2;36m                    \u001b[0m         \u001b[1;36m1.0\u001b[0m, \u001b[32m'step'\u001b[0m: \u001b[1;36m407\u001b[0m\u001b[1m}\u001b[0m, \u001b[1m{\u001b[0m\u001b[32m'eval_loss'\u001b[0m: \u001b[1;36m3.223500967025757\u001b[0m,  \u001b[2m           \u001b[0m\n",
       "\u001b[2;36m                    \u001b[0m         \u001b[32m'eval_runtime'\u001b[0m: \u001b[1;36m23.6332\u001b[0m, \u001b[32m'eval_samples_per_second'\u001b[0m:  \u001b[2m           \u001b[0m\n",
       "\u001b[2;36m                    \u001b[0m         \u001b[1;36m137.857\u001b[0m, \u001b[32m'eval_steps_per_second'\u001b[0m: \u001b[1;36m8.632\u001b[0m, \u001b[32m'epoch'\u001b[0m:    \u001b[2m           \u001b[0m\n",
       "\u001b[2;36m                    \u001b[0m         \u001b[1;36m1.47\u001b[0m, \u001b[32m'step'\u001b[0m: \u001b[1;36m600\u001b[0m\u001b[1m}\u001b[0m, \u001b[1m{\u001b[0m\u001b[32m'eval_loss'\u001b[0m:                    \u001b[2m           \u001b[0m\n",
       "\u001b[2;36m                    \u001b[0m         \u001b[1;36m3.2089829444885254\u001b[0m, \u001b[32m'eval_runtime'\u001b[0m: \u001b[1;36m23.0157\u001b[0m,         \u001b[2m           \u001b[0m\n",
       "\u001b[2;36m                    \u001b[0m         \u001b[32m'eval_samples_per_second'\u001b[0m: \u001b[1;36m141.556\u001b[0m,                  \u001b[2m           \u001b[0m\n",
       "\u001b[2;36m                    \u001b[0m         \u001b[32m'eval_steps_per_second'\u001b[0m: \u001b[1;36m8.864\u001b[0m, \u001b[32m'epoch'\u001b[0m: \u001b[1;36m1.96\u001b[0m,       \u001b[2m           \u001b[0m\n",
       "\u001b[2;36m                    \u001b[0m         \u001b[32m'step'\u001b[0m: \u001b[1;36m800\u001b[0m\u001b[1m}\u001b[0m, \u001b[1m{\u001b[0m\u001b[32m'loss'\u001b[0m: \u001b[1;36m3.0619\u001b[0m, \u001b[32m'learning_rate'\u001b[0m:      \u001b[2m           \u001b[0m\n",
       "\u001b[2;36m                    \u001b[0m         \u001b[1;36m0.0003294640787536245\u001b[0m, \u001b[32m'epoch'\u001b[0m: \u001b[1;36m2.0\u001b[0m, \u001b[32m'step'\u001b[0m: \u001b[1;36m814\u001b[0m\u001b[1m}\u001b[0m,   \u001b[2m           \u001b[0m\n",
       "\u001b[2;36m                    \u001b[0m         \u001b[1m{\u001b[0m\u001b[32m'eval_loss'\u001b[0m: \u001b[1;36m3.2308406829833984\u001b[0m, \u001b[32m'eval_runtime'\u001b[0m:    \u001b[2m           \u001b[0m\n",
       "\u001b[2;36m                    \u001b[0m         \u001b[1;36m23.0147\u001b[0m, \u001b[32m'eval_samples_per_second'\u001b[0m: \u001b[1;36m141.562\u001b[0m,         \u001b[2m           \u001b[0m\n",
       "\u001b[2;36m                    \u001b[0m         \u001b[32m'eval_steps_per_second'\u001b[0m: \u001b[1;36m8.864\u001b[0m, \u001b[32m'epoch'\u001b[0m: \u001b[1;36m2.46\u001b[0m,       \u001b[2m           \u001b[0m\n",
       "\u001b[2;36m                    \u001b[0m         \u001b[32m'step'\u001b[0m: \u001b[1;36m1000\u001b[0m\u001b[1m}\u001b[0m, \u001b[1m{\u001b[0m\u001b[32m'eval_loss'\u001b[0m: \u001b[1;36m3.22076678276062\u001b[0m,       \u001b[2m           \u001b[0m\n",
       "\u001b[2;36m                    \u001b[0m         \u001b[32m'eval_runtime'\u001b[0m: \u001b[1;36m23.0281\u001b[0m, \u001b[32m'eval_samples_per_second'\u001b[0m:  \u001b[2m           \u001b[0m\n",
       "\u001b[2;36m                    \u001b[0m         \u001b[1;36m141.479\u001b[0m, \u001b[32m'eval_steps_per_second'\u001b[0m: \u001b[1;36m8.859\u001b[0m, \u001b[32m'epoch'\u001b[0m:    \u001b[2m           \u001b[0m\n",
       "\u001b[2;36m                    \u001b[0m         \u001b[1;36m2.95\u001b[0m, \u001b[32m'step'\u001b[0m: \u001b[1;36m1200\u001b[0m\u001b[1m}\u001b[0m, \u001b[1m{\u001b[0m\u001b[32m'loss'\u001b[0m: \u001b[1;36m2.899\u001b[0m,                 \u001b[2m           \u001b[0m\n",
       "\u001b[2;36m                    \u001b[0m         \u001b[32m'learning_rate'\u001b[0m: \u001b[1;36m0.00017422270212284725\u001b[0m, \u001b[32m'epoch'\u001b[0m:    \u001b[2m           \u001b[0m\n",
       "\u001b[2;36m                    \u001b[0m         \u001b[1;36m3.0\u001b[0m, \u001b[32m'step'\u001b[0m: \u001b[1;36m1221\u001b[0m\u001b[1m}\u001b[0m\u001b[1m]\u001b[0m, \u001b[33mbest_metric\u001b[0m=\u001b[3;35mNone\u001b[0m,               \u001b[2m           \u001b[0m\n",
       "\u001b[2;36m                    \u001b[0m         \u001b[33mbest_model_checkpoint\u001b[0m=\u001b[3;35mNone\u001b[0m,                          \u001b[2m           \u001b[0m\n",
       "\u001b[2;36m                    \u001b[0m         \u001b[33mis_local_process_zero\u001b[0m=\u001b[3;92mTrue\u001b[0m,                          \u001b[2m           \u001b[0m\n",
       "\u001b[2;36m                    \u001b[0m         \u001b[33mis_world_process_zero\u001b[0m=\u001b[3;92mTrue\u001b[0m,                          \u001b[2m           \u001b[0m\n",
       "\u001b[2;36m                    \u001b[0m         \u001b[33mis_hyper_param_search\u001b[0m=\u001b[3;91mFalse\u001b[0m, \u001b[33mtrial_name\u001b[0m=\u001b[3;35mNone\u001b[0m,        \u001b[2m           \u001b[0m\n",
       "\u001b[2;36m                    \u001b[0m         \u001b[33mtrial_params\u001b[0m=\u001b[3;35mNone\u001b[0m\u001b[1m)\u001b[0m                                   \u001b[2m           \u001b[0m\n"
      ]
     },
     "metadata": {},
     "output_type": "display_data"
    },
    {
     "name": "stdout",
     "output_type": "stream",
     "text": [
      "{'loss': 2.899, 'learning_rate': 0.00017422270212284725, 'epoch': 3.0}\n"
     ]
    },
    {
     "name": "stderr",
     "output_type": "stream",
     "text": [
      "***** Running Evaluation *****\n",
      "  Num examples = 3258\n",
      "  Batch size = 16\n"
     ]
    },
    {
     "data": {
      "application/vnd.jupyter.widget-view+json": {
       "model_id": "",
       "version_major": 2,
       "version_minor": 0
      },
      "text/plain": [
       "  0%|          | 0/204 [00:00<?, ?it/s]"
      ]
     },
     "metadata": {},
     "output_type": "display_data"
    },
    {
     "data": {
      "text/html": [
       "<pre style=\"white-space:pre;overflow-x:auto;line-height:normal;font-family:Menlo,'DejaVu Sans Mono',consolas,'Courier New',monospace\"><span style=\"color: #7fbfbf; text-decoration-color: #7fbfbf\">[09/30/22 19:43:37] </span><span style=\"color: #000080; text-decoration-color: #000080\">INFO    </span> <span style=\"font-weight: bold\">{</span><span style=\"color: #008000; text-decoration-color: #008000\">'eval_loss'</span>: <span style=\"color: #008080; text-decoration-color: #008080; font-weight: bold\">3.251729726791382</span>, <span style=\"color: #008000; text-decoration-color: #008000\">'eval_runtime'</span>:     <a href=\"file://C:\\Users\\Hedronstone\\Desktop\\miniGPT2\\operations\\train.py\" target=\"_blank\"><span style=\"color: #7f7f7f; text-decoration-color: #7f7f7f\">train.py</span></a><span style=\"color: #7f7f7f; text-decoration-color: #7f7f7f\">:</span><a href=\"file://C:\\Users\\Hedronstone\\Desktop\\miniGPT2\\operations\\train.py#39\" target=\"_blank\"><span style=\"color: #7f7f7f; text-decoration-color: #7f7f7f\">39</span></a>\n",
       "<span style=\"color: #7fbfbf; text-decoration-color: #7fbfbf\">                    </span>         <span style=\"color: #008080; text-decoration-color: #008080; font-weight: bold\">23.0129</span>, <span style=\"color: #008000; text-decoration-color: #008000\">'eval_samples_per_second'</span>: <span style=\"color: #008080; text-decoration-color: #008080; font-weight: bold\">141.573</span>,         <span style=\"color: #7f7f7f; text-decoration-color: #7f7f7f\">           </span>\n",
       "<span style=\"color: #7fbfbf; text-decoration-color: #7fbfbf\">                    </span>         <span style=\"color: #008000; text-decoration-color: #008000\">'eval_steps_per_second'</span>: <span style=\"color: #008080; text-decoration-color: #008080; font-weight: bold\">8.865</span>, <span style=\"color: #008000; text-decoration-color: #008000\">'epoch'</span>: <span style=\"color: #008080; text-decoration-color: #008080; font-weight: bold\">3.44</span><span style=\"font-weight: bold\">}</span>       <span style=\"color: #7f7f7f; text-decoration-color: #7f7f7f\">           </span>\n",
       "</pre>\n"
      ],
      "text/plain": [
       "\u001b[2;36m[09/30/22 19:43:37]\u001b[0m\u001b[2;36m \u001b[0m\u001b[34mINFO    \u001b[0m \u001b[1m{\u001b[0m\u001b[32m'eval_loss'\u001b[0m: \u001b[1;36m3.251729726791382\u001b[0m, \u001b[32m'eval_runtime'\u001b[0m:     \u001b]8;id=6814;file://C:\\Users\\Hedronstone\\Desktop\\miniGPT2\\operations\\train.py\u001b\\\u001b[2mtrain.py\u001b[0m\u001b]8;;\u001b\\\u001b[2m:\u001b[0m\u001b]8;id=795667;file://C:\\Users\\Hedronstone\\Desktop\\miniGPT2\\operations\\train.py#39\u001b\\\u001b[2m39\u001b[0m\u001b]8;;\u001b\\\n",
       "\u001b[2;36m                    \u001b[0m         \u001b[1;36m23.0129\u001b[0m, \u001b[32m'eval_samples_per_second'\u001b[0m: \u001b[1;36m141.573\u001b[0m,         \u001b[2m           \u001b[0m\n",
       "\u001b[2;36m                    \u001b[0m         \u001b[32m'eval_steps_per_second'\u001b[0m: \u001b[1;36m8.865\u001b[0m, \u001b[32m'epoch'\u001b[0m: \u001b[1;36m3.44\u001b[0m\u001b[1m}\u001b[0m       \u001b[2m           \u001b[0m\n"
      ]
     },
     "metadata": {},
     "output_type": "display_data"
    },
    {
     "data": {
      "text/html": [
       "<pre style=\"white-space:pre;overflow-x:auto;line-height:normal;font-family:Menlo,'DejaVu Sans Mono',consolas,'Courier New',monospace\"><span style=\"color: #7fbfbf; text-decoration-color: #7fbfbf\">                    </span><span style=\"color: #000080; text-decoration-color: #000080\">INFO    </span> <span style=\"color: #800080; text-decoration-color: #800080; font-weight: bold\">TrainerState</span><span style=\"font-weight: bold\">(</span><span style=\"color: #808000; text-decoration-color: #808000\">epoch</span>=<span style=\"color: #008080; text-decoration-color: #008080; font-weight: bold\">3.4392638036809817</span>,               <a href=\"file://C:\\Users\\Hedronstone\\Desktop\\miniGPT2\\operations\\train.py\" target=\"_blank\"><span style=\"color: #7f7f7f; text-decoration-color: #7f7f7f\">train.py</span></a><span style=\"color: #7f7f7f; text-decoration-color: #7f7f7f\">:</span><a href=\"file://C:\\Users\\Hedronstone\\Desktop\\miniGPT2\\operations\\train.py#41\" target=\"_blank\"><span style=\"color: #7f7f7f; text-decoration-color: #7f7f7f\">41</span></a>\n",
       "<span style=\"color: #7fbfbf; text-decoration-color: #7fbfbf\">                    </span>         <span style=\"color: #808000; text-decoration-color: #808000\">global_step</span>=<span style=\"color: #008080; text-decoration-color: #008080; font-weight: bold\">1400</span>, <span style=\"color: #808000; text-decoration-color: #808000\">max_steps</span>=<span style=\"color: #008080; text-decoration-color: #008080; font-weight: bold\">2035</span>,                    <span style=\"color: #7f7f7f; text-decoration-color: #7f7f7f\">           </span>\n",
       "<span style=\"color: #7fbfbf; text-decoration-color: #7fbfbf\">                    </span>         <span style=\"color: #808000; text-decoration-color: #808000\">num_train_epochs</span>=<span style=\"color: #008080; text-decoration-color: #008080; font-weight: bold\">5</span>, <span style=\"color: #808000; text-decoration-color: #808000\">total_flos</span>=<span style=\"color: #008080; text-decoration-color: #008080; font-weight: bold\">1.0216257159168e+16</span>,  <span style=\"color: #7f7f7f; text-decoration-color: #7f7f7f\">           </span>\n",
       "<span style=\"color: #7fbfbf; text-decoration-color: #7fbfbf\">                    </span>         <span style=\"color: #808000; text-decoration-color: #808000\">log_history</span>=<span style=\"font-weight: bold\">[{</span><span style=\"color: #008000; text-decoration-color: #008000\">'eval_loss'</span>: <span style=\"color: #008080; text-decoration-color: #008080; font-weight: bold\">3.2401208877563477</span>,       <span style=\"color: #7f7f7f; text-decoration-color: #7f7f7f\">           </span>\n",
       "<span style=\"color: #7fbfbf; text-decoration-color: #7fbfbf\">                    </span>         <span style=\"color: #008000; text-decoration-color: #008000\">'eval_runtime'</span>: <span style=\"color: #008080; text-decoration-color: #008080; font-weight: bold\">23.6545</span>, <span style=\"color: #008000; text-decoration-color: #008000\">'eval_samples_per_second'</span>:  <span style=\"color: #7f7f7f; text-decoration-color: #7f7f7f\">           </span>\n",
       "<span style=\"color: #7fbfbf; text-decoration-color: #7fbfbf\">                    </span>         <span style=\"color: #008080; text-decoration-color: #008080; font-weight: bold\">137.733</span>, <span style=\"color: #008000; text-decoration-color: #008000\">'eval_steps_per_second'</span>: <span style=\"color: #008080; text-decoration-color: #008080; font-weight: bold\">8.624</span>, <span style=\"color: #008000; text-decoration-color: #008000\">'epoch'</span>:    <span style=\"color: #7f7f7f; text-decoration-color: #7f7f7f\">           </span>\n",
       "<span style=\"color: #7fbfbf; text-decoration-color: #7fbfbf\">                    </span>         <span style=\"color: #008080; text-decoration-color: #008080; font-weight: bold\">0.49</span>, <span style=\"color: #008000; text-decoration-color: #008000\">'step'</span>: <span style=\"color: #008080; text-decoration-color: #008080; font-weight: bold\">200</span><span style=\"font-weight: bold\">}</span>, <span style=\"font-weight: bold\">{</span><span style=\"color: #008000; text-decoration-color: #008000\">'eval_loss'</span>: <span style=\"color: #008080; text-decoration-color: #008080; font-weight: bold\">3.217250108718872</span>, <span style=\"color: #7f7f7f; text-decoration-color: #7f7f7f\">           </span>\n",
       "<span style=\"color: #7fbfbf; text-decoration-color: #7fbfbf\">                    </span>         <span style=\"color: #008000; text-decoration-color: #008000\">'eval_runtime'</span>: <span style=\"color: #008080; text-decoration-color: #008080; font-weight: bold\">23.6908</span>, <span style=\"color: #008000; text-decoration-color: #008000\">'eval_samples_per_second'</span>:  <span style=\"color: #7f7f7f; text-decoration-color: #7f7f7f\">           </span>\n",
       "<span style=\"color: #7fbfbf; text-decoration-color: #7fbfbf\">                    </span>         <span style=\"color: #008080; text-decoration-color: #008080; font-weight: bold\">137.522</span>, <span style=\"color: #008000; text-decoration-color: #008000\">'eval_steps_per_second'</span>: <span style=\"color: #008080; text-decoration-color: #008080; font-weight: bold\">8.611</span>, <span style=\"color: #008000; text-decoration-color: #008000\">'epoch'</span>:    <span style=\"color: #7f7f7f; text-decoration-color: #7f7f7f\">           </span>\n",
       "<span style=\"color: #7fbfbf; text-decoration-color: #7fbfbf\">                    </span>         <span style=\"color: #008080; text-decoration-color: #008080; font-weight: bold\">0.98</span>, <span style=\"color: #008000; text-decoration-color: #008000\">'step'</span>: <span style=\"color: #008080; text-decoration-color: #008080; font-weight: bold\">400</span><span style=\"font-weight: bold\">}</span>, <span style=\"font-weight: bold\">{</span><span style=\"color: #008000; text-decoration-color: #008000\">'loss'</span>: <span style=\"color: #008080; text-decoration-color: #008080; font-weight: bold\">3.2845</span>,                 <span style=\"color: #7f7f7f; text-decoration-color: #7f7f7f\">           </span>\n",
       "<span style=\"color: #7fbfbf; text-decoration-color: #7fbfbf\">                    </span>         <span style=\"color: #008000; text-decoration-color: #008000\">'learning_rate'</span>: <span style=\"color: #008080; text-decoration-color: #008080; font-weight: bold\">0.0004540624090114981</span>, <span style=\"color: #008000; text-decoration-color: #008000\">'epoch'</span>:     <span style=\"color: #7f7f7f; text-decoration-color: #7f7f7f\">           </span>\n",
       "<span style=\"color: #7fbfbf; text-decoration-color: #7fbfbf\">                    </span>         <span style=\"color: #008080; text-decoration-color: #008080; font-weight: bold\">1.0</span>, <span style=\"color: #008000; text-decoration-color: #008000\">'step'</span>: <span style=\"color: #008080; text-decoration-color: #008080; font-weight: bold\">407</span><span style=\"font-weight: bold\">}</span>, <span style=\"font-weight: bold\">{</span><span style=\"color: #008000; text-decoration-color: #008000\">'eval_loss'</span>: <span style=\"color: #008080; text-decoration-color: #008080; font-weight: bold\">3.223500967025757</span>,  <span style=\"color: #7f7f7f; text-decoration-color: #7f7f7f\">           </span>\n",
       "<span style=\"color: #7fbfbf; text-decoration-color: #7fbfbf\">                    </span>         <span style=\"color: #008000; text-decoration-color: #008000\">'eval_runtime'</span>: <span style=\"color: #008080; text-decoration-color: #008080; font-weight: bold\">23.6332</span>, <span style=\"color: #008000; text-decoration-color: #008000\">'eval_samples_per_second'</span>:  <span style=\"color: #7f7f7f; text-decoration-color: #7f7f7f\">           </span>\n",
       "<span style=\"color: #7fbfbf; text-decoration-color: #7fbfbf\">                    </span>         <span style=\"color: #008080; text-decoration-color: #008080; font-weight: bold\">137.857</span>, <span style=\"color: #008000; text-decoration-color: #008000\">'eval_steps_per_second'</span>: <span style=\"color: #008080; text-decoration-color: #008080; font-weight: bold\">8.632</span>, <span style=\"color: #008000; text-decoration-color: #008000\">'epoch'</span>:    <span style=\"color: #7f7f7f; text-decoration-color: #7f7f7f\">           </span>\n",
       "<span style=\"color: #7fbfbf; text-decoration-color: #7fbfbf\">                    </span>         <span style=\"color: #008080; text-decoration-color: #008080; font-weight: bold\">1.47</span>, <span style=\"color: #008000; text-decoration-color: #008000\">'step'</span>: <span style=\"color: #008080; text-decoration-color: #008080; font-weight: bold\">600</span><span style=\"font-weight: bold\">}</span>, <span style=\"font-weight: bold\">{</span><span style=\"color: #008000; text-decoration-color: #008000\">'eval_loss'</span>:                    <span style=\"color: #7f7f7f; text-decoration-color: #7f7f7f\">           </span>\n",
       "<span style=\"color: #7fbfbf; text-decoration-color: #7fbfbf\">                    </span>         <span style=\"color: #008080; text-decoration-color: #008080; font-weight: bold\">3.2089829444885254</span>, <span style=\"color: #008000; text-decoration-color: #008000\">'eval_runtime'</span>: <span style=\"color: #008080; text-decoration-color: #008080; font-weight: bold\">23.0157</span>,         <span style=\"color: #7f7f7f; text-decoration-color: #7f7f7f\">           </span>\n",
       "<span style=\"color: #7fbfbf; text-decoration-color: #7fbfbf\">                    </span>         <span style=\"color: #008000; text-decoration-color: #008000\">'eval_samples_per_second'</span>: <span style=\"color: #008080; text-decoration-color: #008080; font-weight: bold\">141.556</span>,                  <span style=\"color: #7f7f7f; text-decoration-color: #7f7f7f\">           </span>\n",
       "<span style=\"color: #7fbfbf; text-decoration-color: #7fbfbf\">                    </span>         <span style=\"color: #008000; text-decoration-color: #008000\">'eval_steps_per_second'</span>: <span style=\"color: #008080; text-decoration-color: #008080; font-weight: bold\">8.864</span>, <span style=\"color: #008000; text-decoration-color: #008000\">'epoch'</span>: <span style=\"color: #008080; text-decoration-color: #008080; font-weight: bold\">1.96</span>,       <span style=\"color: #7f7f7f; text-decoration-color: #7f7f7f\">           </span>\n",
       "<span style=\"color: #7fbfbf; text-decoration-color: #7fbfbf\">                    </span>         <span style=\"color: #008000; text-decoration-color: #008000\">'step'</span>: <span style=\"color: #008080; text-decoration-color: #008080; font-weight: bold\">800</span><span style=\"font-weight: bold\">}</span>, <span style=\"font-weight: bold\">{</span><span style=\"color: #008000; text-decoration-color: #008000\">'loss'</span>: <span style=\"color: #008080; text-decoration-color: #008080; font-weight: bold\">3.0619</span>, <span style=\"color: #008000; text-decoration-color: #008000\">'learning_rate'</span>:      <span style=\"color: #7f7f7f; text-decoration-color: #7f7f7f\">           </span>\n",
       "<span style=\"color: #7fbfbf; text-decoration-color: #7fbfbf\">                    </span>         <span style=\"color: #008080; text-decoration-color: #008080; font-weight: bold\">0.0003294640787536245</span>, <span style=\"color: #008000; text-decoration-color: #008000\">'epoch'</span>: <span style=\"color: #008080; text-decoration-color: #008080; font-weight: bold\">2.0</span>, <span style=\"color: #008000; text-decoration-color: #008000\">'step'</span>: <span style=\"color: #008080; text-decoration-color: #008080; font-weight: bold\">814</span><span style=\"font-weight: bold\">}</span>,   <span style=\"color: #7f7f7f; text-decoration-color: #7f7f7f\">           </span>\n",
       "<span style=\"color: #7fbfbf; text-decoration-color: #7fbfbf\">                    </span>         <span style=\"font-weight: bold\">{</span><span style=\"color: #008000; text-decoration-color: #008000\">'eval_loss'</span>: <span style=\"color: #008080; text-decoration-color: #008080; font-weight: bold\">3.2308406829833984</span>, <span style=\"color: #008000; text-decoration-color: #008000\">'eval_runtime'</span>:    <span style=\"color: #7f7f7f; text-decoration-color: #7f7f7f\">           </span>\n",
       "<span style=\"color: #7fbfbf; text-decoration-color: #7fbfbf\">                    </span>         <span style=\"color: #008080; text-decoration-color: #008080; font-weight: bold\">23.0147</span>, <span style=\"color: #008000; text-decoration-color: #008000\">'eval_samples_per_second'</span>: <span style=\"color: #008080; text-decoration-color: #008080; font-weight: bold\">141.562</span>,         <span style=\"color: #7f7f7f; text-decoration-color: #7f7f7f\">           </span>\n",
       "<span style=\"color: #7fbfbf; text-decoration-color: #7fbfbf\">                    </span>         <span style=\"color: #008000; text-decoration-color: #008000\">'eval_steps_per_second'</span>: <span style=\"color: #008080; text-decoration-color: #008080; font-weight: bold\">8.864</span>, <span style=\"color: #008000; text-decoration-color: #008000\">'epoch'</span>: <span style=\"color: #008080; text-decoration-color: #008080; font-weight: bold\">2.46</span>,       <span style=\"color: #7f7f7f; text-decoration-color: #7f7f7f\">           </span>\n",
       "<span style=\"color: #7fbfbf; text-decoration-color: #7fbfbf\">                    </span>         <span style=\"color: #008000; text-decoration-color: #008000\">'step'</span>: <span style=\"color: #008080; text-decoration-color: #008080; font-weight: bold\">1000</span><span style=\"font-weight: bold\">}</span>, <span style=\"font-weight: bold\">{</span><span style=\"color: #008000; text-decoration-color: #008000\">'eval_loss'</span>: <span style=\"color: #008080; text-decoration-color: #008080; font-weight: bold\">3.22076678276062</span>,       <span style=\"color: #7f7f7f; text-decoration-color: #7f7f7f\">           </span>\n",
       "<span style=\"color: #7fbfbf; text-decoration-color: #7fbfbf\">                    </span>         <span style=\"color: #008000; text-decoration-color: #008000\">'eval_runtime'</span>: <span style=\"color: #008080; text-decoration-color: #008080; font-weight: bold\">23.0281</span>, <span style=\"color: #008000; text-decoration-color: #008000\">'eval_samples_per_second'</span>:  <span style=\"color: #7f7f7f; text-decoration-color: #7f7f7f\">           </span>\n",
       "<span style=\"color: #7fbfbf; text-decoration-color: #7fbfbf\">                    </span>         <span style=\"color: #008080; text-decoration-color: #008080; font-weight: bold\">141.479</span>, <span style=\"color: #008000; text-decoration-color: #008000\">'eval_steps_per_second'</span>: <span style=\"color: #008080; text-decoration-color: #008080; font-weight: bold\">8.859</span>, <span style=\"color: #008000; text-decoration-color: #008000\">'epoch'</span>:    <span style=\"color: #7f7f7f; text-decoration-color: #7f7f7f\">           </span>\n",
       "<span style=\"color: #7fbfbf; text-decoration-color: #7fbfbf\">                    </span>         <span style=\"color: #008080; text-decoration-color: #008080; font-weight: bold\">2.95</span>, <span style=\"color: #008000; text-decoration-color: #008000\">'step'</span>: <span style=\"color: #008080; text-decoration-color: #008080; font-weight: bold\">1200</span><span style=\"font-weight: bold\">}</span>, <span style=\"font-weight: bold\">{</span><span style=\"color: #008000; text-decoration-color: #008000\">'loss'</span>: <span style=\"color: #008080; text-decoration-color: #008080; font-weight: bold\">2.899</span>,                 <span style=\"color: #7f7f7f; text-decoration-color: #7f7f7f\">           </span>\n",
       "<span style=\"color: #7fbfbf; text-decoration-color: #7fbfbf\">                    </span>         <span style=\"color: #008000; text-decoration-color: #008000\">'learning_rate'</span>: <span style=\"color: #008080; text-decoration-color: #008080; font-weight: bold\">0.00017422270212284725</span>, <span style=\"color: #008000; text-decoration-color: #008000\">'epoch'</span>:    <span style=\"color: #7f7f7f; text-decoration-color: #7f7f7f\">           </span>\n",
       "<span style=\"color: #7fbfbf; text-decoration-color: #7fbfbf\">                    </span>         <span style=\"color: #008080; text-decoration-color: #008080; font-weight: bold\">3.0</span>, <span style=\"color: #008000; text-decoration-color: #008000\">'step'</span>: <span style=\"color: #008080; text-decoration-color: #008080; font-weight: bold\">1221</span><span style=\"font-weight: bold\">}</span>, <span style=\"font-weight: bold\">{</span><span style=\"color: #008000; text-decoration-color: #008000\">'eval_loss'</span>: <span style=\"color: #008080; text-decoration-color: #008080; font-weight: bold\">3.251729726791382</span>, <span style=\"color: #7f7f7f; text-decoration-color: #7f7f7f\">           </span>\n",
       "<span style=\"color: #7fbfbf; text-decoration-color: #7fbfbf\">                    </span>         <span style=\"color: #008000; text-decoration-color: #008000\">'eval_runtime'</span>: <span style=\"color: #008080; text-decoration-color: #008080; font-weight: bold\">23.0129</span>, <span style=\"color: #008000; text-decoration-color: #008000\">'eval_samples_per_second'</span>:  <span style=\"color: #7f7f7f; text-decoration-color: #7f7f7f\">           </span>\n",
       "<span style=\"color: #7fbfbf; text-decoration-color: #7fbfbf\">                    </span>         <span style=\"color: #008080; text-decoration-color: #008080; font-weight: bold\">141.573</span>, <span style=\"color: #008000; text-decoration-color: #008000\">'eval_steps_per_second'</span>: <span style=\"color: #008080; text-decoration-color: #008080; font-weight: bold\">8.865</span>, <span style=\"color: #008000; text-decoration-color: #008000\">'epoch'</span>:    <span style=\"color: #7f7f7f; text-decoration-color: #7f7f7f\">           </span>\n",
       "<span style=\"color: #7fbfbf; text-decoration-color: #7fbfbf\">                    </span>         <span style=\"color: #008080; text-decoration-color: #008080; font-weight: bold\">3.44</span>, <span style=\"color: #008000; text-decoration-color: #008000\">'step'</span>: <span style=\"color: #008080; text-decoration-color: #008080; font-weight: bold\">1400</span><span style=\"font-weight: bold\">}]</span>, <span style=\"color: #808000; text-decoration-color: #808000\">best_metric</span>=<span style=\"color: #800080; text-decoration-color: #800080; font-style: italic\">None</span>,              <span style=\"color: #7f7f7f; text-decoration-color: #7f7f7f\">           </span>\n",
       "<span style=\"color: #7fbfbf; text-decoration-color: #7fbfbf\">                    </span>         <span style=\"color: #808000; text-decoration-color: #808000\">best_model_checkpoint</span>=<span style=\"color: #800080; text-decoration-color: #800080; font-style: italic\">None</span>,                          <span style=\"color: #7f7f7f; text-decoration-color: #7f7f7f\">           </span>\n",
       "<span style=\"color: #7fbfbf; text-decoration-color: #7fbfbf\">                    </span>         <span style=\"color: #808000; text-decoration-color: #808000\">is_local_process_zero</span>=<span style=\"color: #00ff00; text-decoration-color: #00ff00; font-style: italic\">True</span>,                          <span style=\"color: #7f7f7f; text-decoration-color: #7f7f7f\">           </span>\n",
       "<span style=\"color: #7fbfbf; text-decoration-color: #7fbfbf\">                    </span>         <span style=\"color: #808000; text-decoration-color: #808000\">is_world_process_zero</span>=<span style=\"color: #00ff00; text-decoration-color: #00ff00; font-style: italic\">True</span>,                          <span style=\"color: #7f7f7f; text-decoration-color: #7f7f7f\">           </span>\n",
       "<span style=\"color: #7fbfbf; text-decoration-color: #7fbfbf\">                    </span>         <span style=\"color: #808000; text-decoration-color: #808000\">is_hyper_param_search</span>=<span style=\"color: #ff0000; text-decoration-color: #ff0000; font-style: italic\">False</span>, <span style=\"color: #808000; text-decoration-color: #808000\">trial_name</span>=<span style=\"color: #800080; text-decoration-color: #800080; font-style: italic\">None</span>,        <span style=\"color: #7f7f7f; text-decoration-color: #7f7f7f\">           </span>\n",
       "<span style=\"color: #7fbfbf; text-decoration-color: #7fbfbf\">                    </span>         <span style=\"color: #808000; text-decoration-color: #808000\">trial_params</span>=<span style=\"color: #800080; text-decoration-color: #800080; font-style: italic\">None</span><span style=\"font-weight: bold\">)</span>                                   <span style=\"color: #7f7f7f; text-decoration-color: #7f7f7f\">           </span>\n",
       "</pre>\n"
      ],
      "text/plain": [
       "\u001b[2;36m                   \u001b[0m\u001b[2;36m \u001b[0m\u001b[34mINFO    \u001b[0m \u001b[1;35mTrainerState\u001b[0m\u001b[1m(\u001b[0m\u001b[33mepoch\u001b[0m=\u001b[1;36m3\u001b[0m\u001b[1;36m.4392638036809817\u001b[0m,               \u001b]8;id=844962;file://C:\\Users\\Hedronstone\\Desktop\\miniGPT2\\operations\\train.py\u001b\\\u001b[2mtrain.py\u001b[0m\u001b]8;;\u001b\\\u001b[2m:\u001b[0m\u001b]8;id=167414;file://C:\\Users\\Hedronstone\\Desktop\\miniGPT2\\operations\\train.py#41\u001b\\\u001b[2m41\u001b[0m\u001b]8;;\u001b\\\n",
       "\u001b[2;36m                    \u001b[0m         \u001b[33mglobal_step\u001b[0m=\u001b[1;36m1400\u001b[0m, \u001b[33mmax_steps\u001b[0m=\u001b[1;36m2035\u001b[0m,                    \u001b[2m           \u001b[0m\n",
       "\u001b[2;36m                    \u001b[0m         \u001b[33mnum_train_epochs\u001b[0m=\u001b[1;36m5\u001b[0m, \u001b[33mtotal_flos\u001b[0m=\u001b[1;36m1\u001b[0m\u001b[1;36m.0216257159168e+16\u001b[0m,  \u001b[2m           \u001b[0m\n",
       "\u001b[2;36m                    \u001b[0m         \u001b[33mlog_history\u001b[0m=\u001b[1m[\u001b[0m\u001b[1m{\u001b[0m\u001b[32m'eval_loss'\u001b[0m: \u001b[1;36m3.2401208877563477\u001b[0m,       \u001b[2m           \u001b[0m\n",
       "\u001b[2;36m                    \u001b[0m         \u001b[32m'eval_runtime'\u001b[0m: \u001b[1;36m23.6545\u001b[0m, \u001b[32m'eval_samples_per_second'\u001b[0m:  \u001b[2m           \u001b[0m\n",
       "\u001b[2;36m                    \u001b[0m         \u001b[1;36m137.733\u001b[0m, \u001b[32m'eval_steps_per_second'\u001b[0m: \u001b[1;36m8.624\u001b[0m, \u001b[32m'epoch'\u001b[0m:    \u001b[2m           \u001b[0m\n",
       "\u001b[2;36m                    \u001b[0m         \u001b[1;36m0.49\u001b[0m, \u001b[32m'step'\u001b[0m: \u001b[1;36m200\u001b[0m\u001b[1m}\u001b[0m, \u001b[1m{\u001b[0m\u001b[32m'eval_loss'\u001b[0m: \u001b[1;36m3.217250108718872\u001b[0m, \u001b[2m           \u001b[0m\n",
       "\u001b[2;36m                    \u001b[0m         \u001b[32m'eval_runtime'\u001b[0m: \u001b[1;36m23.6908\u001b[0m, \u001b[32m'eval_samples_per_second'\u001b[0m:  \u001b[2m           \u001b[0m\n",
       "\u001b[2;36m                    \u001b[0m         \u001b[1;36m137.522\u001b[0m, \u001b[32m'eval_steps_per_second'\u001b[0m: \u001b[1;36m8.611\u001b[0m, \u001b[32m'epoch'\u001b[0m:    \u001b[2m           \u001b[0m\n",
       "\u001b[2;36m                    \u001b[0m         \u001b[1;36m0.98\u001b[0m, \u001b[32m'step'\u001b[0m: \u001b[1;36m400\u001b[0m\u001b[1m}\u001b[0m, \u001b[1m{\u001b[0m\u001b[32m'loss'\u001b[0m: \u001b[1;36m3.2845\u001b[0m,                 \u001b[2m           \u001b[0m\n",
       "\u001b[2;36m                    \u001b[0m         \u001b[32m'learning_rate'\u001b[0m: \u001b[1;36m0.0004540624090114981\u001b[0m, \u001b[32m'epoch'\u001b[0m:     \u001b[2m           \u001b[0m\n",
       "\u001b[2;36m                    \u001b[0m         \u001b[1;36m1.0\u001b[0m, \u001b[32m'step'\u001b[0m: \u001b[1;36m407\u001b[0m\u001b[1m}\u001b[0m, \u001b[1m{\u001b[0m\u001b[32m'eval_loss'\u001b[0m: \u001b[1;36m3.223500967025757\u001b[0m,  \u001b[2m           \u001b[0m\n",
       "\u001b[2;36m                    \u001b[0m         \u001b[32m'eval_runtime'\u001b[0m: \u001b[1;36m23.6332\u001b[0m, \u001b[32m'eval_samples_per_second'\u001b[0m:  \u001b[2m           \u001b[0m\n",
       "\u001b[2;36m                    \u001b[0m         \u001b[1;36m137.857\u001b[0m, \u001b[32m'eval_steps_per_second'\u001b[0m: \u001b[1;36m8.632\u001b[0m, \u001b[32m'epoch'\u001b[0m:    \u001b[2m           \u001b[0m\n",
       "\u001b[2;36m                    \u001b[0m         \u001b[1;36m1.47\u001b[0m, \u001b[32m'step'\u001b[0m: \u001b[1;36m600\u001b[0m\u001b[1m}\u001b[0m, \u001b[1m{\u001b[0m\u001b[32m'eval_loss'\u001b[0m:                    \u001b[2m           \u001b[0m\n",
       "\u001b[2;36m                    \u001b[0m         \u001b[1;36m3.2089829444885254\u001b[0m, \u001b[32m'eval_runtime'\u001b[0m: \u001b[1;36m23.0157\u001b[0m,         \u001b[2m           \u001b[0m\n",
       "\u001b[2;36m                    \u001b[0m         \u001b[32m'eval_samples_per_second'\u001b[0m: \u001b[1;36m141.556\u001b[0m,                  \u001b[2m           \u001b[0m\n",
       "\u001b[2;36m                    \u001b[0m         \u001b[32m'eval_steps_per_second'\u001b[0m: \u001b[1;36m8.864\u001b[0m, \u001b[32m'epoch'\u001b[0m: \u001b[1;36m1.96\u001b[0m,       \u001b[2m           \u001b[0m\n",
       "\u001b[2;36m                    \u001b[0m         \u001b[32m'step'\u001b[0m: \u001b[1;36m800\u001b[0m\u001b[1m}\u001b[0m, \u001b[1m{\u001b[0m\u001b[32m'loss'\u001b[0m: \u001b[1;36m3.0619\u001b[0m, \u001b[32m'learning_rate'\u001b[0m:      \u001b[2m           \u001b[0m\n",
       "\u001b[2;36m                    \u001b[0m         \u001b[1;36m0.0003294640787536245\u001b[0m, \u001b[32m'epoch'\u001b[0m: \u001b[1;36m2.0\u001b[0m, \u001b[32m'step'\u001b[0m: \u001b[1;36m814\u001b[0m\u001b[1m}\u001b[0m,   \u001b[2m           \u001b[0m\n",
       "\u001b[2;36m                    \u001b[0m         \u001b[1m{\u001b[0m\u001b[32m'eval_loss'\u001b[0m: \u001b[1;36m3.2308406829833984\u001b[0m, \u001b[32m'eval_runtime'\u001b[0m:    \u001b[2m           \u001b[0m\n",
       "\u001b[2;36m                    \u001b[0m         \u001b[1;36m23.0147\u001b[0m, \u001b[32m'eval_samples_per_second'\u001b[0m: \u001b[1;36m141.562\u001b[0m,         \u001b[2m           \u001b[0m\n",
       "\u001b[2;36m                    \u001b[0m         \u001b[32m'eval_steps_per_second'\u001b[0m: \u001b[1;36m8.864\u001b[0m, \u001b[32m'epoch'\u001b[0m: \u001b[1;36m2.46\u001b[0m,       \u001b[2m           \u001b[0m\n",
       "\u001b[2;36m                    \u001b[0m         \u001b[32m'step'\u001b[0m: \u001b[1;36m1000\u001b[0m\u001b[1m}\u001b[0m, \u001b[1m{\u001b[0m\u001b[32m'eval_loss'\u001b[0m: \u001b[1;36m3.22076678276062\u001b[0m,       \u001b[2m           \u001b[0m\n",
       "\u001b[2;36m                    \u001b[0m         \u001b[32m'eval_runtime'\u001b[0m: \u001b[1;36m23.0281\u001b[0m, \u001b[32m'eval_samples_per_second'\u001b[0m:  \u001b[2m           \u001b[0m\n",
       "\u001b[2;36m                    \u001b[0m         \u001b[1;36m141.479\u001b[0m, \u001b[32m'eval_steps_per_second'\u001b[0m: \u001b[1;36m8.859\u001b[0m, \u001b[32m'epoch'\u001b[0m:    \u001b[2m           \u001b[0m\n",
       "\u001b[2;36m                    \u001b[0m         \u001b[1;36m2.95\u001b[0m, \u001b[32m'step'\u001b[0m: \u001b[1;36m1200\u001b[0m\u001b[1m}\u001b[0m, \u001b[1m{\u001b[0m\u001b[32m'loss'\u001b[0m: \u001b[1;36m2.899\u001b[0m,                 \u001b[2m           \u001b[0m\n",
       "\u001b[2;36m                    \u001b[0m         \u001b[32m'learning_rate'\u001b[0m: \u001b[1;36m0.00017422270212284725\u001b[0m, \u001b[32m'epoch'\u001b[0m:    \u001b[2m           \u001b[0m\n",
       "\u001b[2;36m                    \u001b[0m         \u001b[1;36m3.0\u001b[0m, \u001b[32m'step'\u001b[0m: \u001b[1;36m1221\u001b[0m\u001b[1m}\u001b[0m, \u001b[1m{\u001b[0m\u001b[32m'eval_loss'\u001b[0m: \u001b[1;36m3.251729726791382\u001b[0m, \u001b[2m           \u001b[0m\n",
       "\u001b[2;36m                    \u001b[0m         \u001b[32m'eval_runtime'\u001b[0m: \u001b[1;36m23.0129\u001b[0m, \u001b[32m'eval_samples_per_second'\u001b[0m:  \u001b[2m           \u001b[0m\n",
       "\u001b[2;36m                    \u001b[0m         \u001b[1;36m141.573\u001b[0m, \u001b[32m'eval_steps_per_second'\u001b[0m: \u001b[1;36m8.865\u001b[0m, \u001b[32m'epoch'\u001b[0m:    \u001b[2m           \u001b[0m\n",
       "\u001b[2;36m                    \u001b[0m         \u001b[1;36m3.44\u001b[0m, \u001b[32m'step'\u001b[0m: \u001b[1;36m1400\u001b[0m\u001b[1m}\u001b[0m\u001b[1m]\u001b[0m, \u001b[33mbest_metric\u001b[0m=\u001b[3;35mNone\u001b[0m,              \u001b[2m           \u001b[0m\n",
       "\u001b[2;36m                    \u001b[0m         \u001b[33mbest_model_checkpoint\u001b[0m=\u001b[3;35mNone\u001b[0m,                          \u001b[2m           \u001b[0m\n",
       "\u001b[2;36m                    \u001b[0m         \u001b[33mis_local_process_zero\u001b[0m=\u001b[3;92mTrue\u001b[0m,                          \u001b[2m           \u001b[0m\n",
       "\u001b[2;36m                    \u001b[0m         \u001b[33mis_world_process_zero\u001b[0m=\u001b[3;92mTrue\u001b[0m,                          \u001b[2m           \u001b[0m\n",
       "\u001b[2;36m                    \u001b[0m         \u001b[33mis_hyper_param_search\u001b[0m=\u001b[3;91mFalse\u001b[0m, \u001b[33mtrial_name\u001b[0m=\u001b[3;35mNone\u001b[0m,        \u001b[2m           \u001b[0m\n",
       "\u001b[2;36m                    \u001b[0m         \u001b[33mtrial_params\u001b[0m=\u001b[3;35mNone\u001b[0m\u001b[1m)\u001b[0m                                   \u001b[2m           \u001b[0m\n"
      ]
     },
     "metadata": {},
     "output_type": "display_data"
    },
    {
     "name": "stdout",
     "output_type": "stream",
     "text": [
      "{'eval_loss': 3.251729726791382, 'eval_runtime': 23.0129, 'eval_samples_per_second': 141.573, 'eval_steps_per_second': 8.865, 'epoch': 3.44}\n"
     ]
    },
    {
     "name": "stderr",
     "output_type": "stream",
     "text": [
      "Saving model checkpoint to artifacts\\checkpoint-1400\n",
      "Configuration saved in artifacts\\checkpoint-1400\\config.json\n",
      "Model weights saved in artifacts\\checkpoint-1400\\pytorch_model.bin\n",
      "tokenizer config file saved in artifacts\\checkpoint-1400\\tokenizer_config.json\n",
      "Special tokens file saved in artifacts\\checkpoint-1400\\special_tokens_map.json\n",
      "***** Running Evaluation *****\n",
      "  Num examples = 3258\n",
      "  Batch size = 16\n"
     ]
    },
    {
     "data": {
      "application/vnd.jupyter.widget-view+json": {
       "model_id": "",
       "version_major": 2,
       "version_minor": 0
      },
      "text/plain": [
       "  0%|          | 0/204 [00:00<?, ?it/s]"
      ]
     },
     "metadata": {},
     "output_type": "display_data"
    },
    {
     "data": {
      "text/html": [
       "<pre style=\"white-space:pre;overflow-x:auto;line-height:normal;font-family:Menlo,'DejaVu Sans Mono',consolas,'Courier New',monospace\"><span style=\"color: #7fbfbf; text-decoration-color: #7fbfbf\">[09/30/22 19:48:20] </span><span style=\"color: #000080; text-decoration-color: #000080\">INFO    </span> <span style=\"font-weight: bold\">{</span><span style=\"color: #008000; text-decoration-color: #008000\">'eval_loss'</span>: <span style=\"color: #008080; text-decoration-color: #008080; font-weight: bold\">3.2478322982788086</span>, <span style=\"color: #008000; text-decoration-color: #008000\">'eval_runtime'</span>:    <a href=\"file://C:\\Users\\Hedronstone\\Desktop\\miniGPT2\\operations\\train.py\" target=\"_blank\"><span style=\"color: #7f7f7f; text-decoration-color: #7f7f7f\">train.py</span></a><span style=\"color: #7f7f7f; text-decoration-color: #7f7f7f\">:</span><a href=\"file://C:\\Users\\Hedronstone\\Desktop\\miniGPT2\\operations\\train.py#39\" target=\"_blank\"><span style=\"color: #7f7f7f; text-decoration-color: #7f7f7f\">39</span></a>\n",
       "<span style=\"color: #7fbfbf; text-decoration-color: #7fbfbf\">                    </span>         <span style=\"color: #008080; text-decoration-color: #008080; font-weight: bold\">24.1979</span>, <span style=\"color: #008000; text-decoration-color: #008000\">'eval_samples_per_second'</span>: <span style=\"color: #008080; text-decoration-color: #008080; font-weight: bold\">134.64</span>,          <span style=\"color: #7f7f7f; text-decoration-color: #7f7f7f\">           </span>\n",
       "<span style=\"color: #7fbfbf; text-decoration-color: #7fbfbf\">                    </span>         <span style=\"color: #008000; text-decoration-color: #008000\">'eval_steps_per_second'</span>: <span style=\"color: #008080; text-decoration-color: #008080; font-weight: bold\">8.43</span>, <span style=\"color: #008000; text-decoration-color: #008000\">'epoch'</span>: <span style=\"color: #008080; text-decoration-color: #008080; font-weight: bold\">3.93</span><span style=\"font-weight: bold\">}</span>        <span style=\"color: #7f7f7f; text-decoration-color: #7f7f7f\">           </span>\n",
       "</pre>\n"
      ],
      "text/plain": [
       "\u001b[2;36m[09/30/22 19:48:20]\u001b[0m\u001b[2;36m \u001b[0m\u001b[34mINFO    \u001b[0m \u001b[1m{\u001b[0m\u001b[32m'eval_loss'\u001b[0m: \u001b[1;36m3.2478322982788086\u001b[0m, \u001b[32m'eval_runtime'\u001b[0m:    \u001b]8;id=732052;file://C:\\Users\\Hedronstone\\Desktop\\miniGPT2\\operations\\train.py\u001b\\\u001b[2mtrain.py\u001b[0m\u001b]8;;\u001b\\\u001b[2m:\u001b[0m\u001b]8;id=443143;file://C:\\Users\\Hedronstone\\Desktop\\miniGPT2\\operations\\train.py#39\u001b\\\u001b[2m39\u001b[0m\u001b]8;;\u001b\\\n",
       "\u001b[2;36m                    \u001b[0m         \u001b[1;36m24.1979\u001b[0m, \u001b[32m'eval_samples_per_second'\u001b[0m: \u001b[1;36m134.64\u001b[0m,          \u001b[2m           \u001b[0m\n",
       "\u001b[2;36m                    \u001b[0m         \u001b[32m'eval_steps_per_second'\u001b[0m: \u001b[1;36m8.43\u001b[0m, \u001b[32m'epoch'\u001b[0m: \u001b[1;36m3.93\u001b[0m\u001b[1m}\u001b[0m        \u001b[2m           \u001b[0m\n"
      ]
     },
     "metadata": {},
     "output_type": "display_data"
    },
    {
     "data": {
      "text/html": [
       "<pre style=\"white-space:pre;overflow-x:auto;line-height:normal;font-family:Menlo,'DejaVu Sans Mono',consolas,'Courier New',monospace\"><span style=\"color: #7fbfbf; text-decoration-color: #7fbfbf\">                    </span><span style=\"color: #000080; text-decoration-color: #000080\">INFO    </span> <span style=\"color: #800080; text-decoration-color: #800080; font-weight: bold\">TrainerState</span><span style=\"font-weight: bold\">(</span><span style=\"color: #808000; text-decoration-color: #808000\">epoch</span>=<span style=\"color: #008080; text-decoration-color: #008080; font-weight: bold\">3.9300613496932515</span>,               <a href=\"file://C:\\Users\\Hedronstone\\Desktop\\miniGPT2\\operations\\train.py\" target=\"_blank\"><span style=\"color: #7f7f7f; text-decoration-color: #7f7f7f\">train.py</span></a><span style=\"color: #7f7f7f; text-decoration-color: #7f7f7f\">:</span><a href=\"file://C:\\Users\\Hedronstone\\Desktop\\miniGPT2\\operations\\train.py#41\" target=\"_blank\"><span style=\"color: #7f7f7f; text-decoration-color: #7f7f7f\">41</span></a>\n",
       "<span style=\"color: #7fbfbf; text-decoration-color: #7fbfbf\">                    </span>         <span style=\"color: #808000; text-decoration-color: #808000\">global_step</span>=<span style=\"color: #008080; text-decoration-color: #008080; font-weight: bold\">1600</span>, <span style=\"color: #808000; text-decoration-color: #808000\">max_steps</span>=<span style=\"color: #008080; text-decoration-color: #008080; font-weight: bold\">2035</span>,                    <span style=\"color: #7f7f7f; text-decoration-color: #7f7f7f\">           </span>\n",
       "<span style=\"color: #7fbfbf; text-decoration-color: #7fbfbf\">                    </span>         <span style=\"color: #808000; text-decoration-color: #808000\">num_train_epochs</span>=<span style=\"color: #008080; text-decoration-color: #008080; font-weight: bold\">5</span>, <span style=\"color: #808000; text-decoration-color: #808000\">total_flos</span>=<span style=\"color: #008080; text-decoration-color: #008080; font-weight: bold\">1.1712937918464e+16</span>,  <span style=\"color: #7f7f7f; text-decoration-color: #7f7f7f\">           </span>\n",
       "<span style=\"color: #7fbfbf; text-decoration-color: #7fbfbf\">                    </span>         <span style=\"color: #808000; text-decoration-color: #808000\">log_history</span>=<span style=\"font-weight: bold\">[{</span><span style=\"color: #008000; text-decoration-color: #008000\">'eval_loss'</span>: <span style=\"color: #008080; text-decoration-color: #008080; font-weight: bold\">3.2401208877563477</span>,       <span style=\"color: #7f7f7f; text-decoration-color: #7f7f7f\">           </span>\n",
       "<span style=\"color: #7fbfbf; text-decoration-color: #7fbfbf\">                    </span>         <span style=\"color: #008000; text-decoration-color: #008000\">'eval_runtime'</span>: <span style=\"color: #008080; text-decoration-color: #008080; font-weight: bold\">23.6545</span>, <span style=\"color: #008000; text-decoration-color: #008000\">'eval_samples_per_second'</span>:  <span style=\"color: #7f7f7f; text-decoration-color: #7f7f7f\">           </span>\n",
       "<span style=\"color: #7fbfbf; text-decoration-color: #7fbfbf\">                    </span>         <span style=\"color: #008080; text-decoration-color: #008080; font-weight: bold\">137.733</span>, <span style=\"color: #008000; text-decoration-color: #008000\">'eval_steps_per_second'</span>: <span style=\"color: #008080; text-decoration-color: #008080; font-weight: bold\">8.624</span>, <span style=\"color: #008000; text-decoration-color: #008000\">'epoch'</span>:    <span style=\"color: #7f7f7f; text-decoration-color: #7f7f7f\">           </span>\n",
       "<span style=\"color: #7fbfbf; text-decoration-color: #7fbfbf\">                    </span>         <span style=\"color: #008080; text-decoration-color: #008080; font-weight: bold\">0.49</span>, <span style=\"color: #008000; text-decoration-color: #008000\">'step'</span>: <span style=\"color: #008080; text-decoration-color: #008080; font-weight: bold\">200</span><span style=\"font-weight: bold\">}</span>, <span style=\"font-weight: bold\">{</span><span style=\"color: #008000; text-decoration-color: #008000\">'eval_loss'</span>: <span style=\"color: #008080; text-decoration-color: #008080; font-weight: bold\">3.217250108718872</span>, <span style=\"color: #7f7f7f; text-decoration-color: #7f7f7f\">           </span>\n",
       "<span style=\"color: #7fbfbf; text-decoration-color: #7fbfbf\">                    </span>         <span style=\"color: #008000; text-decoration-color: #008000\">'eval_runtime'</span>: <span style=\"color: #008080; text-decoration-color: #008080; font-weight: bold\">23.6908</span>, <span style=\"color: #008000; text-decoration-color: #008000\">'eval_samples_per_second'</span>:  <span style=\"color: #7f7f7f; text-decoration-color: #7f7f7f\">           </span>\n",
       "<span style=\"color: #7fbfbf; text-decoration-color: #7fbfbf\">                    </span>         <span style=\"color: #008080; text-decoration-color: #008080; font-weight: bold\">137.522</span>, <span style=\"color: #008000; text-decoration-color: #008000\">'eval_steps_per_second'</span>: <span style=\"color: #008080; text-decoration-color: #008080; font-weight: bold\">8.611</span>, <span style=\"color: #008000; text-decoration-color: #008000\">'epoch'</span>:    <span style=\"color: #7f7f7f; text-decoration-color: #7f7f7f\">           </span>\n",
       "<span style=\"color: #7fbfbf; text-decoration-color: #7fbfbf\">                    </span>         <span style=\"color: #008080; text-decoration-color: #008080; font-weight: bold\">0.98</span>, <span style=\"color: #008000; text-decoration-color: #008000\">'step'</span>: <span style=\"color: #008080; text-decoration-color: #008080; font-weight: bold\">400</span><span style=\"font-weight: bold\">}</span>, <span style=\"font-weight: bold\">{</span><span style=\"color: #008000; text-decoration-color: #008000\">'loss'</span>: <span style=\"color: #008080; text-decoration-color: #008080; font-weight: bold\">3.2845</span>,                 <span style=\"color: #7f7f7f; text-decoration-color: #7f7f7f\">           </span>\n",
       "<span style=\"color: #7fbfbf; text-decoration-color: #7fbfbf\">                    </span>         <span style=\"color: #008000; text-decoration-color: #008000\">'learning_rate'</span>: <span style=\"color: #008080; text-decoration-color: #008080; font-weight: bold\">0.0004540624090114981</span>, <span style=\"color: #008000; text-decoration-color: #008000\">'epoch'</span>:     <span style=\"color: #7f7f7f; text-decoration-color: #7f7f7f\">           </span>\n",
       "<span style=\"color: #7fbfbf; text-decoration-color: #7fbfbf\">                    </span>         <span style=\"color: #008080; text-decoration-color: #008080; font-weight: bold\">1.0</span>, <span style=\"color: #008000; text-decoration-color: #008000\">'step'</span>: <span style=\"color: #008080; text-decoration-color: #008080; font-weight: bold\">407</span><span style=\"font-weight: bold\">}</span>, <span style=\"font-weight: bold\">{</span><span style=\"color: #008000; text-decoration-color: #008000\">'eval_loss'</span>: <span style=\"color: #008080; text-decoration-color: #008080; font-weight: bold\">3.223500967025757</span>,  <span style=\"color: #7f7f7f; text-decoration-color: #7f7f7f\">           </span>\n",
       "<span style=\"color: #7fbfbf; text-decoration-color: #7fbfbf\">                    </span>         <span style=\"color: #008000; text-decoration-color: #008000\">'eval_runtime'</span>: <span style=\"color: #008080; text-decoration-color: #008080; font-weight: bold\">23.6332</span>, <span style=\"color: #008000; text-decoration-color: #008000\">'eval_samples_per_second'</span>:  <span style=\"color: #7f7f7f; text-decoration-color: #7f7f7f\">           </span>\n",
       "<span style=\"color: #7fbfbf; text-decoration-color: #7fbfbf\">                    </span>         <span style=\"color: #008080; text-decoration-color: #008080; font-weight: bold\">137.857</span>, <span style=\"color: #008000; text-decoration-color: #008000\">'eval_steps_per_second'</span>: <span style=\"color: #008080; text-decoration-color: #008080; font-weight: bold\">8.632</span>, <span style=\"color: #008000; text-decoration-color: #008000\">'epoch'</span>:    <span style=\"color: #7f7f7f; text-decoration-color: #7f7f7f\">           </span>\n",
       "<span style=\"color: #7fbfbf; text-decoration-color: #7fbfbf\">                    </span>         <span style=\"color: #008080; text-decoration-color: #008080; font-weight: bold\">1.47</span>, <span style=\"color: #008000; text-decoration-color: #008000\">'step'</span>: <span style=\"color: #008080; text-decoration-color: #008080; font-weight: bold\">600</span><span style=\"font-weight: bold\">}</span>, <span style=\"font-weight: bold\">{</span><span style=\"color: #008000; text-decoration-color: #008000\">'eval_loss'</span>:                    <span style=\"color: #7f7f7f; text-decoration-color: #7f7f7f\">           </span>\n",
       "<span style=\"color: #7fbfbf; text-decoration-color: #7fbfbf\">                    </span>         <span style=\"color: #008080; text-decoration-color: #008080; font-weight: bold\">3.2089829444885254</span>, <span style=\"color: #008000; text-decoration-color: #008000\">'eval_runtime'</span>: <span style=\"color: #008080; text-decoration-color: #008080; font-weight: bold\">23.0157</span>,         <span style=\"color: #7f7f7f; text-decoration-color: #7f7f7f\">           </span>\n",
       "<span style=\"color: #7fbfbf; text-decoration-color: #7fbfbf\">                    </span>         <span style=\"color: #008000; text-decoration-color: #008000\">'eval_samples_per_second'</span>: <span style=\"color: #008080; text-decoration-color: #008080; font-weight: bold\">141.556</span>,                  <span style=\"color: #7f7f7f; text-decoration-color: #7f7f7f\">           </span>\n",
       "<span style=\"color: #7fbfbf; text-decoration-color: #7fbfbf\">                    </span>         <span style=\"color: #008000; text-decoration-color: #008000\">'eval_steps_per_second'</span>: <span style=\"color: #008080; text-decoration-color: #008080; font-weight: bold\">8.864</span>, <span style=\"color: #008000; text-decoration-color: #008000\">'epoch'</span>: <span style=\"color: #008080; text-decoration-color: #008080; font-weight: bold\">1.96</span>,       <span style=\"color: #7f7f7f; text-decoration-color: #7f7f7f\">           </span>\n",
       "<span style=\"color: #7fbfbf; text-decoration-color: #7fbfbf\">                    </span>         <span style=\"color: #008000; text-decoration-color: #008000\">'step'</span>: <span style=\"color: #008080; text-decoration-color: #008080; font-weight: bold\">800</span><span style=\"font-weight: bold\">}</span>, <span style=\"font-weight: bold\">{</span><span style=\"color: #008000; text-decoration-color: #008000\">'loss'</span>: <span style=\"color: #008080; text-decoration-color: #008080; font-weight: bold\">3.0619</span>, <span style=\"color: #008000; text-decoration-color: #008000\">'learning_rate'</span>:      <span style=\"color: #7f7f7f; text-decoration-color: #7f7f7f\">           </span>\n",
       "<span style=\"color: #7fbfbf; text-decoration-color: #7fbfbf\">                    </span>         <span style=\"color: #008080; text-decoration-color: #008080; font-weight: bold\">0.0003294640787536245</span>, <span style=\"color: #008000; text-decoration-color: #008000\">'epoch'</span>: <span style=\"color: #008080; text-decoration-color: #008080; font-weight: bold\">2.0</span>, <span style=\"color: #008000; text-decoration-color: #008000\">'step'</span>: <span style=\"color: #008080; text-decoration-color: #008080; font-weight: bold\">814</span><span style=\"font-weight: bold\">}</span>,   <span style=\"color: #7f7f7f; text-decoration-color: #7f7f7f\">           </span>\n",
       "<span style=\"color: #7fbfbf; text-decoration-color: #7fbfbf\">                    </span>         <span style=\"font-weight: bold\">{</span><span style=\"color: #008000; text-decoration-color: #008000\">'eval_loss'</span>: <span style=\"color: #008080; text-decoration-color: #008080; font-weight: bold\">3.2308406829833984</span>, <span style=\"color: #008000; text-decoration-color: #008000\">'eval_runtime'</span>:    <span style=\"color: #7f7f7f; text-decoration-color: #7f7f7f\">           </span>\n",
       "<span style=\"color: #7fbfbf; text-decoration-color: #7fbfbf\">                    </span>         <span style=\"color: #008080; text-decoration-color: #008080; font-weight: bold\">23.0147</span>, <span style=\"color: #008000; text-decoration-color: #008000\">'eval_samples_per_second'</span>: <span style=\"color: #008080; text-decoration-color: #008080; font-weight: bold\">141.562</span>,         <span style=\"color: #7f7f7f; text-decoration-color: #7f7f7f\">           </span>\n",
       "<span style=\"color: #7fbfbf; text-decoration-color: #7fbfbf\">                    </span>         <span style=\"color: #008000; text-decoration-color: #008000\">'eval_steps_per_second'</span>: <span style=\"color: #008080; text-decoration-color: #008080; font-weight: bold\">8.864</span>, <span style=\"color: #008000; text-decoration-color: #008000\">'epoch'</span>: <span style=\"color: #008080; text-decoration-color: #008080; font-weight: bold\">2.46</span>,       <span style=\"color: #7f7f7f; text-decoration-color: #7f7f7f\">           </span>\n",
       "<span style=\"color: #7fbfbf; text-decoration-color: #7fbfbf\">                    </span>         <span style=\"color: #008000; text-decoration-color: #008000\">'step'</span>: <span style=\"color: #008080; text-decoration-color: #008080; font-weight: bold\">1000</span><span style=\"font-weight: bold\">}</span>, <span style=\"font-weight: bold\">{</span><span style=\"color: #008000; text-decoration-color: #008000\">'eval_loss'</span>: <span style=\"color: #008080; text-decoration-color: #008080; font-weight: bold\">3.22076678276062</span>,       <span style=\"color: #7f7f7f; text-decoration-color: #7f7f7f\">           </span>\n",
       "<span style=\"color: #7fbfbf; text-decoration-color: #7fbfbf\">                    </span>         <span style=\"color: #008000; text-decoration-color: #008000\">'eval_runtime'</span>: <span style=\"color: #008080; text-decoration-color: #008080; font-weight: bold\">23.0281</span>, <span style=\"color: #008000; text-decoration-color: #008000\">'eval_samples_per_second'</span>:  <span style=\"color: #7f7f7f; text-decoration-color: #7f7f7f\">           </span>\n",
       "<span style=\"color: #7fbfbf; text-decoration-color: #7fbfbf\">                    </span>         <span style=\"color: #008080; text-decoration-color: #008080; font-weight: bold\">141.479</span>, <span style=\"color: #008000; text-decoration-color: #008000\">'eval_steps_per_second'</span>: <span style=\"color: #008080; text-decoration-color: #008080; font-weight: bold\">8.859</span>, <span style=\"color: #008000; text-decoration-color: #008000\">'epoch'</span>:    <span style=\"color: #7f7f7f; text-decoration-color: #7f7f7f\">           </span>\n",
       "<span style=\"color: #7fbfbf; text-decoration-color: #7fbfbf\">                    </span>         <span style=\"color: #008080; text-decoration-color: #008080; font-weight: bold\">2.95</span>, <span style=\"color: #008000; text-decoration-color: #008000\">'step'</span>: <span style=\"color: #008080; text-decoration-color: #008080; font-weight: bold\">1200</span><span style=\"font-weight: bold\">}</span>, <span style=\"font-weight: bold\">{</span><span style=\"color: #008000; text-decoration-color: #008000\">'loss'</span>: <span style=\"color: #008080; text-decoration-color: #008080; font-weight: bold\">2.899</span>,                 <span style=\"color: #7f7f7f; text-decoration-color: #7f7f7f\">           </span>\n",
       "<span style=\"color: #7fbfbf; text-decoration-color: #7fbfbf\">                    </span>         <span style=\"color: #008000; text-decoration-color: #008000\">'learning_rate'</span>: <span style=\"color: #008080; text-decoration-color: #008080; font-weight: bold\">0.00017422270212284725</span>, <span style=\"color: #008000; text-decoration-color: #008000\">'epoch'</span>:    <span style=\"color: #7f7f7f; text-decoration-color: #7f7f7f\">           </span>\n",
       "<span style=\"color: #7fbfbf; text-decoration-color: #7fbfbf\">                    </span>         <span style=\"color: #008080; text-decoration-color: #008080; font-weight: bold\">3.0</span>, <span style=\"color: #008000; text-decoration-color: #008000\">'step'</span>: <span style=\"color: #008080; text-decoration-color: #008080; font-weight: bold\">1221</span><span style=\"font-weight: bold\">}</span>, <span style=\"font-weight: bold\">{</span><span style=\"color: #008000; text-decoration-color: #008000\">'eval_loss'</span>: <span style=\"color: #008080; text-decoration-color: #008080; font-weight: bold\">3.251729726791382</span>, <span style=\"color: #7f7f7f; text-decoration-color: #7f7f7f\">           </span>\n",
       "<span style=\"color: #7fbfbf; text-decoration-color: #7fbfbf\">                    </span>         <span style=\"color: #008000; text-decoration-color: #008000\">'eval_runtime'</span>: <span style=\"color: #008080; text-decoration-color: #008080; font-weight: bold\">23.0129</span>, <span style=\"color: #008000; text-decoration-color: #008000\">'eval_samples_per_second'</span>:  <span style=\"color: #7f7f7f; text-decoration-color: #7f7f7f\">           </span>\n",
       "<span style=\"color: #7fbfbf; text-decoration-color: #7fbfbf\">                    </span>         <span style=\"color: #008080; text-decoration-color: #008080; font-weight: bold\">141.573</span>, <span style=\"color: #008000; text-decoration-color: #008000\">'eval_steps_per_second'</span>: <span style=\"color: #008080; text-decoration-color: #008080; font-weight: bold\">8.865</span>, <span style=\"color: #008000; text-decoration-color: #008000\">'epoch'</span>:    <span style=\"color: #7f7f7f; text-decoration-color: #7f7f7f\">           </span>\n",
       "<span style=\"color: #7fbfbf; text-decoration-color: #7fbfbf\">                    </span>         <span style=\"color: #008080; text-decoration-color: #008080; font-weight: bold\">3.44</span>, <span style=\"color: #008000; text-decoration-color: #008000\">'step'</span>: <span style=\"color: #008080; text-decoration-color: #008080; font-weight: bold\">1400</span><span style=\"font-weight: bold\">}</span>, <span style=\"font-weight: bold\">{</span><span style=\"color: #008000; text-decoration-color: #008000\">'eval_loss'</span>:                   <span style=\"color: #7f7f7f; text-decoration-color: #7f7f7f\">           </span>\n",
       "<span style=\"color: #7fbfbf; text-decoration-color: #7fbfbf\">                    </span>         <span style=\"color: #008080; text-decoration-color: #008080; font-weight: bold\">3.2478322982788086</span>, <span style=\"color: #008000; text-decoration-color: #008000\">'eval_runtime'</span>: <span style=\"color: #008080; text-decoration-color: #008080; font-weight: bold\">24.1979</span>,         <span style=\"color: #7f7f7f; text-decoration-color: #7f7f7f\">           </span>\n",
       "<span style=\"color: #7fbfbf; text-decoration-color: #7fbfbf\">                    </span>         <span style=\"color: #008000; text-decoration-color: #008000\">'eval_samples_per_second'</span>: <span style=\"color: #008080; text-decoration-color: #008080; font-weight: bold\">134.64</span>,                   <span style=\"color: #7f7f7f; text-decoration-color: #7f7f7f\">           </span>\n",
       "<span style=\"color: #7fbfbf; text-decoration-color: #7fbfbf\">                    </span>         <span style=\"color: #008000; text-decoration-color: #008000\">'eval_steps_per_second'</span>: <span style=\"color: #008080; text-decoration-color: #008080; font-weight: bold\">8.43</span>, <span style=\"color: #008000; text-decoration-color: #008000\">'epoch'</span>: <span style=\"color: #008080; text-decoration-color: #008080; font-weight: bold\">3.93</span>,        <span style=\"color: #7f7f7f; text-decoration-color: #7f7f7f\">           </span>\n",
       "<span style=\"color: #7fbfbf; text-decoration-color: #7fbfbf\">                    </span>         <span style=\"color: #008000; text-decoration-color: #008000\">'step'</span>: <span style=\"color: #008080; text-decoration-color: #008080; font-weight: bold\">1600</span><span style=\"font-weight: bold\">}]</span>, <span style=\"color: #808000; text-decoration-color: #808000\">best_metric</span>=<span style=\"color: #800080; text-decoration-color: #800080; font-style: italic\">None</span>,                    <span style=\"color: #7f7f7f; text-decoration-color: #7f7f7f\">           </span>\n",
       "<span style=\"color: #7fbfbf; text-decoration-color: #7fbfbf\">                    </span>         <span style=\"color: #808000; text-decoration-color: #808000\">best_model_checkpoint</span>=<span style=\"color: #800080; text-decoration-color: #800080; font-style: italic\">None</span>,                          <span style=\"color: #7f7f7f; text-decoration-color: #7f7f7f\">           </span>\n",
       "<span style=\"color: #7fbfbf; text-decoration-color: #7fbfbf\">                    </span>         <span style=\"color: #808000; text-decoration-color: #808000\">is_local_process_zero</span>=<span style=\"color: #00ff00; text-decoration-color: #00ff00; font-style: italic\">True</span>,                          <span style=\"color: #7f7f7f; text-decoration-color: #7f7f7f\">           </span>\n",
       "<span style=\"color: #7fbfbf; text-decoration-color: #7fbfbf\">                    </span>         <span style=\"color: #808000; text-decoration-color: #808000\">is_world_process_zero</span>=<span style=\"color: #00ff00; text-decoration-color: #00ff00; font-style: italic\">True</span>,                          <span style=\"color: #7f7f7f; text-decoration-color: #7f7f7f\">           </span>\n",
       "<span style=\"color: #7fbfbf; text-decoration-color: #7fbfbf\">                    </span>         <span style=\"color: #808000; text-decoration-color: #808000\">is_hyper_param_search</span>=<span style=\"color: #ff0000; text-decoration-color: #ff0000; font-style: italic\">False</span>, <span style=\"color: #808000; text-decoration-color: #808000\">trial_name</span>=<span style=\"color: #800080; text-decoration-color: #800080; font-style: italic\">None</span>,        <span style=\"color: #7f7f7f; text-decoration-color: #7f7f7f\">           </span>\n",
       "<span style=\"color: #7fbfbf; text-decoration-color: #7fbfbf\">                    </span>         <span style=\"color: #808000; text-decoration-color: #808000\">trial_params</span>=<span style=\"color: #800080; text-decoration-color: #800080; font-style: italic\">None</span><span style=\"font-weight: bold\">)</span>                                   <span style=\"color: #7f7f7f; text-decoration-color: #7f7f7f\">           </span>\n",
       "</pre>\n"
      ],
      "text/plain": [
       "\u001b[2;36m                   \u001b[0m\u001b[2;36m \u001b[0m\u001b[34mINFO    \u001b[0m \u001b[1;35mTrainerState\u001b[0m\u001b[1m(\u001b[0m\u001b[33mepoch\u001b[0m=\u001b[1;36m3\u001b[0m\u001b[1;36m.9300613496932515\u001b[0m,               \u001b]8;id=356778;file://C:\\Users\\Hedronstone\\Desktop\\miniGPT2\\operations\\train.py\u001b\\\u001b[2mtrain.py\u001b[0m\u001b]8;;\u001b\\\u001b[2m:\u001b[0m\u001b]8;id=291369;file://C:\\Users\\Hedronstone\\Desktop\\miniGPT2\\operations\\train.py#41\u001b\\\u001b[2m41\u001b[0m\u001b]8;;\u001b\\\n",
       "\u001b[2;36m                    \u001b[0m         \u001b[33mglobal_step\u001b[0m=\u001b[1;36m1600\u001b[0m, \u001b[33mmax_steps\u001b[0m=\u001b[1;36m2035\u001b[0m,                    \u001b[2m           \u001b[0m\n",
       "\u001b[2;36m                    \u001b[0m         \u001b[33mnum_train_epochs\u001b[0m=\u001b[1;36m5\u001b[0m, \u001b[33mtotal_flos\u001b[0m=\u001b[1;36m1\u001b[0m\u001b[1;36m.1712937918464e+16\u001b[0m,  \u001b[2m           \u001b[0m\n",
       "\u001b[2;36m                    \u001b[0m         \u001b[33mlog_history\u001b[0m=\u001b[1m[\u001b[0m\u001b[1m{\u001b[0m\u001b[32m'eval_loss'\u001b[0m: \u001b[1;36m3.2401208877563477\u001b[0m,       \u001b[2m           \u001b[0m\n",
       "\u001b[2;36m                    \u001b[0m         \u001b[32m'eval_runtime'\u001b[0m: \u001b[1;36m23.6545\u001b[0m, \u001b[32m'eval_samples_per_second'\u001b[0m:  \u001b[2m           \u001b[0m\n",
       "\u001b[2;36m                    \u001b[0m         \u001b[1;36m137.733\u001b[0m, \u001b[32m'eval_steps_per_second'\u001b[0m: \u001b[1;36m8.624\u001b[0m, \u001b[32m'epoch'\u001b[0m:    \u001b[2m           \u001b[0m\n",
       "\u001b[2;36m                    \u001b[0m         \u001b[1;36m0.49\u001b[0m, \u001b[32m'step'\u001b[0m: \u001b[1;36m200\u001b[0m\u001b[1m}\u001b[0m, \u001b[1m{\u001b[0m\u001b[32m'eval_loss'\u001b[0m: \u001b[1;36m3.217250108718872\u001b[0m, \u001b[2m           \u001b[0m\n",
       "\u001b[2;36m                    \u001b[0m         \u001b[32m'eval_runtime'\u001b[0m: \u001b[1;36m23.6908\u001b[0m, \u001b[32m'eval_samples_per_second'\u001b[0m:  \u001b[2m           \u001b[0m\n",
       "\u001b[2;36m                    \u001b[0m         \u001b[1;36m137.522\u001b[0m, \u001b[32m'eval_steps_per_second'\u001b[0m: \u001b[1;36m8.611\u001b[0m, \u001b[32m'epoch'\u001b[0m:    \u001b[2m           \u001b[0m\n",
       "\u001b[2;36m                    \u001b[0m         \u001b[1;36m0.98\u001b[0m, \u001b[32m'step'\u001b[0m: \u001b[1;36m400\u001b[0m\u001b[1m}\u001b[0m, \u001b[1m{\u001b[0m\u001b[32m'loss'\u001b[0m: \u001b[1;36m3.2845\u001b[0m,                 \u001b[2m           \u001b[0m\n",
       "\u001b[2;36m                    \u001b[0m         \u001b[32m'learning_rate'\u001b[0m: \u001b[1;36m0.0004540624090114981\u001b[0m, \u001b[32m'epoch'\u001b[0m:     \u001b[2m           \u001b[0m\n",
       "\u001b[2;36m                    \u001b[0m         \u001b[1;36m1.0\u001b[0m, \u001b[32m'step'\u001b[0m: \u001b[1;36m407\u001b[0m\u001b[1m}\u001b[0m, \u001b[1m{\u001b[0m\u001b[32m'eval_loss'\u001b[0m: \u001b[1;36m3.223500967025757\u001b[0m,  \u001b[2m           \u001b[0m\n",
       "\u001b[2;36m                    \u001b[0m         \u001b[32m'eval_runtime'\u001b[0m: \u001b[1;36m23.6332\u001b[0m, \u001b[32m'eval_samples_per_second'\u001b[0m:  \u001b[2m           \u001b[0m\n",
       "\u001b[2;36m                    \u001b[0m         \u001b[1;36m137.857\u001b[0m, \u001b[32m'eval_steps_per_second'\u001b[0m: \u001b[1;36m8.632\u001b[0m, \u001b[32m'epoch'\u001b[0m:    \u001b[2m           \u001b[0m\n",
       "\u001b[2;36m                    \u001b[0m         \u001b[1;36m1.47\u001b[0m, \u001b[32m'step'\u001b[0m: \u001b[1;36m600\u001b[0m\u001b[1m}\u001b[0m, \u001b[1m{\u001b[0m\u001b[32m'eval_loss'\u001b[0m:                    \u001b[2m           \u001b[0m\n",
       "\u001b[2;36m                    \u001b[0m         \u001b[1;36m3.2089829444885254\u001b[0m, \u001b[32m'eval_runtime'\u001b[0m: \u001b[1;36m23.0157\u001b[0m,         \u001b[2m           \u001b[0m\n",
       "\u001b[2;36m                    \u001b[0m         \u001b[32m'eval_samples_per_second'\u001b[0m: \u001b[1;36m141.556\u001b[0m,                  \u001b[2m           \u001b[0m\n",
       "\u001b[2;36m                    \u001b[0m         \u001b[32m'eval_steps_per_second'\u001b[0m: \u001b[1;36m8.864\u001b[0m, \u001b[32m'epoch'\u001b[0m: \u001b[1;36m1.96\u001b[0m,       \u001b[2m           \u001b[0m\n",
       "\u001b[2;36m                    \u001b[0m         \u001b[32m'step'\u001b[0m: \u001b[1;36m800\u001b[0m\u001b[1m}\u001b[0m, \u001b[1m{\u001b[0m\u001b[32m'loss'\u001b[0m: \u001b[1;36m3.0619\u001b[0m, \u001b[32m'learning_rate'\u001b[0m:      \u001b[2m           \u001b[0m\n",
       "\u001b[2;36m                    \u001b[0m         \u001b[1;36m0.0003294640787536245\u001b[0m, \u001b[32m'epoch'\u001b[0m: \u001b[1;36m2.0\u001b[0m, \u001b[32m'step'\u001b[0m: \u001b[1;36m814\u001b[0m\u001b[1m}\u001b[0m,   \u001b[2m           \u001b[0m\n",
       "\u001b[2;36m                    \u001b[0m         \u001b[1m{\u001b[0m\u001b[32m'eval_loss'\u001b[0m: \u001b[1;36m3.2308406829833984\u001b[0m, \u001b[32m'eval_runtime'\u001b[0m:    \u001b[2m           \u001b[0m\n",
       "\u001b[2;36m                    \u001b[0m         \u001b[1;36m23.0147\u001b[0m, \u001b[32m'eval_samples_per_second'\u001b[0m: \u001b[1;36m141.562\u001b[0m,         \u001b[2m           \u001b[0m\n",
       "\u001b[2;36m                    \u001b[0m         \u001b[32m'eval_steps_per_second'\u001b[0m: \u001b[1;36m8.864\u001b[0m, \u001b[32m'epoch'\u001b[0m: \u001b[1;36m2.46\u001b[0m,       \u001b[2m           \u001b[0m\n",
       "\u001b[2;36m                    \u001b[0m         \u001b[32m'step'\u001b[0m: \u001b[1;36m1000\u001b[0m\u001b[1m}\u001b[0m, \u001b[1m{\u001b[0m\u001b[32m'eval_loss'\u001b[0m: \u001b[1;36m3.22076678276062\u001b[0m,       \u001b[2m           \u001b[0m\n",
       "\u001b[2;36m                    \u001b[0m         \u001b[32m'eval_runtime'\u001b[0m: \u001b[1;36m23.0281\u001b[0m, \u001b[32m'eval_samples_per_second'\u001b[0m:  \u001b[2m           \u001b[0m\n",
       "\u001b[2;36m                    \u001b[0m         \u001b[1;36m141.479\u001b[0m, \u001b[32m'eval_steps_per_second'\u001b[0m: \u001b[1;36m8.859\u001b[0m, \u001b[32m'epoch'\u001b[0m:    \u001b[2m           \u001b[0m\n",
       "\u001b[2;36m                    \u001b[0m         \u001b[1;36m2.95\u001b[0m, \u001b[32m'step'\u001b[0m: \u001b[1;36m1200\u001b[0m\u001b[1m}\u001b[0m, \u001b[1m{\u001b[0m\u001b[32m'loss'\u001b[0m: \u001b[1;36m2.899\u001b[0m,                 \u001b[2m           \u001b[0m\n",
       "\u001b[2;36m                    \u001b[0m         \u001b[32m'learning_rate'\u001b[0m: \u001b[1;36m0.00017422270212284725\u001b[0m, \u001b[32m'epoch'\u001b[0m:    \u001b[2m           \u001b[0m\n",
       "\u001b[2;36m                    \u001b[0m         \u001b[1;36m3.0\u001b[0m, \u001b[32m'step'\u001b[0m: \u001b[1;36m1221\u001b[0m\u001b[1m}\u001b[0m, \u001b[1m{\u001b[0m\u001b[32m'eval_loss'\u001b[0m: \u001b[1;36m3.251729726791382\u001b[0m, \u001b[2m           \u001b[0m\n",
       "\u001b[2;36m                    \u001b[0m         \u001b[32m'eval_runtime'\u001b[0m: \u001b[1;36m23.0129\u001b[0m, \u001b[32m'eval_samples_per_second'\u001b[0m:  \u001b[2m           \u001b[0m\n",
       "\u001b[2;36m                    \u001b[0m         \u001b[1;36m141.573\u001b[0m, \u001b[32m'eval_steps_per_second'\u001b[0m: \u001b[1;36m8.865\u001b[0m, \u001b[32m'epoch'\u001b[0m:    \u001b[2m           \u001b[0m\n",
       "\u001b[2;36m                    \u001b[0m         \u001b[1;36m3.44\u001b[0m, \u001b[32m'step'\u001b[0m: \u001b[1;36m1400\u001b[0m\u001b[1m}\u001b[0m, \u001b[1m{\u001b[0m\u001b[32m'eval_loss'\u001b[0m:                   \u001b[2m           \u001b[0m\n",
       "\u001b[2;36m                    \u001b[0m         \u001b[1;36m3.2478322982788086\u001b[0m, \u001b[32m'eval_runtime'\u001b[0m: \u001b[1;36m24.1979\u001b[0m,         \u001b[2m           \u001b[0m\n",
       "\u001b[2;36m                    \u001b[0m         \u001b[32m'eval_samples_per_second'\u001b[0m: \u001b[1;36m134.64\u001b[0m,                   \u001b[2m           \u001b[0m\n",
       "\u001b[2;36m                    \u001b[0m         \u001b[32m'eval_steps_per_second'\u001b[0m: \u001b[1;36m8.43\u001b[0m, \u001b[32m'epoch'\u001b[0m: \u001b[1;36m3.93\u001b[0m,        \u001b[2m           \u001b[0m\n",
       "\u001b[2;36m                    \u001b[0m         \u001b[32m'step'\u001b[0m: \u001b[1;36m1600\u001b[0m\u001b[1m}\u001b[0m\u001b[1m]\u001b[0m, \u001b[33mbest_metric\u001b[0m=\u001b[3;35mNone\u001b[0m,                    \u001b[2m           \u001b[0m\n",
       "\u001b[2;36m                    \u001b[0m         \u001b[33mbest_model_checkpoint\u001b[0m=\u001b[3;35mNone\u001b[0m,                          \u001b[2m           \u001b[0m\n",
       "\u001b[2;36m                    \u001b[0m         \u001b[33mis_local_process_zero\u001b[0m=\u001b[3;92mTrue\u001b[0m,                          \u001b[2m           \u001b[0m\n",
       "\u001b[2;36m                    \u001b[0m         \u001b[33mis_world_process_zero\u001b[0m=\u001b[3;92mTrue\u001b[0m,                          \u001b[2m           \u001b[0m\n",
       "\u001b[2;36m                    \u001b[0m         \u001b[33mis_hyper_param_search\u001b[0m=\u001b[3;91mFalse\u001b[0m, \u001b[33mtrial_name\u001b[0m=\u001b[3;35mNone\u001b[0m,        \u001b[2m           \u001b[0m\n",
       "\u001b[2;36m                    \u001b[0m         \u001b[33mtrial_params\u001b[0m=\u001b[3;35mNone\u001b[0m\u001b[1m)\u001b[0m                                   \u001b[2m           \u001b[0m\n"
      ]
     },
     "metadata": {},
     "output_type": "display_data"
    },
    {
     "name": "stdout",
     "output_type": "stream",
     "text": [
      "{'eval_loss': 3.2478322982788086, 'eval_runtime': 24.1979, 'eval_samples_per_second': 134.64, 'eval_steps_per_second': 8.43, 'epoch': 3.93}\n"
     ]
    },
    {
     "name": "stderr",
     "output_type": "stream",
     "text": [
      "Saving model checkpoint to artifacts\\checkpoint-1600\n",
      "Configuration saved in artifacts\\checkpoint-1600\\config.json\n",
      "Model weights saved in artifacts\\checkpoint-1600\\pytorch_model.bin\n",
      "tokenizer config file saved in artifacts\\checkpoint-1600\\tokenizer_config.json\n",
      "Special tokens file saved in artifacts\\checkpoint-1600\\special_tokens_map.json\n"
     ]
    },
    {
     "data": {
      "text/html": [
       "<pre style=\"white-space:pre;overflow-x:auto;line-height:normal;font-family:Menlo,'DejaVu Sans Mono',consolas,'Courier New',monospace\"><span style=\"color: #7fbfbf; text-decoration-color: #7fbfbf\">[09/30/22 19:49:01] </span><span style=\"color: #000080; text-decoration-color: #000080\">INFO    </span> <span style=\"font-weight: bold\">{</span><span style=\"color: #008000; text-decoration-color: #008000\">'loss'</span>: <span style=\"color: #008080; text-decoration-color: #008080; font-weight: bold\">2.7629</span>, <span style=\"color: #008000; text-decoration-color: #008000\">'learning_rate'</span>:                    <a href=\"file://C:\\Users\\Hedronstone\\Desktop\\miniGPT2\\operations\\train.py\" target=\"_blank\"><span style=\"color: #7f7f7f; text-decoration-color: #7f7f7f\">train.py</span></a><span style=\"color: #7f7f7f; text-decoration-color: #7f7f7f\">:</span><a href=\"file://C:\\Users\\Hedronstone\\Desktop\\miniGPT2\\operations\\train.py#39\" target=\"_blank\"><span style=\"color: #7f7f7f; text-decoration-color: #7f7f7f\">39</span></a>\n",
       "<span style=\"color: #7fbfbf; text-decoration-color: #7fbfbf\">                    </span>         <span style=\"color: #008080; text-decoration-color: #008080; font-weight: bold\">4.820267039763859e-05</span>, <span style=\"color: #008000; text-decoration-color: #008000\">'epoch'</span>: <span style=\"color: #008080; text-decoration-color: #008080; font-weight: bold\">4.0</span><span style=\"font-weight: bold\">}</span>                 <span style=\"color: #7f7f7f; text-decoration-color: #7f7f7f\">           </span>\n",
       "</pre>\n"
      ],
      "text/plain": [
       "\u001b[2;36m[09/30/22 19:49:01]\u001b[0m\u001b[2;36m \u001b[0m\u001b[34mINFO    \u001b[0m \u001b[1m{\u001b[0m\u001b[32m'loss'\u001b[0m: \u001b[1;36m2.7629\u001b[0m, \u001b[32m'learning_rate'\u001b[0m:                    \u001b]8;id=163032;file://C:\\Users\\Hedronstone\\Desktop\\miniGPT2\\operations\\train.py\u001b\\\u001b[2mtrain.py\u001b[0m\u001b]8;;\u001b\\\u001b[2m:\u001b[0m\u001b]8;id=225772;file://C:\\Users\\Hedronstone\\Desktop\\miniGPT2\\operations\\train.py#39\u001b\\\u001b[2m39\u001b[0m\u001b]8;;\u001b\\\n",
       "\u001b[2;36m                    \u001b[0m         \u001b[1;36m4.820267039763859e-05\u001b[0m, \u001b[32m'epoch'\u001b[0m: \u001b[1;36m4.0\u001b[0m\u001b[1m}\u001b[0m                 \u001b[2m           \u001b[0m\n"
      ]
     },
     "metadata": {},
     "output_type": "display_data"
    },
    {
     "data": {
      "text/html": [
       "<pre style=\"white-space:pre;overflow-x:auto;line-height:normal;font-family:Menlo,'DejaVu Sans Mono',consolas,'Courier New',monospace\"><span style=\"color: #7fbfbf; text-decoration-color: #7fbfbf\">                    </span><span style=\"color: #000080; text-decoration-color: #000080\">INFO    </span> <span style=\"color: #800080; text-decoration-color: #800080; font-weight: bold\">TrainerState</span><span style=\"font-weight: bold\">(</span><span style=\"color: #808000; text-decoration-color: #808000\">epoch</span>=<span style=\"color: #008080; text-decoration-color: #008080; font-weight: bold\">3.9987730061349693</span>,               <a href=\"file://C:\\Users\\Hedronstone\\Desktop\\miniGPT2\\operations\\train.py\" target=\"_blank\"><span style=\"color: #7f7f7f; text-decoration-color: #7f7f7f\">train.py</span></a><span style=\"color: #7f7f7f; text-decoration-color: #7f7f7f\">:</span><a href=\"file://C:\\Users\\Hedronstone\\Desktop\\miniGPT2\\operations\\train.py#41\" target=\"_blank\"><span style=\"color: #7f7f7f; text-decoration-color: #7f7f7f\">41</span></a>\n",
       "<span style=\"color: #7fbfbf; text-decoration-color: #7fbfbf\">                    </span>         <span style=\"color: #808000; text-decoration-color: #808000\">global_step</span>=<span style=\"color: #008080; text-decoration-color: #008080; font-weight: bold\">1628</span>, <span style=\"color: #808000; text-decoration-color: #808000\">max_steps</span>=<span style=\"color: #008080; text-decoration-color: #008080; font-weight: bold\">2035</span>,                    <span style=\"color: #7f7f7f; text-decoration-color: #7f7f7f\">           </span>\n",
       "<span style=\"color: #7fbfbf; text-decoration-color: #7fbfbf\">                    </span>         <span style=\"color: #808000; text-decoration-color: #808000\">num_train_epochs</span>=<span style=\"color: #008080; text-decoration-color: #008080; font-weight: bold\">5</span>, <span style=\"color: #808000; text-decoration-color: #808000\">total_flos</span>=<span style=\"color: #008080; text-decoration-color: #008080; font-weight: bold\">1.3621676212224e+16</span>,  <span style=\"color: #7f7f7f; text-decoration-color: #7f7f7f\">           </span>\n",
       "<span style=\"color: #7fbfbf; text-decoration-color: #7fbfbf\">                    </span>         <span style=\"color: #808000; text-decoration-color: #808000\">log_history</span>=<span style=\"font-weight: bold\">[{</span><span style=\"color: #008000; text-decoration-color: #008000\">'eval_loss'</span>: <span style=\"color: #008080; text-decoration-color: #008080; font-weight: bold\">3.2401208877563477</span>,       <span style=\"color: #7f7f7f; text-decoration-color: #7f7f7f\">           </span>\n",
       "<span style=\"color: #7fbfbf; text-decoration-color: #7fbfbf\">                    </span>         <span style=\"color: #008000; text-decoration-color: #008000\">'eval_runtime'</span>: <span style=\"color: #008080; text-decoration-color: #008080; font-weight: bold\">23.6545</span>, <span style=\"color: #008000; text-decoration-color: #008000\">'eval_samples_per_second'</span>:  <span style=\"color: #7f7f7f; text-decoration-color: #7f7f7f\">           </span>\n",
       "<span style=\"color: #7fbfbf; text-decoration-color: #7fbfbf\">                    </span>         <span style=\"color: #008080; text-decoration-color: #008080; font-weight: bold\">137.733</span>, <span style=\"color: #008000; text-decoration-color: #008000\">'eval_steps_per_second'</span>: <span style=\"color: #008080; text-decoration-color: #008080; font-weight: bold\">8.624</span>, <span style=\"color: #008000; text-decoration-color: #008000\">'epoch'</span>:    <span style=\"color: #7f7f7f; text-decoration-color: #7f7f7f\">           </span>\n",
       "<span style=\"color: #7fbfbf; text-decoration-color: #7fbfbf\">                    </span>         <span style=\"color: #008080; text-decoration-color: #008080; font-weight: bold\">0.49</span>, <span style=\"color: #008000; text-decoration-color: #008000\">'step'</span>: <span style=\"color: #008080; text-decoration-color: #008080; font-weight: bold\">200</span><span style=\"font-weight: bold\">}</span>, <span style=\"font-weight: bold\">{</span><span style=\"color: #008000; text-decoration-color: #008000\">'eval_loss'</span>: <span style=\"color: #008080; text-decoration-color: #008080; font-weight: bold\">3.217250108718872</span>, <span style=\"color: #7f7f7f; text-decoration-color: #7f7f7f\">           </span>\n",
       "<span style=\"color: #7fbfbf; text-decoration-color: #7fbfbf\">                    </span>         <span style=\"color: #008000; text-decoration-color: #008000\">'eval_runtime'</span>: <span style=\"color: #008080; text-decoration-color: #008080; font-weight: bold\">23.6908</span>, <span style=\"color: #008000; text-decoration-color: #008000\">'eval_samples_per_second'</span>:  <span style=\"color: #7f7f7f; text-decoration-color: #7f7f7f\">           </span>\n",
       "<span style=\"color: #7fbfbf; text-decoration-color: #7fbfbf\">                    </span>         <span style=\"color: #008080; text-decoration-color: #008080; font-weight: bold\">137.522</span>, <span style=\"color: #008000; text-decoration-color: #008000\">'eval_steps_per_second'</span>: <span style=\"color: #008080; text-decoration-color: #008080; font-weight: bold\">8.611</span>, <span style=\"color: #008000; text-decoration-color: #008000\">'epoch'</span>:    <span style=\"color: #7f7f7f; text-decoration-color: #7f7f7f\">           </span>\n",
       "<span style=\"color: #7fbfbf; text-decoration-color: #7fbfbf\">                    </span>         <span style=\"color: #008080; text-decoration-color: #008080; font-weight: bold\">0.98</span>, <span style=\"color: #008000; text-decoration-color: #008000\">'step'</span>: <span style=\"color: #008080; text-decoration-color: #008080; font-weight: bold\">400</span><span style=\"font-weight: bold\">}</span>, <span style=\"font-weight: bold\">{</span><span style=\"color: #008000; text-decoration-color: #008000\">'loss'</span>: <span style=\"color: #008080; text-decoration-color: #008080; font-weight: bold\">3.2845</span>,                 <span style=\"color: #7f7f7f; text-decoration-color: #7f7f7f\">           </span>\n",
       "<span style=\"color: #7fbfbf; text-decoration-color: #7fbfbf\">                    </span>         <span style=\"color: #008000; text-decoration-color: #008000\">'learning_rate'</span>: <span style=\"color: #008080; text-decoration-color: #008080; font-weight: bold\">0.0004540624090114981</span>, <span style=\"color: #008000; text-decoration-color: #008000\">'epoch'</span>:     <span style=\"color: #7f7f7f; text-decoration-color: #7f7f7f\">           </span>\n",
       "<span style=\"color: #7fbfbf; text-decoration-color: #7fbfbf\">                    </span>         <span style=\"color: #008080; text-decoration-color: #008080; font-weight: bold\">1.0</span>, <span style=\"color: #008000; text-decoration-color: #008000\">'step'</span>: <span style=\"color: #008080; text-decoration-color: #008080; font-weight: bold\">407</span><span style=\"font-weight: bold\">}</span>, <span style=\"font-weight: bold\">{</span><span style=\"color: #008000; text-decoration-color: #008000\">'eval_loss'</span>: <span style=\"color: #008080; text-decoration-color: #008080; font-weight: bold\">3.223500967025757</span>,  <span style=\"color: #7f7f7f; text-decoration-color: #7f7f7f\">           </span>\n",
       "<span style=\"color: #7fbfbf; text-decoration-color: #7fbfbf\">                    </span>         <span style=\"color: #008000; text-decoration-color: #008000\">'eval_runtime'</span>: <span style=\"color: #008080; text-decoration-color: #008080; font-weight: bold\">23.6332</span>, <span style=\"color: #008000; text-decoration-color: #008000\">'eval_samples_per_second'</span>:  <span style=\"color: #7f7f7f; text-decoration-color: #7f7f7f\">           </span>\n",
       "<span style=\"color: #7fbfbf; text-decoration-color: #7fbfbf\">                    </span>         <span style=\"color: #008080; text-decoration-color: #008080; font-weight: bold\">137.857</span>, <span style=\"color: #008000; text-decoration-color: #008000\">'eval_steps_per_second'</span>: <span style=\"color: #008080; text-decoration-color: #008080; font-weight: bold\">8.632</span>, <span style=\"color: #008000; text-decoration-color: #008000\">'epoch'</span>:    <span style=\"color: #7f7f7f; text-decoration-color: #7f7f7f\">           </span>\n",
       "<span style=\"color: #7fbfbf; text-decoration-color: #7fbfbf\">                    </span>         <span style=\"color: #008080; text-decoration-color: #008080; font-weight: bold\">1.47</span>, <span style=\"color: #008000; text-decoration-color: #008000\">'step'</span>: <span style=\"color: #008080; text-decoration-color: #008080; font-weight: bold\">600</span><span style=\"font-weight: bold\">}</span>, <span style=\"font-weight: bold\">{</span><span style=\"color: #008000; text-decoration-color: #008000\">'eval_loss'</span>:                    <span style=\"color: #7f7f7f; text-decoration-color: #7f7f7f\">           </span>\n",
       "<span style=\"color: #7fbfbf; text-decoration-color: #7fbfbf\">                    </span>         <span style=\"color: #008080; text-decoration-color: #008080; font-weight: bold\">3.2089829444885254</span>, <span style=\"color: #008000; text-decoration-color: #008000\">'eval_runtime'</span>: <span style=\"color: #008080; text-decoration-color: #008080; font-weight: bold\">23.0157</span>,         <span style=\"color: #7f7f7f; text-decoration-color: #7f7f7f\">           </span>\n",
       "<span style=\"color: #7fbfbf; text-decoration-color: #7fbfbf\">                    </span>         <span style=\"color: #008000; text-decoration-color: #008000\">'eval_samples_per_second'</span>: <span style=\"color: #008080; text-decoration-color: #008080; font-weight: bold\">141.556</span>,                  <span style=\"color: #7f7f7f; text-decoration-color: #7f7f7f\">           </span>\n",
       "<span style=\"color: #7fbfbf; text-decoration-color: #7fbfbf\">                    </span>         <span style=\"color: #008000; text-decoration-color: #008000\">'eval_steps_per_second'</span>: <span style=\"color: #008080; text-decoration-color: #008080; font-weight: bold\">8.864</span>, <span style=\"color: #008000; text-decoration-color: #008000\">'epoch'</span>: <span style=\"color: #008080; text-decoration-color: #008080; font-weight: bold\">1.96</span>,       <span style=\"color: #7f7f7f; text-decoration-color: #7f7f7f\">           </span>\n",
       "<span style=\"color: #7fbfbf; text-decoration-color: #7fbfbf\">                    </span>         <span style=\"color: #008000; text-decoration-color: #008000\">'step'</span>: <span style=\"color: #008080; text-decoration-color: #008080; font-weight: bold\">800</span><span style=\"font-weight: bold\">}</span>, <span style=\"font-weight: bold\">{</span><span style=\"color: #008000; text-decoration-color: #008000\">'loss'</span>: <span style=\"color: #008080; text-decoration-color: #008080; font-weight: bold\">3.0619</span>, <span style=\"color: #008000; text-decoration-color: #008000\">'learning_rate'</span>:      <span style=\"color: #7f7f7f; text-decoration-color: #7f7f7f\">           </span>\n",
       "<span style=\"color: #7fbfbf; text-decoration-color: #7fbfbf\">                    </span>         <span style=\"color: #008080; text-decoration-color: #008080; font-weight: bold\">0.0003294640787536245</span>, <span style=\"color: #008000; text-decoration-color: #008000\">'epoch'</span>: <span style=\"color: #008080; text-decoration-color: #008080; font-weight: bold\">2.0</span>, <span style=\"color: #008000; text-decoration-color: #008000\">'step'</span>: <span style=\"color: #008080; text-decoration-color: #008080; font-weight: bold\">814</span><span style=\"font-weight: bold\">}</span>,   <span style=\"color: #7f7f7f; text-decoration-color: #7f7f7f\">           </span>\n",
       "<span style=\"color: #7fbfbf; text-decoration-color: #7fbfbf\">                    </span>         <span style=\"font-weight: bold\">{</span><span style=\"color: #008000; text-decoration-color: #008000\">'eval_loss'</span>: <span style=\"color: #008080; text-decoration-color: #008080; font-weight: bold\">3.2308406829833984</span>, <span style=\"color: #008000; text-decoration-color: #008000\">'eval_runtime'</span>:    <span style=\"color: #7f7f7f; text-decoration-color: #7f7f7f\">           </span>\n",
       "<span style=\"color: #7fbfbf; text-decoration-color: #7fbfbf\">                    </span>         <span style=\"color: #008080; text-decoration-color: #008080; font-weight: bold\">23.0147</span>, <span style=\"color: #008000; text-decoration-color: #008000\">'eval_samples_per_second'</span>: <span style=\"color: #008080; text-decoration-color: #008080; font-weight: bold\">141.562</span>,         <span style=\"color: #7f7f7f; text-decoration-color: #7f7f7f\">           </span>\n",
       "<span style=\"color: #7fbfbf; text-decoration-color: #7fbfbf\">                    </span>         <span style=\"color: #008000; text-decoration-color: #008000\">'eval_steps_per_second'</span>: <span style=\"color: #008080; text-decoration-color: #008080; font-weight: bold\">8.864</span>, <span style=\"color: #008000; text-decoration-color: #008000\">'epoch'</span>: <span style=\"color: #008080; text-decoration-color: #008080; font-weight: bold\">2.46</span>,       <span style=\"color: #7f7f7f; text-decoration-color: #7f7f7f\">           </span>\n",
       "<span style=\"color: #7fbfbf; text-decoration-color: #7fbfbf\">                    </span>         <span style=\"color: #008000; text-decoration-color: #008000\">'step'</span>: <span style=\"color: #008080; text-decoration-color: #008080; font-weight: bold\">1000</span><span style=\"font-weight: bold\">}</span>, <span style=\"font-weight: bold\">{</span><span style=\"color: #008000; text-decoration-color: #008000\">'eval_loss'</span>: <span style=\"color: #008080; text-decoration-color: #008080; font-weight: bold\">3.22076678276062</span>,       <span style=\"color: #7f7f7f; text-decoration-color: #7f7f7f\">           </span>\n",
       "<span style=\"color: #7fbfbf; text-decoration-color: #7fbfbf\">                    </span>         <span style=\"color: #008000; text-decoration-color: #008000\">'eval_runtime'</span>: <span style=\"color: #008080; text-decoration-color: #008080; font-weight: bold\">23.0281</span>, <span style=\"color: #008000; text-decoration-color: #008000\">'eval_samples_per_second'</span>:  <span style=\"color: #7f7f7f; text-decoration-color: #7f7f7f\">           </span>\n",
       "<span style=\"color: #7fbfbf; text-decoration-color: #7fbfbf\">                    </span>         <span style=\"color: #008080; text-decoration-color: #008080; font-weight: bold\">141.479</span>, <span style=\"color: #008000; text-decoration-color: #008000\">'eval_steps_per_second'</span>: <span style=\"color: #008080; text-decoration-color: #008080; font-weight: bold\">8.859</span>, <span style=\"color: #008000; text-decoration-color: #008000\">'epoch'</span>:    <span style=\"color: #7f7f7f; text-decoration-color: #7f7f7f\">           </span>\n",
       "<span style=\"color: #7fbfbf; text-decoration-color: #7fbfbf\">                    </span>         <span style=\"color: #008080; text-decoration-color: #008080; font-weight: bold\">2.95</span>, <span style=\"color: #008000; text-decoration-color: #008000\">'step'</span>: <span style=\"color: #008080; text-decoration-color: #008080; font-weight: bold\">1200</span><span style=\"font-weight: bold\">}</span>, <span style=\"font-weight: bold\">{</span><span style=\"color: #008000; text-decoration-color: #008000\">'loss'</span>: <span style=\"color: #008080; text-decoration-color: #008080; font-weight: bold\">2.899</span>,                 <span style=\"color: #7f7f7f; text-decoration-color: #7f7f7f\">           </span>\n",
       "<span style=\"color: #7fbfbf; text-decoration-color: #7fbfbf\">                    </span>         <span style=\"color: #008000; text-decoration-color: #008000\">'learning_rate'</span>: <span style=\"color: #008080; text-decoration-color: #008080; font-weight: bold\">0.00017422270212284725</span>, <span style=\"color: #008000; text-decoration-color: #008000\">'epoch'</span>:    <span style=\"color: #7f7f7f; text-decoration-color: #7f7f7f\">           </span>\n",
       "<span style=\"color: #7fbfbf; text-decoration-color: #7fbfbf\">                    </span>         <span style=\"color: #008080; text-decoration-color: #008080; font-weight: bold\">3.0</span>, <span style=\"color: #008000; text-decoration-color: #008000\">'step'</span>: <span style=\"color: #008080; text-decoration-color: #008080; font-weight: bold\">1221</span><span style=\"font-weight: bold\">}</span>, <span style=\"font-weight: bold\">{</span><span style=\"color: #008000; text-decoration-color: #008000\">'eval_loss'</span>: <span style=\"color: #008080; text-decoration-color: #008080; font-weight: bold\">3.251729726791382</span>, <span style=\"color: #7f7f7f; text-decoration-color: #7f7f7f\">           </span>\n",
       "<span style=\"color: #7fbfbf; text-decoration-color: #7fbfbf\">                    </span>         <span style=\"color: #008000; text-decoration-color: #008000\">'eval_runtime'</span>: <span style=\"color: #008080; text-decoration-color: #008080; font-weight: bold\">23.0129</span>, <span style=\"color: #008000; text-decoration-color: #008000\">'eval_samples_per_second'</span>:  <span style=\"color: #7f7f7f; text-decoration-color: #7f7f7f\">           </span>\n",
       "<span style=\"color: #7fbfbf; text-decoration-color: #7fbfbf\">                    </span>         <span style=\"color: #008080; text-decoration-color: #008080; font-weight: bold\">141.573</span>, <span style=\"color: #008000; text-decoration-color: #008000\">'eval_steps_per_second'</span>: <span style=\"color: #008080; text-decoration-color: #008080; font-weight: bold\">8.865</span>, <span style=\"color: #008000; text-decoration-color: #008000\">'epoch'</span>:    <span style=\"color: #7f7f7f; text-decoration-color: #7f7f7f\">           </span>\n",
       "<span style=\"color: #7fbfbf; text-decoration-color: #7fbfbf\">                    </span>         <span style=\"color: #008080; text-decoration-color: #008080; font-weight: bold\">3.44</span>, <span style=\"color: #008000; text-decoration-color: #008000\">'step'</span>: <span style=\"color: #008080; text-decoration-color: #008080; font-weight: bold\">1400</span><span style=\"font-weight: bold\">}</span>, <span style=\"font-weight: bold\">{</span><span style=\"color: #008000; text-decoration-color: #008000\">'eval_loss'</span>:                   <span style=\"color: #7f7f7f; text-decoration-color: #7f7f7f\">           </span>\n",
       "<span style=\"color: #7fbfbf; text-decoration-color: #7fbfbf\">                    </span>         <span style=\"color: #008080; text-decoration-color: #008080; font-weight: bold\">3.2478322982788086</span>, <span style=\"color: #008000; text-decoration-color: #008000\">'eval_runtime'</span>: <span style=\"color: #008080; text-decoration-color: #008080; font-weight: bold\">24.1979</span>,         <span style=\"color: #7f7f7f; text-decoration-color: #7f7f7f\">           </span>\n",
       "<span style=\"color: #7fbfbf; text-decoration-color: #7fbfbf\">                    </span>         <span style=\"color: #008000; text-decoration-color: #008000\">'eval_samples_per_second'</span>: <span style=\"color: #008080; text-decoration-color: #008080; font-weight: bold\">134.64</span>,                   <span style=\"color: #7f7f7f; text-decoration-color: #7f7f7f\">           </span>\n",
       "<span style=\"color: #7fbfbf; text-decoration-color: #7fbfbf\">                    </span>         <span style=\"color: #008000; text-decoration-color: #008000\">'eval_steps_per_second'</span>: <span style=\"color: #008080; text-decoration-color: #008080; font-weight: bold\">8.43</span>, <span style=\"color: #008000; text-decoration-color: #008000\">'epoch'</span>: <span style=\"color: #008080; text-decoration-color: #008080; font-weight: bold\">3.93</span>,        <span style=\"color: #7f7f7f; text-decoration-color: #7f7f7f\">           </span>\n",
       "<span style=\"color: #7fbfbf; text-decoration-color: #7fbfbf\">                    </span>         <span style=\"color: #008000; text-decoration-color: #008000\">'step'</span>: <span style=\"color: #008080; text-decoration-color: #008080; font-weight: bold\">1600</span><span style=\"font-weight: bold\">}</span>, <span style=\"font-weight: bold\">{</span><span style=\"color: #008000; text-decoration-color: #008000\">'loss'</span>: <span style=\"color: #008080; text-decoration-color: #008080; font-weight: bold\">2.7629</span>, <span style=\"color: #008000; text-decoration-color: #008000\">'learning_rate'</span>:     <span style=\"color: #7f7f7f; text-decoration-color: #7f7f7f\">           </span>\n",
       "<span style=\"color: #7fbfbf; text-decoration-color: #7fbfbf\">                    </span>         <span style=\"color: #008080; text-decoration-color: #008080; font-weight: bold\">4.820267039763859e-05</span>, <span style=\"color: #008000; text-decoration-color: #008000\">'epoch'</span>: <span style=\"color: #008080; text-decoration-color: #008080; font-weight: bold\">4.0</span>, <span style=\"color: #008000; text-decoration-color: #008000\">'step'</span>: <span style=\"color: #008080; text-decoration-color: #008080; font-weight: bold\">1628</span><span style=\"font-weight: bold\">}]</span>, <span style=\"color: #7f7f7f; text-decoration-color: #7f7f7f\">           </span>\n",
       "<span style=\"color: #7fbfbf; text-decoration-color: #7fbfbf\">                    </span>         <span style=\"color: #808000; text-decoration-color: #808000\">best_metric</span>=<span style=\"color: #800080; text-decoration-color: #800080; font-style: italic\">None</span>, <span style=\"color: #808000; text-decoration-color: #808000\">best_model_checkpoint</span>=<span style=\"color: #800080; text-decoration-color: #800080; font-style: italic\">None</span>,        <span style=\"color: #7f7f7f; text-decoration-color: #7f7f7f\">           </span>\n",
       "<span style=\"color: #7fbfbf; text-decoration-color: #7fbfbf\">                    </span>         <span style=\"color: #808000; text-decoration-color: #808000\">is_local_process_zero</span>=<span style=\"color: #00ff00; text-decoration-color: #00ff00; font-style: italic\">True</span>,                          <span style=\"color: #7f7f7f; text-decoration-color: #7f7f7f\">           </span>\n",
       "<span style=\"color: #7fbfbf; text-decoration-color: #7fbfbf\">                    </span>         <span style=\"color: #808000; text-decoration-color: #808000\">is_world_process_zero</span>=<span style=\"color: #00ff00; text-decoration-color: #00ff00; font-style: italic\">True</span>,                          <span style=\"color: #7f7f7f; text-decoration-color: #7f7f7f\">           </span>\n",
       "<span style=\"color: #7fbfbf; text-decoration-color: #7fbfbf\">                    </span>         <span style=\"color: #808000; text-decoration-color: #808000\">is_hyper_param_search</span>=<span style=\"color: #ff0000; text-decoration-color: #ff0000; font-style: italic\">False</span>, <span style=\"color: #808000; text-decoration-color: #808000\">trial_name</span>=<span style=\"color: #800080; text-decoration-color: #800080; font-style: italic\">None</span>,        <span style=\"color: #7f7f7f; text-decoration-color: #7f7f7f\">           </span>\n",
       "<span style=\"color: #7fbfbf; text-decoration-color: #7fbfbf\">                    </span>         <span style=\"color: #808000; text-decoration-color: #808000\">trial_params</span>=<span style=\"color: #800080; text-decoration-color: #800080; font-style: italic\">None</span><span style=\"font-weight: bold\">)</span>                                   <span style=\"color: #7f7f7f; text-decoration-color: #7f7f7f\">           </span>\n",
       "</pre>\n"
      ],
      "text/plain": [
       "\u001b[2;36m                   \u001b[0m\u001b[2;36m \u001b[0m\u001b[34mINFO    \u001b[0m \u001b[1;35mTrainerState\u001b[0m\u001b[1m(\u001b[0m\u001b[33mepoch\u001b[0m=\u001b[1;36m3\u001b[0m\u001b[1;36m.9987730061349693\u001b[0m,               \u001b]8;id=800581;file://C:\\Users\\Hedronstone\\Desktop\\miniGPT2\\operations\\train.py\u001b\\\u001b[2mtrain.py\u001b[0m\u001b]8;;\u001b\\\u001b[2m:\u001b[0m\u001b]8;id=352944;file://C:\\Users\\Hedronstone\\Desktop\\miniGPT2\\operations\\train.py#41\u001b\\\u001b[2m41\u001b[0m\u001b]8;;\u001b\\\n",
       "\u001b[2;36m                    \u001b[0m         \u001b[33mglobal_step\u001b[0m=\u001b[1;36m1628\u001b[0m, \u001b[33mmax_steps\u001b[0m=\u001b[1;36m2035\u001b[0m,                    \u001b[2m           \u001b[0m\n",
       "\u001b[2;36m                    \u001b[0m         \u001b[33mnum_train_epochs\u001b[0m=\u001b[1;36m5\u001b[0m, \u001b[33mtotal_flos\u001b[0m=\u001b[1;36m1\u001b[0m\u001b[1;36m.3621676212224e+16\u001b[0m,  \u001b[2m           \u001b[0m\n",
       "\u001b[2;36m                    \u001b[0m         \u001b[33mlog_history\u001b[0m=\u001b[1m[\u001b[0m\u001b[1m{\u001b[0m\u001b[32m'eval_loss'\u001b[0m: \u001b[1;36m3.2401208877563477\u001b[0m,       \u001b[2m           \u001b[0m\n",
       "\u001b[2;36m                    \u001b[0m         \u001b[32m'eval_runtime'\u001b[0m: \u001b[1;36m23.6545\u001b[0m, \u001b[32m'eval_samples_per_second'\u001b[0m:  \u001b[2m           \u001b[0m\n",
       "\u001b[2;36m                    \u001b[0m         \u001b[1;36m137.733\u001b[0m, \u001b[32m'eval_steps_per_second'\u001b[0m: \u001b[1;36m8.624\u001b[0m, \u001b[32m'epoch'\u001b[0m:    \u001b[2m           \u001b[0m\n",
       "\u001b[2;36m                    \u001b[0m         \u001b[1;36m0.49\u001b[0m, \u001b[32m'step'\u001b[0m: \u001b[1;36m200\u001b[0m\u001b[1m}\u001b[0m, \u001b[1m{\u001b[0m\u001b[32m'eval_loss'\u001b[0m: \u001b[1;36m3.217250108718872\u001b[0m, \u001b[2m           \u001b[0m\n",
       "\u001b[2;36m                    \u001b[0m         \u001b[32m'eval_runtime'\u001b[0m: \u001b[1;36m23.6908\u001b[0m, \u001b[32m'eval_samples_per_second'\u001b[0m:  \u001b[2m           \u001b[0m\n",
       "\u001b[2;36m                    \u001b[0m         \u001b[1;36m137.522\u001b[0m, \u001b[32m'eval_steps_per_second'\u001b[0m: \u001b[1;36m8.611\u001b[0m, \u001b[32m'epoch'\u001b[0m:    \u001b[2m           \u001b[0m\n",
       "\u001b[2;36m                    \u001b[0m         \u001b[1;36m0.98\u001b[0m, \u001b[32m'step'\u001b[0m: \u001b[1;36m400\u001b[0m\u001b[1m}\u001b[0m, \u001b[1m{\u001b[0m\u001b[32m'loss'\u001b[0m: \u001b[1;36m3.2845\u001b[0m,                 \u001b[2m           \u001b[0m\n",
       "\u001b[2;36m                    \u001b[0m         \u001b[32m'learning_rate'\u001b[0m: \u001b[1;36m0.0004540624090114981\u001b[0m, \u001b[32m'epoch'\u001b[0m:     \u001b[2m           \u001b[0m\n",
       "\u001b[2;36m                    \u001b[0m         \u001b[1;36m1.0\u001b[0m, \u001b[32m'step'\u001b[0m: \u001b[1;36m407\u001b[0m\u001b[1m}\u001b[0m, \u001b[1m{\u001b[0m\u001b[32m'eval_loss'\u001b[0m: \u001b[1;36m3.223500967025757\u001b[0m,  \u001b[2m           \u001b[0m\n",
       "\u001b[2;36m                    \u001b[0m         \u001b[32m'eval_runtime'\u001b[0m: \u001b[1;36m23.6332\u001b[0m, \u001b[32m'eval_samples_per_second'\u001b[0m:  \u001b[2m           \u001b[0m\n",
       "\u001b[2;36m                    \u001b[0m         \u001b[1;36m137.857\u001b[0m, \u001b[32m'eval_steps_per_second'\u001b[0m: \u001b[1;36m8.632\u001b[0m, \u001b[32m'epoch'\u001b[0m:    \u001b[2m           \u001b[0m\n",
       "\u001b[2;36m                    \u001b[0m         \u001b[1;36m1.47\u001b[0m, \u001b[32m'step'\u001b[0m: \u001b[1;36m600\u001b[0m\u001b[1m}\u001b[0m, \u001b[1m{\u001b[0m\u001b[32m'eval_loss'\u001b[0m:                    \u001b[2m           \u001b[0m\n",
       "\u001b[2;36m                    \u001b[0m         \u001b[1;36m3.2089829444885254\u001b[0m, \u001b[32m'eval_runtime'\u001b[0m: \u001b[1;36m23.0157\u001b[0m,         \u001b[2m           \u001b[0m\n",
       "\u001b[2;36m                    \u001b[0m         \u001b[32m'eval_samples_per_second'\u001b[0m: \u001b[1;36m141.556\u001b[0m,                  \u001b[2m           \u001b[0m\n",
       "\u001b[2;36m                    \u001b[0m         \u001b[32m'eval_steps_per_second'\u001b[0m: \u001b[1;36m8.864\u001b[0m, \u001b[32m'epoch'\u001b[0m: \u001b[1;36m1.96\u001b[0m,       \u001b[2m           \u001b[0m\n",
       "\u001b[2;36m                    \u001b[0m         \u001b[32m'step'\u001b[0m: \u001b[1;36m800\u001b[0m\u001b[1m}\u001b[0m, \u001b[1m{\u001b[0m\u001b[32m'loss'\u001b[0m: \u001b[1;36m3.0619\u001b[0m, \u001b[32m'learning_rate'\u001b[0m:      \u001b[2m           \u001b[0m\n",
       "\u001b[2;36m                    \u001b[0m         \u001b[1;36m0.0003294640787536245\u001b[0m, \u001b[32m'epoch'\u001b[0m: \u001b[1;36m2.0\u001b[0m, \u001b[32m'step'\u001b[0m: \u001b[1;36m814\u001b[0m\u001b[1m}\u001b[0m,   \u001b[2m           \u001b[0m\n",
       "\u001b[2;36m                    \u001b[0m         \u001b[1m{\u001b[0m\u001b[32m'eval_loss'\u001b[0m: \u001b[1;36m3.2308406829833984\u001b[0m, \u001b[32m'eval_runtime'\u001b[0m:    \u001b[2m           \u001b[0m\n",
       "\u001b[2;36m                    \u001b[0m         \u001b[1;36m23.0147\u001b[0m, \u001b[32m'eval_samples_per_second'\u001b[0m: \u001b[1;36m141.562\u001b[0m,         \u001b[2m           \u001b[0m\n",
       "\u001b[2;36m                    \u001b[0m         \u001b[32m'eval_steps_per_second'\u001b[0m: \u001b[1;36m8.864\u001b[0m, \u001b[32m'epoch'\u001b[0m: \u001b[1;36m2.46\u001b[0m,       \u001b[2m           \u001b[0m\n",
       "\u001b[2;36m                    \u001b[0m         \u001b[32m'step'\u001b[0m: \u001b[1;36m1000\u001b[0m\u001b[1m}\u001b[0m, \u001b[1m{\u001b[0m\u001b[32m'eval_loss'\u001b[0m: \u001b[1;36m3.22076678276062\u001b[0m,       \u001b[2m           \u001b[0m\n",
       "\u001b[2;36m                    \u001b[0m         \u001b[32m'eval_runtime'\u001b[0m: \u001b[1;36m23.0281\u001b[0m, \u001b[32m'eval_samples_per_second'\u001b[0m:  \u001b[2m           \u001b[0m\n",
       "\u001b[2;36m                    \u001b[0m         \u001b[1;36m141.479\u001b[0m, \u001b[32m'eval_steps_per_second'\u001b[0m: \u001b[1;36m8.859\u001b[0m, \u001b[32m'epoch'\u001b[0m:    \u001b[2m           \u001b[0m\n",
       "\u001b[2;36m                    \u001b[0m         \u001b[1;36m2.95\u001b[0m, \u001b[32m'step'\u001b[0m: \u001b[1;36m1200\u001b[0m\u001b[1m}\u001b[0m, \u001b[1m{\u001b[0m\u001b[32m'loss'\u001b[0m: \u001b[1;36m2.899\u001b[0m,                 \u001b[2m           \u001b[0m\n",
       "\u001b[2;36m                    \u001b[0m         \u001b[32m'learning_rate'\u001b[0m: \u001b[1;36m0.00017422270212284725\u001b[0m, \u001b[32m'epoch'\u001b[0m:    \u001b[2m           \u001b[0m\n",
       "\u001b[2;36m                    \u001b[0m         \u001b[1;36m3.0\u001b[0m, \u001b[32m'step'\u001b[0m: \u001b[1;36m1221\u001b[0m\u001b[1m}\u001b[0m, \u001b[1m{\u001b[0m\u001b[32m'eval_loss'\u001b[0m: \u001b[1;36m3.251729726791382\u001b[0m, \u001b[2m           \u001b[0m\n",
       "\u001b[2;36m                    \u001b[0m         \u001b[32m'eval_runtime'\u001b[0m: \u001b[1;36m23.0129\u001b[0m, \u001b[32m'eval_samples_per_second'\u001b[0m:  \u001b[2m           \u001b[0m\n",
       "\u001b[2;36m                    \u001b[0m         \u001b[1;36m141.573\u001b[0m, \u001b[32m'eval_steps_per_second'\u001b[0m: \u001b[1;36m8.865\u001b[0m, \u001b[32m'epoch'\u001b[0m:    \u001b[2m           \u001b[0m\n",
       "\u001b[2;36m                    \u001b[0m         \u001b[1;36m3.44\u001b[0m, \u001b[32m'step'\u001b[0m: \u001b[1;36m1400\u001b[0m\u001b[1m}\u001b[0m, \u001b[1m{\u001b[0m\u001b[32m'eval_loss'\u001b[0m:                   \u001b[2m           \u001b[0m\n",
       "\u001b[2;36m                    \u001b[0m         \u001b[1;36m3.2478322982788086\u001b[0m, \u001b[32m'eval_runtime'\u001b[0m: \u001b[1;36m24.1979\u001b[0m,         \u001b[2m           \u001b[0m\n",
       "\u001b[2;36m                    \u001b[0m         \u001b[32m'eval_samples_per_second'\u001b[0m: \u001b[1;36m134.64\u001b[0m,                   \u001b[2m           \u001b[0m\n",
       "\u001b[2;36m                    \u001b[0m         \u001b[32m'eval_steps_per_second'\u001b[0m: \u001b[1;36m8.43\u001b[0m, \u001b[32m'epoch'\u001b[0m: \u001b[1;36m3.93\u001b[0m,        \u001b[2m           \u001b[0m\n",
       "\u001b[2;36m                    \u001b[0m         \u001b[32m'step'\u001b[0m: \u001b[1;36m1600\u001b[0m\u001b[1m}\u001b[0m, \u001b[1m{\u001b[0m\u001b[32m'loss'\u001b[0m: \u001b[1;36m2.7629\u001b[0m, \u001b[32m'learning_rate'\u001b[0m:     \u001b[2m           \u001b[0m\n",
       "\u001b[2;36m                    \u001b[0m         \u001b[1;36m4.820267039763859e-05\u001b[0m, \u001b[32m'epoch'\u001b[0m: \u001b[1;36m4.0\u001b[0m, \u001b[32m'step'\u001b[0m: \u001b[1;36m1628\u001b[0m\u001b[1m}\u001b[0m\u001b[1m]\u001b[0m, \u001b[2m           \u001b[0m\n",
       "\u001b[2;36m                    \u001b[0m         \u001b[33mbest_metric\u001b[0m=\u001b[3;35mNone\u001b[0m, \u001b[33mbest_model_checkpoint\u001b[0m=\u001b[3;35mNone\u001b[0m,        \u001b[2m           \u001b[0m\n",
       "\u001b[2;36m                    \u001b[0m         \u001b[33mis_local_process_zero\u001b[0m=\u001b[3;92mTrue\u001b[0m,                          \u001b[2m           \u001b[0m\n",
       "\u001b[2;36m                    \u001b[0m         \u001b[33mis_world_process_zero\u001b[0m=\u001b[3;92mTrue\u001b[0m,                          \u001b[2m           \u001b[0m\n",
       "\u001b[2;36m                    \u001b[0m         \u001b[33mis_hyper_param_search\u001b[0m=\u001b[3;91mFalse\u001b[0m, \u001b[33mtrial_name\u001b[0m=\u001b[3;35mNone\u001b[0m,        \u001b[2m           \u001b[0m\n",
       "\u001b[2;36m                    \u001b[0m         \u001b[33mtrial_params\u001b[0m=\u001b[3;35mNone\u001b[0m\u001b[1m)\u001b[0m                                   \u001b[2m           \u001b[0m\n"
      ]
     },
     "metadata": {},
     "output_type": "display_data"
    },
    {
     "name": "stdout",
     "output_type": "stream",
     "text": [
      "{'loss': 2.7629, 'learning_rate': 4.820267039763859e-05, 'epoch': 4.0}\n"
     ]
    },
    {
     "name": "stderr",
     "output_type": "stream",
     "text": [
      "***** Running Evaluation *****\n",
      "  Num examples = 3258\n",
      "  Batch size = 16\n"
     ]
    },
    {
     "data": {
      "application/vnd.jupyter.widget-view+json": {
       "model_id": "",
       "version_major": 2,
       "version_minor": 0
      },
      "text/plain": [
       "  0%|          | 0/204 [00:00<?, ?it/s]"
      ]
     },
     "metadata": {},
     "output_type": "display_data"
    },
    {
     "data": {
      "text/html": [
       "<pre style=\"white-space:pre;overflow-x:auto;line-height:normal;font-family:Menlo,'DejaVu Sans Mono',consolas,'Courier New',monospace\"><span style=\"color: #7fbfbf; text-decoration-color: #7fbfbf\">[09/30/22 19:53:09] </span><span style=\"color: #000080; text-decoration-color: #000080\">INFO    </span> <span style=\"font-weight: bold\">{</span><span style=\"color: #008000; text-decoration-color: #008000\">'eval_loss'</span>: <span style=\"color: #008080; text-decoration-color: #008080; font-weight: bold\">3.269883155822754</span>, <span style=\"color: #008000; text-decoration-color: #008000\">'eval_runtime'</span>:     <a href=\"file://C:\\Users\\Hedronstone\\Desktop\\miniGPT2\\operations\\train.py\" target=\"_blank\"><span style=\"color: #7f7f7f; text-decoration-color: #7f7f7f\">train.py</span></a><span style=\"color: #7f7f7f; text-decoration-color: #7f7f7f\">:</span><a href=\"file://C:\\Users\\Hedronstone\\Desktop\\miniGPT2\\operations\\train.py#39\" target=\"_blank\"><span style=\"color: #7f7f7f; text-decoration-color: #7f7f7f\">39</span></a>\n",
       "<span style=\"color: #7fbfbf; text-decoration-color: #7fbfbf\">                    </span>         <span style=\"color: #008080; text-decoration-color: #008080; font-weight: bold\">23.6433</span>, <span style=\"color: #008000; text-decoration-color: #008000\">'eval_samples_per_second'</span>: <span style=\"color: #008080; text-decoration-color: #008080; font-weight: bold\">137.798</span>,         <span style=\"color: #7f7f7f; text-decoration-color: #7f7f7f\">           </span>\n",
       "<span style=\"color: #7fbfbf; text-decoration-color: #7fbfbf\">                    </span>         <span style=\"color: #008000; text-decoration-color: #008000\">'eval_steps_per_second'</span>: <span style=\"color: #008080; text-decoration-color: #008080; font-weight: bold\">8.628</span>, <span style=\"color: #008000; text-decoration-color: #008000\">'epoch'</span>: <span style=\"color: #008080; text-decoration-color: #008080; font-weight: bold\">4.42</span><span style=\"font-weight: bold\">}</span>       <span style=\"color: #7f7f7f; text-decoration-color: #7f7f7f\">           </span>\n",
       "</pre>\n"
      ],
      "text/plain": [
       "\u001b[2;36m[09/30/22 19:53:09]\u001b[0m\u001b[2;36m \u001b[0m\u001b[34mINFO    \u001b[0m \u001b[1m{\u001b[0m\u001b[32m'eval_loss'\u001b[0m: \u001b[1;36m3.269883155822754\u001b[0m, \u001b[32m'eval_runtime'\u001b[0m:     \u001b]8;id=107175;file://C:\\Users\\Hedronstone\\Desktop\\miniGPT2\\operations\\train.py\u001b\\\u001b[2mtrain.py\u001b[0m\u001b]8;;\u001b\\\u001b[2m:\u001b[0m\u001b]8;id=97251;file://C:\\Users\\Hedronstone\\Desktop\\miniGPT2\\operations\\train.py#39\u001b\\\u001b[2m39\u001b[0m\u001b]8;;\u001b\\\n",
       "\u001b[2;36m                    \u001b[0m         \u001b[1;36m23.6433\u001b[0m, \u001b[32m'eval_samples_per_second'\u001b[0m: \u001b[1;36m137.798\u001b[0m,         \u001b[2m           \u001b[0m\n",
       "\u001b[2;36m                    \u001b[0m         \u001b[32m'eval_steps_per_second'\u001b[0m: \u001b[1;36m8.628\u001b[0m, \u001b[32m'epoch'\u001b[0m: \u001b[1;36m4.42\u001b[0m\u001b[1m}\u001b[0m       \u001b[2m           \u001b[0m\n"
      ]
     },
     "metadata": {},
     "output_type": "display_data"
    },
    {
     "data": {
      "text/html": [
       "<pre style=\"white-space:pre;overflow-x:auto;line-height:normal;font-family:Menlo,'DejaVu Sans Mono',consolas,'Courier New',monospace\"><span style=\"color: #7fbfbf; text-decoration-color: #7fbfbf\">                    </span><span style=\"color: #000080; text-decoration-color: #000080\">INFO    </span> <span style=\"color: #800080; text-decoration-color: #800080; font-weight: bold\">TrainerState</span><span style=\"font-weight: bold\">(</span><span style=\"color: #808000; text-decoration-color: #808000\">epoch</span>=<span style=\"color: #008080; text-decoration-color: #008080; font-weight: bold\">4.422085889570552</span>,                <a href=\"file://C:\\Users\\Hedronstone\\Desktop\\miniGPT2\\operations\\train.py\" target=\"_blank\"><span style=\"color: #7f7f7f; text-decoration-color: #7f7f7f\">train.py</span></a><span style=\"color: #7f7f7f; text-decoration-color: #7f7f7f\">:</span><a href=\"file://C:\\Users\\Hedronstone\\Desktop\\miniGPT2\\operations\\train.py#41\" target=\"_blank\"><span style=\"color: #7f7f7f; text-decoration-color: #7f7f7f\">41</span></a>\n",
       "<span style=\"color: #7fbfbf; text-decoration-color: #7fbfbf\">                    </span>         <span style=\"color: #808000; text-decoration-color: #808000\">global_step</span>=<span style=\"color: #008080; text-decoration-color: #008080; font-weight: bold\">1800</span>, <span style=\"color: #808000; text-decoration-color: #808000\">max_steps</span>=<span style=\"color: #008080; text-decoration-color: #008080; font-weight: bold\">2035</span>,                    <span style=\"color: #7f7f7f; text-decoration-color: #7f7f7f\">           </span>\n",
       "<span style=\"color: #7fbfbf; text-decoration-color: #7fbfbf\">                    </span>         <span style=\"color: #808000; text-decoration-color: #808000\">num_train_epochs</span>=<span style=\"color: #008080; text-decoration-color: #008080; font-weight: bold\">5</span>, <span style=\"color: #808000; text-decoration-color: #808000\">total_flos</span>=<span style=\"color: #008080; text-decoration-color: #008080; font-weight: bold\">1.3621676212224e+16</span>,  <span style=\"color: #7f7f7f; text-decoration-color: #7f7f7f\">           </span>\n",
       "<span style=\"color: #7fbfbf; text-decoration-color: #7fbfbf\">                    </span>         <span style=\"color: #808000; text-decoration-color: #808000\">log_history</span>=<span style=\"font-weight: bold\">[{</span><span style=\"color: #008000; text-decoration-color: #008000\">'eval_loss'</span>: <span style=\"color: #008080; text-decoration-color: #008080; font-weight: bold\">3.2401208877563477</span>,       <span style=\"color: #7f7f7f; text-decoration-color: #7f7f7f\">           </span>\n",
       "<span style=\"color: #7fbfbf; text-decoration-color: #7fbfbf\">                    </span>         <span style=\"color: #008000; text-decoration-color: #008000\">'eval_runtime'</span>: <span style=\"color: #008080; text-decoration-color: #008080; font-weight: bold\">23.6545</span>, <span style=\"color: #008000; text-decoration-color: #008000\">'eval_samples_per_second'</span>:  <span style=\"color: #7f7f7f; text-decoration-color: #7f7f7f\">           </span>\n",
       "<span style=\"color: #7fbfbf; text-decoration-color: #7fbfbf\">                    </span>         <span style=\"color: #008080; text-decoration-color: #008080; font-weight: bold\">137.733</span>, <span style=\"color: #008000; text-decoration-color: #008000\">'eval_steps_per_second'</span>: <span style=\"color: #008080; text-decoration-color: #008080; font-weight: bold\">8.624</span>, <span style=\"color: #008000; text-decoration-color: #008000\">'epoch'</span>:    <span style=\"color: #7f7f7f; text-decoration-color: #7f7f7f\">           </span>\n",
       "<span style=\"color: #7fbfbf; text-decoration-color: #7fbfbf\">                    </span>         <span style=\"color: #008080; text-decoration-color: #008080; font-weight: bold\">0.49</span>, <span style=\"color: #008000; text-decoration-color: #008000\">'step'</span>: <span style=\"color: #008080; text-decoration-color: #008080; font-weight: bold\">200</span><span style=\"font-weight: bold\">}</span>, <span style=\"font-weight: bold\">{</span><span style=\"color: #008000; text-decoration-color: #008000\">'eval_loss'</span>: <span style=\"color: #008080; text-decoration-color: #008080; font-weight: bold\">3.217250108718872</span>, <span style=\"color: #7f7f7f; text-decoration-color: #7f7f7f\">           </span>\n",
       "<span style=\"color: #7fbfbf; text-decoration-color: #7fbfbf\">                    </span>         <span style=\"color: #008000; text-decoration-color: #008000\">'eval_runtime'</span>: <span style=\"color: #008080; text-decoration-color: #008080; font-weight: bold\">23.6908</span>, <span style=\"color: #008000; text-decoration-color: #008000\">'eval_samples_per_second'</span>:  <span style=\"color: #7f7f7f; text-decoration-color: #7f7f7f\">           </span>\n",
       "<span style=\"color: #7fbfbf; text-decoration-color: #7fbfbf\">                    </span>         <span style=\"color: #008080; text-decoration-color: #008080; font-weight: bold\">137.522</span>, <span style=\"color: #008000; text-decoration-color: #008000\">'eval_steps_per_second'</span>: <span style=\"color: #008080; text-decoration-color: #008080; font-weight: bold\">8.611</span>, <span style=\"color: #008000; text-decoration-color: #008000\">'epoch'</span>:    <span style=\"color: #7f7f7f; text-decoration-color: #7f7f7f\">           </span>\n",
       "<span style=\"color: #7fbfbf; text-decoration-color: #7fbfbf\">                    </span>         <span style=\"color: #008080; text-decoration-color: #008080; font-weight: bold\">0.98</span>, <span style=\"color: #008000; text-decoration-color: #008000\">'step'</span>: <span style=\"color: #008080; text-decoration-color: #008080; font-weight: bold\">400</span><span style=\"font-weight: bold\">}</span>, <span style=\"font-weight: bold\">{</span><span style=\"color: #008000; text-decoration-color: #008000\">'loss'</span>: <span style=\"color: #008080; text-decoration-color: #008080; font-weight: bold\">3.2845</span>,                 <span style=\"color: #7f7f7f; text-decoration-color: #7f7f7f\">           </span>\n",
       "<span style=\"color: #7fbfbf; text-decoration-color: #7fbfbf\">                    </span>         <span style=\"color: #008000; text-decoration-color: #008000\">'learning_rate'</span>: <span style=\"color: #008080; text-decoration-color: #008080; font-weight: bold\">0.0004540624090114981</span>, <span style=\"color: #008000; text-decoration-color: #008000\">'epoch'</span>:     <span style=\"color: #7f7f7f; text-decoration-color: #7f7f7f\">           </span>\n",
       "<span style=\"color: #7fbfbf; text-decoration-color: #7fbfbf\">                    </span>         <span style=\"color: #008080; text-decoration-color: #008080; font-weight: bold\">1.0</span>, <span style=\"color: #008000; text-decoration-color: #008000\">'step'</span>: <span style=\"color: #008080; text-decoration-color: #008080; font-weight: bold\">407</span><span style=\"font-weight: bold\">}</span>, <span style=\"font-weight: bold\">{</span><span style=\"color: #008000; text-decoration-color: #008000\">'eval_loss'</span>: <span style=\"color: #008080; text-decoration-color: #008080; font-weight: bold\">3.223500967025757</span>,  <span style=\"color: #7f7f7f; text-decoration-color: #7f7f7f\">           </span>\n",
       "<span style=\"color: #7fbfbf; text-decoration-color: #7fbfbf\">                    </span>         <span style=\"color: #008000; text-decoration-color: #008000\">'eval_runtime'</span>: <span style=\"color: #008080; text-decoration-color: #008080; font-weight: bold\">23.6332</span>, <span style=\"color: #008000; text-decoration-color: #008000\">'eval_samples_per_second'</span>:  <span style=\"color: #7f7f7f; text-decoration-color: #7f7f7f\">           </span>\n",
       "<span style=\"color: #7fbfbf; text-decoration-color: #7fbfbf\">                    </span>         <span style=\"color: #008080; text-decoration-color: #008080; font-weight: bold\">137.857</span>, <span style=\"color: #008000; text-decoration-color: #008000\">'eval_steps_per_second'</span>: <span style=\"color: #008080; text-decoration-color: #008080; font-weight: bold\">8.632</span>, <span style=\"color: #008000; text-decoration-color: #008000\">'epoch'</span>:    <span style=\"color: #7f7f7f; text-decoration-color: #7f7f7f\">           </span>\n",
       "<span style=\"color: #7fbfbf; text-decoration-color: #7fbfbf\">                    </span>         <span style=\"color: #008080; text-decoration-color: #008080; font-weight: bold\">1.47</span>, <span style=\"color: #008000; text-decoration-color: #008000\">'step'</span>: <span style=\"color: #008080; text-decoration-color: #008080; font-weight: bold\">600</span><span style=\"font-weight: bold\">}</span>, <span style=\"font-weight: bold\">{</span><span style=\"color: #008000; text-decoration-color: #008000\">'eval_loss'</span>:                    <span style=\"color: #7f7f7f; text-decoration-color: #7f7f7f\">           </span>\n",
       "<span style=\"color: #7fbfbf; text-decoration-color: #7fbfbf\">                    </span>         <span style=\"color: #008080; text-decoration-color: #008080; font-weight: bold\">3.2089829444885254</span>, <span style=\"color: #008000; text-decoration-color: #008000\">'eval_runtime'</span>: <span style=\"color: #008080; text-decoration-color: #008080; font-weight: bold\">23.0157</span>,         <span style=\"color: #7f7f7f; text-decoration-color: #7f7f7f\">           </span>\n",
       "<span style=\"color: #7fbfbf; text-decoration-color: #7fbfbf\">                    </span>         <span style=\"color: #008000; text-decoration-color: #008000\">'eval_samples_per_second'</span>: <span style=\"color: #008080; text-decoration-color: #008080; font-weight: bold\">141.556</span>,                  <span style=\"color: #7f7f7f; text-decoration-color: #7f7f7f\">           </span>\n",
       "<span style=\"color: #7fbfbf; text-decoration-color: #7fbfbf\">                    </span>         <span style=\"color: #008000; text-decoration-color: #008000\">'eval_steps_per_second'</span>: <span style=\"color: #008080; text-decoration-color: #008080; font-weight: bold\">8.864</span>, <span style=\"color: #008000; text-decoration-color: #008000\">'epoch'</span>: <span style=\"color: #008080; text-decoration-color: #008080; font-weight: bold\">1.96</span>,       <span style=\"color: #7f7f7f; text-decoration-color: #7f7f7f\">           </span>\n",
       "<span style=\"color: #7fbfbf; text-decoration-color: #7fbfbf\">                    </span>         <span style=\"color: #008000; text-decoration-color: #008000\">'step'</span>: <span style=\"color: #008080; text-decoration-color: #008080; font-weight: bold\">800</span><span style=\"font-weight: bold\">}</span>, <span style=\"font-weight: bold\">{</span><span style=\"color: #008000; text-decoration-color: #008000\">'loss'</span>: <span style=\"color: #008080; text-decoration-color: #008080; font-weight: bold\">3.0619</span>, <span style=\"color: #008000; text-decoration-color: #008000\">'learning_rate'</span>:      <span style=\"color: #7f7f7f; text-decoration-color: #7f7f7f\">           </span>\n",
       "<span style=\"color: #7fbfbf; text-decoration-color: #7fbfbf\">                    </span>         <span style=\"color: #008080; text-decoration-color: #008080; font-weight: bold\">0.0003294640787536245</span>, <span style=\"color: #008000; text-decoration-color: #008000\">'epoch'</span>: <span style=\"color: #008080; text-decoration-color: #008080; font-weight: bold\">2.0</span>, <span style=\"color: #008000; text-decoration-color: #008000\">'step'</span>: <span style=\"color: #008080; text-decoration-color: #008080; font-weight: bold\">814</span><span style=\"font-weight: bold\">}</span>,   <span style=\"color: #7f7f7f; text-decoration-color: #7f7f7f\">           </span>\n",
       "<span style=\"color: #7fbfbf; text-decoration-color: #7fbfbf\">                    </span>         <span style=\"font-weight: bold\">{</span><span style=\"color: #008000; text-decoration-color: #008000\">'eval_loss'</span>: <span style=\"color: #008080; text-decoration-color: #008080; font-weight: bold\">3.2308406829833984</span>, <span style=\"color: #008000; text-decoration-color: #008000\">'eval_runtime'</span>:    <span style=\"color: #7f7f7f; text-decoration-color: #7f7f7f\">           </span>\n",
       "<span style=\"color: #7fbfbf; text-decoration-color: #7fbfbf\">                    </span>         <span style=\"color: #008080; text-decoration-color: #008080; font-weight: bold\">23.0147</span>, <span style=\"color: #008000; text-decoration-color: #008000\">'eval_samples_per_second'</span>: <span style=\"color: #008080; text-decoration-color: #008080; font-weight: bold\">141.562</span>,         <span style=\"color: #7f7f7f; text-decoration-color: #7f7f7f\">           </span>\n",
       "<span style=\"color: #7fbfbf; text-decoration-color: #7fbfbf\">                    </span>         <span style=\"color: #008000; text-decoration-color: #008000\">'eval_steps_per_second'</span>: <span style=\"color: #008080; text-decoration-color: #008080; font-weight: bold\">8.864</span>, <span style=\"color: #008000; text-decoration-color: #008000\">'epoch'</span>: <span style=\"color: #008080; text-decoration-color: #008080; font-weight: bold\">2.46</span>,       <span style=\"color: #7f7f7f; text-decoration-color: #7f7f7f\">           </span>\n",
       "<span style=\"color: #7fbfbf; text-decoration-color: #7fbfbf\">                    </span>         <span style=\"color: #008000; text-decoration-color: #008000\">'step'</span>: <span style=\"color: #008080; text-decoration-color: #008080; font-weight: bold\">1000</span><span style=\"font-weight: bold\">}</span>, <span style=\"font-weight: bold\">{</span><span style=\"color: #008000; text-decoration-color: #008000\">'eval_loss'</span>: <span style=\"color: #008080; text-decoration-color: #008080; font-weight: bold\">3.22076678276062</span>,       <span style=\"color: #7f7f7f; text-decoration-color: #7f7f7f\">           </span>\n",
       "<span style=\"color: #7fbfbf; text-decoration-color: #7fbfbf\">                    </span>         <span style=\"color: #008000; text-decoration-color: #008000\">'eval_runtime'</span>: <span style=\"color: #008080; text-decoration-color: #008080; font-weight: bold\">23.0281</span>, <span style=\"color: #008000; text-decoration-color: #008000\">'eval_samples_per_second'</span>:  <span style=\"color: #7f7f7f; text-decoration-color: #7f7f7f\">           </span>\n",
       "<span style=\"color: #7fbfbf; text-decoration-color: #7fbfbf\">                    </span>         <span style=\"color: #008080; text-decoration-color: #008080; font-weight: bold\">141.479</span>, <span style=\"color: #008000; text-decoration-color: #008000\">'eval_steps_per_second'</span>: <span style=\"color: #008080; text-decoration-color: #008080; font-weight: bold\">8.859</span>, <span style=\"color: #008000; text-decoration-color: #008000\">'epoch'</span>:    <span style=\"color: #7f7f7f; text-decoration-color: #7f7f7f\">           </span>\n",
       "<span style=\"color: #7fbfbf; text-decoration-color: #7fbfbf\">                    </span>         <span style=\"color: #008080; text-decoration-color: #008080; font-weight: bold\">2.95</span>, <span style=\"color: #008000; text-decoration-color: #008000\">'step'</span>: <span style=\"color: #008080; text-decoration-color: #008080; font-weight: bold\">1200</span><span style=\"font-weight: bold\">}</span>, <span style=\"font-weight: bold\">{</span><span style=\"color: #008000; text-decoration-color: #008000\">'loss'</span>: <span style=\"color: #008080; text-decoration-color: #008080; font-weight: bold\">2.899</span>,                 <span style=\"color: #7f7f7f; text-decoration-color: #7f7f7f\">           </span>\n",
       "<span style=\"color: #7fbfbf; text-decoration-color: #7fbfbf\">                    </span>         <span style=\"color: #008000; text-decoration-color: #008000\">'learning_rate'</span>: <span style=\"color: #008080; text-decoration-color: #008080; font-weight: bold\">0.00017422270212284725</span>, <span style=\"color: #008000; text-decoration-color: #008000\">'epoch'</span>:    <span style=\"color: #7f7f7f; text-decoration-color: #7f7f7f\">           </span>\n",
       "<span style=\"color: #7fbfbf; text-decoration-color: #7fbfbf\">                    </span>         <span style=\"color: #008080; text-decoration-color: #008080; font-weight: bold\">3.0</span>, <span style=\"color: #008000; text-decoration-color: #008000\">'step'</span>: <span style=\"color: #008080; text-decoration-color: #008080; font-weight: bold\">1221</span><span style=\"font-weight: bold\">}</span>, <span style=\"font-weight: bold\">{</span><span style=\"color: #008000; text-decoration-color: #008000\">'eval_loss'</span>: <span style=\"color: #008080; text-decoration-color: #008080; font-weight: bold\">3.251729726791382</span>, <span style=\"color: #7f7f7f; text-decoration-color: #7f7f7f\">           </span>\n",
       "<span style=\"color: #7fbfbf; text-decoration-color: #7fbfbf\">                    </span>         <span style=\"color: #008000; text-decoration-color: #008000\">'eval_runtime'</span>: <span style=\"color: #008080; text-decoration-color: #008080; font-weight: bold\">23.0129</span>, <span style=\"color: #008000; text-decoration-color: #008000\">'eval_samples_per_second'</span>:  <span style=\"color: #7f7f7f; text-decoration-color: #7f7f7f\">           </span>\n",
       "<span style=\"color: #7fbfbf; text-decoration-color: #7fbfbf\">                    </span>         <span style=\"color: #008080; text-decoration-color: #008080; font-weight: bold\">141.573</span>, <span style=\"color: #008000; text-decoration-color: #008000\">'eval_steps_per_second'</span>: <span style=\"color: #008080; text-decoration-color: #008080; font-weight: bold\">8.865</span>, <span style=\"color: #008000; text-decoration-color: #008000\">'epoch'</span>:    <span style=\"color: #7f7f7f; text-decoration-color: #7f7f7f\">           </span>\n",
       "<span style=\"color: #7fbfbf; text-decoration-color: #7fbfbf\">                    </span>         <span style=\"color: #008080; text-decoration-color: #008080; font-weight: bold\">3.44</span>, <span style=\"color: #008000; text-decoration-color: #008000\">'step'</span>: <span style=\"color: #008080; text-decoration-color: #008080; font-weight: bold\">1400</span><span style=\"font-weight: bold\">}</span>, <span style=\"font-weight: bold\">{</span><span style=\"color: #008000; text-decoration-color: #008000\">'eval_loss'</span>:                   <span style=\"color: #7f7f7f; text-decoration-color: #7f7f7f\">           </span>\n",
       "<span style=\"color: #7fbfbf; text-decoration-color: #7fbfbf\">                    </span>         <span style=\"color: #008080; text-decoration-color: #008080; font-weight: bold\">3.2478322982788086</span>, <span style=\"color: #008000; text-decoration-color: #008000\">'eval_runtime'</span>: <span style=\"color: #008080; text-decoration-color: #008080; font-weight: bold\">24.1979</span>,         <span style=\"color: #7f7f7f; text-decoration-color: #7f7f7f\">           </span>\n",
       "<span style=\"color: #7fbfbf; text-decoration-color: #7fbfbf\">                    </span>         <span style=\"color: #008000; text-decoration-color: #008000\">'eval_samples_per_second'</span>: <span style=\"color: #008080; text-decoration-color: #008080; font-weight: bold\">134.64</span>,                   <span style=\"color: #7f7f7f; text-decoration-color: #7f7f7f\">           </span>\n",
       "<span style=\"color: #7fbfbf; text-decoration-color: #7fbfbf\">                    </span>         <span style=\"color: #008000; text-decoration-color: #008000\">'eval_steps_per_second'</span>: <span style=\"color: #008080; text-decoration-color: #008080; font-weight: bold\">8.43</span>, <span style=\"color: #008000; text-decoration-color: #008000\">'epoch'</span>: <span style=\"color: #008080; text-decoration-color: #008080; font-weight: bold\">3.93</span>,        <span style=\"color: #7f7f7f; text-decoration-color: #7f7f7f\">           </span>\n",
       "<span style=\"color: #7fbfbf; text-decoration-color: #7fbfbf\">                    </span>         <span style=\"color: #008000; text-decoration-color: #008000\">'step'</span>: <span style=\"color: #008080; text-decoration-color: #008080; font-weight: bold\">1600</span><span style=\"font-weight: bold\">}</span>, <span style=\"font-weight: bold\">{</span><span style=\"color: #008000; text-decoration-color: #008000\">'loss'</span>: <span style=\"color: #008080; text-decoration-color: #008080; font-weight: bold\">2.7629</span>, <span style=\"color: #008000; text-decoration-color: #008000\">'learning_rate'</span>:     <span style=\"color: #7f7f7f; text-decoration-color: #7f7f7f\">           </span>\n",
       "<span style=\"color: #7fbfbf; text-decoration-color: #7fbfbf\">                    </span>         <span style=\"color: #008080; text-decoration-color: #008080; font-weight: bold\">4.820267039763859e-05</span>, <span style=\"color: #008000; text-decoration-color: #008000\">'epoch'</span>: <span style=\"color: #008080; text-decoration-color: #008080; font-weight: bold\">4.0</span>, <span style=\"color: #008000; text-decoration-color: #008000\">'step'</span>: <span style=\"color: #008080; text-decoration-color: #008080; font-weight: bold\">1628</span><span style=\"font-weight: bold\">}</span>,  <span style=\"color: #7f7f7f; text-decoration-color: #7f7f7f\">           </span>\n",
       "<span style=\"color: #7fbfbf; text-decoration-color: #7fbfbf\">                    </span>         <span style=\"font-weight: bold\">{</span><span style=\"color: #008000; text-decoration-color: #008000\">'eval_loss'</span>: <span style=\"color: #008080; text-decoration-color: #008080; font-weight: bold\">3.269883155822754</span>, <span style=\"color: #008000; text-decoration-color: #008000\">'eval_runtime'</span>:     <span style=\"color: #7f7f7f; text-decoration-color: #7f7f7f\">           </span>\n",
       "<span style=\"color: #7fbfbf; text-decoration-color: #7fbfbf\">                    </span>         <span style=\"color: #008080; text-decoration-color: #008080; font-weight: bold\">23.6433</span>, <span style=\"color: #008000; text-decoration-color: #008000\">'eval_samples_per_second'</span>: <span style=\"color: #008080; text-decoration-color: #008080; font-weight: bold\">137.798</span>,         <span style=\"color: #7f7f7f; text-decoration-color: #7f7f7f\">           </span>\n",
       "<span style=\"color: #7fbfbf; text-decoration-color: #7fbfbf\">                    </span>         <span style=\"color: #008000; text-decoration-color: #008000\">'eval_steps_per_second'</span>: <span style=\"color: #008080; text-decoration-color: #008080; font-weight: bold\">8.628</span>, <span style=\"color: #008000; text-decoration-color: #008000\">'epoch'</span>: <span style=\"color: #008080; text-decoration-color: #008080; font-weight: bold\">4.42</span>,       <span style=\"color: #7f7f7f; text-decoration-color: #7f7f7f\">           </span>\n",
       "<span style=\"color: #7fbfbf; text-decoration-color: #7fbfbf\">                    </span>         <span style=\"color: #008000; text-decoration-color: #008000\">'step'</span>: <span style=\"color: #008080; text-decoration-color: #008080; font-weight: bold\">1800</span><span style=\"font-weight: bold\">}]</span>, <span style=\"color: #808000; text-decoration-color: #808000\">best_metric</span>=<span style=\"color: #800080; text-decoration-color: #800080; font-style: italic\">None</span>,                    <span style=\"color: #7f7f7f; text-decoration-color: #7f7f7f\">           </span>\n",
       "<span style=\"color: #7fbfbf; text-decoration-color: #7fbfbf\">                    </span>         <span style=\"color: #808000; text-decoration-color: #808000\">best_model_checkpoint</span>=<span style=\"color: #800080; text-decoration-color: #800080; font-style: italic\">None</span>,                          <span style=\"color: #7f7f7f; text-decoration-color: #7f7f7f\">           </span>\n",
       "<span style=\"color: #7fbfbf; text-decoration-color: #7fbfbf\">                    </span>         <span style=\"color: #808000; text-decoration-color: #808000\">is_local_process_zero</span>=<span style=\"color: #00ff00; text-decoration-color: #00ff00; font-style: italic\">True</span>,                          <span style=\"color: #7f7f7f; text-decoration-color: #7f7f7f\">           </span>\n",
       "<span style=\"color: #7fbfbf; text-decoration-color: #7fbfbf\">                    </span>         <span style=\"color: #808000; text-decoration-color: #808000\">is_world_process_zero</span>=<span style=\"color: #00ff00; text-decoration-color: #00ff00; font-style: italic\">True</span>,                          <span style=\"color: #7f7f7f; text-decoration-color: #7f7f7f\">           </span>\n",
       "<span style=\"color: #7fbfbf; text-decoration-color: #7fbfbf\">                    </span>         <span style=\"color: #808000; text-decoration-color: #808000\">is_hyper_param_search</span>=<span style=\"color: #ff0000; text-decoration-color: #ff0000; font-style: italic\">False</span>, <span style=\"color: #808000; text-decoration-color: #808000\">trial_name</span>=<span style=\"color: #800080; text-decoration-color: #800080; font-style: italic\">None</span>,        <span style=\"color: #7f7f7f; text-decoration-color: #7f7f7f\">           </span>\n",
       "<span style=\"color: #7fbfbf; text-decoration-color: #7fbfbf\">                    </span>         <span style=\"color: #808000; text-decoration-color: #808000\">trial_params</span>=<span style=\"color: #800080; text-decoration-color: #800080; font-style: italic\">None</span><span style=\"font-weight: bold\">)</span>                                   <span style=\"color: #7f7f7f; text-decoration-color: #7f7f7f\">           </span>\n",
       "</pre>\n"
      ],
      "text/plain": [
       "\u001b[2;36m                   \u001b[0m\u001b[2;36m \u001b[0m\u001b[34mINFO    \u001b[0m \u001b[1;35mTrainerState\u001b[0m\u001b[1m(\u001b[0m\u001b[33mepoch\u001b[0m=\u001b[1;36m4\u001b[0m\u001b[1;36m.422085889570552\u001b[0m,                \u001b]8;id=398382;file://C:\\Users\\Hedronstone\\Desktop\\miniGPT2\\operations\\train.py\u001b\\\u001b[2mtrain.py\u001b[0m\u001b]8;;\u001b\\\u001b[2m:\u001b[0m\u001b]8;id=101414;file://C:\\Users\\Hedronstone\\Desktop\\miniGPT2\\operations\\train.py#41\u001b\\\u001b[2m41\u001b[0m\u001b]8;;\u001b\\\n",
       "\u001b[2;36m                    \u001b[0m         \u001b[33mglobal_step\u001b[0m=\u001b[1;36m1800\u001b[0m, \u001b[33mmax_steps\u001b[0m=\u001b[1;36m2035\u001b[0m,                    \u001b[2m           \u001b[0m\n",
       "\u001b[2;36m                    \u001b[0m         \u001b[33mnum_train_epochs\u001b[0m=\u001b[1;36m5\u001b[0m, \u001b[33mtotal_flos\u001b[0m=\u001b[1;36m1\u001b[0m\u001b[1;36m.3621676212224e+16\u001b[0m,  \u001b[2m           \u001b[0m\n",
       "\u001b[2;36m                    \u001b[0m         \u001b[33mlog_history\u001b[0m=\u001b[1m[\u001b[0m\u001b[1m{\u001b[0m\u001b[32m'eval_loss'\u001b[0m: \u001b[1;36m3.2401208877563477\u001b[0m,       \u001b[2m           \u001b[0m\n",
       "\u001b[2;36m                    \u001b[0m         \u001b[32m'eval_runtime'\u001b[0m: \u001b[1;36m23.6545\u001b[0m, \u001b[32m'eval_samples_per_second'\u001b[0m:  \u001b[2m           \u001b[0m\n",
       "\u001b[2;36m                    \u001b[0m         \u001b[1;36m137.733\u001b[0m, \u001b[32m'eval_steps_per_second'\u001b[0m: \u001b[1;36m8.624\u001b[0m, \u001b[32m'epoch'\u001b[0m:    \u001b[2m           \u001b[0m\n",
       "\u001b[2;36m                    \u001b[0m         \u001b[1;36m0.49\u001b[0m, \u001b[32m'step'\u001b[0m: \u001b[1;36m200\u001b[0m\u001b[1m}\u001b[0m, \u001b[1m{\u001b[0m\u001b[32m'eval_loss'\u001b[0m: \u001b[1;36m3.217250108718872\u001b[0m, \u001b[2m           \u001b[0m\n",
       "\u001b[2;36m                    \u001b[0m         \u001b[32m'eval_runtime'\u001b[0m: \u001b[1;36m23.6908\u001b[0m, \u001b[32m'eval_samples_per_second'\u001b[0m:  \u001b[2m           \u001b[0m\n",
       "\u001b[2;36m                    \u001b[0m         \u001b[1;36m137.522\u001b[0m, \u001b[32m'eval_steps_per_second'\u001b[0m: \u001b[1;36m8.611\u001b[0m, \u001b[32m'epoch'\u001b[0m:    \u001b[2m           \u001b[0m\n",
       "\u001b[2;36m                    \u001b[0m         \u001b[1;36m0.98\u001b[0m, \u001b[32m'step'\u001b[0m: \u001b[1;36m400\u001b[0m\u001b[1m}\u001b[0m, \u001b[1m{\u001b[0m\u001b[32m'loss'\u001b[0m: \u001b[1;36m3.2845\u001b[0m,                 \u001b[2m           \u001b[0m\n",
       "\u001b[2;36m                    \u001b[0m         \u001b[32m'learning_rate'\u001b[0m: \u001b[1;36m0.0004540624090114981\u001b[0m, \u001b[32m'epoch'\u001b[0m:     \u001b[2m           \u001b[0m\n",
       "\u001b[2;36m                    \u001b[0m         \u001b[1;36m1.0\u001b[0m, \u001b[32m'step'\u001b[0m: \u001b[1;36m407\u001b[0m\u001b[1m}\u001b[0m, \u001b[1m{\u001b[0m\u001b[32m'eval_loss'\u001b[0m: \u001b[1;36m3.223500967025757\u001b[0m,  \u001b[2m           \u001b[0m\n",
       "\u001b[2;36m                    \u001b[0m         \u001b[32m'eval_runtime'\u001b[0m: \u001b[1;36m23.6332\u001b[0m, \u001b[32m'eval_samples_per_second'\u001b[0m:  \u001b[2m           \u001b[0m\n",
       "\u001b[2;36m                    \u001b[0m         \u001b[1;36m137.857\u001b[0m, \u001b[32m'eval_steps_per_second'\u001b[0m: \u001b[1;36m8.632\u001b[0m, \u001b[32m'epoch'\u001b[0m:    \u001b[2m           \u001b[0m\n",
       "\u001b[2;36m                    \u001b[0m         \u001b[1;36m1.47\u001b[0m, \u001b[32m'step'\u001b[0m: \u001b[1;36m600\u001b[0m\u001b[1m}\u001b[0m, \u001b[1m{\u001b[0m\u001b[32m'eval_loss'\u001b[0m:                    \u001b[2m           \u001b[0m\n",
       "\u001b[2;36m                    \u001b[0m         \u001b[1;36m3.2089829444885254\u001b[0m, \u001b[32m'eval_runtime'\u001b[0m: \u001b[1;36m23.0157\u001b[0m,         \u001b[2m           \u001b[0m\n",
       "\u001b[2;36m                    \u001b[0m         \u001b[32m'eval_samples_per_second'\u001b[0m: \u001b[1;36m141.556\u001b[0m,                  \u001b[2m           \u001b[0m\n",
       "\u001b[2;36m                    \u001b[0m         \u001b[32m'eval_steps_per_second'\u001b[0m: \u001b[1;36m8.864\u001b[0m, \u001b[32m'epoch'\u001b[0m: \u001b[1;36m1.96\u001b[0m,       \u001b[2m           \u001b[0m\n",
       "\u001b[2;36m                    \u001b[0m         \u001b[32m'step'\u001b[0m: \u001b[1;36m800\u001b[0m\u001b[1m}\u001b[0m, \u001b[1m{\u001b[0m\u001b[32m'loss'\u001b[0m: \u001b[1;36m3.0619\u001b[0m, \u001b[32m'learning_rate'\u001b[0m:      \u001b[2m           \u001b[0m\n",
       "\u001b[2;36m                    \u001b[0m         \u001b[1;36m0.0003294640787536245\u001b[0m, \u001b[32m'epoch'\u001b[0m: \u001b[1;36m2.0\u001b[0m, \u001b[32m'step'\u001b[0m: \u001b[1;36m814\u001b[0m\u001b[1m}\u001b[0m,   \u001b[2m           \u001b[0m\n",
       "\u001b[2;36m                    \u001b[0m         \u001b[1m{\u001b[0m\u001b[32m'eval_loss'\u001b[0m: \u001b[1;36m3.2308406829833984\u001b[0m, \u001b[32m'eval_runtime'\u001b[0m:    \u001b[2m           \u001b[0m\n",
       "\u001b[2;36m                    \u001b[0m         \u001b[1;36m23.0147\u001b[0m, \u001b[32m'eval_samples_per_second'\u001b[0m: \u001b[1;36m141.562\u001b[0m,         \u001b[2m           \u001b[0m\n",
       "\u001b[2;36m                    \u001b[0m         \u001b[32m'eval_steps_per_second'\u001b[0m: \u001b[1;36m8.864\u001b[0m, \u001b[32m'epoch'\u001b[0m: \u001b[1;36m2.46\u001b[0m,       \u001b[2m           \u001b[0m\n",
       "\u001b[2;36m                    \u001b[0m         \u001b[32m'step'\u001b[0m: \u001b[1;36m1000\u001b[0m\u001b[1m}\u001b[0m, \u001b[1m{\u001b[0m\u001b[32m'eval_loss'\u001b[0m: \u001b[1;36m3.22076678276062\u001b[0m,       \u001b[2m           \u001b[0m\n",
       "\u001b[2;36m                    \u001b[0m         \u001b[32m'eval_runtime'\u001b[0m: \u001b[1;36m23.0281\u001b[0m, \u001b[32m'eval_samples_per_second'\u001b[0m:  \u001b[2m           \u001b[0m\n",
       "\u001b[2;36m                    \u001b[0m         \u001b[1;36m141.479\u001b[0m, \u001b[32m'eval_steps_per_second'\u001b[0m: \u001b[1;36m8.859\u001b[0m, \u001b[32m'epoch'\u001b[0m:    \u001b[2m           \u001b[0m\n",
       "\u001b[2;36m                    \u001b[0m         \u001b[1;36m2.95\u001b[0m, \u001b[32m'step'\u001b[0m: \u001b[1;36m1200\u001b[0m\u001b[1m}\u001b[0m, \u001b[1m{\u001b[0m\u001b[32m'loss'\u001b[0m: \u001b[1;36m2.899\u001b[0m,                 \u001b[2m           \u001b[0m\n",
       "\u001b[2;36m                    \u001b[0m         \u001b[32m'learning_rate'\u001b[0m: \u001b[1;36m0.00017422270212284725\u001b[0m, \u001b[32m'epoch'\u001b[0m:    \u001b[2m           \u001b[0m\n",
       "\u001b[2;36m                    \u001b[0m         \u001b[1;36m3.0\u001b[0m, \u001b[32m'step'\u001b[0m: \u001b[1;36m1221\u001b[0m\u001b[1m}\u001b[0m, \u001b[1m{\u001b[0m\u001b[32m'eval_loss'\u001b[0m: \u001b[1;36m3.251729726791382\u001b[0m, \u001b[2m           \u001b[0m\n",
       "\u001b[2;36m                    \u001b[0m         \u001b[32m'eval_runtime'\u001b[0m: \u001b[1;36m23.0129\u001b[0m, \u001b[32m'eval_samples_per_second'\u001b[0m:  \u001b[2m           \u001b[0m\n",
       "\u001b[2;36m                    \u001b[0m         \u001b[1;36m141.573\u001b[0m, \u001b[32m'eval_steps_per_second'\u001b[0m: \u001b[1;36m8.865\u001b[0m, \u001b[32m'epoch'\u001b[0m:    \u001b[2m           \u001b[0m\n",
       "\u001b[2;36m                    \u001b[0m         \u001b[1;36m3.44\u001b[0m, \u001b[32m'step'\u001b[0m: \u001b[1;36m1400\u001b[0m\u001b[1m}\u001b[0m, \u001b[1m{\u001b[0m\u001b[32m'eval_loss'\u001b[0m:                   \u001b[2m           \u001b[0m\n",
       "\u001b[2;36m                    \u001b[0m         \u001b[1;36m3.2478322982788086\u001b[0m, \u001b[32m'eval_runtime'\u001b[0m: \u001b[1;36m24.1979\u001b[0m,         \u001b[2m           \u001b[0m\n",
       "\u001b[2;36m                    \u001b[0m         \u001b[32m'eval_samples_per_second'\u001b[0m: \u001b[1;36m134.64\u001b[0m,                   \u001b[2m           \u001b[0m\n",
       "\u001b[2;36m                    \u001b[0m         \u001b[32m'eval_steps_per_second'\u001b[0m: \u001b[1;36m8.43\u001b[0m, \u001b[32m'epoch'\u001b[0m: \u001b[1;36m3.93\u001b[0m,        \u001b[2m           \u001b[0m\n",
       "\u001b[2;36m                    \u001b[0m         \u001b[32m'step'\u001b[0m: \u001b[1;36m1600\u001b[0m\u001b[1m}\u001b[0m, \u001b[1m{\u001b[0m\u001b[32m'loss'\u001b[0m: \u001b[1;36m2.7629\u001b[0m, \u001b[32m'learning_rate'\u001b[0m:     \u001b[2m           \u001b[0m\n",
       "\u001b[2;36m                    \u001b[0m         \u001b[1;36m4.820267039763859e-05\u001b[0m, \u001b[32m'epoch'\u001b[0m: \u001b[1;36m4.0\u001b[0m, \u001b[32m'step'\u001b[0m: \u001b[1;36m1628\u001b[0m\u001b[1m}\u001b[0m,  \u001b[2m           \u001b[0m\n",
       "\u001b[2;36m                    \u001b[0m         \u001b[1m{\u001b[0m\u001b[32m'eval_loss'\u001b[0m: \u001b[1;36m3.269883155822754\u001b[0m, \u001b[32m'eval_runtime'\u001b[0m:     \u001b[2m           \u001b[0m\n",
       "\u001b[2;36m                    \u001b[0m         \u001b[1;36m23.6433\u001b[0m, \u001b[32m'eval_samples_per_second'\u001b[0m: \u001b[1;36m137.798\u001b[0m,         \u001b[2m           \u001b[0m\n",
       "\u001b[2;36m                    \u001b[0m         \u001b[32m'eval_steps_per_second'\u001b[0m: \u001b[1;36m8.628\u001b[0m, \u001b[32m'epoch'\u001b[0m: \u001b[1;36m4.42\u001b[0m,       \u001b[2m           \u001b[0m\n",
       "\u001b[2;36m                    \u001b[0m         \u001b[32m'step'\u001b[0m: \u001b[1;36m1800\u001b[0m\u001b[1m}\u001b[0m\u001b[1m]\u001b[0m, \u001b[33mbest_metric\u001b[0m=\u001b[3;35mNone\u001b[0m,                    \u001b[2m           \u001b[0m\n",
       "\u001b[2;36m                    \u001b[0m         \u001b[33mbest_model_checkpoint\u001b[0m=\u001b[3;35mNone\u001b[0m,                          \u001b[2m           \u001b[0m\n",
       "\u001b[2;36m                    \u001b[0m         \u001b[33mis_local_process_zero\u001b[0m=\u001b[3;92mTrue\u001b[0m,                          \u001b[2m           \u001b[0m\n",
       "\u001b[2;36m                    \u001b[0m         \u001b[33mis_world_process_zero\u001b[0m=\u001b[3;92mTrue\u001b[0m,                          \u001b[2m           \u001b[0m\n",
       "\u001b[2;36m                    \u001b[0m         \u001b[33mis_hyper_param_search\u001b[0m=\u001b[3;91mFalse\u001b[0m, \u001b[33mtrial_name\u001b[0m=\u001b[3;35mNone\u001b[0m,        \u001b[2m           \u001b[0m\n",
       "\u001b[2;36m                    \u001b[0m         \u001b[33mtrial_params\u001b[0m=\u001b[3;35mNone\u001b[0m\u001b[1m)\u001b[0m                                   \u001b[2m           \u001b[0m\n"
      ]
     },
     "metadata": {},
     "output_type": "display_data"
    },
    {
     "name": "stdout",
     "output_type": "stream",
     "text": [
      "{'eval_loss': 3.269883155822754, 'eval_runtime': 23.6433, 'eval_samples_per_second': 137.798, 'eval_steps_per_second': 8.628, 'epoch': 4.42}\n"
     ]
    },
    {
     "name": "stderr",
     "output_type": "stream",
     "text": [
      "Saving model checkpoint to artifacts\\checkpoint-1800\n",
      "Configuration saved in artifacts\\checkpoint-1800\\config.json\n",
      "Model weights saved in artifacts\\checkpoint-1800\\pytorch_model.bin\n",
      "tokenizer config file saved in artifacts\\checkpoint-1800\\tokenizer_config.json\n",
      "Special tokens file saved in artifacts\\checkpoint-1800\\special_tokens_map.json\n",
      "***** Running Evaluation *****\n",
      "  Num examples = 3258\n",
      "  Batch size = 16\n"
     ]
    },
    {
     "data": {
      "application/vnd.jupyter.widget-view+json": {
       "model_id": "",
       "version_major": 2,
       "version_minor": 0
      },
      "text/plain": [
       "  0%|          | 0/204 [00:00<?, ?it/s]"
      ]
     },
     "metadata": {},
     "output_type": "display_data"
    },
    {
     "data": {
      "text/html": [
       "<pre style=\"white-space:pre;overflow-x:auto;line-height:normal;font-family:Menlo,'DejaVu Sans Mono',consolas,'Courier New',monospace\"><span style=\"color: #7fbfbf; text-decoration-color: #7fbfbf\">[09/30/22 19:57:54] </span><span style=\"color: #000080; text-decoration-color: #000080\">INFO    </span> <span style=\"font-weight: bold\">{</span><span style=\"color: #008000; text-decoration-color: #008000\">'eval_loss'</span>: <span style=\"color: #008080; text-decoration-color: #008080; font-weight: bold\">3.2684857845306396</span>, <span style=\"color: #008000; text-decoration-color: #008000\">'eval_runtime'</span>:    <a href=\"file://C:\\Users\\Hedronstone\\Desktop\\miniGPT2\\operations\\train.py\" target=\"_blank\"><span style=\"color: #7f7f7f; text-decoration-color: #7f7f7f\">train.py</span></a><span style=\"color: #7f7f7f; text-decoration-color: #7f7f7f\">:</span><a href=\"file://C:\\Users\\Hedronstone\\Desktop\\miniGPT2\\operations\\train.py#39\" target=\"_blank\"><span style=\"color: #7f7f7f; text-decoration-color: #7f7f7f\">39</span></a>\n",
       "<span style=\"color: #7fbfbf; text-decoration-color: #7fbfbf\">                    </span>         <span style=\"color: #008080; text-decoration-color: #008080; font-weight: bold\">23.6799</span>, <span style=\"color: #008000; text-decoration-color: #008000\">'eval_samples_per_second'</span>: <span style=\"color: #008080; text-decoration-color: #008080; font-weight: bold\">137.585</span>,         <span style=\"color: #7f7f7f; text-decoration-color: #7f7f7f\">           </span>\n",
       "<span style=\"color: #7fbfbf; text-decoration-color: #7fbfbf\">                    </span>         <span style=\"color: #008000; text-decoration-color: #008000\">'eval_steps_per_second'</span>: <span style=\"color: #008080; text-decoration-color: #008080; font-weight: bold\">8.615</span>, <span style=\"color: #008000; text-decoration-color: #008000\">'epoch'</span>: <span style=\"color: #008080; text-decoration-color: #008080; font-weight: bold\">4.91</span><span style=\"font-weight: bold\">}</span>       <span style=\"color: #7f7f7f; text-decoration-color: #7f7f7f\">           </span>\n",
       "</pre>\n"
      ],
      "text/plain": [
       "\u001b[2;36m[09/30/22 19:57:54]\u001b[0m\u001b[2;36m \u001b[0m\u001b[34mINFO    \u001b[0m \u001b[1m{\u001b[0m\u001b[32m'eval_loss'\u001b[0m: \u001b[1;36m3.2684857845306396\u001b[0m, \u001b[32m'eval_runtime'\u001b[0m:    \u001b]8;id=376417;file://C:\\Users\\Hedronstone\\Desktop\\miniGPT2\\operations\\train.py\u001b\\\u001b[2mtrain.py\u001b[0m\u001b]8;;\u001b\\\u001b[2m:\u001b[0m\u001b]8;id=888662;file://C:\\Users\\Hedronstone\\Desktop\\miniGPT2\\operations\\train.py#39\u001b\\\u001b[2m39\u001b[0m\u001b]8;;\u001b\\\n",
       "\u001b[2;36m                    \u001b[0m         \u001b[1;36m23.6799\u001b[0m, \u001b[32m'eval_samples_per_second'\u001b[0m: \u001b[1;36m137.585\u001b[0m,         \u001b[2m           \u001b[0m\n",
       "\u001b[2;36m                    \u001b[0m         \u001b[32m'eval_steps_per_second'\u001b[0m: \u001b[1;36m8.615\u001b[0m, \u001b[32m'epoch'\u001b[0m: \u001b[1;36m4.91\u001b[0m\u001b[1m}\u001b[0m       \u001b[2m           \u001b[0m\n"
      ]
     },
     "metadata": {},
     "output_type": "display_data"
    },
    {
     "data": {
      "text/html": [
       "<pre style=\"white-space:pre;overflow-x:auto;line-height:normal;font-family:Menlo,'DejaVu Sans Mono',consolas,'Courier New',monospace\"><span style=\"color: #7fbfbf; text-decoration-color: #7fbfbf\">                    </span><span style=\"color: #000080; text-decoration-color: #000080\">INFO    </span> <span style=\"color: #800080; text-decoration-color: #800080; font-weight: bold\">TrainerState</span><span style=\"font-weight: bold\">(</span><span style=\"color: #808000; text-decoration-color: #808000\">epoch</span>=<span style=\"color: #008080; text-decoration-color: #008080; font-weight: bold\">4.912883435582822</span>,                <a href=\"file://C:\\Users\\Hedronstone\\Desktop\\miniGPT2\\operations\\train.py\" target=\"_blank\"><span style=\"color: #7f7f7f; text-decoration-color: #7f7f7f\">train.py</span></a><span style=\"color: #7f7f7f; text-decoration-color: #7f7f7f\">:</span><a href=\"file://C:\\Users\\Hedronstone\\Desktop\\miniGPT2\\operations\\train.py#41\" target=\"_blank\"><span style=\"color: #7f7f7f; text-decoration-color: #7f7f7f\">41</span></a>\n",
       "<span style=\"color: #7fbfbf; text-decoration-color: #7fbfbf\">                    </span>         <span style=\"color: #808000; text-decoration-color: #808000\">global_step</span>=<span style=\"color: #008080; text-decoration-color: #008080; font-weight: bold\">2000</span>, <span style=\"color: #808000; text-decoration-color: #808000\">max_steps</span>=<span style=\"color: #008080; text-decoration-color: #008080; font-weight: bold\">2035</span>,                    <span style=\"color: #7f7f7f; text-decoration-color: #7f7f7f\">           </span>\n",
       "<span style=\"color: #7fbfbf; text-decoration-color: #7fbfbf\">                    </span>         <span style=\"color: #808000; text-decoration-color: #808000\">num_train_epochs</span>=<span style=\"color: #008080; text-decoration-color: #008080; font-weight: bold\">5</span>, <span style=\"color: #808000; text-decoration-color: #808000\">total_flos</span>=<span style=\"color: #008080; text-decoration-color: #008080; font-weight: bold\">1.5059827556352e+16</span>,  <span style=\"color: #7f7f7f; text-decoration-color: #7f7f7f\">           </span>\n",
       "<span style=\"color: #7fbfbf; text-decoration-color: #7fbfbf\">                    </span>         <span style=\"color: #808000; text-decoration-color: #808000\">log_history</span>=<span style=\"font-weight: bold\">[{</span><span style=\"color: #008000; text-decoration-color: #008000\">'eval_loss'</span>: <span style=\"color: #008080; text-decoration-color: #008080; font-weight: bold\">3.2401208877563477</span>,       <span style=\"color: #7f7f7f; text-decoration-color: #7f7f7f\">           </span>\n",
       "<span style=\"color: #7fbfbf; text-decoration-color: #7fbfbf\">                    </span>         <span style=\"color: #008000; text-decoration-color: #008000\">'eval_runtime'</span>: <span style=\"color: #008080; text-decoration-color: #008080; font-weight: bold\">23.6545</span>, <span style=\"color: #008000; text-decoration-color: #008000\">'eval_samples_per_second'</span>:  <span style=\"color: #7f7f7f; text-decoration-color: #7f7f7f\">           </span>\n",
       "<span style=\"color: #7fbfbf; text-decoration-color: #7fbfbf\">                    </span>         <span style=\"color: #008080; text-decoration-color: #008080; font-weight: bold\">137.733</span>, <span style=\"color: #008000; text-decoration-color: #008000\">'eval_steps_per_second'</span>: <span style=\"color: #008080; text-decoration-color: #008080; font-weight: bold\">8.624</span>, <span style=\"color: #008000; text-decoration-color: #008000\">'epoch'</span>:    <span style=\"color: #7f7f7f; text-decoration-color: #7f7f7f\">           </span>\n",
       "<span style=\"color: #7fbfbf; text-decoration-color: #7fbfbf\">                    </span>         <span style=\"color: #008080; text-decoration-color: #008080; font-weight: bold\">0.49</span>, <span style=\"color: #008000; text-decoration-color: #008000\">'step'</span>: <span style=\"color: #008080; text-decoration-color: #008080; font-weight: bold\">200</span><span style=\"font-weight: bold\">}</span>, <span style=\"font-weight: bold\">{</span><span style=\"color: #008000; text-decoration-color: #008000\">'eval_loss'</span>: <span style=\"color: #008080; text-decoration-color: #008080; font-weight: bold\">3.217250108718872</span>, <span style=\"color: #7f7f7f; text-decoration-color: #7f7f7f\">           </span>\n",
       "<span style=\"color: #7fbfbf; text-decoration-color: #7fbfbf\">                    </span>         <span style=\"color: #008000; text-decoration-color: #008000\">'eval_runtime'</span>: <span style=\"color: #008080; text-decoration-color: #008080; font-weight: bold\">23.6908</span>, <span style=\"color: #008000; text-decoration-color: #008000\">'eval_samples_per_second'</span>:  <span style=\"color: #7f7f7f; text-decoration-color: #7f7f7f\">           </span>\n",
       "<span style=\"color: #7fbfbf; text-decoration-color: #7fbfbf\">                    </span>         <span style=\"color: #008080; text-decoration-color: #008080; font-weight: bold\">137.522</span>, <span style=\"color: #008000; text-decoration-color: #008000\">'eval_steps_per_second'</span>: <span style=\"color: #008080; text-decoration-color: #008080; font-weight: bold\">8.611</span>, <span style=\"color: #008000; text-decoration-color: #008000\">'epoch'</span>:    <span style=\"color: #7f7f7f; text-decoration-color: #7f7f7f\">           </span>\n",
       "<span style=\"color: #7fbfbf; text-decoration-color: #7fbfbf\">                    </span>         <span style=\"color: #008080; text-decoration-color: #008080; font-weight: bold\">0.98</span>, <span style=\"color: #008000; text-decoration-color: #008000\">'step'</span>: <span style=\"color: #008080; text-decoration-color: #008080; font-weight: bold\">400</span><span style=\"font-weight: bold\">}</span>, <span style=\"font-weight: bold\">{</span><span style=\"color: #008000; text-decoration-color: #008000\">'loss'</span>: <span style=\"color: #008080; text-decoration-color: #008080; font-weight: bold\">3.2845</span>,                 <span style=\"color: #7f7f7f; text-decoration-color: #7f7f7f\">           </span>\n",
       "<span style=\"color: #7fbfbf; text-decoration-color: #7fbfbf\">                    </span>         <span style=\"color: #008000; text-decoration-color: #008000\">'learning_rate'</span>: <span style=\"color: #008080; text-decoration-color: #008080; font-weight: bold\">0.0004540624090114981</span>, <span style=\"color: #008000; text-decoration-color: #008000\">'epoch'</span>:     <span style=\"color: #7f7f7f; text-decoration-color: #7f7f7f\">           </span>\n",
       "<span style=\"color: #7fbfbf; text-decoration-color: #7fbfbf\">                    </span>         <span style=\"color: #008080; text-decoration-color: #008080; font-weight: bold\">1.0</span>, <span style=\"color: #008000; text-decoration-color: #008000\">'step'</span>: <span style=\"color: #008080; text-decoration-color: #008080; font-weight: bold\">407</span><span style=\"font-weight: bold\">}</span>, <span style=\"font-weight: bold\">{</span><span style=\"color: #008000; text-decoration-color: #008000\">'eval_loss'</span>: <span style=\"color: #008080; text-decoration-color: #008080; font-weight: bold\">3.223500967025757</span>,  <span style=\"color: #7f7f7f; text-decoration-color: #7f7f7f\">           </span>\n",
       "<span style=\"color: #7fbfbf; text-decoration-color: #7fbfbf\">                    </span>         <span style=\"color: #008000; text-decoration-color: #008000\">'eval_runtime'</span>: <span style=\"color: #008080; text-decoration-color: #008080; font-weight: bold\">23.6332</span>, <span style=\"color: #008000; text-decoration-color: #008000\">'eval_samples_per_second'</span>:  <span style=\"color: #7f7f7f; text-decoration-color: #7f7f7f\">           </span>\n",
       "<span style=\"color: #7fbfbf; text-decoration-color: #7fbfbf\">                    </span>         <span style=\"color: #008080; text-decoration-color: #008080; font-weight: bold\">137.857</span>, <span style=\"color: #008000; text-decoration-color: #008000\">'eval_steps_per_second'</span>: <span style=\"color: #008080; text-decoration-color: #008080; font-weight: bold\">8.632</span>, <span style=\"color: #008000; text-decoration-color: #008000\">'epoch'</span>:    <span style=\"color: #7f7f7f; text-decoration-color: #7f7f7f\">           </span>\n",
       "<span style=\"color: #7fbfbf; text-decoration-color: #7fbfbf\">                    </span>         <span style=\"color: #008080; text-decoration-color: #008080; font-weight: bold\">1.47</span>, <span style=\"color: #008000; text-decoration-color: #008000\">'step'</span>: <span style=\"color: #008080; text-decoration-color: #008080; font-weight: bold\">600</span><span style=\"font-weight: bold\">}</span>, <span style=\"font-weight: bold\">{</span><span style=\"color: #008000; text-decoration-color: #008000\">'eval_loss'</span>:                    <span style=\"color: #7f7f7f; text-decoration-color: #7f7f7f\">           </span>\n",
       "<span style=\"color: #7fbfbf; text-decoration-color: #7fbfbf\">                    </span>         <span style=\"color: #008080; text-decoration-color: #008080; font-weight: bold\">3.2089829444885254</span>, <span style=\"color: #008000; text-decoration-color: #008000\">'eval_runtime'</span>: <span style=\"color: #008080; text-decoration-color: #008080; font-weight: bold\">23.0157</span>,         <span style=\"color: #7f7f7f; text-decoration-color: #7f7f7f\">           </span>\n",
       "<span style=\"color: #7fbfbf; text-decoration-color: #7fbfbf\">                    </span>         <span style=\"color: #008000; text-decoration-color: #008000\">'eval_samples_per_second'</span>: <span style=\"color: #008080; text-decoration-color: #008080; font-weight: bold\">141.556</span>,                  <span style=\"color: #7f7f7f; text-decoration-color: #7f7f7f\">           </span>\n",
       "<span style=\"color: #7fbfbf; text-decoration-color: #7fbfbf\">                    </span>         <span style=\"color: #008000; text-decoration-color: #008000\">'eval_steps_per_second'</span>: <span style=\"color: #008080; text-decoration-color: #008080; font-weight: bold\">8.864</span>, <span style=\"color: #008000; text-decoration-color: #008000\">'epoch'</span>: <span style=\"color: #008080; text-decoration-color: #008080; font-weight: bold\">1.96</span>,       <span style=\"color: #7f7f7f; text-decoration-color: #7f7f7f\">           </span>\n",
       "<span style=\"color: #7fbfbf; text-decoration-color: #7fbfbf\">                    </span>         <span style=\"color: #008000; text-decoration-color: #008000\">'step'</span>: <span style=\"color: #008080; text-decoration-color: #008080; font-weight: bold\">800</span><span style=\"font-weight: bold\">}</span>, <span style=\"font-weight: bold\">{</span><span style=\"color: #008000; text-decoration-color: #008000\">'loss'</span>: <span style=\"color: #008080; text-decoration-color: #008080; font-weight: bold\">3.0619</span>, <span style=\"color: #008000; text-decoration-color: #008000\">'learning_rate'</span>:      <span style=\"color: #7f7f7f; text-decoration-color: #7f7f7f\">           </span>\n",
       "<span style=\"color: #7fbfbf; text-decoration-color: #7fbfbf\">                    </span>         <span style=\"color: #008080; text-decoration-color: #008080; font-weight: bold\">0.0003294640787536245</span>, <span style=\"color: #008000; text-decoration-color: #008000\">'epoch'</span>: <span style=\"color: #008080; text-decoration-color: #008080; font-weight: bold\">2.0</span>, <span style=\"color: #008000; text-decoration-color: #008000\">'step'</span>: <span style=\"color: #008080; text-decoration-color: #008080; font-weight: bold\">814</span><span style=\"font-weight: bold\">}</span>,   <span style=\"color: #7f7f7f; text-decoration-color: #7f7f7f\">           </span>\n",
       "<span style=\"color: #7fbfbf; text-decoration-color: #7fbfbf\">                    </span>         <span style=\"font-weight: bold\">{</span><span style=\"color: #008000; text-decoration-color: #008000\">'eval_loss'</span>: <span style=\"color: #008080; text-decoration-color: #008080; font-weight: bold\">3.2308406829833984</span>, <span style=\"color: #008000; text-decoration-color: #008000\">'eval_runtime'</span>:    <span style=\"color: #7f7f7f; text-decoration-color: #7f7f7f\">           </span>\n",
       "<span style=\"color: #7fbfbf; text-decoration-color: #7fbfbf\">                    </span>         <span style=\"color: #008080; text-decoration-color: #008080; font-weight: bold\">23.0147</span>, <span style=\"color: #008000; text-decoration-color: #008000\">'eval_samples_per_second'</span>: <span style=\"color: #008080; text-decoration-color: #008080; font-weight: bold\">141.562</span>,         <span style=\"color: #7f7f7f; text-decoration-color: #7f7f7f\">           </span>\n",
       "<span style=\"color: #7fbfbf; text-decoration-color: #7fbfbf\">                    </span>         <span style=\"color: #008000; text-decoration-color: #008000\">'eval_steps_per_second'</span>: <span style=\"color: #008080; text-decoration-color: #008080; font-weight: bold\">8.864</span>, <span style=\"color: #008000; text-decoration-color: #008000\">'epoch'</span>: <span style=\"color: #008080; text-decoration-color: #008080; font-weight: bold\">2.46</span>,       <span style=\"color: #7f7f7f; text-decoration-color: #7f7f7f\">           </span>\n",
       "<span style=\"color: #7fbfbf; text-decoration-color: #7fbfbf\">                    </span>         <span style=\"color: #008000; text-decoration-color: #008000\">'step'</span>: <span style=\"color: #008080; text-decoration-color: #008080; font-weight: bold\">1000</span><span style=\"font-weight: bold\">}</span>, <span style=\"font-weight: bold\">{</span><span style=\"color: #008000; text-decoration-color: #008000\">'eval_loss'</span>: <span style=\"color: #008080; text-decoration-color: #008080; font-weight: bold\">3.22076678276062</span>,       <span style=\"color: #7f7f7f; text-decoration-color: #7f7f7f\">           </span>\n",
       "<span style=\"color: #7fbfbf; text-decoration-color: #7fbfbf\">                    </span>         <span style=\"color: #008000; text-decoration-color: #008000\">'eval_runtime'</span>: <span style=\"color: #008080; text-decoration-color: #008080; font-weight: bold\">23.0281</span>, <span style=\"color: #008000; text-decoration-color: #008000\">'eval_samples_per_second'</span>:  <span style=\"color: #7f7f7f; text-decoration-color: #7f7f7f\">           </span>\n",
       "<span style=\"color: #7fbfbf; text-decoration-color: #7fbfbf\">                    </span>         <span style=\"color: #008080; text-decoration-color: #008080; font-weight: bold\">141.479</span>, <span style=\"color: #008000; text-decoration-color: #008000\">'eval_steps_per_second'</span>: <span style=\"color: #008080; text-decoration-color: #008080; font-weight: bold\">8.859</span>, <span style=\"color: #008000; text-decoration-color: #008000\">'epoch'</span>:    <span style=\"color: #7f7f7f; text-decoration-color: #7f7f7f\">           </span>\n",
       "<span style=\"color: #7fbfbf; text-decoration-color: #7fbfbf\">                    </span>         <span style=\"color: #008080; text-decoration-color: #008080; font-weight: bold\">2.95</span>, <span style=\"color: #008000; text-decoration-color: #008000\">'step'</span>: <span style=\"color: #008080; text-decoration-color: #008080; font-weight: bold\">1200</span><span style=\"font-weight: bold\">}</span>, <span style=\"font-weight: bold\">{</span><span style=\"color: #008000; text-decoration-color: #008000\">'loss'</span>: <span style=\"color: #008080; text-decoration-color: #008080; font-weight: bold\">2.899</span>,                 <span style=\"color: #7f7f7f; text-decoration-color: #7f7f7f\">           </span>\n",
       "<span style=\"color: #7fbfbf; text-decoration-color: #7fbfbf\">                    </span>         <span style=\"color: #008000; text-decoration-color: #008000\">'learning_rate'</span>: <span style=\"color: #008080; text-decoration-color: #008080; font-weight: bold\">0.00017422270212284725</span>, <span style=\"color: #008000; text-decoration-color: #008000\">'epoch'</span>:    <span style=\"color: #7f7f7f; text-decoration-color: #7f7f7f\">           </span>\n",
       "<span style=\"color: #7fbfbf; text-decoration-color: #7fbfbf\">                    </span>         <span style=\"color: #008080; text-decoration-color: #008080; font-weight: bold\">3.0</span>, <span style=\"color: #008000; text-decoration-color: #008000\">'step'</span>: <span style=\"color: #008080; text-decoration-color: #008080; font-weight: bold\">1221</span><span style=\"font-weight: bold\">}</span>, <span style=\"font-weight: bold\">{</span><span style=\"color: #008000; text-decoration-color: #008000\">'eval_loss'</span>: <span style=\"color: #008080; text-decoration-color: #008080; font-weight: bold\">3.251729726791382</span>, <span style=\"color: #7f7f7f; text-decoration-color: #7f7f7f\">           </span>\n",
       "<span style=\"color: #7fbfbf; text-decoration-color: #7fbfbf\">                    </span>         <span style=\"color: #008000; text-decoration-color: #008000\">'eval_runtime'</span>: <span style=\"color: #008080; text-decoration-color: #008080; font-weight: bold\">23.0129</span>, <span style=\"color: #008000; text-decoration-color: #008000\">'eval_samples_per_second'</span>:  <span style=\"color: #7f7f7f; text-decoration-color: #7f7f7f\">           </span>\n",
       "<span style=\"color: #7fbfbf; text-decoration-color: #7fbfbf\">                    </span>         <span style=\"color: #008080; text-decoration-color: #008080; font-weight: bold\">141.573</span>, <span style=\"color: #008000; text-decoration-color: #008000\">'eval_steps_per_second'</span>: <span style=\"color: #008080; text-decoration-color: #008080; font-weight: bold\">8.865</span>, <span style=\"color: #008000; text-decoration-color: #008000\">'epoch'</span>:    <span style=\"color: #7f7f7f; text-decoration-color: #7f7f7f\">           </span>\n",
       "<span style=\"color: #7fbfbf; text-decoration-color: #7fbfbf\">                    </span>         <span style=\"color: #008080; text-decoration-color: #008080; font-weight: bold\">3.44</span>, <span style=\"color: #008000; text-decoration-color: #008000\">'step'</span>: <span style=\"color: #008080; text-decoration-color: #008080; font-weight: bold\">1400</span><span style=\"font-weight: bold\">}</span>, <span style=\"font-weight: bold\">{</span><span style=\"color: #008000; text-decoration-color: #008000\">'eval_loss'</span>:                   <span style=\"color: #7f7f7f; text-decoration-color: #7f7f7f\">           </span>\n",
       "<span style=\"color: #7fbfbf; text-decoration-color: #7fbfbf\">                    </span>         <span style=\"color: #008080; text-decoration-color: #008080; font-weight: bold\">3.2478322982788086</span>, <span style=\"color: #008000; text-decoration-color: #008000\">'eval_runtime'</span>: <span style=\"color: #008080; text-decoration-color: #008080; font-weight: bold\">24.1979</span>,         <span style=\"color: #7f7f7f; text-decoration-color: #7f7f7f\">           </span>\n",
       "<span style=\"color: #7fbfbf; text-decoration-color: #7fbfbf\">                    </span>         <span style=\"color: #008000; text-decoration-color: #008000\">'eval_samples_per_second'</span>: <span style=\"color: #008080; text-decoration-color: #008080; font-weight: bold\">134.64</span>,                   <span style=\"color: #7f7f7f; text-decoration-color: #7f7f7f\">           </span>\n",
       "<span style=\"color: #7fbfbf; text-decoration-color: #7fbfbf\">                    </span>         <span style=\"color: #008000; text-decoration-color: #008000\">'eval_steps_per_second'</span>: <span style=\"color: #008080; text-decoration-color: #008080; font-weight: bold\">8.43</span>, <span style=\"color: #008000; text-decoration-color: #008000\">'epoch'</span>: <span style=\"color: #008080; text-decoration-color: #008080; font-weight: bold\">3.93</span>,        <span style=\"color: #7f7f7f; text-decoration-color: #7f7f7f\">           </span>\n",
       "<span style=\"color: #7fbfbf; text-decoration-color: #7fbfbf\">                    </span>         <span style=\"color: #008000; text-decoration-color: #008000\">'step'</span>: <span style=\"color: #008080; text-decoration-color: #008080; font-weight: bold\">1600</span><span style=\"font-weight: bold\">}</span>, <span style=\"font-weight: bold\">{</span><span style=\"color: #008000; text-decoration-color: #008000\">'loss'</span>: <span style=\"color: #008080; text-decoration-color: #008080; font-weight: bold\">2.7629</span>, <span style=\"color: #008000; text-decoration-color: #008000\">'learning_rate'</span>:     <span style=\"color: #7f7f7f; text-decoration-color: #7f7f7f\">           </span>\n",
       "<span style=\"color: #7fbfbf; text-decoration-color: #7fbfbf\">                    </span>         <span style=\"color: #008080; text-decoration-color: #008080; font-weight: bold\">4.820267039763859e-05</span>, <span style=\"color: #008000; text-decoration-color: #008000\">'epoch'</span>: <span style=\"color: #008080; text-decoration-color: #008080; font-weight: bold\">4.0</span>, <span style=\"color: #008000; text-decoration-color: #008000\">'step'</span>: <span style=\"color: #008080; text-decoration-color: #008080; font-weight: bold\">1628</span><span style=\"font-weight: bold\">}</span>,  <span style=\"color: #7f7f7f; text-decoration-color: #7f7f7f\">           </span>\n",
       "<span style=\"color: #7fbfbf; text-decoration-color: #7fbfbf\">                    </span>         <span style=\"font-weight: bold\">{</span><span style=\"color: #008000; text-decoration-color: #008000\">'eval_loss'</span>: <span style=\"color: #008080; text-decoration-color: #008080; font-weight: bold\">3.269883155822754</span>, <span style=\"color: #008000; text-decoration-color: #008000\">'eval_runtime'</span>:     <span style=\"color: #7f7f7f; text-decoration-color: #7f7f7f\">           </span>\n",
       "<span style=\"color: #7fbfbf; text-decoration-color: #7fbfbf\">                    </span>         <span style=\"color: #008080; text-decoration-color: #008080; font-weight: bold\">23.6433</span>, <span style=\"color: #008000; text-decoration-color: #008000\">'eval_samples_per_second'</span>: <span style=\"color: #008080; text-decoration-color: #008080; font-weight: bold\">137.798</span>,         <span style=\"color: #7f7f7f; text-decoration-color: #7f7f7f\">           </span>\n",
       "<span style=\"color: #7fbfbf; text-decoration-color: #7fbfbf\">                    </span>         <span style=\"color: #008000; text-decoration-color: #008000\">'eval_steps_per_second'</span>: <span style=\"color: #008080; text-decoration-color: #008080; font-weight: bold\">8.628</span>, <span style=\"color: #008000; text-decoration-color: #008000\">'epoch'</span>: <span style=\"color: #008080; text-decoration-color: #008080; font-weight: bold\">4.42</span>,       <span style=\"color: #7f7f7f; text-decoration-color: #7f7f7f\">           </span>\n",
       "<span style=\"color: #7fbfbf; text-decoration-color: #7fbfbf\">                    </span>         <span style=\"color: #008000; text-decoration-color: #008000\">'step'</span>: <span style=\"color: #008080; text-decoration-color: #008080; font-weight: bold\">1800</span><span style=\"font-weight: bold\">}</span>, <span style=\"font-weight: bold\">{</span><span style=\"color: #008000; text-decoration-color: #008000\">'eval_loss'</span>: <span style=\"color: #008080; text-decoration-color: #008080; font-weight: bold\">3.2684857845306396</span>,     <span style=\"color: #7f7f7f; text-decoration-color: #7f7f7f\">           </span>\n",
       "<span style=\"color: #7fbfbf; text-decoration-color: #7fbfbf\">                    </span>         <span style=\"color: #008000; text-decoration-color: #008000\">'eval_runtime'</span>: <span style=\"color: #008080; text-decoration-color: #008080; font-weight: bold\">23.6799</span>, <span style=\"color: #008000; text-decoration-color: #008000\">'eval_samples_per_second'</span>:  <span style=\"color: #7f7f7f; text-decoration-color: #7f7f7f\">           </span>\n",
       "<span style=\"color: #7fbfbf; text-decoration-color: #7fbfbf\">                    </span>         <span style=\"color: #008080; text-decoration-color: #008080; font-weight: bold\">137.585</span>, <span style=\"color: #008000; text-decoration-color: #008000\">'eval_steps_per_second'</span>: <span style=\"color: #008080; text-decoration-color: #008080; font-weight: bold\">8.615</span>, <span style=\"color: #008000; text-decoration-color: #008000\">'epoch'</span>:    <span style=\"color: #7f7f7f; text-decoration-color: #7f7f7f\">           </span>\n",
       "<span style=\"color: #7fbfbf; text-decoration-color: #7fbfbf\">                    </span>         <span style=\"color: #008080; text-decoration-color: #008080; font-weight: bold\">4.91</span>, <span style=\"color: #008000; text-decoration-color: #008000\">'step'</span>: <span style=\"color: #008080; text-decoration-color: #008080; font-weight: bold\">2000</span><span style=\"font-weight: bold\">}]</span>, <span style=\"color: #808000; text-decoration-color: #808000\">best_metric</span>=<span style=\"color: #800080; text-decoration-color: #800080; font-style: italic\">None</span>,              <span style=\"color: #7f7f7f; text-decoration-color: #7f7f7f\">           </span>\n",
       "<span style=\"color: #7fbfbf; text-decoration-color: #7fbfbf\">                    </span>         <span style=\"color: #808000; text-decoration-color: #808000\">best_model_checkpoint</span>=<span style=\"color: #800080; text-decoration-color: #800080; font-style: italic\">None</span>,                          <span style=\"color: #7f7f7f; text-decoration-color: #7f7f7f\">           </span>\n",
       "<span style=\"color: #7fbfbf; text-decoration-color: #7fbfbf\">                    </span>         <span style=\"color: #808000; text-decoration-color: #808000\">is_local_process_zero</span>=<span style=\"color: #00ff00; text-decoration-color: #00ff00; font-style: italic\">True</span>,                          <span style=\"color: #7f7f7f; text-decoration-color: #7f7f7f\">           </span>\n",
       "<span style=\"color: #7fbfbf; text-decoration-color: #7fbfbf\">                    </span>         <span style=\"color: #808000; text-decoration-color: #808000\">is_world_process_zero</span>=<span style=\"color: #00ff00; text-decoration-color: #00ff00; font-style: italic\">True</span>,                          <span style=\"color: #7f7f7f; text-decoration-color: #7f7f7f\">           </span>\n",
       "<span style=\"color: #7fbfbf; text-decoration-color: #7fbfbf\">                    </span>         <span style=\"color: #808000; text-decoration-color: #808000\">is_hyper_param_search</span>=<span style=\"color: #ff0000; text-decoration-color: #ff0000; font-style: italic\">False</span>, <span style=\"color: #808000; text-decoration-color: #808000\">trial_name</span>=<span style=\"color: #800080; text-decoration-color: #800080; font-style: italic\">None</span>,        <span style=\"color: #7f7f7f; text-decoration-color: #7f7f7f\">           </span>\n",
       "<span style=\"color: #7fbfbf; text-decoration-color: #7fbfbf\">                    </span>         <span style=\"color: #808000; text-decoration-color: #808000\">trial_params</span>=<span style=\"color: #800080; text-decoration-color: #800080; font-style: italic\">None</span><span style=\"font-weight: bold\">)</span>                                   <span style=\"color: #7f7f7f; text-decoration-color: #7f7f7f\">           </span>\n",
       "</pre>\n"
      ],
      "text/plain": [
       "\u001b[2;36m                   \u001b[0m\u001b[2;36m \u001b[0m\u001b[34mINFO    \u001b[0m \u001b[1;35mTrainerState\u001b[0m\u001b[1m(\u001b[0m\u001b[33mepoch\u001b[0m=\u001b[1;36m4\u001b[0m\u001b[1;36m.912883435582822\u001b[0m,                \u001b]8;id=360663;file://C:\\Users\\Hedronstone\\Desktop\\miniGPT2\\operations\\train.py\u001b\\\u001b[2mtrain.py\u001b[0m\u001b]8;;\u001b\\\u001b[2m:\u001b[0m\u001b]8;id=633052;file://C:\\Users\\Hedronstone\\Desktop\\miniGPT2\\operations\\train.py#41\u001b\\\u001b[2m41\u001b[0m\u001b]8;;\u001b\\\n",
       "\u001b[2;36m                    \u001b[0m         \u001b[33mglobal_step\u001b[0m=\u001b[1;36m2000\u001b[0m, \u001b[33mmax_steps\u001b[0m=\u001b[1;36m2035\u001b[0m,                    \u001b[2m           \u001b[0m\n",
       "\u001b[2;36m                    \u001b[0m         \u001b[33mnum_train_epochs\u001b[0m=\u001b[1;36m5\u001b[0m, \u001b[33mtotal_flos\u001b[0m=\u001b[1;36m1\u001b[0m\u001b[1;36m.5059827556352e+16\u001b[0m,  \u001b[2m           \u001b[0m\n",
       "\u001b[2;36m                    \u001b[0m         \u001b[33mlog_history\u001b[0m=\u001b[1m[\u001b[0m\u001b[1m{\u001b[0m\u001b[32m'eval_loss'\u001b[0m: \u001b[1;36m3.2401208877563477\u001b[0m,       \u001b[2m           \u001b[0m\n",
       "\u001b[2;36m                    \u001b[0m         \u001b[32m'eval_runtime'\u001b[0m: \u001b[1;36m23.6545\u001b[0m, \u001b[32m'eval_samples_per_second'\u001b[0m:  \u001b[2m           \u001b[0m\n",
       "\u001b[2;36m                    \u001b[0m         \u001b[1;36m137.733\u001b[0m, \u001b[32m'eval_steps_per_second'\u001b[0m: \u001b[1;36m8.624\u001b[0m, \u001b[32m'epoch'\u001b[0m:    \u001b[2m           \u001b[0m\n",
       "\u001b[2;36m                    \u001b[0m         \u001b[1;36m0.49\u001b[0m, \u001b[32m'step'\u001b[0m: \u001b[1;36m200\u001b[0m\u001b[1m}\u001b[0m, \u001b[1m{\u001b[0m\u001b[32m'eval_loss'\u001b[0m: \u001b[1;36m3.217250108718872\u001b[0m, \u001b[2m           \u001b[0m\n",
       "\u001b[2;36m                    \u001b[0m         \u001b[32m'eval_runtime'\u001b[0m: \u001b[1;36m23.6908\u001b[0m, \u001b[32m'eval_samples_per_second'\u001b[0m:  \u001b[2m           \u001b[0m\n",
       "\u001b[2;36m                    \u001b[0m         \u001b[1;36m137.522\u001b[0m, \u001b[32m'eval_steps_per_second'\u001b[0m: \u001b[1;36m8.611\u001b[0m, \u001b[32m'epoch'\u001b[0m:    \u001b[2m           \u001b[0m\n",
       "\u001b[2;36m                    \u001b[0m         \u001b[1;36m0.98\u001b[0m, \u001b[32m'step'\u001b[0m: \u001b[1;36m400\u001b[0m\u001b[1m}\u001b[0m, \u001b[1m{\u001b[0m\u001b[32m'loss'\u001b[0m: \u001b[1;36m3.2845\u001b[0m,                 \u001b[2m           \u001b[0m\n",
       "\u001b[2;36m                    \u001b[0m         \u001b[32m'learning_rate'\u001b[0m: \u001b[1;36m0.0004540624090114981\u001b[0m, \u001b[32m'epoch'\u001b[0m:     \u001b[2m           \u001b[0m\n",
       "\u001b[2;36m                    \u001b[0m         \u001b[1;36m1.0\u001b[0m, \u001b[32m'step'\u001b[0m: \u001b[1;36m407\u001b[0m\u001b[1m}\u001b[0m, \u001b[1m{\u001b[0m\u001b[32m'eval_loss'\u001b[0m: \u001b[1;36m3.223500967025757\u001b[0m,  \u001b[2m           \u001b[0m\n",
       "\u001b[2;36m                    \u001b[0m         \u001b[32m'eval_runtime'\u001b[0m: \u001b[1;36m23.6332\u001b[0m, \u001b[32m'eval_samples_per_second'\u001b[0m:  \u001b[2m           \u001b[0m\n",
       "\u001b[2;36m                    \u001b[0m         \u001b[1;36m137.857\u001b[0m, \u001b[32m'eval_steps_per_second'\u001b[0m: \u001b[1;36m8.632\u001b[0m, \u001b[32m'epoch'\u001b[0m:    \u001b[2m           \u001b[0m\n",
       "\u001b[2;36m                    \u001b[0m         \u001b[1;36m1.47\u001b[0m, \u001b[32m'step'\u001b[0m: \u001b[1;36m600\u001b[0m\u001b[1m}\u001b[0m, \u001b[1m{\u001b[0m\u001b[32m'eval_loss'\u001b[0m:                    \u001b[2m           \u001b[0m\n",
       "\u001b[2;36m                    \u001b[0m         \u001b[1;36m3.2089829444885254\u001b[0m, \u001b[32m'eval_runtime'\u001b[0m: \u001b[1;36m23.0157\u001b[0m,         \u001b[2m           \u001b[0m\n",
       "\u001b[2;36m                    \u001b[0m         \u001b[32m'eval_samples_per_second'\u001b[0m: \u001b[1;36m141.556\u001b[0m,                  \u001b[2m           \u001b[0m\n",
       "\u001b[2;36m                    \u001b[0m         \u001b[32m'eval_steps_per_second'\u001b[0m: \u001b[1;36m8.864\u001b[0m, \u001b[32m'epoch'\u001b[0m: \u001b[1;36m1.96\u001b[0m,       \u001b[2m           \u001b[0m\n",
       "\u001b[2;36m                    \u001b[0m         \u001b[32m'step'\u001b[0m: \u001b[1;36m800\u001b[0m\u001b[1m}\u001b[0m, \u001b[1m{\u001b[0m\u001b[32m'loss'\u001b[0m: \u001b[1;36m3.0619\u001b[0m, \u001b[32m'learning_rate'\u001b[0m:      \u001b[2m           \u001b[0m\n",
       "\u001b[2;36m                    \u001b[0m         \u001b[1;36m0.0003294640787536245\u001b[0m, \u001b[32m'epoch'\u001b[0m: \u001b[1;36m2.0\u001b[0m, \u001b[32m'step'\u001b[0m: \u001b[1;36m814\u001b[0m\u001b[1m}\u001b[0m,   \u001b[2m           \u001b[0m\n",
       "\u001b[2;36m                    \u001b[0m         \u001b[1m{\u001b[0m\u001b[32m'eval_loss'\u001b[0m: \u001b[1;36m3.2308406829833984\u001b[0m, \u001b[32m'eval_runtime'\u001b[0m:    \u001b[2m           \u001b[0m\n",
       "\u001b[2;36m                    \u001b[0m         \u001b[1;36m23.0147\u001b[0m, \u001b[32m'eval_samples_per_second'\u001b[0m: \u001b[1;36m141.562\u001b[0m,         \u001b[2m           \u001b[0m\n",
       "\u001b[2;36m                    \u001b[0m         \u001b[32m'eval_steps_per_second'\u001b[0m: \u001b[1;36m8.864\u001b[0m, \u001b[32m'epoch'\u001b[0m: \u001b[1;36m2.46\u001b[0m,       \u001b[2m           \u001b[0m\n",
       "\u001b[2;36m                    \u001b[0m         \u001b[32m'step'\u001b[0m: \u001b[1;36m1000\u001b[0m\u001b[1m}\u001b[0m, \u001b[1m{\u001b[0m\u001b[32m'eval_loss'\u001b[0m: \u001b[1;36m3.22076678276062\u001b[0m,       \u001b[2m           \u001b[0m\n",
       "\u001b[2;36m                    \u001b[0m         \u001b[32m'eval_runtime'\u001b[0m: \u001b[1;36m23.0281\u001b[0m, \u001b[32m'eval_samples_per_second'\u001b[0m:  \u001b[2m           \u001b[0m\n",
       "\u001b[2;36m                    \u001b[0m         \u001b[1;36m141.479\u001b[0m, \u001b[32m'eval_steps_per_second'\u001b[0m: \u001b[1;36m8.859\u001b[0m, \u001b[32m'epoch'\u001b[0m:    \u001b[2m           \u001b[0m\n",
       "\u001b[2;36m                    \u001b[0m         \u001b[1;36m2.95\u001b[0m, \u001b[32m'step'\u001b[0m: \u001b[1;36m1200\u001b[0m\u001b[1m}\u001b[0m, \u001b[1m{\u001b[0m\u001b[32m'loss'\u001b[0m: \u001b[1;36m2.899\u001b[0m,                 \u001b[2m           \u001b[0m\n",
       "\u001b[2;36m                    \u001b[0m         \u001b[32m'learning_rate'\u001b[0m: \u001b[1;36m0.00017422270212284725\u001b[0m, \u001b[32m'epoch'\u001b[0m:    \u001b[2m           \u001b[0m\n",
       "\u001b[2;36m                    \u001b[0m         \u001b[1;36m3.0\u001b[0m, \u001b[32m'step'\u001b[0m: \u001b[1;36m1221\u001b[0m\u001b[1m}\u001b[0m, \u001b[1m{\u001b[0m\u001b[32m'eval_loss'\u001b[0m: \u001b[1;36m3.251729726791382\u001b[0m, \u001b[2m           \u001b[0m\n",
       "\u001b[2;36m                    \u001b[0m         \u001b[32m'eval_runtime'\u001b[0m: \u001b[1;36m23.0129\u001b[0m, \u001b[32m'eval_samples_per_second'\u001b[0m:  \u001b[2m           \u001b[0m\n",
       "\u001b[2;36m                    \u001b[0m         \u001b[1;36m141.573\u001b[0m, \u001b[32m'eval_steps_per_second'\u001b[0m: \u001b[1;36m8.865\u001b[0m, \u001b[32m'epoch'\u001b[0m:    \u001b[2m           \u001b[0m\n",
       "\u001b[2;36m                    \u001b[0m         \u001b[1;36m3.44\u001b[0m, \u001b[32m'step'\u001b[0m: \u001b[1;36m1400\u001b[0m\u001b[1m}\u001b[0m, \u001b[1m{\u001b[0m\u001b[32m'eval_loss'\u001b[0m:                   \u001b[2m           \u001b[0m\n",
       "\u001b[2;36m                    \u001b[0m         \u001b[1;36m3.2478322982788086\u001b[0m, \u001b[32m'eval_runtime'\u001b[0m: \u001b[1;36m24.1979\u001b[0m,         \u001b[2m           \u001b[0m\n",
       "\u001b[2;36m                    \u001b[0m         \u001b[32m'eval_samples_per_second'\u001b[0m: \u001b[1;36m134.64\u001b[0m,                   \u001b[2m           \u001b[0m\n",
       "\u001b[2;36m                    \u001b[0m         \u001b[32m'eval_steps_per_second'\u001b[0m: \u001b[1;36m8.43\u001b[0m, \u001b[32m'epoch'\u001b[0m: \u001b[1;36m3.93\u001b[0m,        \u001b[2m           \u001b[0m\n",
       "\u001b[2;36m                    \u001b[0m         \u001b[32m'step'\u001b[0m: \u001b[1;36m1600\u001b[0m\u001b[1m}\u001b[0m, \u001b[1m{\u001b[0m\u001b[32m'loss'\u001b[0m: \u001b[1;36m2.7629\u001b[0m, \u001b[32m'learning_rate'\u001b[0m:     \u001b[2m           \u001b[0m\n",
       "\u001b[2;36m                    \u001b[0m         \u001b[1;36m4.820267039763859e-05\u001b[0m, \u001b[32m'epoch'\u001b[0m: \u001b[1;36m4.0\u001b[0m, \u001b[32m'step'\u001b[0m: \u001b[1;36m1628\u001b[0m\u001b[1m}\u001b[0m,  \u001b[2m           \u001b[0m\n",
       "\u001b[2;36m                    \u001b[0m         \u001b[1m{\u001b[0m\u001b[32m'eval_loss'\u001b[0m: \u001b[1;36m3.269883155822754\u001b[0m, \u001b[32m'eval_runtime'\u001b[0m:     \u001b[2m           \u001b[0m\n",
       "\u001b[2;36m                    \u001b[0m         \u001b[1;36m23.6433\u001b[0m, \u001b[32m'eval_samples_per_second'\u001b[0m: \u001b[1;36m137.798\u001b[0m,         \u001b[2m           \u001b[0m\n",
       "\u001b[2;36m                    \u001b[0m         \u001b[32m'eval_steps_per_second'\u001b[0m: \u001b[1;36m8.628\u001b[0m, \u001b[32m'epoch'\u001b[0m: \u001b[1;36m4.42\u001b[0m,       \u001b[2m           \u001b[0m\n",
       "\u001b[2;36m                    \u001b[0m         \u001b[32m'step'\u001b[0m: \u001b[1;36m1800\u001b[0m\u001b[1m}\u001b[0m, \u001b[1m{\u001b[0m\u001b[32m'eval_loss'\u001b[0m: \u001b[1;36m3.2684857845306396\u001b[0m,     \u001b[2m           \u001b[0m\n",
       "\u001b[2;36m                    \u001b[0m         \u001b[32m'eval_runtime'\u001b[0m: \u001b[1;36m23.6799\u001b[0m, \u001b[32m'eval_samples_per_second'\u001b[0m:  \u001b[2m           \u001b[0m\n",
       "\u001b[2;36m                    \u001b[0m         \u001b[1;36m137.585\u001b[0m, \u001b[32m'eval_steps_per_second'\u001b[0m: \u001b[1;36m8.615\u001b[0m, \u001b[32m'epoch'\u001b[0m:    \u001b[2m           \u001b[0m\n",
       "\u001b[2;36m                    \u001b[0m         \u001b[1;36m4.91\u001b[0m, \u001b[32m'step'\u001b[0m: \u001b[1;36m2000\u001b[0m\u001b[1m}\u001b[0m\u001b[1m]\u001b[0m, \u001b[33mbest_metric\u001b[0m=\u001b[3;35mNone\u001b[0m,              \u001b[2m           \u001b[0m\n",
       "\u001b[2;36m                    \u001b[0m         \u001b[33mbest_model_checkpoint\u001b[0m=\u001b[3;35mNone\u001b[0m,                          \u001b[2m           \u001b[0m\n",
       "\u001b[2;36m                    \u001b[0m         \u001b[33mis_local_process_zero\u001b[0m=\u001b[3;92mTrue\u001b[0m,                          \u001b[2m           \u001b[0m\n",
       "\u001b[2;36m                    \u001b[0m         \u001b[33mis_world_process_zero\u001b[0m=\u001b[3;92mTrue\u001b[0m,                          \u001b[2m           \u001b[0m\n",
       "\u001b[2;36m                    \u001b[0m         \u001b[33mis_hyper_param_search\u001b[0m=\u001b[3;91mFalse\u001b[0m, \u001b[33mtrial_name\u001b[0m=\u001b[3;35mNone\u001b[0m,        \u001b[2m           \u001b[0m\n",
       "\u001b[2;36m                    \u001b[0m         \u001b[33mtrial_params\u001b[0m=\u001b[3;35mNone\u001b[0m\u001b[1m)\u001b[0m                                   \u001b[2m           \u001b[0m\n"
      ]
     },
     "metadata": {},
     "output_type": "display_data"
    },
    {
     "name": "stdout",
     "output_type": "stream",
     "text": [
      "{'eval_loss': 3.2684857845306396, 'eval_runtime': 23.6799, 'eval_samples_per_second': 137.585, 'eval_steps_per_second': 8.615, 'epoch': 4.91}\n"
     ]
    },
    {
     "name": "stderr",
     "output_type": "stream",
     "text": [
      "Saving model checkpoint to artifacts\\checkpoint-2000\n",
      "Configuration saved in artifacts\\checkpoint-2000\\config.json\n",
      "Model weights saved in artifacts\\checkpoint-2000\\pytorch_model.bin\n",
      "tokenizer config file saved in artifacts\\checkpoint-2000\\tokenizer_config.json\n",
      "Special tokens file saved in artifacts\\checkpoint-2000\\special_tokens_map.json\n"
     ]
    },
    {
     "data": {
      "text/html": [
       "<pre style=\"white-space:pre;overflow-x:auto;line-height:normal;font-family:Menlo,'DejaVu Sans Mono',consolas,'Courier New',monospace\"><span style=\"color: #7fbfbf; text-decoration-color: #7fbfbf\">[09/30/22 19:58:42] </span><span style=\"color: #000080; text-decoration-color: #000080\">INFO    </span> <span style=\"font-weight: bold\">{</span><span style=\"color: #008000; text-decoration-color: #008000\">'loss'</span>: <span style=\"color: #008080; text-decoration-color: #008080; font-weight: bold\">2.6797</span>, <span style=\"color: #008000; text-decoration-color: #008000\">'learning_rate'</span>: <span style=\"color: #008080; text-decoration-color: #008080; font-weight: bold\">0.0</span>, <span style=\"color: #008000; text-decoration-color: #008000\">'epoch'</span>: <span style=\"color: #008080; text-decoration-color: #008080; font-weight: bold\">5.0</span><span style=\"font-weight: bold\">}</span> <a href=\"file://C:\\Users\\Hedronstone\\Desktop\\miniGPT2\\operations\\train.py\" target=\"_blank\"><span style=\"color: #7f7f7f; text-decoration-color: #7f7f7f\">train.py</span></a><span style=\"color: #7f7f7f; text-decoration-color: #7f7f7f\">:</span><a href=\"file://C:\\Users\\Hedronstone\\Desktop\\miniGPT2\\operations\\train.py#39\" target=\"_blank\"><span style=\"color: #7f7f7f; text-decoration-color: #7f7f7f\">39</span></a>\n",
       "</pre>\n"
      ],
      "text/plain": [
       "\u001b[2;36m[09/30/22 19:58:42]\u001b[0m\u001b[2;36m \u001b[0m\u001b[34mINFO    \u001b[0m \u001b[1m{\u001b[0m\u001b[32m'loss'\u001b[0m: \u001b[1;36m2.6797\u001b[0m, \u001b[32m'learning_rate'\u001b[0m: \u001b[1;36m0.0\u001b[0m, \u001b[32m'epoch'\u001b[0m: \u001b[1;36m5.0\u001b[0m\u001b[1m}\u001b[0m \u001b]8;id=277370;file://C:\\Users\\Hedronstone\\Desktop\\miniGPT2\\operations\\train.py\u001b\\\u001b[2mtrain.py\u001b[0m\u001b]8;;\u001b\\\u001b[2m:\u001b[0m\u001b]8;id=846335;file://C:\\Users\\Hedronstone\\Desktop\\miniGPT2\\operations\\train.py#39\u001b\\\u001b[2m39\u001b[0m\u001b]8;;\u001b\\\n"
      ]
     },
     "metadata": {},
     "output_type": "display_data"
    },
    {
     "data": {
      "text/html": [
       "<pre style=\"white-space:pre;overflow-x:auto;line-height:normal;font-family:Menlo,'DejaVu Sans Mono',consolas,'Courier New',monospace\"><span style=\"color: #7fbfbf; text-decoration-color: #7fbfbf\">                    </span><span style=\"color: #000080; text-decoration-color: #000080\">INFO    </span> <span style=\"color: #800080; text-decoration-color: #800080; font-weight: bold\">TrainerState</span><span style=\"font-weight: bold\">(</span><span style=\"color: #808000; text-decoration-color: #808000\">epoch</span>=<span style=\"color: #008080; text-decoration-color: #008080; font-weight: bold\">4.99877300613497</span>,                 <a href=\"file://C:\\Users\\Hedronstone\\Desktop\\miniGPT2\\operations\\train.py\" target=\"_blank\"><span style=\"color: #7f7f7f; text-decoration-color: #7f7f7f\">train.py</span></a><span style=\"color: #7f7f7f; text-decoration-color: #7f7f7f\">:</span><a href=\"file://C:\\Users\\Hedronstone\\Desktop\\miniGPT2\\operations\\train.py#41\" target=\"_blank\"><span style=\"color: #7f7f7f; text-decoration-color: #7f7f7f\">41</span></a>\n",
       "<span style=\"color: #7fbfbf; text-decoration-color: #7fbfbf\">                    </span>         <span style=\"color: #808000; text-decoration-color: #808000\">global_step</span>=<span style=\"color: #008080; text-decoration-color: #008080; font-weight: bold\">2035</span>, <span style=\"color: #808000; text-decoration-color: #808000\">max_steps</span>=<span style=\"color: #008080; text-decoration-color: #008080; font-weight: bold\">2035</span>,                    <span style=\"color: #7f7f7f; text-decoration-color: #7f7f7f\">           </span>\n",
       "<span style=\"color: #7fbfbf; text-decoration-color: #7fbfbf\">                    </span>         <span style=\"color: #808000; text-decoration-color: #808000\">num_train_epochs</span>=<span style=\"color: #008080; text-decoration-color: #008080; font-weight: bold\">5</span>, <span style=\"color: #808000; text-decoration-color: #808000\">total_flos</span>=<span style=\"color: #008080; text-decoration-color: #008080; font-weight: bold\">1.7024743636992e+16</span>,  <span style=\"color: #7f7f7f; text-decoration-color: #7f7f7f\">           </span>\n",
       "<span style=\"color: #7fbfbf; text-decoration-color: #7fbfbf\">                    </span>         <span style=\"color: #808000; text-decoration-color: #808000\">log_history</span>=<span style=\"font-weight: bold\">[{</span><span style=\"color: #008000; text-decoration-color: #008000\">'eval_loss'</span>: <span style=\"color: #008080; text-decoration-color: #008080; font-weight: bold\">3.2401208877563477</span>,       <span style=\"color: #7f7f7f; text-decoration-color: #7f7f7f\">           </span>\n",
       "<span style=\"color: #7fbfbf; text-decoration-color: #7fbfbf\">                    </span>         <span style=\"color: #008000; text-decoration-color: #008000\">'eval_runtime'</span>: <span style=\"color: #008080; text-decoration-color: #008080; font-weight: bold\">23.6545</span>, <span style=\"color: #008000; text-decoration-color: #008000\">'eval_samples_per_second'</span>:  <span style=\"color: #7f7f7f; text-decoration-color: #7f7f7f\">           </span>\n",
       "<span style=\"color: #7fbfbf; text-decoration-color: #7fbfbf\">                    </span>         <span style=\"color: #008080; text-decoration-color: #008080; font-weight: bold\">137.733</span>, <span style=\"color: #008000; text-decoration-color: #008000\">'eval_steps_per_second'</span>: <span style=\"color: #008080; text-decoration-color: #008080; font-weight: bold\">8.624</span>, <span style=\"color: #008000; text-decoration-color: #008000\">'epoch'</span>:    <span style=\"color: #7f7f7f; text-decoration-color: #7f7f7f\">           </span>\n",
       "<span style=\"color: #7fbfbf; text-decoration-color: #7fbfbf\">                    </span>         <span style=\"color: #008080; text-decoration-color: #008080; font-weight: bold\">0.49</span>, <span style=\"color: #008000; text-decoration-color: #008000\">'step'</span>: <span style=\"color: #008080; text-decoration-color: #008080; font-weight: bold\">200</span><span style=\"font-weight: bold\">}</span>, <span style=\"font-weight: bold\">{</span><span style=\"color: #008000; text-decoration-color: #008000\">'eval_loss'</span>: <span style=\"color: #008080; text-decoration-color: #008080; font-weight: bold\">3.217250108718872</span>, <span style=\"color: #7f7f7f; text-decoration-color: #7f7f7f\">           </span>\n",
       "<span style=\"color: #7fbfbf; text-decoration-color: #7fbfbf\">                    </span>         <span style=\"color: #008000; text-decoration-color: #008000\">'eval_runtime'</span>: <span style=\"color: #008080; text-decoration-color: #008080; font-weight: bold\">23.6908</span>, <span style=\"color: #008000; text-decoration-color: #008000\">'eval_samples_per_second'</span>:  <span style=\"color: #7f7f7f; text-decoration-color: #7f7f7f\">           </span>\n",
       "<span style=\"color: #7fbfbf; text-decoration-color: #7fbfbf\">                    </span>         <span style=\"color: #008080; text-decoration-color: #008080; font-weight: bold\">137.522</span>, <span style=\"color: #008000; text-decoration-color: #008000\">'eval_steps_per_second'</span>: <span style=\"color: #008080; text-decoration-color: #008080; font-weight: bold\">8.611</span>, <span style=\"color: #008000; text-decoration-color: #008000\">'epoch'</span>:    <span style=\"color: #7f7f7f; text-decoration-color: #7f7f7f\">           </span>\n",
       "<span style=\"color: #7fbfbf; text-decoration-color: #7fbfbf\">                    </span>         <span style=\"color: #008080; text-decoration-color: #008080; font-weight: bold\">0.98</span>, <span style=\"color: #008000; text-decoration-color: #008000\">'step'</span>: <span style=\"color: #008080; text-decoration-color: #008080; font-weight: bold\">400</span><span style=\"font-weight: bold\">}</span>, <span style=\"font-weight: bold\">{</span><span style=\"color: #008000; text-decoration-color: #008000\">'loss'</span>: <span style=\"color: #008080; text-decoration-color: #008080; font-weight: bold\">3.2845</span>,                 <span style=\"color: #7f7f7f; text-decoration-color: #7f7f7f\">           </span>\n",
       "<span style=\"color: #7fbfbf; text-decoration-color: #7fbfbf\">                    </span>         <span style=\"color: #008000; text-decoration-color: #008000\">'learning_rate'</span>: <span style=\"color: #008080; text-decoration-color: #008080; font-weight: bold\">0.0004540624090114981</span>, <span style=\"color: #008000; text-decoration-color: #008000\">'epoch'</span>:     <span style=\"color: #7f7f7f; text-decoration-color: #7f7f7f\">           </span>\n",
       "<span style=\"color: #7fbfbf; text-decoration-color: #7fbfbf\">                    </span>         <span style=\"color: #008080; text-decoration-color: #008080; font-weight: bold\">1.0</span>, <span style=\"color: #008000; text-decoration-color: #008000\">'step'</span>: <span style=\"color: #008080; text-decoration-color: #008080; font-weight: bold\">407</span><span style=\"font-weight: bold\">}</span>, <span style=\"font-weight: bold\">{</span><span style=\"color: #008000; text-decoration-color: #008000\">'eval_loss'</span>: <span style=\"color: #008080; text-decoration-color: #008080; font-weight: bold\">3.223500967025757</span>,  <span style=\"color: #7f7f7f; text-decoration-color: #7f7f7f\">           </span>\n",
       "<span style=\"color: #7fbfbf; text-decoration-color: #7fbfbf\">                    </span>         <span style=\"color: #008000; text-decoration-color: #008000\">'eval_runtime'</span>: <span style=\"color: #008080; text-decoration-color: #008080; font-weight: bold\">23.6332</span>, <span style=\"color: #008000; text-decoration-color: #008000\">'eval_samples_per_second'</span>:  <span style=\"color: #7f7f7f; text-decoration-color: #7f7f7f\">           </span>\n",
       "<span style=\"color: #7fbfbf; text-decoration-color: #7fbfbf\">                    </span>         <span style=\"color: #008080; text-decoration-color: #008080; font-weight: bold\">137.857</span>, <span style=\"color: #008000; text-decoration-color: #008000\">'eval_steps_per_second'</span>: <span style=\"color: #008080; text-decoration-color: #008080; font-weight: bold\">8.632</span>, <span style=\"color: #008000; text-decoration-color: #008000\">'epoch'</span>:    <span style=\"color: #7f7f7f; text-decoration-color: #7f7f7f\">           </span>\n",
       "<span style=\"color: #7fbfbf; text-decoration-color: #7fbfbf\">                    </span>         <span style=\"color: #008080; text-decoration-color: #008080; font-weight: bold\">1.47</span>, <span style=\"color: #008000; text-decoration-color: #008000\">'step'</span>: <span style=\"color: #008080; text-decoration-color: #008080; font-weight: bold\">600</span><span style=\"font-weight: bold\">}</span>, <span style=\"font-weight: bold\">{</span><span style=\"color: #008000; text-decoration-color: #008000\">'eval_loss'</span>:                    <span style=\"color: #7f7f7f; text-decoration-color: #7f7f7f\">           </span>\n",
       "<span style=\"color: #7fbfbf; text-decoration-color: #7fbfbf\">                    </span>         <span style=\"color: #008080; text-decoration-color: #008080; font-weight: bold\">3.2089829444885254</span>, <span style=\"color: #008000; text-decoration-color: #008000\">'eval_runtime'</span>: <span style=\"color: #008080; text-decoration-color: #008080; font-weight: bold\">23.0157</span>,         <span style=\"color: #7f7f7f; text-decoration-color: #7f7f7f\">           </span>\n",
       "<span style=\"color: #7fbfbf; text-decoration-color: #7fbfbf\">                    </span>         <span style=\"color: #008000; text-decoration-color: #008000\">'eval_samples_per_second'</span>: <span style=\"color: #008080; text-decoration-color: #008080; font-weight: bold\">141.556</span>,                  <span style=\"color: #7f7f7f; text-decoration-color: #7f7f7f\">           </span>\n",
       "<span style=\"color: #7fbfbf; text-decoration-color: #7fbfbf\">                    </span>         <span style=\"color: #008000; text-decoration-color: #008000\">'eval_steps_per_second'</span>: <span style=\"color: #008080; text-decoration-color: #008080; font-weight: bold\">8.864</span>, <span style=\"color: #008000; text-decoration-color: #008000\">'epoch'</span>: <span style=\"color: #008080; text-decoration-color: #008080; font-weight: bold\">1.96</span>,       <span style=\"color: #7f7f7f; text-decoration-color: #7f7f7f\">           </span>\n",
       "<span style=\"color: #7fbfbf; text-decoration-color: #7fbfbf\">                    </span>         <span style=\"color: #008000; text-decoration-color: #008000\">'step'</span>: <span style=\"color: #008080; text-decoration-color: #008080; font-weight: bold\">800</span><span style=\"font-weight: bold\">}</span>, <span style=\"font-weight: bold\">{</span><span style=\"color: #008000; text-decoration-color: #008000\">'loss'</span>: <span style=\"color: #008080; text-decoration-color: #008080; font-weight: bold\">3.0619</span>, <span style=\"color: #008000; text-decoration-color: #008000\">'learning_rate'</span>:      <span style=\"color: #7f7f7f; text-decoration-color: #7f7f7f\">           </span>\n",
       "<span style=\"color: #7fbfbf; text-decoration-color: #7fbfbf\">                    </span>         <span style=\"color: #008080; text-decoration-color: #008080; font-weight: bold\">0.0003294640787536245</span>, <span style=\"color: #008000; text-decoration-color: #008000\">'epoch'</span>: <span style=\"color: #008080; text-decoration-color: #008080; font-weight: bold\">2.0</span>, <span style=\"color: #008000; text-decoration-color: #008000\">'step'</span>: <span style=\"color: #008080; text-decoration-color: #008080; font-weight: bold\">814</span><span style=\"font-weight: bold\">}</span>,   <span style=\"color: #7f7f7f; text-decoration-color: #7f7f7f\">           </span>\n",
       "<span style=\"color: #7fbfbf; text-decoration-color: #7fbfbf\">                    </span>         <span style=\"font-weight: bold\">{</span><span style=\"color: #008000; text-decoration-color: #008000\">'eval_loss'</span>: <span style=\"color: #008080; text-decoration-color: #008080; font-weight: bold\">3.2308406829833984</span>, <span style=\"color: #008000; text-decoration-color: #008000\">'eval_runtime'</span>:    <span style=\"color: #7f7f7f; text-decoration-color: #7f7f7f\">           </span>\n",
       "<span style=\"color: #7fbfbf; text-decoration-color: #7fbfbf\">                    </span>         <span style=\"color: #008080; text-decoration-color: #008080; font-weight: bold\">23.0147</span>, <span style=\"color: #008000; text-decoration-color: #008000\">'eval_samples_per_second'</span>: <span style=\"color: #008080; text-decoration-color: #008080; font-weight: bold\">141.562</span>,         <span style=\"color: #7f7f7f; text-decoration-color: #7f7f7f\">           </span>\n",
       "<span style=\"color: #7fbfbf; text-decoration-color: #7fbfbf\">                    </span>         <span style=\"color: #008000; text-decoration-color: #008000\">'eval_steps_per_second'</span>: <span style=\"color: #008080; text-decoration-color: #008080; font-weight: bold\">8.864</span>, <span style=\"color: #008000; text-decoration-color: #008000\">'epoch'</span>: <span style=\"color: #008080; text-decoration-color: #008080; font-weight: bold\">2.46</span>,       <span style=\"color: #7f7f7f; text-decoration-color: #7f7f7f\">           </span>\n",
       "<span style=\"color: #7fbfbf; text-decoration-color: #7fbfbf\">                    </span>         <span style=\"color: #008000; text-decoration-color: #008000\">'step'</span>: <span style=\"color: #008080; text-decoration-color: #008080; font-weight: bold\">1000</span><span style=\"font-weight: bold\">}</span>, <span style=\"font-weight: bold\">{</span><span style=\"color: #008000; text-decoration-color: #008000\">'eval_loss'</span>: <span style=\"color: #008080; text-decoration-color: #008080; font-weight: bold\">3.22076678276062</span>,       <span style=\"color: #7f7f7f; text-decoration-color: #7f7f7f\">           </span>\n",
       "<span style=\"color: #7fbfbf; text-decoration-color: #7fbfbf\">                    </span>         <span style=\"color: #008000; text-decoration-color: #008000\">'eval_runtime'</span>: <span style=\"color: #008080; text-decoration-color: #008080; font-weight: bold\">23.0281</span>, <span style=\"color: #008000; text-decoration-color: #008000\">'eval_samples_per_second'</span>:  <span style=\"color: #7f7f7f; text-decoration-color: #7f7f7f\">           </span>\n",
       "<span style=\"color: #7fbfbf; text-decoration-color: #7fbfbf\">                    </span>         <span style=\"color: #008080; text-decoration-color: #008080; font-weight: bold\">141.479</span>, <span style=\"color: #008000; text-decoration-color: #008000\">'eval_steps_per_second'</span>: <span style=\"color: #008080; text-decoration-color: #008080; font-weight: bold\">8.859</span>, <span style=\"color: #008000; text-decoration-color: #008000\">'epoch'</span>:    <span style=\"color: #7f7f7f; text-decoration-color: #7f7f7f\">           </span>\n",
       "<span style=\"color: #7fbfbf; text-decoration-color: #7fbfbf\">                    </span>         <span style=\"color: #008080; text-decoration-color: #008080; font-weight: bold\">2.95</span>, <span style=\"color: #008000; text-decoration-color: #008000\">'step'</span>: <span style=\"color: #008080; text-decoration-color: #008080; font-weight: bold\">1200</span><span style=\"font-weight: bold\">}</span>, <span style=\"font-weight: bold\">{</span><span style=\"color: #008000; text-decoration-color: #008000\">'loss'</span>: <span style=\"color: #008080; text-decoration-color: #008080; font-weight: bold\">2.899</span>,                 <span style=\"color: #7f7f7f; text-decoration-color: #7f7f7f\">           </span>\n",
       "<span style=\"color: #7fbfbf; text-decoration-color: #7fbfbf\">                    </span>         <span style=\"color: #008000; text-decoration-color: #008000\">'learning_rate'</span>: <span style=\"color: #008080; text-decoration-color: #008080; font-weight: bold\">0.00017422270212284725</span>, <span style=\"color: #008000; text-decoration-color: #008000\">'epoch'</span>:    <span style=\"color: #7f7f7f; text-decoration-color: #7f7f7f\">           </span>\n",
       "<span style=\"color: #7fbfbf; text-decoration-color: #7fbfbf\">                    </span>         <span style=\"color: #008080; text-decoration-color: #008080; font-weight: bold\">3.0</span>, <span style=\"color: #008000; text-decoration-color: #008000\">'step'</span>: <span style=\"color: #008080; text-decoration-color: #008080; font-weight: bold\">1221</span><span style=\"font-weight: bold\">}</span>, <span style=\"font-weight: bold\">{</span><span style=\"color: #008000; text-decoration-color: #008000\">'eval_loss'</span>: <span style=\"color: #008080; text-decoration-color: #008080; font-weight: bold\">3.251729726791382</span>, <span style=\"color: #7f7f7f; text-decoration-color: #7f7f7f\">           </span>\n",
       "<span style=\"color: #7fbfbf; text-decoration-color: #7fbfbf\">                    </span>         <span style=\"color: #008000; text-decoration-color: #008000\">'eval_runtime'</span>: <span style=\"color: #008080; text-decoration-color: #008080; font-weight: bold\">23.0129</span>, <span style=\"color: #008000; text-decoration-color: #008000\">'eval_samples_per_second'</span>:  <span style=\"color: #7f7f7f; text-decoration-color: #7f7f7f\">           </span>\n",
       "<span style=\"color: #7fbfbf; text-decoration-color: #7fbfbf\">                    </span>         <span style=\"color: #008080; text-decoration-color: #008080; font-weight: bold\">141.573</span>, <span style=\"color: #008000; text-decoration-color: #008000\">'eval_steps_per_second'</span>: <span style=\"color: #008080; text-decoration-color: #008080; font-weight: bold\">8.865</span>, <span style=\"color: #008000; text-decoration-color: #008000\">'epoch'</span>:    <span style=\"color: #7f7f7f; text-decoration-color: #7f7f7f\">           </span>\n",
       "<span style=\"color: #7fbfbf; text-decoration-color: #7fbfbf\">                    </span>         <span style=\"color: #008080; text-decoration-color: #008080; font-weight: bold\">3.44</span>, <span style=\"color: #008000; text-decoration-color: #008000\">'step'</span>: <span style=\"color: #008080; text-decoration-color: #008080; font-weight: bold\">1400</span><span style=\"font-weight: bold\">}</span>, <span style=\"font-weight: bold\">{</span><span style=\"color: #008000; text-decoration-color: #008000\">'eval_loss'</span>:                   <span style=\"color: #7f7f7f; text-decoration-color: #7f7f7f\">           </span>\n",
       "<span style=\"color: #7fbfbf; text-decoration-color: #7fbfbf\">                    </span>         <span style=\"color: #008080; text-decoration-color: #008080; font-weight: bold\">3.2478322982788086</span>, <span style=\"color: #008000; text-decoration-color: #008000\">'eval_runtime'</span>: <span style=\"color: #008080; text-decoration-color: #008080; font-weight: bold\">24.1979</span>,         <span style=\"color: #7f7f7f; text-decoration-color: #7f7f7f\">           </span>\n",
       "<span style=\"color: #7fbfbf; text-decoration-color: #7fbfbf\">                    </span>         <span style=\"color: #008000; text-decoration-color: #008000\">'eval_samples_per_second'</span>: <span style=\"color: #008080; text-decoration-color: #008080; font-weight: bold\">134.64</span>,                   <span style=\"color: #7f7f7f; text-decoration-color: #7f7f7f\">           </span>\n",
       "<span style=\"color: #7fbfbf; text-decoration-color: #7fbfbf\">                    </span>         <span style=\"color: #008000; text-decoration-color: #008000\">'eval_steps_per_second'</span>: <span style=\"color: #008080; text-decoration-color: #008080; font-weight: bold\">8.43</span>, <span style=\"color: #008000; text-decoration-color: #008000\">'epoch'</span>: <span style=\"color: #008080; text-decoration-color: #008080; font-weight: bold\">3.93</span>,        <span style=\"color: #7f7f7f; text-decoration-color: #7f7f7f\">           </span>\n",
       "<span style=\"color: #7fbfbf; text-decoration-color: #7fbfbf\">                    </span>         <span style=\"color: #008000; text-decoration-color: #008000\">'step'</span>: <span style=\"color: #008080; text-decoration-color: #008080; font-weight: bold\">1600</span><span style=\"font-weight: bold\">}</span>, <span style=\"font-weight: bold\">{</span><span style=\"color: #008000; text-decoration-color: #008000\">'loss'</span>: <span style=\"color: #008080; text-decoration-color: #008080; font-weight: bold\">2.7629</span>, <span style=\"color: #008000; text-decoration-color: #008000\">'learning_rate'</span>:     <span style=\"color: #7f7f7f; text-decoration-color: #7f7f7f\">           </span>\n",
       "<span style=\"color: #7fbfbf; text-decoration-color: #7fbfbf\">                    </span>         <span style=\"color: #008080; text-decoration-color: #008080; font-weight: bold\">4.820267039763859e-05</span>, <span style=\"color: #008000; text-decoration-color: #008000\">'epoch'</span>: <span style=\"color: #008080; text-decoration-color: #008080; font-weight: bold\">4.0</span>, <span style=\"color: #008000; text-decoration-color: #008000\">'step'</span>: <span style=\"color: #008080; text-decoration-color: #008080; font-weight: bold\">1628</span><span style=\"font-weight: bold\">}</span>,  <span style=\"color: #7f7f7f; text-decoration-color: #7f7f7f\">           </span>\n",
       "<span style=\"color: #7fbfbf; text-decoration-color: #7fbfbf\">                    </span>         <span style=\"font-weight: bold\">{</span><span style=\"color: #008000; text-decoration-color: #008000\">'eval_loss'</span>: <span style=\"color: #008080; text-decoration-color: #008080; font-weight: bold\">3.269883155822754</span>, <span style=\"color: #008000; text-decoration-color: #008000\">'eval_runtime'</span>:     <span style=\"color: #7f7f7f; text-decoration-color: #7f7f7f\">           </span>\n",
       "<span style=\"color: #7fbfbf; text-decoration-color: #7fbfbf\">                    </span>         <span style=\"color: #008080; text-decoration-color: #008080; font-weight: bold\">23.6433</span>, <span style=\"color: #008000; text-decoration-color: #008000\">'eval_samples_per_second'</span>: <span style=\"color: #008080; text-decoration-color: #008080; font-weight: bold\">137.798</span>,         <span style=\"color: #7f7f7f; text-decoration-color: #7f7f7f\">           </span>\n",
       "<span style=\"color: #7fbfbf; text-decoration-color: #7fbfbf\">                    </span>         <span style=\"color: #008000; text-decoration-color: #008000\">'eval_steps_per_second'</span>: <span style=\"color: #008080; text-decoration-color: #008080; font-weight: bold\">8.628</span>, <span style=\"color: #008000; text-decoration-color: #008000\">'epoch'</span>: <span style=\"color: #008080; text-decoration-color: #008080; font-weight: bold\">4.42</span>,       <span style=\"color: #7f7f7f; text-decoration-color: #7f7f7f\">           </span>\n",
       "<span style=\"color: #7fbfbf; text-decoration-color: #7fbfbf\">                    </span>         <span style=\"color: #008000; text-decoration-color: #008000\">'step'</span>: <span style=\"color: #008080; text-decoration-color: #008080; font-weight: bold\">1800</span><span style=\"font-weight: bold\">}</span>, <span style=\"font-weight: bold\">{</span><span style=\"color: #008000; text-decoration-color: #008000\">'eval_loss'</span>: <span style=\"color: #008080; text-decoration-color: #008080; font-weight: bold\">3.2684857845306396</span>,     <span style=\"color: #7f7f7f; text-decoration-color: #7f7f7f\">           </span>\n",
       "<span style=\"color: #7fbfbf; text-decoration-color: #7fbfbf\">                    </span>         <span style=\"color: #008000; text-decoration-color: #008000\">'eval_runtime'</span>: <span style=\"color: #008080; text-decoration-color: #008080; font-weight: bold\">23.6799</span>, <span style=\"color: #008000; text-decoration-color: #008000\">'eval_samples_per_second'</span>:  <span style=\"color: #7f7f7f; text-decoration-color: #7f7f7f\">           </span>\n",
       "<span style=\"color: #7fbfbf; text-decoration-color: #7fbfbf\">                    </span>         <span style=\"color: #008080; text-decoration-color: #008080; font-weight: bold\">137.585</span>, <span style=\"color: #008000; text-decoration-color: #008000\">'eval_steps_per_second'</span>: <span style=\"color: #008080; text-decoration-color: #008080; font-weight: bold\">8.615</span>, <span style=\"color: #008000; text-decoration-color: #008000\">'epoch'</span>:    <span style=\"color: #7f7f7f; text-decoration-color: #7f7f7f\">           </span>\n",
       "<span style=\"color: #7fbfbf; text-decoration-color: #7fbfbf\">                    </span>         <span style=\"color: #008080; text-decoration-color: #008080; font-weight: bold\">4.91</span>, <span style=\"color: #008000; text-decoration-color: #008000\">'step'</span>: <span style=\"color: #008080; text-decoration-color: #008080; font-weight: bold\">2000</span><span style=\"font-weight: bold\">}</span>, <span style=\"font-weight: bold\">{</span><span style=\"color: #008000; text-decoration-color: #008000\">'loss'</span>: <span style=\"color: #008080; text-decoration-color: #008080; font-weight: bold\">2.6797</span>,                <span style=\"color: #7f7f7f; text-decoration-color: #7f7f7f\">           </span>\n",
       "<span style=\"color: #7fbfbf; text-decoration-color: #7fbfbf\">                    </span>         <span style=\"color: #008000; text-decoration-color: #008000\">'learning_rate'</span>: <span style=\"color: #008080; text-decoration-color: #008080; font-weight: bold\">0.0</span>, <span style=\"color: #008000; text-decoration-color: #008000\">'epoch'</span>: <span style=\"color: #008080; text-decoration-color: #008080; font-weight: bold\">5.0</span>, <span style=\"color: #008000; text-decoration-color: #008000\">'step'</span>: <span style=\"color: #008080; text-decoration-color: #008080; font-weight: bold\">2035</span><span style=\"font-weight: bold\">}]</span>,  <span style=\"color: #7f7f7f; text-decoration-color: #7f7f7f\">           </span>\n",
       "<span style=\"color: #7fbfbf; text-decoration-color: #7fbfbf\">                    </span>         <span style=\"color: #808000; text-decoration-color: #808000\">best_metric</span>=<span style=\"color: #800080; text-decoration-color: #800080; font-style: italic\">None</span>, <span style=\"color: #808000; text-decoration-color: #808000\">best_model_checkpoint</span>=<span style=\"color: #800080; text-decoration-color: #800080; font-style: italic\">None</span>,        <span style=\"color: #7f7f7f; text-decoration-color: #7f7f7f\">           </span>\n",
       "<span style=\"color: #7fbfbf; text-decoration-color: #7fbfbf\">                    </span>         <span style=\"color: #808000; text-decoration-color: #808000\">is_local_process_zero</span>=<span style=\"color: #00ff00; text-decoration-color: #00ff00; font-style: italic\">True</span>,                          <span style=\"color: #7f7f7f; text-decoration-color: #7f7f7f\">           </span>\n",
       "<span style=\"color: #7fbfbf; text-decoration-color: #7fbfbf\">                    </span>         <span style=\"color: #808000; text-decoration-color: #808000\">is_world_process_zero</span>=<span style=\"color: #00ff00; text-decoration-color: #00ff00; font-style: italic\">True</span>,                          <span style=\"color: #7f7f7f; text-decoration-color: #7f7f7f\">           </span>\n",
       "<span style=\"color: #7fbfbf; text-decoration-color: #7fbfbf\">                    </span>         <span style=\"color: #808000; text-decoration-color: #808000\">is_hyper_param_search</span>=<span style=\"color: #ff0000; text-decoration-color: #ff0000; font-style: italic\">False</span>, <span style=\"color: #808000; text-decoration-color: #808000\">trial_name</span>=<span style=\"color: #800080; text-decoration-color: #800080; font-style: italic\">None</span>,        <span style=\"color: #7f7f7f; text-decoration-color: #7f7f7f\">           </span>\n",
       "<span style=\"color: #7fbfbf; text-decoration-color: #7fbfbf\">                    </span>         <span style=\"color: #808000; text-decoration-color: #808000\">trial_params</span>=<span style=\"color: #800080; text-decoration-color: #800080; font-style: italic\">None</span><span style=\"font-weight: bold\">)</span>                                   <span style=\"color: #7f7f7f; text-decoration-color: #7f7f7f\">           </span>\n",
       "</pre>\n"
      ],
      "text/plain": [
       "\u001b[2;36m                   \u001b[0m\u001b[2;36m \u001b[0m\u001b[34mINFO    \u001b[0m \u001b[1;35mTrainerState\u001b[0m\u001b[1m(\u001b[0m\u001b[33mepoch\u001b[0m=\u001b[1;36m4\u001b[0m\u001b[1;36m.99877300613497\u001b[0m,                 \u001b]8;id=45561;file://C:\\Users\\Hedronstone\\Desktop\\miniGPT2\\operations\\train.py\u001b\\\u001b[2mtrain.py\u001b[0m\u001b]8;;\u001b\\\u001b[2m:\u001b[0m\u001b]8;id=765179;file://C:\\Users\\Hedronstone\\Desktop\\miniGPT2\\operations\\train.py#41\u001b\\\u001b[2m41\u001b[0m\u001b]8;;\u001b\\\n",
       "\u001b[2;36m                    \u001b[0m         \u001b[33mglobal_step\u001b[0m=\u001b[1;36m2035\u001b[0m, \u001b[33mmax_steps\u001b[0m=\u001b[1;36m2035\u001b[0m,                    \u001b[2m           \u001b[0m\n",
       "\u001b[2;36m                    \u001b[0m         \u001b[33mnum_train_epochs\u001b[0m=\u001b[1;36m5\u001b[0m, \u001b[33mtotal_flos\u001b[0m=\u001b[1;36m1\u001b[0m\u001b[1;36m.7024743636992e+16\u001b[0m,  \u001b[2m           \u001b[0m\n",
       "\u001b[2;36m                    \u001b[0m         \u001b[33mlog_history\u001b[0m=\u001b[1m[\u001b[0m\u001b[1m{\u001b[0m\u001b[32m'eval_loss'\u001b[0m: \u001b[1;36m3.2401208877563477\u001b[0m,       \u001b[2m           \u001b[0m\n",
       "\u001b[2;36m                    \u001b[0m         \u001b[32m'eval_runtime'\u001b[0m: \u001b[1;36m23.6545\u001b[0m, \u001b[32m'eval_samples_per_second'\u001b[0m:  \u001b[2m           \u001b[0m\n",
       "\u001b[2;36m                    \u001b[0m         \u001b[1;36m137.733\u001b[0m, \u001b[32m'eval_steps_per_second'\u001b[0m: \u001b[1;36m8.624\u001b[0m, \u001b[32m'epoch'\u001b[0m:    \u001b[2m           \u001b[0m\n",
       "\u001b[2;36m                    \u001b[0m         \u001b[1;36m0.49\u001b[0m, \u001b[32m'step'\u001b[0m: \u001b[1;36m200\u001b[0m\u001b[1m}\u001b[0m, \u001b[1m{\u001b[0m\u001b[32m'eval_loss'\u001b[0m: \u001b[1;36m3.217250108718872\u001b[0m, \u001b[2m           \u001b[0m\n",
       "\u001b[2;36m                    \u001b[0m         \u001b[32m'eval_runtime'\u001b[0m: \u001b[1;36m23.6908\u001b[0m, \u001b[32m'eval_samples_per_second'\u001b[0m:  \u001b[2m           \u001b[0m\n",
       "\u001b[2;36m                    \u001b[0m         \u001b[1;36m137.522\u001b[0m, \u001b[32m'eval_steps_per_second'\u001b[0m: \u001b[1;36m8.611\u001b[0m, \u001b[32m'epoch'\u001b[0m:    \u001b[2m           \u001b[0m\n",
       "\u001b[2;36m                    \u001b[0m         \u001b[1;36m0.98\u001b[0m, \u001b[32m'step'\u001b[0m: \u001b[1;36m400\u001b[0m\u001b[1m}\u001b[0m, \u001b[1m{\u001b[0m\u001b[32m'loss'\u001b[0m: \u001b[1;36m3.2845\u001b[0m,                 \u001b[2m           \u001b[0m\n",
       "\u001b[2;36m                    \u001b[0m         \u001b[32m'learning_rate'\u001b[0m: \u001b[1;36m0.0004540624090114981\u001b[0m, \u001b[32m'epoch'\u001b[0m:     \u001b[2m           \u001b[0m\n",
       "\u001b[2;36m                    \u001b[0m         \u001b[1;36m1.0\u001b[0m, \u001b[32m'step'\u001b[0m: \u001b[1;36m407\u001b[0m\u001b[1m}\u001b[0m, \u001b[1m{\u001b[0m\u001b[32m'eval_loss'\u001b[0m: \u001b[1;36m3.223500967025757\u001b[0m,  \u001b[2m           \u001b[0m\n",
       "\u001b[2;36m                    \u001b[0m         \u001b[32m'eval_runtime'\u001b[0m: \u001b[1;36m23.6332\u001b[0m, \u001b[32m'eval_samples_per_second'\u001b[0m:  \u001b[2m           \u001b[0m\n",
       "\u001b[2;36m                    \u001b[0m         \u001b[1;36m137.857\u001b[0m, \u001b[32m'eval_steps_per_second'\u001b[0m: \u001b[1;36m8.632\u001b[0m, \u001b[32m'epoch'\u001b[0m:    \u001b[2m           \u001b[0m\n",
       "\u001b[2;36m                    \u001b[0m         \u001b[1;36m1.47\u001b[0m, \u001b[32m'step'\u001b[0m: \u001b[1;36m600\u001b[0m\u001b[1m}\u001b[0m, \u001b[1m{\u001b[0m\u001b[32m'eval_loss'\u001b[0m:                    \u001b[2m           \u001b[0m\n",
       "\u001b[2;36m                    \u001b[0m         \u001b[1;36m3.2089829444885254\u001b[0m, \u001b[32m'eval_runtime'\u001b[0m: \u001b[1;36m23.0157\u001b[0m,         \u001b[2m           \u001b[0m\n",
       "\u001b[2;36m                    \u001b[0m         \u001b[32m'eval_samples_per_second'\u001b[0m: \u001b[1;36m141.556\u001b[0m,                  \u001b[2m           \u001b[0m\n",
       "\u001b[2;36m                    \u001b[0m         \u001b[32m'eval_steps_per_second'\u001b[0m: \u001b[1;36m8.864\u001b[0m, \u001b[32m'epoch'\u001b[0m: \u001b[1;36m1.96\u001b[0m,       \u001b[2m           \u001b[0m\n",
       "\u001b[2;36m                    \u001b[0m         \u001b[32m'step'\u001b[0m: \u001b[1;36m800\u001b[0m\u001b[1m}\u001b[0m, \u001b[1m{\u001b[0m\u001b[32m'loss'\u001b[0m: \u001b[1;36m3.0619\u001b[0m, \u001b[32m'learning_rate'\u001b[0m:      \u001b[2m           \u001b[0m\n",
       "\u001b[2;36m                    \u001b[0m         \u001b[1;36m0.0003294640787536245\u001b[0m, \u001b[32m'epoch'\u001b[0m: \u001b[1;36m2.0\u001b[0m, \u001b[32m'step'\u001b[0m: \u001b[1;36m814\u001b[0m\u001b[1m}\u001b[0m,   \u001b[2m           \u001b[0m\n",
       "\u001b[2;36m                    \u001b[0m         \u001b[1m{\u001b[0m\u001b[32m'eval_loss'\u001b[0m: \u001b[1;36m3.2308406829833984\u001b[0m, \u001b[32m'eval_runtime'\u001b[0m:    \u001b[2m           \u001b[0m\n",
       "\u001b[2;36m                    \u001b[0m         \u001b[1;36m23.0147\u001b[0m, \u001b[32m'eval_samples_per_second'\u001b[0m: \u001b[1;36m141.562\u001b[0m,         \u001b[2m           \u001b[0m\n",
       "\u001b[2;36m                    \u001b[0m         \u001b[32m'eval_steps_per_second'\u001b[0m: \u001b[1;36m8.864\u001b[0m, \u001b[32m'epoch'\u001b[0m: \u001b[1;36m2.46\u001b[0m,       \u001b[2m           \u001b[0m\n",
       "\u001b[2;36m                    \u001b[0m         \u001b[32m'step'\u001b[0m: \u001b[1;36m1000\u001b[0m\u001b[1m}\u001b[0m, \u001b[1m{\u001b[0m\u001b[32m'eval_loss'\u001b[0m: \u001b[1;36m3.22076678276062\u001b[0m,       \u001b[2m           \u001b[0m\n",
       "\u001b[2;36m                    \u001b[0m         \u001b[32m'eval_runtime'\u001b[0m: \u001b[1;36m23.0281\u001b[0m, \u001b[32m'eval_samples_per_second'\u001b[0m:  \u001b[2m           \u001b[0m\n",
       "\u001b[2;36m                    \u001b[0m         \u001b[1;36m141.479\u001b[0m, \u001b[32m'eval_steps_per_second'\u001b[0m: \u001b[1;36m8.859\u001b[0m, \u001b[32m'epoch'\u001b[0m:    \u001b[2m           \u001b[0m\n",
       "\u001b[2;36m                    \u001b[0m         \u001b[1;36m2.95\u001b[0m, \u001b[32m'step'\u001b[0m: \u001b[1;36m1200\u001b[0m\u001b[1m}\u001b[0m, \u001b[1m{\u001b[0m\u001b[32m'loss'\u001b[0m: \u001b[1;36m2.899\u001b[0m,                 \u001b[2m           \u001b[0m\n",
       "\u001b[2;36m                    \u001b[0m         \u001b[32m'learning_rate'\u001b[0m: \u001b[1;36m0.00017422270212284725\u001b[0m, \u001b[32m'epoch'\u001b[0m:    \u001b[2m           \u001b[0m\n",
       "\u001b[2;36m                    \u001b[0m         \u001b[1;36m3.0\u001b[0m, \u001b[32m'step'\u001b[0m: \u001b[1;36m1221\u001b[0m\u001b[1m}\u001b[0m, \u001b[1m{\u001b[0m\u001b[32m'eval_loss'\u001b[0m: \u001b[1;36m3.251729726791382\u001b[0m, \u001b[2m           \u001b[0m\n",
       "\u001b[2;36m                    \u001b[0m         \u001b[32m'eval_runtime'\u001b[0m: \u001b[1;36m23.0129\u001b[0m, \u001b[32m'eval_samples_per_second'\u001b[0m:  \u001b[2m           \u001b[0m\n",
       "\u001b[2;36m                    \u001b[0m         \u001b[1;36m141.573\u001b[0m, \u001b[32m'eval_steps_per_second'\u001b[0m: \u001b[1;36m8.865\u001b[0m, \u001b[32m'epoch'\u001b[0m:    \u001b[2m           \u001b[0m\n",
       "\u001b[2;36m                    \u001b[0m         \u001b[1;36m3.44\u001b[0m, \u001b[32m'step'\u001b[0m: \u001b[1;36m1400\u001b[0m\u001b[1m}\u001b[0m, \u001b[1m{\u001b[0m\u001b[32m'eval_loss'\u001b[0m:                   \u001b[2m           \u001b[0m\n",
       "\u001b[2;36m                    \u001b[0m         \u001b[1;36m3.2478322982788086\u001b[0m, \u001b[32m'eval_runtime'\u001b[0m: \u001b[1;36m24.1979\u001b[0m,         \u001b[2m           \u001b[0m\n",
       "\u001b[2;36m                    \u001b[0m         \u001b[32m'eval_samples_per_second'\u001b[0m: \u001b[1;36m134.64\u001b[0m,                   \u001b[2m           \u001b[0m\n",
       "\u001b[2;36m                    \u001b[0m         \u001b[32m'eval_steps_per_second'\u001b[0m: \u001b[1;36m8.43\u001b[0m, \u001b[32m'epoch'\u001b[0m: \u001b[1;36m3.93\u001b[0m,        \u001b[2m           \u001b[0m\n",
       "\u001b[2;36m                    \u001b[0m         \u001b[32m'step'\u001b[0m: \u001b[1;36m1600\u001b[0m\u001b[1m}\u001b[0m, \u001b[1m{\u001b[0m\u001b[32m'loss'\u001b[0m: \u001b[1;36m2.7629\u001b[0m, \u001b[32m'learning_rate'\u001b[0m:     \u001b[2m           \u001b[0m\n",
       "\u001b[2;36m                    \u001b[0m         \u001b[1;36m4.820267039763859e-05\u001b[0m, \u001b[32m'epoch'\u001b[0m: \u001b[1;36m4.0\u001b[0m, \u001b[32m'step'\u001b[0m: \u001b[1;36m1628\u001b[0m\u001b[1m}\u001b[0m,  \u001b[2m           \u001b[0m\n",
       "\u001b[2;36m                    \u001b[0m         \u001b[1m{\u001b[0m\u001b[32m'eval_loss'\u001b[0m: \u001b[1;36m3.269883155822754\u001b[0m, \u001b[32m'eval_runtime'\u001b[0m:     \u001b[2m           \u001b[0m\n",
       "\u001b[2;36m                    \u001b[0m         \u001b[1;36m23.6433\u001b[0m, \u001b[32m'eval_samples_per_second'\u001b[0m: \u001b[1;36m137.798\u001b[0m,         \u001b[2m           \u001b[0m\n",
       "\u001b[2;36m                    \u001b[0m         \u001b[32m'eval_steps_per_second'\u001b[0m: \u001b[1;36m8.628\u001b[0m, \u001b[32m'epoch'\u001b[0m: \u001b[1;36m4.42\u001b[0m,       \u001b[2m           \u001b[0m\n",
       "\u001b[2;36m                    \u001b[0m         \u001b[32m'step'\u001b[0m: \u001b[1;36m1800\u001b[0m\u001b[1m}\u001b[0m, \u001b[1m{\u001b[0m\u001b[32m'eval_loss'\u001b[0m: \u001b[1;36m3.2684857845306396\u001b[0m,     \u001b[2m           \u001b[0m\n",
       "\u001b[2;36m                    \u001b[0m         \u001b[32m'eval_runtime'\u001b[0m: \u001b[1;36m23.6799\u001b[0m, \u001b[32m'eval_samples_per_second'\u001b[0m:  \u001b[2m           \u001b[0m\n",
       "\u001b[2;36m                    \u001b[0m         \u001b[1;36m137.585\u001b[0m, \u001b[32m'eval_steps_per_second'\u001b[0m: \u001b[1;36m8.615\u001b[0m, \u001b[32m'epoch'\u001b[0m:    \u001b[2m           \u001b[0m\n",
       "\u001b[2;36m                    \u001b[0m         \u001b[1;36m4.91\u001b[0m, \u001b[32m'step'\u001b[0m: \u001b[1;36m2000\u001b[0m\u001b[1m}\u001b[0m, \u001b[1m{\u001b[0m\u001b[32m'loss'\u001b[0m: \u001b[1;36m2.6797\u001b[0m,                \u001b[2m           \u001b[0m\n",
       "\u001b[2;36m                    \u001b[0m         \u001b[32m'learning_rate'\u001b[0m: \u001b[1;36m0.0\u001b[0m, \u001b[32m'epoch'\u001b[0m: \u001b[1;36m5.0\u001b[0m, \u001b[32m'step'\u001b[0m: \u001b[1;36m2035\u001b[0m\u001b[1m}\u001b[0m\u001b[1m]\u001b[0m,  \u001b[2m           \u001b[0m\n",
       "\u001b[2;36m                    \u001b[0m         \u001b[33mbest_metric\u001b[0m=\u001b[3;35mNone\u001b[0m, \u001b[33mbest_model_checkpoint\u001b[0m=\u001b[3;35mNone\u001b[0m,        \u001b[2m           \u001b[0m\n",
       "\u001b[2;36m                    \u001b[0m         \u001b[33mis_local_process_zero\u001b[0m=\u001b[3;92mTrue\u001b[0m,                          \u001b[2m           \u001b[0m\n",
       "\u001b[2;36m                    \u001b[0m         \u001b[33mis_world_process_zero\u001b[0m=\u001b[3;92mTrue\u001b[0m,                          \u001b[2m           \u001b[0m\n",
       "\u001b[2;36m                    \u001b[0m         \u001b[33mis_hyper_param_search\u001b[0m=\u001b[3;91mFalse\u001b[0m, \u001b[33mtrial_name\u001b[0m=\u001b[3;35mNone\u001b[0m,        \u001b[2m           \u001b[0m\n",
       "\u001b[2;36m                    \u001b[0m         \u001b[33mtrial_params\u001b[0m=\u001b[3;35mNone\u001b[0m\u001b[1m)\u001b[0m                                   \u001b[2m           \u001b[0m\n"
      ]
     },
     "metadata": {},
     "output_type": "display_data"
    },
    {
     "name": "stderr",
     "output_type": "stream",
     "text": [
      "\n",
      "\n",
      "Training completed. Do not forget to share your model on huggingface.co/models =)\n",
      "\n",
      "\n"
     ]
    },
    {
     "name": "stdout",
     "output_type": "stream",
     "text": [
      "{'loss': 2.6797, 'learning_rate': 0.0, 'epoch': 5.0}\n"
     ]
    },
    {
     "data": {
      "text/html": [
       "<pre style=\"white-space:pre;overflow-x:auto;line-height:normal;font-family:Menlo,'DejaVu Sans Mono',consolas,'Courier New',monospace\"><span style=\"color: #7fbfbf; text-decoration-color: #7fbfbf\">                    </span><span style=\"color: #000080; text-decoration-color: #000080\">INFO    </span> <span style=\"font-weight: bold\">{</span><span style=\"color: #008000; text-decoration-color: #008000\">'train_runtime'</span>: <span style=\"color: #008080; text-decoration-color: #008080; font-weight: bold\">2886.6057</span>,                         <a href=\"file://C:\\Users\\Hedronstone\\Desktop\\miniGPT2\\operations\\train.py\" target=\"_blank\"><span style=\"color: #7f7f7f; text-decoration-color: #7f7f7f\">train.py</span></a><span style=\"color: #7f7f7f; text-decoration-color: #7f7f7f\">:</span><a href=\"file://C:\\Users\\Hedronstone\\Desktop\\miniGPT2\\operations\\train.py#39\" target=\"_blank\"><span style=\"color: #7f7f7f; text-decoration-color: #7f7f7f\">39</span></a>\n",
       "<span style=\"color: #7fbfbf; text-decoration-color: #7fbfbf\">                    </span>         <span style=\"color: #008000; text-decoration-color: #008000\">'train_samples_per_second'</span>: <span style=\"color: #008080; text-decoration-color: #008080; font-weight: bold\">45.15</span>,                   <span style=\"color: #7f7f7f; text-decoration-color: #7f7f7f\">           </span>\n",
       "<span style=\"color: #7fbfbf; text-decoration-color: #7fbfbf\">                    </span>         <span style=\"color: #008000; text-decoration-color: #008000\">'train_steps_per_second'</span>: <span style=\"color: #008080; text-decoration-color: #008080; font-weight: bold\">0.705</span>, <span style=\"color: #008000; text-decoration-color: #008000\">'train_loss'</span>:       <span style=\"color: #7f7f7f; text-decoration-color: #7f7f7f\">           </span>\n",
       "<span style=\"color: #7fbfbf; text-decoration-color: #7fbfbf\">                    </span>         <span style=\"color: #008080; text-decoration-color: #008080; font-weight: bold\">2.93760269502457</span>, <span style=\"color: #008000; text-decoration-color: #008000\">'epoch'</span>: <span style=\"color: #008080; text-decoration-color: #008080; font-weight: bold\">5.0</span><span style=\"font-weight: bold\">}</span>                      <span style=\"color: #7f7f7f; text-decoration-color: #7f7f7f\">           </span>\n",
       "</pre>\n"
      ],
      "text/plain": [
       "\u001b[2;36m                   \u001b[0m\u001b[2;36m \u001b[0m\u001b[34mINFO    \u001b[0m \u001b[1m{\u001b[0m\u001b[32m'train_runtime'\u001b[0m: \u001b[1;36m2886.6057\u001b[0m,                         \u001b]8;id=481741;file://C:\\Users\\Hedronstone\\Desktop\\miniGPT2\\operations\\train.py\u001b\\\u001b[2mtrain.py\u001b[0m\u001b]8;;\u001b\\\u001b[2m:\u001b[0m\u001b]8;id=562275;file://C:\\Users\\Hedronstone\\Desktop\\miniGPT2\\operations\\train.py#39\u001b\\\u001b[2m39\u001b[0m\u001b]8;;\u001b\\\n",
       "\u001b[2;36m                    \u001b[0m         \u001b[32m'train_samples_per_second'\u001b[0m: \u001b[1;36m45.15\u001b[0m,                   \u001b[2m           \u001b[0m\n",
       "\u001b[2;36m                    \u001b[0m         \u001b[32m'train_steps_per_second'\u001b[0m: \u001b[1;36m0.705\u001b[0m, \u001b[32m'train_loss'\u001b[0m:       \u001b[2m           \u001b[0m\n",
       "\u001b[2;36m                    \u001b[0m         \u001b[1;36m2.93760269502457\u001b[0m, \u001b[32m'epoch'\u001b[0m: \u001b[1;36m5.0\u001b[0m\u001b[1m}\u001b[0m                      \u001b[2m           \u001b[0m\n"
      ]
     },
     "metadata": {},
     "output_type": "display_data"
    },
    {
     "data": {
      "text/html": [
       "<pre style=\"white-space:pre;overflow-x:auto;line-height:normal;font-family:Menlo,'DejaVu Sans Mono',consolas,'Courier New',monospace\"><span style=\"color: #7fbfbf; text-decoration-color: #7fbfbf\">                    </span><span style=\"color: #000080; text-decoration-color: #000080\">INFO    </span> <span style=\"color: #800080; text-decoration-color: #800080; font-weight: bold\">TrainerState</span><span style=\"font-weight: bold\">(</span><span style=\"color: #808000; text-decoration-color: #808000\">epoch</span>=<span style=\"color: #008080; text-decoration-color: #008080; font-weight: bold\">4.99877300613497</span>,                 <a href=\"file://C:\\Users\\Hedronstone\\Desktop\\miniGPT2\\operations\\train.py\" target=\"_blank\"><span style=\"color: #7f7f7f; text-decoration-color: #7f7f7f\">train.py</span></a><span style=\"color: #7f7f7f; text-decoration-color: #7f7f7f\">:</span><a href=\"file://C:\\Users\\Hedronstone\\Desktop\\miniGPT2\\operations\\train.py#41\" target=\"_blank\"><span style=\"color: #7f7f7f; text-decoration-color: #7f7f7f\">41</span></a>\n",
       "<span style=\"color: #7fbfbf; text-decoration-color: #7fbfbf\">                    </span>         <span style=\"color: #808000; text-decoration-color: #808000\">global_step</span>=<span style=\"color: #008080; text-decoration-color: #008080; font-weight: bold\">2035</span>, <span style=\"color: #808000; text-decoration-color: #808000\">max_steps</span>=<span style=\"color: #008080; text-decoration-color: #008080; font-weight: bold\">2035</span>,                    <span style=\"color: #7f7f7f; text-decoration-color: #7f7f7f\">           </span>\n",
       "<span style=\"color: #7fbfbf; text-decoration-color: #7fbfbf\">                    </span>         <span style=\"color: #808000; text-decoration-color: #808000\">num_train_epochs</span>=<span style=\"color: #008080; text-decoration-color: #008080; font-weight: bold\">5</span>, <span style=\"color: #808000; text-decoration-color: #808000\">total_flos</span>=<span style=\"color: #008080; text-decoration-color: #008080; font-weight: bold\">1.7024743636992e+16</span>,  <span style=\"color: #7f7f7f; text-decoration-color: #7f7f7f\">           </span>\n",
       "<span style=\"color: #7fbfbf; text-decoration-color: #7fbfbf\">                    </span>         <span style=\"color: #808000; text-decoration-color: #808000\">log_history</span>=<span style=\"font-weight: bold\">[{</span><span style=\"color: #008000; text-decoration-color: #008000\">'eval_loss'</span>: <span style=\"color: #008080; text-decoration-color: #008080; font-weight: bold\">3.2401208877563477</span>,       <span style=\"color: #7f7f7f; text-decoration-color: #7f7f7f\">           </span>\n",
       "<span style=\"color: #7fbfbf; text-decoration-color: #7fbfbf\">                    </span>         <span style=\"color: #008000; text-decoration-color: #008000\">'eval_runtime'</span>: <span style=\"color: #008080; text-decoration-color: #008080; font-weight: bold\">23.6545</span>, <span style=\"color: #008000; text-decoration-color: #008000\">'eval_samples_per_second'</span>:  <span style=\"color: #7f7f7f; text-decoration-color: #7f7f7f\">           </span>\n",
       "<span style=\"color: #7fbfbf; text-decoration-color: #7fbfbf\">                    </span>         <span style=\"color: #008080; text-decoration-color: #008080; font-weight: bold\">137.733</span>, <span style=\"color: #008000; text-decoration-color: #008000\">'eval_steps_per_second'</span>: <span style=\"color: #008080; text-decoration-color: #008080; font-weight: bold\">8.624</span>, <span style=\"color: #008000; text-decoration-color: #008000\">'epoch'</span>:    <span style=\"color: #7f7f7f; text-decoration-color: #7f7f7f\">           </span>\n",
       "<span style=\"color: #7fbfbf; text-decoration-color: #7fbfbf\">                    </span>         <span style=\"color: #008080; text-decoration-color: #008080; font-weight: bold\">0.49</span>, <span style=\"color: #008000; text-decoration-color: #008000\">'step'</span>: <span style=\"color: #008080; text-decoration-color: #008080; font-weight: bold\">200</span><span style=\"font-weight: bold\">}</span>, <span style=\"font-weight: bold\">{</span><span style=\"color: #008000; text-decoration-color: #008000\">'eval_loss'</span>: <span style=\"color: #008080; text-decoration-color: #008080; font-weight: bold\">3.217250108718872</span>, <span style=\"color: #7f7f7f; text-decoration-color: #7f7f7f\">           </span>\n",
       "<span style=\"color: #7fbfbf; text-decoration-color: #7fbfbf\">                    </span>         <span style=\"color: #008000; text-decoration-color: #008000\">'eval_runtime'</span>: <span style=\"color: #008080; text-decoration-color: #008080; font-weight: bold\">23.6908</span>, <span style=\"color: #008000; text-decoration-color: #008000\">'eval_samples_per_second'</span>:  <span style=\"color: #7f7f7f; text-decoration-color: #7f7f7f\">           </span>\n",
       "<span style=\"color: #7fbfbf; text-decoration-color: #7fbfbf\">                    </span>         <span style=\"color: #008080; text-decoration-color: #008080; font-weight: bold\">137.522</span>, <span style=\"color: #008000; text-decoration-color: #008000\">'eval_steps_per_second'</span>: <span style=\"color: #008080; text-decoration-color: #008080; font-weight: bold\">8.611</span>, <span style=\"color: #008000; text-decoration-color: #008000\">'epoch'</span>:    <span style=\"color: #7f7f7f; text-decoration-color: #7f7f7f\">           </span>\n",
       "<span style=\"color: #7fbfbf; text-decoration-color: #7fbfbf\">                    </span>         <span style=\"color: #008080; text-decoration-color: #008080; font-weight: bold\">0.98</span>, <span style=\"color: #008000; text-decoration-color: #008000\">'step'</span>: <span style=\"color: #008080; text-decoration-color: #008080; font-weight: bold\">400</span><span style=\"font-weight: bold\">}</span>, <span style=\"font-weight: bold\">{</span><span style=\"color: #008000; text-decoration-color: #008000\">'loss'</span>: <span style=\"color: #008080; text-decoration-color: #008080; font-weight: bold\">3.2845</span>,                 <span style=\"color: #7f7f7f; text-decoration-color: #7f7f7f\">           </span>\n",
       "<span style=\"color: #7fbfbf; text-decoration-color: #7fbfbf\">                    </span>         <span style=\"color: #008000; text-decoration-color: #008000\">'learning_rate'</span>: <span style=\"color: #008080; text-decoration-color: #008080; font-weight: bold\">0.0004540624090114981</span>, <span style=\"color: #008000; text-decoration-color: #008000\">'epoch'</span>:     <span style=\"color: #7f7f7f; text-decoration-color: #7f7f7f\">           </span>\n",
       "<span style=\"color: #7fbfbf; text-decoration-color: #7fbfbf\">                    </span>         <span style=\"color: #008080; text-decoration-color: #008080; font-weight: bold\">1.0</span>, <span style=\"color: #008000; text-decoration-color: #008000\">'step'</span>: <span style=\"color: #008080; text-decoration-color: #008080; font-weight: bold\">407</span><span style=\"font-weight: bold\">}</span>, <span style=\"font-weight: bold\">{</span><span style=\"color: #008000; text-decoration-color: #008000\">'eval_loss'</span>: <span style=\"color: #008080; text-decoration-color: #008080; font-weight: bold\">3.223500967025757</span>,  <span style=\"color: #7f7f7f; text-decoration-color: #7f7f7f\">           </span>\n",
       "<span style=\"color: #7fbfbf; text-decoration-color: #7fbfbf\">                    </span>         <span style=\"color: #008000; text-decoration-color: #008000\">'eval_runtime'</span>: <span style=\"color: #008080; text-decoration-color: #008080; font-weight: bold\">23.6332</span>, <span style=\"color: #008000; text-decoration-color: #008000\">'eval_samples_per_second'</span>:  <span style=\"color: #7f7f7f; text-decoration-color: #7f7f7f\">           </span>\n",
       "<span style=\"color: #7fbfbf; text-decoration-color: #7fbfbf\">                    </span>         <span style=\"color: #008080; text-decoration-color: #008080; font-weight: bold\">137.857</span>, <span style=\"color: #008000; text-decoration-color: #008000\">'eval_steps_per_second'</span>: <span style=\"color: #008080; text-decoration-color: #008080; font-weight: bold\">8.632</span>, <span style=\"color: #008000; text-decoration-color: #008000\">'epoch'</span>:    <span style=\"color: #7f7f7f; text-decoration-color: #7f7f7f\">           </span>\n",
       "<span style=\"color: #7fbfbf; text-decoration-color: #7fbfbf\">                    </span>         <span style=\"color: #008080; text-decoration-color: #008080; font-weight: bold\">1.47</span>, <span style=\"color: #008000; text-decoration-color: #008000\">'step'</span>: <span style=\"color: #008080; text-decoration-color: #008080; font-weight: bold\">600</span><span style=\"font-weight: bold\">}</span>, <span style=\"font-weight: bold\">{</span><span style=\"color: #008000; text-decoration-color: #008000\">'eval_loss'</span>:                    <span style=\"color: #7f7f7f; text-decoration-color: #7f7f7f\">           </span>\n",
       "<span style=\"color: #7fbfbf; text-decoration-color: #7fbfbf\">                    </span>         <span style=\"color: #008080; text-decoration-color: #008080; font-weight: bold\">3.2089829444885254</span>, <span style=\"color: #008000; text-decoration-color: #008000\">'eval_runtime'</span>: <span style=\"color: #008080; text-decoration-color: #008080; font-weight: bold\">23.0157</span>,         <span style=\"color: #7f7f7f; text-decoration-color: #7f7f7f\">           </span>\n",
       "<span style=\"color: #7fbfbf; text-decoration-color: #7fbfbf\">                    </span>         <span style=\"color: #008000; text-decoration-color: #008000\">'eval_samples_per_second'</span>: <span style=\"color: #008080; text-decoration-color: #008080; font-weight: bold\">141.556</span>,                  <span style=\"color: #7f7f7f; text-decoration-color: #7f7f7f\">           </span>\n",
       "<span style=\"color: #7fbfbf; text-decoration-color: #7fbfbf\">                    </span>         <span style=\"color: #008000; text-decoration-color: #008000\">'eval_steps_per_second'</span>: <span style=\"color: #008080; text-decoration-color: #008080; font-weight: bold\">8.864</span>, <span style=\"color: #008000; text-decoration-color: #008000\">'epoch'</span>: <span style=\"color: #008080; text-decoration-color: #008080; font-weight: bold\">1.96</span>,       <span style=\"color: #7f7f7f; text-decoration-color: #7f7f7f\">           </span>\n",
       "<span style=\"color: #7fbfbf; text-decoration-color: #7fbfbf\">                    </span>         <span style=\"color: #008000; text-decoration-color: #008000\">'step'</span>: <span style=\"color: #008080; text-decoration-color: #008080; font-weight: bold\">800</span><span style=\"font-weight: bold\">}</span>, <span style=\"font-weight: bold\">{</span><span style=\"color: #008000; text-decoration-color: #008000\">'loss'</span>: <span style=\"color: #008080; text-decoration-color: #008080; font-weight: bold\">3.0619</span>, <span style=\"color: #008000; text-decoration-color: #008000\">'learning_rate'</span>:      <span style=\"color: #7f7f7f; text-decoration-color: #7f7f7f\">           </span>\n",
       "<span style=\"color: #7fbfbf; text-decoration-color: #7fbfbf\">                    </span>         <span style=\"color: #008080; text-decoration-color: #008080; font-weight: bold\">0.0003294640787536245</span>, <span style=\"color: #008000; text-decoration-color: #008000\">'epoch'</span>: <span style=\"color: #008080; text-decoration-color: #008080; font-weight: bold\">2.0</span>, <span style=\"color: #008000; text-decoration-color: #008000\">'step'</span>: <span style=\"color: #008080; text-decoration-color: #008080; font-weight: bold\">814</span><span style=\"font-weight: bold\">}</span>,   <span style=\"color: #7f7f7f; text-decoration-color: #7f7f7f\">           </span>\n",
       "<span style=\"color: #7fbfbf; text-decoration-color: #7fbfbf\">                    </span>         <span style=\"font-weight: bold\">{</span><span style=\"color: #008000; text-decoration-color: #008000\">'eval_loss'</span>: <span style=\"color: #008080; text-decoration-color: #008080; font-weight: bold\">3.2308406829833984</span>, <span style=\"color: #008000; text-decoration-color: #008000\">'eval_runtime'</span>:    <span style=\"color: #7f7f7f; text-decoration-color: #7f7f7f\">           </span>\n",
       "<span style=\"color: #7fbfbf; text-decoration-color: #7fbfbf\">                    </span>         <span style=\"color: #008080; text-decoration-color: #008080; font-weight: bold\">23.0147</span>, <span style=\"color: #008000; text-decoration-color: #008000\">'eval_samples_per_second'</span>: <span style=\"color: #008080; text-decoration-color: #008080; font-weight: bold\">141.562</span>,         <span style=\"color: #7f7f7f; text-decoration-color: #7f7f7f\">           </span>\n",
       "<span style=\"color: #7fbfbf; text-decoration-color: #7fbfbf\">                    </span>         <span style=\"color: #008000; text-decoration-color: #008000\">'eval_steps_per_second'</span>: <span style=\"color: #008080; text-decoration-color: #008080; font-weight: bold\">8.864</span>, <span style=\"color: #008000; text-decoration-color: #008000\">'epoch'</span>: <span style=\"color: #008080; text-decoration-color: #008080; font-weight: bold\">2.46</span>,       <span style=\"color: #7f7f7f; text-decoration-color: #7f7f7f\">           </span>\n",
       "<span style=\"color: #7fbfbf; text-decoration-color: #7fbfbf\">                    </span>         <span style=\"color: #008000; text-decoration-color: #008000\">'step'</span>: <span style=\"color: #008080; text-decoration-color: #008080; font-weight: bold\">1000</span><span style=\"font-weight: bold\">}</span>, <span style=\"font-weight: bold\">{</span><span style=\"color: #008000; text-decoration-color: #008000\">'eval_loss'</span>: <span style=\"color: #008080; text-decoration-color: #008080; font-weight: bold\">3.22076678276062</span>,       <span style=\"color: #7f7f7f; text-decoration-color: #7f7f7f\">           </span>\n",
       "<span style=\"color: #7fbfbf; text-decoration-color: #7fbfbf\">                    </span>         <span style=\"color: #008000; text-decoration-color: #008000\">'eval_runtime'</span>: <span style=\"color: #008080; text-decoration-color: #008080; font-weight: bold\">23.0281</span>, <span style=\"color: #008000; text-decoration-color: #008000\">'eval_samples_per_second'</span>:  <span style=\"color: #7f7f7f; text-decoration-color: #7f7f7f\">           </span>\n",
       "<span style=\"color: #7fbfbf; text-decoration-color: #7fbfbf\">                    </span>         <span style=\"color: #008080; text-decoration-color: #008080; font-weight: bold\">141.479</span>, <span style=\"color: #008000; text-decoration-color: #008000\">'eval_steps_per_second'</span>: <span style=\"color: #008080; text-decoration-color: #008080; font-weight: bold\">8.859</span>, <span style=\"color: #008000; text-decoration-color: #008000\">'epoch'</span>:    <span style=\"color: #7f7f7f; text-decoration-color: #7f7f7f\">           </span>\n",
       "<span style=\"color: #7fbfbf; text-decoration-color: #7fbfbf\">                    </span>         <span style=\"color: #008080; text-decoration-color: #008080; font-weight: bold\">2.95</span>, <span style=\"color: #008000; text-decoration-color: #008000\">'step'</span>: <span style=\"color: #008080; text-decoration-color: #008080; font-weight: bold\">1200</span><span style=\"font-weight: bold\">}</span>, <span style=\"font-weight: bold\">{</span><span style=\"color: #008000; text-decoration-color: #008000\">'loss'</span>: <span style=\"color: #008080; text-decoration-color: #008080; font-weight: bold\">2.899</span>,                 <span style=\"color: #7f7f7f; text-decoration-color: #7f7f7f\">           </span>\n",
       "<span style=\"color: #7fbfbf; text-decoration-color: #7fbfbf\">                    </span>         <span style=\"color: #008000; text-decoration-color: #008000\">'learning_rate'</span>: <span style=\"color: #008080; text-decoration-color: #008080; font-weight: bold\">0.00017422270212284725</span>, <span style=\"color: #008000; text-decoration-color: #008000\">'epoch'</span>:    <span style=\"color: #7f7f7f; text-decoration-color: #7f7f7f\">           </span>\n",
       "<span style=\"color: #7fbfbf; text-decoration-color: #7fbfbf\">                    </span>         <span style=\"color: #008080; text-decoration-color: #008080; font-weight: bold\">3.0</span>, <span style=\"color: #008000; text-decoration-color: #008000\">'step'</span>: <span style=\"color: #008080; text-decoration-color: #008080; font-weight: bold\">1221</span><span style=\"font-weight: bold\">}</span>, <span style=\"font-weight: bold\">{</span><span style=\"color: #008000; text-decoration-color: #008000\">'eval_loss'</span>: <span style=\"color: #008080; text-decoration-color: #008080; font-weight: bold\">3.251729726791382</span>, <span style=\"color: #7f7f7f; text-decoration-color: #7f7f7f\">           </span>\n",
       "<span style=\"color: #7fbfbf; text-decoration-color: #7fbfbf\">                    </span>         <span style=\"color: #008000; text-decoration-color: #008000\">'eval_runtime'</span>: <span style=\"color: #008080; text-decoration-color: #008080; font-weight: bold\">23.0129</span>, <span style=\"color: #008000; text-decoration-color: #008000\">'eval_samples_per_second'</span>:  <span style=\"color: #7f7f7f; text-decoration-color: #7f7f7f\">           </span>\n",
       "<span style=\"color: #7fbfbf; text-decoration-color: #7fbfbf\">                    </span>         <span style=\"color: #008080; text-decoration-color: #008080; font-weight: bold\">141.573</span>, <span style=\"color: #008000; text-decoration-color: #008000\">'eval_steps_per_second'</span>: <span style=\"color: #008080; text-decoration-color: #008080; font-weight: bold\">8.865</span>, <span style=\"color: #008000; text-decoration-color: #008000\">'epoch'</span>:    <span style=\"color: #7f7f7f; text-decoration-color: #7f7f7f\">           </span>\n",
       "<span style=\"color: #7fbfbf; text-decoration-color: #7fbfbf\">                    </span>         <span style=\"color: #008080; text-decoration-color: #008080; font-weight: bold\">3.44</span>, <span style=\"color: #008000; text-decoration-color: #008000\">'step'</span>: <span style=\"color: #008080; text-decoration-color: #008080; font-weight: bold\">1400</span><span style=\"font-weight: bold\">}</span>, <span style=\"font-weight: bold\">{</span><span style=\"color: #008000; text-decoration-color: #008000\">'eval_loss'</span>:                   <span style=\"color: #7f7f7f; text-decoration-color: #7f7f7f\">           </span>\n",
       "<span style=\"color: #7fbfbf; text-decoration-color: #7fbfbf\">                    </span>         <span style=\"color: #008080; text-decoration-color: #008080; font-weight: bold\">3.2478322982788086</span>, <span style=\"color: #008000; text-decoration-color: #008000\">'eval_runtime'</span>: <span style=\"color: #008080; text-decoration-color: #008080; font-weight: bold\">24.1979</span>,         <span style=\"color: #7f7f7f; text-decoration-color: #7f7f7f\">           </span>\n",
       "<span style=\"color: #7fbfbf; text-decoration-color: #7fbfbf\">                    </span>         <span style=\"color: #008000; text-decoration-color: #008000\">'eval_samples_per_second'</span>: <span style=\"color: #008080; text-decoration-color: #008080; font-weight: bold\">134.64</span>,                   <span style=\"color: #7f7f7f; text-decoration-color: #7f7f7f\">           </span>\n",
       "<span style=\"color: #7fbfbf; text-decoration-color: #7fbfbf\">                    </span>         <span style=\"color: #008000; text-decoration-color: #008000\">'eval_steps_per_second'</span>: <span style=\"color: #008080; text-decoration-color: #008080; font-weight: bold\">8.43</span>, <span style=\"color: #008000; text-decoration-color: #008000\">'epoch'</span>: <span style=\"color: #008080; text-decoration-color: #008080; font-weight: bold\">3.93</span>,        <span style=\"color: #7f7f7f; text-decoration-color: #7f7f7f\">           </span>\n",
       "<span style=\"color: #7fbfbf; text-decoration-color: #7fbfbf\">                    </span>         <span style=\"color: #008000; text-decoration-color: #008000\">'step'</span>: <span style=\"color: #008080; text-decoration-color: #008080; font-weight: bold\">1600</span><span style=\"font-weight: bold\">}</span>, <span style=\"font-weight: bold\">{</span><span style=\"color: #008000; text-decoration-color: #008000\">'loss'</span>: <span style=\"color: #008080; text-decoration-color: #008080; font-weight: bold\">2.7629</span>, <span style=\"color: #008000; text-decoration-color: #008000\">'learning_rate'</span>:     <span style=\"color: #7f7f7f; text-decoration-color: #7f7f7f\">           </span>\n",
       "<span style=\"color: #7fbfbf; text-decoration-color: #7fbfbf\">                    </span>         <span style=\"color: #008080; text-decoration-color: #008080; font-weight: bold\">4.820267039763859e-05</span>, <span style=\"color: #008000; text-decoration-color: #008000\">'epoch'</span>: <span style=\"color: #008080; text-decoration-color: #008080; font-weight: bold\">4.0</span>, <span style=\"color: #008000; text-decoration-color: #008000\">'step'</span>: <span style=\"color: #008080; text-decoration-color: #008080; font-weight: bold\">1628</span><span style=\"font-weight: bold\">}</span>,  <span style=\"color: #7f7f7f; text-decoration-color: #7f7f7f\">           </span>\n",
       "<span style=\"color: #7fbfbf; text-decoration-color: #7fbfbf\">                    </span>         <span style=\"font-weight: bold\">{</span><span style=\"color: #008000; text-decoration-color: #008000\">'eval_loss'</span>: <span style=\"color: #008080; text-decoration-color: #008080; font-weight: bold\">3.269883155822754</span>, <span style=\"color: #008000; text-decoration-color: #008000\">'eval_runtime'</span>:     <span style=\"color: #7f7f7f; text-decoration-color: #7f7f7f\">           </span>\n",
       "<span style=\"color: #7fbfbf; text-decoration-color: #7fbfbf\">                    </span>         <span style=\"color: #008080; text-decoration-color: #008080; font-weight: bold\">23.6433</span>, <span style=\"color: #008000; text-decoration-color: #008000\">'eval_samples_per_second'</span>: <span style=\"color: #008080; text-decoration-color: #008080; font-weight: bold\">137.798</span>,         <span style=\"color: #7f7f7f; text-decoration-color: #7f7f7f\">           </span>\n",
       "<span style=\"color: #7fbfbf; text-decoration-color: #7fbfbf\">                    </span>         <span style=\"color: #008000; text-decoration-color: #008000\">'eval_steps_per_second'</span>: <span style=\"color: #008080; text-decoration-color: #008080; font-weight: bold\">8.628</span>, <span style=\"color: #008000; text-decoration-color: #008000\">'epoch'</span>: <span style=\"color: #008080; text-decoration-color: #008080; font-weight: bold\">4.42</span>,       <span style=\"color: #7f7f7f; text-decoration-color: #7f7f7f\">           </span>\n",
       "<span style=\"color: #7fbfbf; text-decoration-color: #7fbfbf\">                    </span>         <span style=\"color: #008000; text-decoration-color: #008000\">'step'</span>: <span style=\"color: #008080; text-decoration-color: #008080; font-weight: bold\">1800</span><span style=\"font-weight: bold\">}</span>, <span style=\"font-weight: bold\">{</span><span style=\"color: #008000; text-decoration-color: #008000\">'eval_loss'</span>: <span style=\"color: #008080; text-decoration-color: #008080; font-weight: bold\">3.2684857845306396</span>,     <span style=\"color: #7f7f7f; text-decoration-color: #7f7f7f\">           </span>\n",
       "<span style=\"color: #7fbfbf; text-decoration-color: #7fbfbf\">                    </span>         <span style=\"color: #008000; text-decoration-color: #008000\">'eval_runtime'</span>: <span style=\"color: #008080; text-decoration-color: #008080; font-weight: bold\">23.6799</span>, <span style=\"color: #008000; text-decoration-color: #008000\">'eval_samples_per_second'</span>:  <span style=\"color: #7f7f7f; text-decoration-color: #7f7f7f\">           </span>\n",
       "<span style=\"color: #7fbfbf; text-decoration-color: #7fbfbf\">                    </span>         <span style=\"color: #008080; text-decoration-color: #008080; font-weight: bold\">137.585</span>, <span style=\"color: #008000; text-decoration-color: #008000\">'eval_steps_per_second'</span>: <span style=\"color: #008080; text-decoration-color: #008080; font-weight: bold\">8.615</span>, <span style=\"color: #008000; text-decoration-color: #008000\">'epoch'</span>:    <span style=\"color: #7f7f7f; text-decoration-color: #7f7f7f\">           </span>\n",
       "<span style=\"color: #7fbfbf; text-decoration-color: #7fbfbf\">                    </span>         <span style=\"color: #008080; text-decoration-color: #008080; font-weight: bold\">4.91</span>, <span style=\"color: #008000; text-decoration-color: #008000\">'step'</span>: <span style=\"color: #008080; text-decoration-color: #008080; font-weight: bold\">2000</span><span style=\"font-weight: bold\">}</span>, <span style=\"font-weight: bold\">{</span><span style=\"color: #008000; text-decoration-color: #008000\">'loss'</span>: <span style=\"color: #008080; text-decoration-color: #008080; font-weight: bold\">2.6797</span>,                <span style=\"color: #7f7f7f; text-decoration-color: #7f7f7f\">           </span>\n",
       "<span style=\"color: #7fbfbf; text-decoration-color: #7fbfbf\">                    </span>         <span style=\"color: #008000; text-decoration-color: #008000\">'learning_rate'</span>: <span style=\"color: #008080; text-decoration-color: #008080; font-weight: bold\">0.0</span>, <span style=\"color: #008000; text-decoration-color: #008000\">'epoch'</span>: <span style=\"color: #008080; text-decoration-color: #008080; font-weight: bold\">5.0</span>, <span style=\"color: #008000; text-decoration-color: #008000\">'step'</span>: <span style=\"color: #008080; text-decoration-color: #008080; font-weight: bold\">2035</span><span style=\"font-weight: bold\">}</span>,   <span style=\"color: #7f7f7f; text-decoration-color: #7f7f7f\">           </span>\n",
       "<span style=\"color: #7fbfbf; text-decoration-color: #7fbfbf\">                    </span>         <span style=\"font-weight: bold\">{</span><span style=\"color: #008000; text-decoration-color: #008000\">'train_runtime'</span>: <span style=\"color: #008080; text-decoration-color: #008080; font-weight: bold\">2886.6057</span>,                         <span style=\"color: #7f7f7f; text-decoration-color: #7f7f7f\">           </span>\n",
       "<span style=\"color: #7fbfbf; text-decoration-color: #7fbfbf\">                    </span>         <span style=\"color: #008000; text-decoration-color: #008000\">'train_samples_per_second'</span>: <span style=\"color: #008080; text-decoration-color: #008080; font-weight: bold\">45.15</span>,                   <span style=\"color: #7f7f7f; text-decoration-color: #7f7f7f\">           </span>\n",
       "<span style=\"color: #7fbfbf; text-decoration-color: #7fbfbf\">                    </span>         <span style=\"color: #008000; text-decoration-color: #008000\">'train_steps_per_second'</span>: <span style=\"color: #008080; text-decoration-color: #008080; font-weight: bold\">0.705</span>, <span style=\"color: #008000; text-decoration-color: #008000\">'total_flos'</span>:       <span style=\"color: #7f7f7f; text-decoration-color: #7f7f7f\">           </span>\n",
       "<span style=\"color: #7fbfbf; text-decoration-color: #7fbfbf\">                    </span>         <span style=\"color: #008080; text-decoration-color: #008080; font-weight: bold\">1.7024743636992e+16</span>, <span style=\"color: #008000; text-decoration-color: #008000\">'train_loss'</span>: <span style=\"color: #008080; text-decoration-color: #008080; font-weight: bold\">2.93760269502457</span>, <span style=\"color: #7f7f7f; text-decoration-color: #7f7f7f\">           </span>\n",
       "<span style=\"color: #7fbfbf; text-decoration-color: #7fbfbf\">                    </span>         <span style=\"color: #008000; text-decoration-color: #008000\">'epoch'</span>: <span style=\"color: #008080; text-decoration-color: #008080; font-weight: bold\">5.0</span>, <span style=\"color: #008000; text-decoration-color: #008000\">'step'</span>: <span style=\"color: #008080; text-decoration-color: #008080; font-weight: bold\">2035</span><span style=\"font-weight: bold\">}]</span>, <span style=\"color: #808000; text-decoration-color: #808000\">best_metric</span>=<span style=\"color: #800080; text-decoration-color: #800080; font-style: italic\">None</span>,      <span style=\"color: #7f7f7f; text-decoration-color: #7f7f7f\">           </span>\n",
       "<span style=\"color: #7fbfbf; text-decoration-color: #7fbfbf\">                    </span>         <span style=\"color: #808000; text-decoration-color: #808000\">best_model_checkpoint</span>=<span style=\"color: #800080; text-decoration-color: #800080; font-style: italic\">None</span>,                          <span style=\"color: #7f7f7f; text-decoration-color: #7f7f7f\">           </span>\n",
       "<span style=\"color: #7fbfbf; text-decoration-color: #7fbfbf\">                    </span>         <span style=\"color: #808000; text-decoration-color: #808000\">is_local_process_zero</span>=<span style=\"color: #00ff00; text-decoration-color: #00ff00; font-style: italic\">True</span>,                          <span style=\"color: #7f7f7f; text-decoration-color: #7f7f7f\">           </span>\n",
       "<span style=\"color: #7fbfbf; text-decoration-color: #7fbfbf\">                    </span>         <span style=\"color: #808000; text-decoration-color: #808000\">is_world_process_zero</span>=<span style=\"color: #00ff00; text-decoration-color: #00ff00; font-style: italic\">True</span>,                          <span style=\"color: #7f7f7f; text-decoration-color: #7f7f7f\">           </span>\n",
       "<span style=\"color: #7fbfbf; text-decoration-color: #7fbfbf\">                    </span>         <span style=\"color: #808000; text-decoration-color: #808000\">is_hyper_param_search</span>=<span style=\"color: #ff0000; text-decoration-color: #ff0000; font-style: italic\">False</span>, <span style=\"color: #808000; text-decoration-color: #808000\">trial_name</span>=<span style=\"color: #800080; text-decoration-color: #800080; font-style: italic\">None</span>,        <span style=\"color: #7f7f7f; text-decoration-color: #7f7f7f\">           </span>\n",
       "<span style=\"color: #7fbfbf; text-decoration-color: #7fbfbf\">                    </span>         <span style=\"color: #808000; text-decoration-color: #808000\">trial_params</span>=<span style=\"color: #800080; text-decoration-color: #800080; font-style: italic\">None</span><span style=\"font-weight: bold\">)</span>                                   <span style=\"color: #7f7f7f; text-decoration-color: #7f7f7f\">           </span>\n",
       "</pre>\n"
      ],
      "text/plain": [
       "\u001b[2;36m                   \u001b[0m\u001b[2;36m \u001b[0m\u001b[34mINFO    \u001b[0m \u001b[1;35mTrainerState\u001b[0m\u001b[1m(\u001b[0m\u001b[33mepoch\u001b[0m=\u001b[1;36m4\u001b[0m\u001b[1;36m.99877300613497\u001b[0m,                 \u001b]8;id=130889;file://C:\\Users\\Hedronstone\\Desktop\\miniGPT2\\operations\\train.py\u001b\\\u001b[2mtrain.py\u001b[0m\u001b]8;;\u001b\\\u001b[2m:\u001b[0m\u001b]8;id=967096;file://C:\\Users\\Hedronstone\\Desktop\\miniGPT2\\operations\\train.py#41\u001b\\\u001b[2m41\u001b[0m\u001b]8;;\u001b\\\n",
       "\u001b[2;36m                    \u001b[0m         \u001b[33mglobal_step\u001b[0m=\u001b[1;36m2035\u001b[0m, \u001b[33mmax_steps\u001b[0m=\u001b[1;36m2035\u001b[0m,                    \u001b[2m           \u001b[0m\n",
       "\u001b[2;36m                    \u001b[0m         \u001b[33mnum_train_epochs\u001b[0m=\u001b[1;36m5\u001b[0m, \u001b[33mtotal_flos\u001b[0m=\u001b[1;36m1\u001b[0m\u001b[1;36m.7024743636992e+16\u001b[0m,  \u001b[2m           \u001b[0m\n",
       "\u001b[2;36m                    \u001b[0m         \u001b[33mlog_history\u001b[0m=\u001b[1m[\u001b[0m\u001b[1m{\u001b[0m\u001b[32m'eval_loss'\u001b[0m: \u001b[1;36m3.2401208877563477\u001b[0m,       \u001b[2m           \u001b[0m\n",
       "\u001b[2;36m                    \u001b[0m         \u001b[32m'eval_runtime'\u001b[0m: \u001b[1;36m23.6545\u001b[0m, \u001b[32m'eval_samples_per_second'\u001b[0m:  \u001b[2m           \u001b[0m\n",
       "\u001b[2;36m                    \u001b[0m         \u001b[1;36m137.733\u001b[0m, \u001b[32m'eval_steps_per_second'\u001b[0m: \u001b[1;36m8.624\u001b[0m, \u001b[32m'epoch'\u001b[0m:    \u001b[2m           \u001b[0m\n",
       "\u001b[2;36m                    \u001b[0m         \u001b[1;36m0.49\u001b[0m, \u001b[32m'step'\u001b[0m: \u001b[1;36m200\u001b[0m\u001b[1m}\u001b[0m, \u001b[1m{\u001b[0m\u001b[32m'eval_loss'\u001b[0m: \u001b[1;36m3.217250108718872\u001b[0m, \u001b[2m           \u001b[0m\n",
       "\u001b[2;36m                    \u001b[0m         \u001b[32m'eval_runtime'\u001b[0m: \u001b[1;36m23.6908\u001b[0m, \u001b[32m'eval_samples_per_second'\u001b[0m:  \u001b[2m           \u001b[0m\n",
       "\u001b[2;36m                    \u001b[0m         \u001b[1;36m137.522\u001b[0m, \u001b[32m'eval_steps_per_second'\u001b[0m: \u001b[1;36m8.611\u001b[0m, \u001b[32m'epoch'\u001b[0m:    \u001b[2m           \u001b[0m\n",
       "\u001b[2;36m                    \u001b[0m         \u001b[1;36m0.98\u001b[0m, \u001b[32m'step'\u001b[0m: \u001b[1;36m400\u001b[0m\u001b[1m}\u001b[0m, \u001b[1m{\u001b[0m\u001b[32m'loss'\u001b[0m: \u001b[1;36m3.2845\u001b[0m,                 \u001b[2m           \u001b[0m\n",
       "\u001b[2;36m                    \u001b[0m         \u001b[32m'learning_rate'\u001b[0m: \u001b[1;36m0.0004540624090114981\u001b[0m, \u001b[32m'epoch'\u001b[0m:     \u001b[2m           \u001b[0m\n",
       "\u001b[2;36m                    \u001b[0m         \u001b[1;36m1.0\u001b[0m, \u001b[32m'step'\u001b[0m: \u001b[1;36m407\u001b[0m\u001b[1m}\u001b[0m, \u001b[1m{\u001b[0m\u001b[32m'eval_loss'\u001b[0m: \u001b[1;36m3.223500967025757\u001b[0m,  \u001b[2m           \u001b[0m\n",
       "\u001b[2;36m                    \u001b[0m         \u001b[32m'eval_runtime'\u001b[0m: \u001b[1;36m23.6332\u001b[0m, \u001b[32m'eval_samples_per_second'\u001b[0m:  \u001b[2m           \u001b[0m\n",
       "\u001b[2;36m                    \u001b[0m         \u001b[1;36m137.857\u001b[0m, \u001b[32m'eval_steps_per_second'\u001b[0m: \u001b[1;36m8.632\u001b[0m, \u001b[32m'epoch'\u001b[0m:    \u001b[2m           \u001b[0m\n",
       "\u001b[2;36m                    \u001b[0m         \u001b[1;36m1.47\u001b[0m, \u001b[32m'step'\u001b[0m: \u001b[1;36m600\u001b[0m\u001b[1m}\u001b[0m, \u001b[1m{\u001b[0m\u001b[32m'eval_loss'\u001b[0m:                    \u001b[2m           \u001b[0m\n",
       "\u001b[2;36m                    \u001b[0m         \u001b[1;36m3.2089829444885254\u001b[0m, \u001b[32m'eval_runtime'\u001b[0m: \u001b[1;36m23.0157\u001b[0m,         \u001b[2m           \u001b[0m\n",
       "\u001b[2;36m                    \u001b[0m         \u001b[32m'eval_samples_per_second'\u001b[0m: \u001b[1;36m141.556\u001b[0m,                  \u001b[2m           \u001b[0m\n",
       "\u001b[2;36m                    \u001b[0m         \u001b[32m'eval_steps_per_second'\u001b[0m: \u001b[1;36m8.864\u001b[0m, \u001b[32m'epoch'\u001b[0m: \u001b[1;36m1.96\u001b[0m,       \u001b[2m           \u001b[0m\n",
       "\u001b[2;36m                    \u001b[0m         \u001b[32m'step'\u001b[0m: \u001b[1;36m800\u001b[0m\u001b[1m}\u001b[0m, \u001b[1m{\u001b[0m\u001b[32m'loss'\u001b[0m: \u001b[1;36m3.0619\u001b[0m, \u001b[32m'learning_rate'\u001b[0m:      \u001b[2m           \u001b[0m\n",
       "\u001b[2;36m                    \u001b[0m         \u001b[1;36m0.0003294640787536245\u001b[0m, \u001b[32m'epoch'\u001b[0m: \u001b[1;36m2.0\u001b[0m, \u001b[32m'step'\u001b[0m: \u001b[1;36m814\u001b[0m\u001b[1m}\u001b[0m,   \u001b[2m           \u001b[0m\n",
       "\u001b[2;36m                    \u001b[0m         \u001b[1m{\u001b[0m\u001b[32m'eval_loss'\u001b[0m: \u001b[1;36m3.2308406829833984\u001b[0m, \u001b[32m'eval_runtime'\u001b[0m:    \u001b[2m           \u001b[0m\n",
       "\u001b[2;36m                    \u001b[0m         \u001b[1;36m23.0147\u001b[0m, \u001b[32m'eval_samples_per_second'\u001b[0m: \u001b[1;36m141.562\u001b[0m,         \u001b[2m           \u001b[0m\n",
       "\u001b[2;36m                    \u001b[0m         \u001b[32m'eval_steps_per_second'\u001b[0m: \u001b[1;36m8.864\u001b[0m, \u001b[32m'epoch'\u001b[0m: \u001b[1;36m2.46\u001b[0m,       \u001b[2m           \u001b[0m\n",
       "\u001b[2;36m                    \u001b[0m         \u001b[32m'step'\u001b[0m: \u001b[1;36m1000\u001b[0m\u001b[1m}\u001b[0m, \u001b[1m{\u001b[0m\u001b[32m'eval_loss'\u001b[0m: \u001b[1;36m3.22076678276062\u001b[0m,       \u001b[2m           \u001b[0m\n",
       "\u001b[2;36m                    \u001b[0m         \u001b[32m'eval_runtime'\u001b[0m: \u001b[1;36m23.0281\u001b[0m, \u001b[32m'eval_samples_per_second'\u001b[0m:  \u001b[2m           \u001b[0m\n",
       "\u001b[2;36m                    \u001b[0m         \u001b[1;36m141.479\u001b[0m, \u001b[32m'eval_steps_per_second'\u001b[0m: \u001b[1;36m8.859\u001b[0m, \u001b[32m'epoch'\u001b[0m:    \u001b[2m           \u001b[0m\n",
       "\u001b[2;36m                    \u001b[0m         \u001b[1;36m2.95\u001b[0m, \u001b[32m'step'\u001b[0m: \u001b[1;36m1200\u001b[0m\u001b[1m}\u001b[0m, \u001b[1m{\u001b[0m\u001b[32m'loss'\u001b[0m: \u001b[1;36m2.899\u001b[0m,                 \u001b[2m           \u001b[0m\n",
       "\u001b[2;36m                    \u001b[0m         \u001b[32m'learning_rate'\u001b[0m: \u001b[1;36m0.00017422270212284725\u001b[0m, \u001b[32m'epoch'\u001b[0m:    \u001b[2m           \u001b[0m\n",
       "\u001b[2;36m                    \u001b[0m         \u001b[1;36m3.0\u001b[0m, \u001b[32m'step'\u001b[0m: \u001b[1;36m1221\u001b[0m\u001b[1m}\u001b[0m, \u001b[1m{\u001b[0m\u001b[32m'eval_loss'\u001b[0m: \u001b[1;36m3.251729726791382\u001b[0m, \u001b[2m           \u001b[0m\n",
       "\u001b[2;36m                    \u001b[0m         \u001b[32m'eval_runtime'\u001b[0m: \u001b[1;36m23.0129\u001b[0m, \u001b[32m'eval_samples_per_second'\u001b[0m:  \u001b[2m           \u001b[0m\n",
       "\u001b[2;36m                    \u001b[0m         \u001b[1;36m141.573\u001b[0m, \u001b[32m'eval_steps_per_second'\u001b[0m: \u001b[1;36m8.865\u001b[0m, \u001b[32m'epoch'\u001b[0m:    \u001b[2m           \u001b[0m\n",
       "\u001b[2;36m                    \u001b[0m         \u001b[1;36m3.44\u001b[0m, \u001b[32m'step'\u001b[0m: \u001b[1;36m1400\u001b[0m\u001b[1m}\u001b[0m, \u001b[1m{\u001b[0m\u001b[32m'eval_loss'\u001b[0m:                   \u001b[2m           \u001b[0m\n",
       "\u001b[2;36m                    \u001b[0m         \u001b[1;36m3.2478322982788086\u001b[0m, \u001b[32m'eval_runtime'\u001b[0m: \u001b[1;36m24.1979\u001b[0m,         \u001b[2m           \u001b[0m\n",
       "\u001b[2;36m                    \u001b[0m         \u001b[32m'eval_samples_per_second'\u001b[0m: \u001b[1;36m134.64\u001b[0m,                   \u001b[2m           \u001b[0m\n",
       "\u001b[2;36m                    \u001b[0m         \u001b[32m'eval_steps_per_second'\u001b[0m: \u001b[1;36m8.43\u001b[0m, \u001b[32m'epoch'\u001b[0m: \u001b[1;36m3.93\u001b[0m,        \u001b[2m           \u001b[0m\n",
       "\u001b[2;36m                    \u001b[0m         \u001b[32m'step'\u001b[0m: \u001b[1;36m1600\u001b[0m\u001b[1m}\u001b[0m, \u001b[1m{\u001b[0m\u001b[32m'loss'\u001b[0m: \u001b[1;36m2.7629\u001b[0m, \u001b[32m'learning_rate'\u001b[0m:     \u001b[2m           \u001b[0m\n",
       "\u001b[2;36m                    \u001b[0m         \u001b[1;36m4.820267039763859e-05\u001b[0m, \u001b[32m'epoch'\u001b[0m: \u001b[1;36m4.0\u001b[0m, \u001b[32m'step'\u001b[0m: \u001b[1;36m1628\u001b[0m\u001b[1m}\u001b[0m,  \u001b[2m           \u001b[0m\n",
       "\u001b[2;36m                    \u001b[0m         \u001b[1m{\u001b[0m\u001b[32m'eval_loss'\u001b[0m: \u001b[1;36m3.269883155822754\u001b[0m, \u001b[32m'eval_runtime'\u001b[0m:     \u001b[2m           \u001b[0m\n",
       "\u001b[2;36m                    \u001b[0m         \u001b[1;36m23.6433\u001b[0m, \u001b[32m'eval_samples_per_second'\u001b[0m: \u001b[1;36m137.798\u001b[0m,         \u001b[2m           \u001b[0m\n",
       "\u001b[2;36m                    \u001b[0m         \u001b[32m'eval_steps_per_second'\u001b[0m: \u001b[1;36m8.628\u001b[0m, \u001b[32m'epoch'\u001b[0m: \u001b[1;36m4.42\u001b[0m,       \u001b[2m           \u001b[0m\n",
       "\u001b[2;36m                    \u001b[0m         \u001b[32m'step'\u001b[0m: \u001b[1;36m1800\u001b[0m\u001b[1m}\u001b[0m, \u001b[1m{\u001b[0m\u001b[32m'eval_loss'\u001b[0m: \u001b[1;36m3.2684857845306396\u001b[0m,     \u001b[2m           \u001b[0m\n",
       "\u001b[2;36m                    \u001b[0m         \u001b[32m'eval_runtime'\u001b[0m: \u001b[1;36m23.6799\u001b[0m, \u001b[32m'eval_samples_per_second'\u001b[0m:  \u001b[2m           \u001b[0m\n",
       "\u001b[2;36m                    \u001b[0m         \u001b[1;36m137.585\u001b[0m, \u001b[32m'eval_steps_per_second'\u001b[0m: \u001b[1;36m8.615\u001b[0m, \u001b[32m'epoch'\u001b[0m:    \u001b[2m           \u001b[0m\n",
       "\u001b[2;36m                    \u001b[0m         \u001b[1;36m4.91\u001b[0m, \u001b[32m'step'\u001b[0m: \u001b[1;36m2000\u001b[0m\u001b[1m}\u001b[0m, \u001b[1m{\u001b[0m\u001b[32m'loss'\u001b[0m: \u001b[1;36m2.6797\u001b[0m,                \u001b[2m           \u001b[0m\n",
       "\u001b[2;36m                    \u001b[0m         \u001b[32m'learning_rate'\u001b[0m: \u001b[1;36m0.0\u001b[0m, \u001b[32m'epoch'\u001b[0m: \u001b[1;36m5.0\u001b[0m, \u001b[32m'step'\u001b[0m: \u001b[1;36m2035\u001b[0m\u001b[1m}\u001b[0m,   \u001b[2m           \u001b[0m\n",
       "\u001b[2;36m                    \u001b[0m         \u001b[1m{\u001b[0m\u001b[32m'train_runtime'\u001b[0m: \u001b[1;36m2886.6057\u001b[0m,                         \u001b[2m           \u001b[0m\n",
       "\u001b[2;36m                    \u001b[0m         \u001b[32m'train_samples_per_second'\u001b[0m: \u001b[1;36m45.15\u001b[0m,                   \u001b[2m           \u001b[0m\n",
       "\u001b[2;36m                    \u001b[0m         \u001b[32m'train_steps_per_second'\u001b[0m: \u001b[1;36m0.705\u001b[0m, \u001b[32m'total_flos'\u001b[0m:       \u001b[2m           \u001b[0m\n",
       "\u001b[2;36m                    \u001b[0m         \u001b[1;36m1.7024743636992e+16\u001b[0m, \u001b[32m'train_loss'\u001b[0m: \u001b[1;36m2.93760269502457\u001b[0m, \u001b[2m           \u001b[0m\n",
       "\u001b[2;36m                    \u001b[0m         \u001b[32m'epoch'\u001b[0m: \u001b[1;36m5.0\u001b[0m, \u001b[32m'step'\u001b[0m: \u001b[1;36m2035\u001b[0m\u001b[1m}\u001b[0m\u001b[1m]\u001b[0m, \u001b[33mbest_metric\u001b[0m=\u001b[3;35mNone\u001b[0m,      \u001b[2m           \u001b[0m\n",
       "\u001b[2;36m                    \u001b[0m         \u001b[33mbest_model_checkpoint\u001b[0m=\u001b[3;35mNone\u001b[0m,                          \u001b[2m           \u001b[0m\n",
       "\u001b[2;36m                    \u001b[0m         \u001b[33mis_local_process_zero\u001b[0m=\u001b[3;92mTrue\u001b[0m,                          \u001b[2m           \u001b[0m\n",
       "\u001b[2;36m                    \u001b[0m         \u001b[33mis_world_process_zero\u001b[0m=\u001b[3;92mTrue\u001b[0m,                          \u001b[2m           \u001b[0m\n",
       "\u001b[2;36m                    \u001b[0m         \u001b[33mis_hyper_param_search\u001b[0m=\u001b[3;91mFalse\u001b[0m, \u001b[33mtrial_name\u001b[0m=\u001b[3;35mNone\u001b[0m,        \u001b[2m           \u001b[0m\n",
       "\u001b[2;36m                    \u001b[0m         \u001b[33mtrial_params\u001b[0m=\u001b[3;35mNone\u001b[0m\u001b[1m)\u001b[0m                                   \u001b[2m           \u001b[0m\n"
      ]
     },
     "metadata": {},
     "output_type": "display_data"
    },
    {
     "name": "stdout",
     "output_type": "stream",
     "text": [
      "{'train_runtime': 2886.6057, 'train_samples_per_second': 45.15, 'train_steps_per_second': 0.705, 'train_loss': 2.93760269502457, 'epoch': 5.0}\n"
     ]
    }
   ],
   "source": [
    "from operations.utils import read_text\n",
    "from operations.data import tokenize_text\n",
    "from operations.data import get_tokenizer\n",
    "from operations.data import data_split\n",
    "from operations.data import stage_data\n",
    "from operations.train import train\n",
    "from config.config import logger\n",
    "from transformers import AutoTokenizer, GPT2LMHeadModel, AutoConfig, DataCollatorForLanguageModeling\n",
    "from transformers import Trainer, TrainingArguments\n",
    "import transformers\n",
    "\n",
    "args = TrainingArguments(\n",
    "    output_dir=\"artifacts\",\n",
    "    per_device_train_batch_size=16,\n",
    "    per_device_eval_batch_size=16,\n",
    "    evaluation_strategy=\"steps\",\n",
    "    eval_steps=200,\n",
    "    logging_strategy=\"epoch\",\n",
    "    logging_dir='logs/',\n",
    "    gradient_accumulation_steps=4,\n",
    "    num_train_epochs=5,\n",
    "    weight_decay=0.1,\n",
    "    warmup_steps=10,\n",
    "    lr_scheduler_type=\"cosine\",\n",
    "    learning_rate=5e-4,\n",
    "    save_strategy=\"steps\",\n",
    "    save_steps=200,\n",
    "    fp16=True,\n",
    "    push_to_hub=False,\n",
    ")\n",
    "\n",
    "args.context_length=256\n",
    "\n",
    "# def train(args: transformers.TrainingArguments=args, trial: bool=False, optimize=False):\n",
    "#     \"\"\"Training loop for the finetuning of model parameters.\"\"\"\n",
    "\n",
    "#     # Setup\n",
    "#     device = torch.device('cuda' if torch.cuda.is_available() else 'cpu')\n",
    "#     inputs = tokenize_text(read_text())\n",
    "#     xtrain, train_mask, xdev, dev_mask = data_split(inputs)\n",
    "\n",
    "#     if optimize == True:\n",
    "#         train_loader, dev_loader = stage_data(xtrain[:100], train_mask[:100], xdev[:100], dev_mask[:100])\n",
    "#     else:\n",
    "#         train_loader, dev_loader = stage_data(xtrain, train_mask, xdev, dev_mask)\n",
    "\n",
    "#     # Tokenization\n",
    "#     tokenizer = get_tokenizer()\n",
    "#     config = AutoConfig.from_pretrained(\n",
    "#         tokenizer.name_or_path, \n",
    "#         vocab_size=len(tokenizer),\n",
    "#         n_ctx=args.context_length, \n",
    "#         bos_token_id=tokenizer.bos_token_id, \n",
    "#         eos_token_id=tokenizer.eos_token_id\n",
    "#     )\n",
    "#     data_collator = DataCollatorForLanguageModeling(tokenizer, mlm=False)\n",
    "    \n",
    "#     # Model\n",
    "#     model = GPT2LMHeadModel.from_pretrained(tokenizer.name_or_path, config=config)\n",
    "#     model_size = sum(t.numel() for t in model.parameters())\n",
    "#     logger.info(f\"number of model parameters: {model_size/1000**2:.1f}M\")\n",
    "    \n",
    "#     # Training Loop\n",
    "#     trainer = Trainer(\n",
    "#         model=model,\n",
    "#         tokenizer=tokenizer,\n",
    "#         args=args,\n",
    "#         data_collator=data_collator,\n",
    "#         train_dataset=train_loader,\n",
    "#         eval_dataset=dev_loader\n",
    "#     )\n",
    "    \n",
    "#     # Train\n",
    "#     trainer.train()\n",
    "\n",
    "train(args, optimize=False)"
   ]
  },
  {
   "cell_type": "markdown",
   "id": "b28dbb0c",
   "metadata": {},
   "source": [
    "## Inference\n",
    "### To-do's:\n",
    "1. Truncate printed text to last punctuation mark (to prevent user from seeing incomplete sentences)\n",
    "2. Extend the length of the returned prompt\n"
   ]
  },
  {
   "cell_type": "code",
   "execution_count": 3,
   "id": "116ab683",
   "metadata": {},
   "outputs": [
    {
     "name": "stderr",
     "output_type": "stream",
     "text": [
      "loading configuration file artifacts/checkpoint-2000\\config.json\n",
      "Model config GPT2Config {\n",
      "  \"_name_or_path\": \"artifacts/checkpoint-2000\",\n",
      "  \"activation_function\": \"gelu_new\",\n",
      "  \"architectures\": [\n",
      "    \"GPT2LMHeadModel\"\n",
      "  ],\n",
      "  \"attn_pdrop\": 0.1,\n",
      "  \"bos_token_id\": 50256,\n",
      "  \"embd_pdrop\": 0.1,\n",
      "  \"eos_token_id\": 50256,\n",
      "  \"initializer_range\": 0.02,\n",
      "  \"layer_norm_epsilon\": 1e-05,\n",
      "  \"model_type\": \"gpt2\",\n",
      "  \"n_ctx\": 256,\n",
      "  \"n_embd\": 768,\n",
      "  \"n_head\": 12,\n",
      "  \"n_inner\": null,\n",
      "  \"n_layer\": 12,\n",
      "  \"n_positions\": 1024,\n",
      "  \"reorder_and_upcast_attn\": false,\n",
      "  \"resid_pdrop\": 0.1,\n",
      "  \"scale_attn_by_inverse_layer_idx\": false,\n",
      "  \"scale_attn_weights\": true,\n",
      "  \"summary_activation\": null,\n",
      "  \"summary_first_dropout\": 0.1,\n",
      "  \"summary_proj_to_labels\": true,\n",
      "  \"summary_type\": \"cls_index\",\n",
      "  \"summary_use_proj\": true,\n",
      "  \"task_specific_params\": {\n",
      "    \"text-generation\": {\n",
      "      \"do_sample\": true,\n",
      "      \"max_length\": 50\n",
      "    }\n",
      "  },\n",
      "  \"torch_dtype\": \"float32\",\n",
      "  \"transformers_version\": \"4.22.1\",\n",
      "  \"use_cache\": true,\n",
      "  \"vocab_size\": 50257\n",
      "}\n",
      "\n",
      "loading configuration file artifacts/checkpoint-2000\\config.json\n",
      "Model config GPT2Config {\n",
      "  \"_name_or_path\": \"artifacts/checkpoint-2000\",\n",
      "  \"activation_function\": \"gelu_new\",\n",
      "  \"architectures\": [\n",
      "    \"GPT2LMHeadModel\"\n",
      "  ],\n",
      "  \"attn_pdrop\": 0.1,\n",
      "  \"bos_token_id\": 50256,\n",
      "  \"embd_pdrop\": 0.1,\n",
      "  \"eos_token_id\": 50256,\n",
      "  \"initializer_range\": 0.02,\n",
      "  \"layer_norm_epsilon\": 1e-05,\n",
      "  \"model_type\": \"gpt2\",\n",
      "  \"n_ctx\": 256,\n",
      "  \"n_embd\": 768,\n",
      "  \"n_head\": 12,\n",
      "  \"n_inner\": null,\n",
      "  \"n_layer\": 12,\n",
      "  \"n_positions\": 1024,\n",
      "  \"reorder_and_upcast_attn\": false,\n",
      "  \"resid_pdrop\": 0.1,\n",
      "  \"scale_attn_by_inverse_layer_idx\": false,\n",
      "  \"scale_attn_weights\": true,\n",
      "  \"summary_activation\": null,\n",
      "  \"summary_first_dropout\": 0.1,\n",
      "  \"summary_proj_to_labels\": true,\n",
      "  \"summary_type\": \"cls_index\",\n",
      "  \"summary_use_proj\": true,\n",
      "  \"task_specific_params\": {\n",
      "    \"text-generation\": {\n",
      "      \"do_sample\": true,\n",
      "      \"max_length\": 50\n",
      "    }\n",
      "  },\n",
      "  \"torch_dtype\": \"float32\",\n",
      "  \"transformers_version\": \"4.22.1\",\n",
      "  \"use_cache\": true,\n",
      "  \"vocab_size\": 50257\n",
      "}\n",
      "\n",
      "loading weights file artifacts/checkpoint-2000\\pytorch_model.bin\n",
      "All model checkpoint weights were used when initializing GPT2LMHeadModel.\n",
      "\n",
      "All the weights of GPT2LMHeadModel were initialized from the model checkpoint at artifacts/checkpoint-2000.\n",
      "If your task is similar to the task the model of the checkpoint was trained on, you can already use GPT2LMHeadModel for predictions without further training.\n",
      "loading file vocab.json\n",
      "loading file merges.txt\n",
      "loading file tokenizer.json\n",
      "loading file added_tokens.json\n",
      "loading file special_tokens_map.json\n",
      "loading file tokenizer_config.json\n",
      "Setting `pad_token_id` to `eos_token_id`:50256 for open-end generation.\n"
     ]
    },
    {
     "data": {
      "text/plain": [
       "'The meaning of life to be this mystery particle that permeates everything around it? Why does the universe die at all here when this is a matter of mystery everywhere around it? Where does death come from? The mystery of the universe is itself an incredibly'"
      ]
     },
     "execution_count": 3,
     "metadata": {},
     "output_type": "execute_result"
    }
   ],
   "source": [
    "from transformers import pipeline\n",
    "\n",
    "def generate_text(text):\n",
    "    pipe = pipeline(\"text-generation\", model=\"artifacts/checkpoint-2000\")\n",
    "    return(pipe(text, num_return_sequences=2)[0][\"generated_text\"])\n",
    "    \n",
    "prompt = \"The meaning of life\"\n",
    "generate_text(prompt)"
   ]
  },
  {
   "cell_type": "markdown",
   "id": "aa7ceda6",
   "metadata": {},
   "source": [
    "## =========== Advanced Training Loop =============="
   ]
  },
  {
   "cell_type": "code",
   "execution_count": null,
   "id": "80769738",
   "metadata": {},
   "outputs": [],
   "source": [
    "# Since I'm primarily interested in autocompletion for prompts around meaning,\n",
    "# I will give more weight to training samples with \"meaning\" and its synonyms.\n",
    "# Let's check for these words' existence in the tokenizer vocabulary\n",
    "\n",
    "keytoken_ids = []\n",
    "for keyword in [\n",
    "    \"connotation\",\n",
    "    \"content\",\n",
    "    \"context\",\n",
    "    \"definition\",\n",
    "    \"effect\",\n",
    "    \"essence\",\n",
    "    \"explanation\",\n",
    "    \"hint\",\n",
    "    \"implication\",\n",
    "    \"interpretation\",\n",
    "    \"nuance\",\n",
    "    \"sense\",\n",
    "    \"significance\",\n",
    "    \"spirit\",\n",
    "    \"purpose\",\n",
    "    \"direction\",\n",
    "    \"subject\",\n",
    "    \"substance\",\n",
    "    \"understanding\",\n",
    "    \"value\",\n",
    "    \"intention\",\n",
    "    \"aim\",\n",
    "]:\n",
    "    ids = tokenizer([keyword]).input_ids[0]\n",
    "    if len(ids) == 1:\n",
    "        keytoken_ids.append(ids[0])\n",
    "    else:\n",
    "        print(f\"Keyword has not single token: {keyword}\")"
   ]
  },
  {
   "cell_type": "code",
   "execution_count": null,
   "id": "7bfef24b",
   "metadata": {},
   "outputs": [],
   "source": [
    "### You need to study the below code. You initially copied and pasted it into the notebook cell. \n",
    "### It's value is such that closer inspection is warranted, and will pay dividends later in the form\n",
    "### of knowledge which can be applied to future problems.\n",
    "\n",
    "from torch.nn import CrossEntropyLoss\n",
    "import torch\n",
    "\n",
    "\n",
    "def keytoken_weighted_loss(inputs, logits, keytoken_ids, alpha=1.0):\n",
    "    # Shift so that tokens < n predict n\n",
    "    shift_labels = inputs[..., 1:].contiguous()\n",
    "    shift_logits = logits[..., :-1, :].contiguous()\n",
    "    # Calculate per-token loss\n",
    "    loss_fct = CrossEntropyLoss(reduce=False)\n",
    "    loss = loss_fct(shift_logits.view(-1, shift_logits.size(-1)), shift_labels.view(-1))\n",
    "    # Resize and average loss per sample\n",
    "    loss_per_sample = loss.view(shift_logits.size(0), shift_logits.size(1)).mean(axis=1)\n",
    "    # Calculate and scale weighting\n",
    "    weights = torch.stack([(inputs == kt).float() for kt in keytoken_ids]).sum(\n",
    "        axis=[0, 2]\n",
    "    )\n",
    "    weights = alpha * (1.0 + weights)\n",
    "    # Calculate weighted average\n",
    "    weighted_loss = (loss_per_sample * weights).mean()\n",
    "    return weighted_loss"
   ]
  },
  {
   "cell_type": "code",
   "execution_count": null,
   "id": "7b748eab",
   "metadata": {},
   "outputs": [],
   "source": [
    "from torch.utils.data.dataloader import DataLoader\n",
    "\n",
    "train_dataloader = DataLoader(tr_loader, batch_size=32, shuffle=True)\n",
    "eval_dataloader = DataLoader(dev_loader, batch_size=32)"
   ]
  },
  {
   "cell_type": "code",
   "execution_count": null,
   "id": "f4c0d4b9",
   "metadata": {},
   "outputs": [],
   "source": [
    "weight_decay = 0.1\n",
    "\n",
    "def get_grouped_params(model, no_decay=[\"bias\", \"LayerNorm.weight\"]):\n",
    "    params_with_wd, params_without_wd = [], []\n",
    "    for n, p in model.named_parameters():\n",
    "        if any(nd in n for nd in no_decay):\n",
    "            params_without_wd.append(p)\n",
    "        else:\n",
    "            params_with_wd.append(p)\n",
    "    return [\n",
    "        {\"params\": params_with_wd, \"weight_decay\": weight_decay},\n",
    "        {\"params\": params_without_wd, \"weight_decay\": 0.0},\n",
    "    ]"
   ]
  },
  {
   "cell_type": "code",
   "execution_count": null,
   "id": "d1f2a11e",
   "metadata": {},
   "outputs": [],
   "source": [
    "def evaluate():\n",
    "    model.eval()\n",
    "    losses = []\n",
    "    for step, batch in enumerate(eval_dataloader):\n",
    "        with torch.no_grad():\n",
    "            outputs = model(batch[\"input_ids\"], labels=batch[\"input_ids\"])\n",
    "\n",
    "        losses.append(accelerator.gather(outputs.loss))\n",
    "    loss = torch.mean(torch.cat(losses))\n",
    "    try:\n",
    "        perplexity = torch.exp(loss)\n",
    "    except OverflowError:\n",
    "        perplexity = float(\"inf\")\n",
    "    return loss.item(), perplexity.item()"
   ]
  },
  {
   "cell_type": "code",
   "execution_count": null,
   "id": "c6a90c8c",
   "metadata": {},
   "outputs": [],
   "source": [
    "model = GPT2LMHeadModel(config)"
   ]
  },
  {
   "cell_type": "code",
   "execution_count": null,
   "id": "24bca8c5",
   "metadata": {},
   "outputs": [],
   "source": [
    "from torch.optim import AdamW\n",
    "\n",
    "optimizer = AdamW(get_grouped_params(model), lr=5e-4)"
   ]
  },
  {
   "cell_type": "code",
   "execution_count": null,
   "id": "a6cd936a",
   "metadata": {},
   "outputs": [],
   "source": [
    "from accelerate import Accelerator\n",
    "\n",
    "accelerator = Accelerator(fp16=True)\n",
    "\n",
    "model, optimizer, train_dataloader, eval_dataloader = accelerator.prepare(\n",
    "    model, optimizer, train_dataloader, eval_dataloader\n",
    ")"
   ]
  },
  {
   "cell_type": "code",
   "execution_count": null,
   "id": "d8324c8e",
   "metadata": {},
   "outputs": [],
   "source": [
    "from transformers import get_scheduler\n",
    "\n",
    "num_train_epochs = 1\n",
    "num_update_steps_per_epoch = len(train_dataloader)\n",
    "num_training_steps = num_train_epochs * num_update_steps_per_epoch\n",
    "\n",
    "lr_scheduler = get_scheduler(\n",
    "    name=\"linear\",\n",
    "    optimizer=optimizer,\n",
    "    num_warmup_steps=1_000,\n",
    "    num_training_steps=num_training_steps,\n",
    ")"
   ]
  },
  {
   "cell_type": "code",
   "execution_count": null,
   "id": "d9b3f757",
   "metadata": {},
   "outputs": [],
   "source": [
    "from tqdm.notebook import tqdm\n",
    "\n",
    "gradient_accumulation_steps = 8\n",
    "eval_steps = 5000\n",
    "\n",
    "model.train()\n",
    "completed_steps = 0\n",
    "for epoch in range(num_train_epochs):\n",
    "    for step, batch in tqdm(\n",
    "        enumerate(train_dataloader, start=1), total=num_training_steps\n",
    "    ):\n",
    "        logits = model(batch[\"input_ids\"]).logits\n",
    "        loss = keytoken_weighted_loss(batch[\"input_ids\"], logits, keytoken_ids)\n",
    "        if step % 100 == 0:\n",
    "            accelerator.print(\n",
    "                {\n",
    "#                     \"lr\": get_lr(),\n",
    "#                     \"samples\": step * samples_per_step,\n",
    "#                     \"steps\": completed_steps,\n",
    "                    \"loss/train\": loss.item() * gradient_accumulation_steps,\n",
    "                }\n",
    "            )\n",
    "        loss = loss / gradient_accumulation_steps\n",
    "        accelerator.backward(loss)\n",
    "        if step % gradient_accumulation_steps == 0:\n",
    "            accelerator.clip_grad_norm_(model.parameters(), 1.0)\n",
    "            optimizer.step()\n",
    "            lr_scheduler.step()\n",
    "            optimizer.zero_grad()\n",
    "            completed_steps += 1\n",
    "        if (step % (eval_steps * gradient_accumulation_steps)) == 0:\n",
    "            eval_loss, perplexity = evaluate()\n",
    "            accelerator.print({\"loss/eval\": eval_loss, \"perplexity\": perplexity})\n",
    "            model.train()\n",
    "            accelerator.wait_for_everyone()\n",
    "            unwrapped_model = accelerator.unwrap_model(model)\n",
    "            unwrapped_model.save_pretrained(output_dir, save_function=accelerator.save)\n",
    "            if accelerator.is_main_process:\n",
    "                tokenizer.save_pretrained(output_dir)\n",
    "                repo.push_to_hub(\n",
    "                    commit_message=f\"Training in progress step {step}\", blocking=False\n",
    "                )"
   ]
  },
  {
   "cell_type": "code",
   "execution_count": null,
   "id": "547778a9",
   "metadata": {},
   "outputs": [],
   "source": [
    "import torch\n",
    "from transformers import pipeline\n",
    "\n",
    "pipe = pipeline(\n",
    "\"text-generation\", model=\"artifacts/checkpoint-400\")\n",
    "\n",
    "txt = \"Artificial intelligence\"\n",
    "print(pipe(txt, num_return_sequences=1)[0][\"generated_text\"])"
   ]
  },
  {
   "cell_type": "code",
   "execution_count": null,
   "id": "5e0d77b9",
   "metadata": {},
   "outputs": [],
   "source": []
  }
 ],
 "metadata": {
  "kernelspec": {
   "display_name": "Python 3 (ipykernel)",
   "language": "python",
   "name": "python3"
  },
  "language_info": {
   "codemirror_mode": {
    "name": "ipython",
    "version": 3
   },
   "file_extension": ".py",
   "mimetype": "text/x-python",
   "name": "python",
   "nbconvert_exporter": "python",
   "pygments_lexer": "ipython3",
   "version": "3.8.5"
  },
  "vscode": {
   "interpreter": {
    "hash": "6af95c5ed43ff950dc273fb358a3c7543a579024e645fcf2892b4462426f781d"
   }
  }
 },
 "nbformat": 4,
 "nbformat_minor": 5
}
